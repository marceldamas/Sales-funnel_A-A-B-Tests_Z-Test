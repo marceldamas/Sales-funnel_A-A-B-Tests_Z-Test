{
 "cells": [
  {
   "cell_type": "code",
   "execution_count": 96,
   "metadata": {},
   "outputs": [],
   "source": [
    "! pip install --upgrade -q matplotlib\n",
    "! pip install --upgrade -q plotly"
   ]
  },
  {
   "cell_type": "code",
   "execution_count": 97,
   "metadata": {},
   "outputs": [],
   "source": [
    "import pandas as pd\n",
    "from scipy import stats\n",
    "import matplotlib.pyplot as plt\n",
    "from matplotlib.ticker import AutoMinorLocator\n",
    "from matplotlib import gridspec\n",
    "import datetime\n",
    "import numpy as np\n",
    "from datetime import datetime\n",
    "import plotly.express as px\n",
    "from pandas import option_context"
   ]
  },
  {
   "cell_type": "markdown",
   "metadata": {},
   "source": [
    "**Name:** _Marcel Damas_   \n",
    "**E-Mail:** _marcel-spanien@hotmail.de_  \n",
    "<a name=\"table_of_contents\"></a> \n",
    " \n",
    " \n",
    "**Table of contents**  \n",
    "\n",
    "\n",
    "**Project Description** \n",
    "\n",
    "You work at a startup that sells food products. You need to investigate user behavior for the company's app.\n",
    "First study the sales funnel. Find out how users reach the purchase stage. How many users actually make it to this stage? How many get stuck at previous stages? Which stages in particular?\n",
    "Then look at the results of an A/A/B test. (Read on for more information about A/A/B testing.) The designers would like to change the fonts for the entire app, but the managers are afraid the users might find the new design intimidating. They decide to make a decision based on the results of an A/A/B test.\n",
    "The users are split into three groups: two control groups get the old fonts and one test group gets the new ones. Find out which set of fonts produces better results.\n",
    "Creating two A groups has certain advantages. We can make it a principle that we will only be confident in the accuracy of our testing when the two control groups are similar. If there are significant differences between the A groups, this can help us uncover factors that may be distorting the results. Comparing control groups also tells us how much time and data we'll need when running further tests.\n",
    "You'll be using the same dataset for general analytics and for A/A/B analysis. In real projects, experiments are constantly being conducted. Analysts study the quality of an app using general data, without paying attention to whether users are participating in experiments.  \n",
    "\n",
    "**Project goal**   \n",
    "\n",
    "Our goal is to analyze the users and to find out how the users react and where we are losing users and looking for problems to find out what we need to work on to improve our product to achieve more success with our product.  \n",
    "\n",
    "**Description of the data**\n",
    "\n",
    "Each log entry is a user action or an event.\n",
    "    • EventName — event name  \n",
    "    • DeviceIDHash — unique user identifier  \n",
    "    • EventTimestamp — event time  \n",
    "    • ExpId — experiment number: 246 and 247 are the control groups, 248 is the test group  \n",
    "    \n",
    "**Instructions for completing the project**  \n",
    "\n",
    "**Step 1. Open the data file and read the general information**  \n",
    "\n",
    "File path: /datasets/logs_exp_us.csv Download dataset  \n",
    "\n",
    "**Step 2. Prepare the data for analysis**\n",
    "\n",
    "   • Rename the columns in a way that's convenient for you  [click here](#Step_2.1)    \n",
    "   • Check for missing values and data types. Correct the data if needed[click here](#Step_2.2)       \n",
    "   • Add a date and time column and a separate column for dates[click here](#Step_2.3)      \n",
    "\n",
    "**Step 3. Study and check the data**  \n",
    "\n",
    "   • How many events are in the logs?  [click here](#Step_3.1)    \n",
    "   • How many users are in the logs?  [click here](#Step_3.2)    \n",
    "   • What's the average number of events per user? [click here](#Step_3.4) \n",
    "   • What period of time does the data cover? Find the maximum and the minimum date. Plot a histogram by date and time. Can you be sure that you have equally complete data for the entire period? Older events could end up in some users' logs for technical reasons, and this could skew the overall picture. Find the moment at which the data starts to be complete and ignore the earlier section. What period does the data actually represent? [click here](#Step_3.4)    \n",
    "   • Did you lose many events and users when excluding the older data?  [click here](#Step_3.5)     \n",
    "   • Make sure you have users from all three experimental groups. [click here](#Step_3.6)     \n",
    "\n",
    "**Step 4. Study the event funnel**  \n",
    "\n",
    "   • See what events are in the logs and their frequency of occurrence. Sort them by frequency. [click here](#Step_4.1)    \n",
    "   • Find the number of users who performed each of these actions. Sort the events by the number of users. Calculate the proportion of users who performed the action at least once. [click here](#Step_4.2)    \n",
    "   • In what order do you think the actions took place. Are all of them part of a single sequence? You don't need to take them into account when calculating the funnel.  [click here](#Step_4.3)   \n",
    "   • Use the event funnel to find the share of users that proceed from each stage to the next. (For instance, for the sequence of events A → B → C, calculate the ratio of users at stage B to the number of users at stage A and the ratio of users at stage C to the number at stage B.)  [click here](#Step_4.4)  \n",
    "   • At what stage do you lose the most users?  [click here](#Step_4.5)  \n",
    "   • What share of users make the entire journey from their first event to payment?  [click here](#Step_4.6)  \n",
    "   \n",
    "**Step 5. Study the results of the experiment**  \n",
    "\n",
    "   • How many users are there in each group? [click here](#Step_5.1)   \n",
    "   • We have two control groups in the A/A test, where we check our mechanisms and calculations. See if there is a statistically significant difference between samples 246 and 247. [click here](#Step_5.2)    \n",
    "   • Select the most popular event. In each of the control groups, find the number of users who performed this action. Find their share. Check whether the difference between the groups is statistically significant. Repeat the procedure for all other events (it will save time if you create a special function for this test). Can you confirm that the groups were split properly? [click here](#Step_5.3)    \n",
    "   • Do the same thing for the group with altered fonts. Compare the results with those of each of the control groups for each event in isolation. Compare the results with the combined results for the control groups. What conclusions can you draw from the experiment? [click here](#Step_5.4)    \n",
    "   • What significance level have you set to test the statistical hypotheses mentioned above? Calculate how many statistical hypothesis tests you carried out. With a statistical significance level of 0.1, one in 10 results could be false. What should the significance level be? If you want to change it, run through the previous steps again and check your conclusions. [click here](#Step_5.5)    "
   ]
  },
  {
   "cell_type": "markdown",
   "metadata": {},
   "source": [
    "**Step 1. Open the data file and read the general information**  \n",
    "\n",
    "File path: /datasets/logs_exp_us.csv Download dataset  "
   ]
  },
  {
   "cell_type": "code",
   "execution_count": 98,
   "metadata": {},
   "outputs": [],
   "source": [
    "try:\n",
    "    data = pd.read_csv('logs_exp_us.csv', sep='\\t')\n",
    "except:\n",
    "    data = pd.read_csv('/datasets/logs_exp_us.csv', sep='\\t')"
   ]
  },
  {
   "cell_type": "code",
   "execution_count": 99,
   "metadata": {},
   "outputs": [
    {
     "name": "stdout",
     "output_type": "stream",
     "text": [
      "<class 'pandas.core.frame.DataFrame'>\n",
      "RangeIndex: 244126 entries, 0 to 244125\n",
      "Data columns (total 4 columns):\n",
      " #   Column          Non-Null Count   Dtype \n",
      "---  ------          --------------   ----- \n",
      " 0   EventName       244126 non-null  object\n",
      " 1   DeviceIDHash    244126 non-null  int64 \n",
      " 2   EventTimestamp  244126 non-null  int64 \n",
      " 3   ExpId           244126 non-null  int64 \n",
      "dtypes: int64(3), object(1)\n",
      "memory usage: 7.5+ MB\n"
     ]
    }
   ],
   "source": [
    "data.info()"
   ]
  },
  {
   "cell_type": "markdown",
   "metadata": {},
   "source": [
    "<a name=\"Step_2.1\"></a>\n",
    "**Step 2. Prepare the data for analysis**  \n",
    "\n",
    "   • Rename the columns in a way that's convenient for you  \n",
    "   \n",
    "   Back to the table of contents [click here](#table_of_contents)   "
   ]
  },
  {
   "cell_type": "code",
   "execution_count": 100,
   "metadata": {},
   "outputs": [
    {
     "data": {
      "text/html": [
       "<div>\n",
       "<style scoped>\n",
       "    .dataframe tbody tr th:only-of-type {\n",
       "        vertical-align: middle;\n",
       "    }\n",
       "\n",
       "    .dataframe tbody tr th {\n",
       "        vertical-align: top;\n",
       "    }\n",
       "\n",
       "    .dataframe thead th {\n",
       "        text-align: right;\n",
       "    }\n",
       "</style>\n",
       "<table border=\"1\" class=\"dataframe\">\n",
       "  <thead>\n",
       "    <tr style=\"text-align: right;\">\n",
       "      <th></th>\n",
       "      <th>event_name</th>\n",
       "      <th>user_id</th>\n",
       "      <th>timestamp</th>\n",
       "      <th>experiment_id</th>\n",
       "    </tr>\n",
       "  </thead>\n",
       "  <tbody>\n",
       "    <tr>\n",
       "      <th>0</th>\n",
       "      <td>MainScreenAppear</td>\n",
       "      <td>4575588528974610257</td>\n",
       "      <td>1564029816</td>\n",
       "      <td>246</td>\n",
       "    </tr>\n",
       "    <tr>\n",
       "      <th>1</th>\n",
       "      <td>MainScreenAppear</td>\n",
       "      <td>7416695313311560658</td>\n",
       "      <td>1564053102</td>\n",
       "      <td>246</td>\n",
       "    </tr>\n",
       "    <tr>\n",
       "      <th>2</th>\n",
       "      <td>PaymentScreenSuccessful</td>\n",
       "      <td>3518123091307005509</td>\n",
       "      <td>1564054127</td>\n",
       "      <td>248</td>\n",
       "    </tr>\n",
       "    <tr>\n",
       "      <th>3</th>\n",
       "      <td>CartScreenAppear</td>\n",
       "      <td>3518123091307005509</td>\n",
       "      <td>1564054127</td>\n",
       "      <td>248</td>\n",
       "    </tr>\n",
       "    <tr>\n",
       "      <th>4</th>\n",
       "      <td>PaymentScreenSuccessful</td>\n",
       "      <td>6217807653094995999</td>\n",
       "      <td>1564055322</td>\n",
       "      <td>248</td>\n",
       "    </tr>\n",
       "  </tbody>\n",
       "</table>\n",
       "</div>"
      ],
      "text/plain": [
       "                event_name              user_id   timestamp  experiment_id\n",
       "0         MainScreenAppear  4575588528974610257  1564029816            246\n",
       "1         MainScreenAppear  7416695313311560658  1564053102            246\n",
       "2  PaymentScreenSuccessful  3518123091307005509  1564054127            248\n",
       "3         CartScreenAppear  3518123091307005509  1564054127            248\n",
       "4  PaymentScreenSuccessful  6217807653094995999  1564055322            248"
      ]
     },
     "execution_count": 100,
     "metadata": {},
     "output_type": "execute_result"
    }
   ],
   "source": [
    "data.columns =['event_name','user_id','timestamp','experiment_id']\n",
    "data.head()"
   ]
  },
  {
   "cell_type": "markdown",
   "metadata": {},
   "source": [
    "<a name=\"Step_2.2\"></a>\n",
    "**Step 2. Prepare the data for analysis**\n",
    "\n",
    "   • Check for missing values and data types. Correct the data if needed    \n",
    "   \n",
    "   Back to the table of contents [click here](#table_of_contents)   "
   ]
  },
  {
   "cell_type": "code",
   "execution_count": 101,
   "metadata": {},
   "outputs": [
    {
     "data": {
      "text/plain": [
       "event_name       0\n",
       "user_id          0\n",
       "timestamp        0\n",
       "experiment_id    0\n",
       "dtype: int64"
      ]
     },
     "execution_count": 101,
     "metadata": {},
     "output_type": "execute_result"
    }
   ],
   "source": [
    "data.isnull().sum()"
   ]
  },
  {
   "cell_type": "code",
   "execution_count": 102,
   "metadata": {},
   "outputs": [
    {
     "data": {
      "text/plain": [
       "413"
      ]
     },
     "execution_count": 102,
     "metadata": {},
     "output_type": "execute_result"
    }
   ],
   "source": [
    "data.duplicated().sum()"
   ]
  },
  {
   "cell_type": "code",
   "execution_count": 103,
   "metadata": {},
   "outputs": [],
   "source": [
    "data.drop_duplicates(keep=\"first\",inplace=True)"
   ]
  },
  {
   "cell_type": "code",
   "execution_count": 104,
   "metadata": {},
   "outputs": [
    {
     "data": {
      "text/plain": [
       "0"
      ]
     },
     "execution_count": 104,
     "metadata": {},
     "output_type": "execute_result"
    }
   ],
   "source": [
    "data.duplicated().sum()"
   ]
  },
  {
   "cell_type": "markdown",
   "metadata": {},
   "source": [
    "<a name=\"Step_2.3\"></a>\n",
    "**Step 2. Prepare the data for analysis**\n",
    "\n",
    "   • Add a date and time column and a separate column for dates  \n",
    "   \n",
    " Back to the table of contents [click here](#table_of_contents)   "
   ]
  },
  {
   "cell_type": "code",
   "execution_count": 105,
   "metadata": {},
   "outputs": [
    {
     "data": {
      "text/html": [
       "<div>\n",
       "<style scoped>\n",
       "    .dataframe tbody tr th:only-of-type {\n",
       "        vertical-align: middle;\n",
       "    }\n",
       "\n",
       "    .dataframe tbody tr th {\n",
       "        vertical-align: top;\n",
       "    }\n",
       "\n",
       "    .dataframe thead th {\n",
       "        text-align: right;\n",
       "    }\n",
       "</style>\n",
       "<table border=\"1\" class=\"dataframe\">\n",
       "  <thead>\n",
       "    <tr style=\"text-align: right;\">\n",
       "      <th></th>\n",
       "      <th>event_name</th>\n",
       "      <th>user_id</th>\n",
       "      <th>timestamp</th>\n",
       "      <th>experiment_id</th>\n",
       "    </tr>\n",
       "  </thead>\n",
       "  <tbody>\n",
       "    <tr>\n",
       "      <th>0</th>\n",
       "      <td>MainScreenAppear</td>\n",
       "      <td>4575588528974610257</td>\n",
       "      <td>2019-07-25 06:43:36</td>\n",
       "      <td>246</td>\n",
       "    </tr>\n",
       "    <tr>\n",
       "      <th>1</th>\n",
       "      <td>MainScreenAppear</td>\n",
       "      <td>7416695313311560658</td>\n",
       "      <td>2019-07-25 13:11:42</td>\n",
       "      <td>246</td>\n",
       "    </tr>\n",
       "    <tr>\n",
       "      <th>2</th>\n",
       "      <td>PaymentScreenSuccessful</td>\n",
       "      <td>3518123091307005509</td>\n",
       "      <td>2019-07-25 13:28:47</td>\n",
       "      <td>248</td>\n",
       "    </tr>\n",
       "    <tr>\n",
       "      <th>3</th>\n",
       "      <td>CartScreenAppear</td>\n",
       "      <td>3518123091307005509</td>\n",
       "      <td>2019-07-25 13:28:47</td>\n",
       "      <td>248</td>\n",
       "    </tr>\n",
       "    <tr>\n",
       "      <th>4</th>\n",
       "      <td>PaymentScreenSuccessful</td>\n",
       "      <td>6217807653094995999</td>\n",
       "      <td>2019-07-25 13:48:42</td>\n",
       "      <td>248</td>\n",
       "    </tr>\n",
       "  </tbody>\n",
       "</table>\n",
       "</div>"
      ],
      "text/plain": [
       "                event_name              user_id           timestamp  \\\n",
       "0         MainScreenAppear  4575588528974610257 2019-07-25 06:43:36   \n",
       "1         MainScreenAppear  7416695313311560658 2019-07-25 13:11:42   \n",
       "2  PaymentScreenSuccessful  3518123091307005509 2019-07-25 13:28:47   \n",
       "3         CartScreenAppear  3518123091307005509 2019-07-25 13:28:47   \n",
       "4  PaymentScreenSuccessful  6217807653094995999 2019-07-25 13:48:42   \n",
       "\n",
       "   experiment_id  \n",
       "0            246  \n",
       "1            246  \n",
       "2            248  \n",
       "3            248  \n",
       "4            248  "
      ]
     },
     "execution_count": 105,
     "metadata": {},
     "output_type": "execute_result"
    }
   ],
   "source": [
    "data['timestamp'] = data['timestamp'].apply(lambda x: datetime.fromtimestamp(x))\n",
    "data.head()"
   ]
  },
  {
   "cell_type": "code",
   "execution_count": 106,
   "metadata": {},
   "outputs": [
    {
     "data": {
      "text/html": [
       "<div>\n",
       "<style scoped>\n",
       "    .dataframe tbody tr th:only-of-type {\n",
       "        vertical-align: middle;\n",
       "    }\n",
       "\n",
       "    .dataframe tbody tr th {\n",
       "        vertical-align: top;\n",
       "    }\n",
       "\n",
       "    .dataframe thead th {\n",
       "        text-align: right;\n",
       "    }\n",
       "</style>\n",
       "<table border=\"1\" class=\"dataframe\">\n",
       "  <thead>\n",
       "    <tr style=\"text-align: right;\">\n",
       "      <th></th>\n",
       "      <th>event_name</th>\n",
       "      <th>user_id</th>\n",
       "      <th>timestamp</th>\n",
       "      <th>experiment_id</th>\n",
       "      <th>day_of_week</th>\n",
       "    </tr>\n",
       "  </thead>\n",
       "  <tbody>\n",
       "    <tr>\n",
       "      <th>227339</th>\n",
       "      <td>OffersScreenAppear</td>\n",
       "      <td>5935355123741815286</td>\n",
       "      <td>2019-08-07 14:27:26</td>\n",
       "      <td>247</td>\n",
       "      <td>Wednesday</td>\n",
       "    </tr>\n",
       "    <tr>\n",
       "      <th>219012</th>\n",
       "      <td>MainScreenAppear</td>\n",
       "      <td>1668146608972887617</td>\n",
       "      <td>2019-08-07 09:42:29</td>\n",
       "      <td>247</td>\n",
       "      <td>Wednesday</td>\n",
       "    </tr>\n",
       "    <tr>\n",
       "      <th>133992</th>\n",
       "      <td>MainScreenAppear</td>\n",
       "      <td>7196016872209902268</td>\n",
       "      <td>2019-08-04 19:07:52</td>\n",
       "      <td>246</td>\n",
       "      <td>Sunday</td>\n",
       "    </tr>\n",
       "    <tr>\n",
       "      <th>71916</th>\n",
       "      <td>CartScreenAppear</td>\n",
       "      <td>4623191541214045580</td>\n",
       "      <td>2019-08-02 21:50:49</td>\n",
       "      <td>247</td>\n",
       "      <td>Friday</td>\n",
       "    </tr>\n",
       "    <tr>\n",
       "      <th>186745</th>\n",
       "      <td>CartScreenAppear</td>\n",
       "      <td>4488981949755449740</td>\n",
       "      <td>2019-08-06 10:59:14</td>\n",
       "      <td>248</td>\n",
       "      <td>Tuesday</td>\n",
       "    </tr>\n",
       "  </tbody>\n",
       "</table>\n",
       "</div>"
      ],
      "text/plain": [
       "                event_name              user_id           timestamp  \\\n",
       "227339  OffersScreenAppear  5935355123741815286 2019-08-07 14:27:26   \n",
       "219012    MainScreenAppear  1668146608972887617 2019-08-07 09:42:29   \n",
       "133992    MainScreenAppear  7196016872209902268 2019-08-04 19:07:52   \n",
       "71916     CartScreenAppear  4623191541214045580 2019-08-02 21:50:49   \n",
       "186745    CartScreenAppear  4488981949755449740 2019-08-06 10:59:14   \n",
       "\n",
       "        experiment_id day_of_week  \n",
       "227339            247   Wednesday  \n",
       "219012            247   Wednesday  \n",
       "133992            246      Sunday  \n",
       "71916             247      Friday  \n",
       "186745            248     Tuesday  "
      ]
     },
     "execution_count": 106,
     "metadata": {},
     "output_type": "execute_result"
    }
   ],
   "source": [
    "data['day_of_week']=data['timestamp'].dt.day_name()\n",
    "data.sample(5)"
   ]
  },
  {
   "cell_type": "markdown",
   "metadata": {},
   "source": [
    "<a name=\"Step_3.1\"></a>\n",
    "**Step 3. Study and check the data**  \n",
    "\n",
    "   • How many events are in the logs?  \n",
    " \n",
    " Back to the table of contents [click here](#table_of_contents)"
   ]
  },
  {
   "cell_type": "code",
   "execution_count": 107,
   "metadata": {},
   "outputs": [
    {
     "data": {
      "text/plain": [
       "MainScreenAppear           119101\n",
       "OffersScreenAppear          46808\n",
       "CartScreenAppear            42668\n",
       "PaymentScreenSuccessful     34118\n",
       "Tutorial                     1018\n",
       "Name: event_name, dtype: int64"
      ]
     },
     "execution_count": 107,
     "metadata": {},
     "output_type": "execute_result"
    }
   ],
   "source": [
    "data['event_name'].value_counts()"
   ]
  },
  {
   "cell_type": "code",
   "execution_count": 108,
   "metadata": {},
   "outputs": [
    {
     "data": {
      "text/plain": [
       "243713"
      ]
     },
     "execution_count": 108,
     "metadata": {},
     "output_type": "execute_result"
    }
   ],
   "source": [
    "data['event_name'].count()"
   ]
  },
  {
   "cell_type": "markdown",
   "metadata": {},
   "source": [
    "**Conclusion**  \n",
    "\n",
    "There are 5 different events with a different number in the logs. MainScreenAppear with 119205 logs is the one with the most and Tutorial with 1052 the one with the fewest. In total we have 244126 logs. "
   ]
  },
  {
   "cell_type": "markdown",
   "metadata": {},
   "source": [
    "<a name=\"Step_3.2\"></a>\n",
    "**Step 3. Study and check the data**  \n",
    "    \n",
    "   • How many users are in the logs?      \n",
    "\n",
    " Back to the table of contents [click here](#table_of_contents)"
   ]
  },
  {
   "cell_type": "code",
   "execution_count": 109,
   "metadata": {},
   "outputs": [
    {
     "data": {
      "text/plain": [
       "6304868067479728361    2307\n",
       "197027893265565660     1998\n",
       "4623191541214045580    1768\n",
       "6932517045703054087    1439\n",
       "1754140665440434215    1221\n",
       "                       ... \n",
       "6888746892508752          1\n",
       "6671109879025379318       1\n",
       "1223708690315846789       1\n",
       "5229230634268921313       1\n",
       "2408195006658927235       1\n",
       "Name: user_id, Length: 7551, dtype: int64"
      ]
     },
     "execution_count": 109,
     "metadata": {},
     "output_type": "execute_result"
    }
   ],
   "source": [
    "data['user_id'].value_counts()"
   ]
  },
  {
   "cell_type": "code",
   "execution_count": 110,
   "metadata": {},
   "outputs": [
    {
     "data": {
      "text/plain": [
       "7551"
      ]
     },
     "execution_count": 110,
     "metadata": {},
     "output_type": "execute_result"
    }
   ],
   "source": [
    "data['user_id'].nunique()"
   ]
  },
  {
   "cell_type": "markdown",
   "metadata": {},
   "source": [
    "**Conclusion** \n",
    "\n",
    "we have a total of 7551 different users which are represented differently. The user number 6304868067479728361 is represented by 2308 but there are also some that only exist once. "
   ]
  },
  {
   "cell_type": "markdown",
   "metadata": {},
   "source": [
    "<a name=\"Step_3.3\"></a>\n",
    "**Step 3. Study and check the data**  \n",
    "   \n",
    "   • What's the average number of events per user?    \n",
    " \n",
    "  Back to the table of contents [click here](#table_of_contents)"
   ]
  },
  {
   "cell_type": "code",
   "execution_count": 111,
   "metadata": {},
   "outputs": [
    {
     "data": {
      "text/plain": [
       "248    85582\n",
       "246    80181\n",
       "247    77950\n",
       "Name: experiment_id, dtype: int64"
      ]
     },
     "execution_count": 111,
     "metadata": {},
     "output_type": "execute_result"
    }
   ],
   "source": [
    "data['experiment_id'].value_counts()"
   ]
  },
  {
   "cell_type": "markdown",
   "metadata": {},
   "source": [
    "There are 3 different experiments. "
   ]
  },
  {
   "cell_type": "code",
   "execution_count": 112,
   "metadata": {},
   "outputs": [
    {
     "data": {
      "text/plain": [
       "2489"
      ]
     },
     "execution_count": 112,
     "metadata": {},
     "output_type": "execute_result"
    }
   ],
   "source": [
    "data[data['experiment_id']==246]['user_id'].nunique()"
   ]
  },
  {
   "cell_type": "markdown",
   "metadata": {},
   "source": [
    "Number of users in the first group 246 is 2489."
   ]
  },
  {
   "cell_type": "code",
   "execution_count": 113,
   "metadata": {},
   "outputs": [
    {
     "data": {
      "text/plain": [
       "2520"
      ]
     },
     "execution_count": 113,
     "metadata": {},
     "output_type": "execute_result"
    }
   ],
   "source": [
    "data[data['experiment_id']==247]['user_id'].nunique()"
   ]
  },
  {
   "cell_type": "markdown",
   "metadata": {},
   "source": [
    "Number of users in the second group 247 is 2520."
   ]
  },
  {
   "cell_type": "code",
   "execution_count": 114,
   "metadata": {},
   "outputs": [
    {
     "data": {
      "text/plain": [
       "2542"
      ]
     },
     "execution_count": 114,
     "metadata": {},
     "output_type": "execute_result"
    }
   ],
   "source": [
    "data[data['experiment_id']==248]['user_id'].nunique()"
   ]
  },
  {
   "cell_type": "markdown",
   "metadata": {},
   "source": [
    "Number of users in the third group 248 is 2542."
   ]
  },
  {
   "cell_type": "markdown",
   "metadata": {},
   "source": [
    "**Conclusion**\n",
    "\n",
    "In the experimental group 1 the fewest users are altogether 2489. In the 3 group there are the most with altogether 2542. "
   ]
  },
  {
   "cell_type": "markdown",
   "metadata": {},
   "source": [
    "<a name=\"Step_3.4\"></a>\n",
    "**Step 3. Study and check the data**  \n",
    "\n",
    "   • What period of time does the data cover? Find the maximum and the minimum date. Plot a histogram by date and time. Can you be sure that you have equally complete data for the entire period? Older events could end up in some users' logs for technical reasons, and this could skew the overall picture. Find the moment at which the data starts to be complete and ignore the earlier section. What period does the data actually represent? \n",
    "   \n",
    "   Back to the table of contents [click here](#table_of_contents)"
   ]
  },
  {
   "cell_type": "code",
   "execution_count": 115,
   "metadata": {},
   "outputs": [
    {
     "name": "stdout",
     "output_type": "stream",
     "text": [
      "The maximum date: 2019-08-07 23:15:17\n"
     ]
    }
   ],
   "source": [
    "print('The maximum date:',data['timestamp'].max())"
   ]
  },
  {
   "cell_type": "code",
   "execution_count": 116,
   "metadata": {},
   "outputs": [
    {
     "name": "stdout",
     "output_type": "stream",
     "text": [
      "The minimum date: 2019-07-25 06:43:36\n"
     ]
    }
   ],
   "source": [
    "print('The minimum date:',data['timestamp'].min())"
   ]
  },
  {
   "cell_type": "code",
   "execution_count": 117,
   "metadata": {},
   "outputs": [
    {
     "data": {
      "text/plain": [
       "Timedelta('13 days 16:31:41')"
      ]
     },
     "execution_count": 117,
     "metadata": {},
     "output_type": "execute_result"
    }
   ],
   "source": [
    "data['timestamp'].max()-data['timestamp'].min()"
   ]
  },
  {
   "cell_type": "code",
   "execution_count": 118,
   "metadata": {},
   "outputs": [
    {
     "data": {
      "image/png": "[encoded data removed]",
      "text/plain": [
       "<Figure size 1800x720 with 1 Axes>"
      ]
     },
     "metadata": {
      "needs_background": "light"
     },
     "output_type": "display_data"
    }
   ],
   "source": [
    "fig, ax = plt.subplots(1, figsize=(25,10))\n",
    "\n",
    "n, bins ,patches=plt.hist(data['timestamp'], bins=70,color='#FFCF56',edgecolor='#6A9662')#,density=True\n",
    "\n",
    "plt.title(\"Histogram of timestamp\",fontdict={'size':17},loc='left')\n",
    "\n",
    "plt.xlabel(\"Time\",fontdict={'size':15},loc='left')\n",
    "plt.xticks(bins,size=10, rotation=90)\n",
    "\n",
    "plt.ylabel(\"Number of date/time\",fontdict={'size':15})\n",
    "plt.yticks(size=10)\n",
    "\n",
    "plt.grid(axis='y', color='black', lw = 0.8, alpha=0.7)\n",
    "plt.grid(which='minor',color='white', lw=0.5)\n",
    "\n",
    "ax.spines['right'].set_visible(False)\n",
    "ax.spines['top'].set_visible(False)\n",
    "\n",
    "for bar in patches:\n",
    "    plt.annotate(text=format(bar.get_height(), '.0f'), \n",
    "                 xy=(bar.get_x() + bar.get_width() / 2, bar.get_height()),\n",
    "                 rotation=90,\n",
    "                 ha='center', va='bottom',\n",
    "                 size=10, xytext=(0, 8),\n",
    "                 textcoords='offset points')\n",
    "plt.show()"
   ]
  },
  {
   "cell_type": "markdown",
   "metadata": {},
   "source": [
    "**Conclusion** \n",
    "\n",
    "As the histogram looks like, we can assume that all data before 08/01/2019 are incomplete only then can we see a clear structure in the data. "
   ]
  },
  {
   "cell_type": "code",
   "execution_count": 119,
   "metadata": {},
   "outputs": [],
   "source": [
    "df_filt=data[data['timestamp']>='2019-08-01']"
   ]
  },
  {
   "cell_type": "code",
   "execution_count": 120,
   "metadata": {},
   "outputs": [
    {
     "data": {
      "image/png": "[encoded data removed]",
      "text/plain": [
       "<Figure size 1800x864 with 1 Axes>"
      ]
     },
     "metadata": {
      "needs_background": "light"
     },
     "output_type": "display_data"
    }
   ],
   "source": [
    "fig, ax = plt.subplots(1, figsize=(25,12))\n",
    "\n",
    "n,bins ,patches=plt.hist(df_filt['timestamp'], bins=70,color='#FFCF56',edgecolor='#6A9662')#,density=True\n",
    "plt.plot(label='B')\n",
    "plt.title(\"Histogram of timestamp\",fontdict={'size':17},loc='left')\n",
    "plt.xlabel(\"Time\",fontdict={'size':15},loc='left')\n",
    "plt.xticks(bins,size=10)\n",
    "plt.ylabel(\"Number of date/time\",fontdict={'size':15})\n",
    "plt.rc(\"font\", size=15)\n",
    "plt.xticks(rotation=90)\n",
    "minor_locator=AutoMinorLocator(2)\n",
    "plt.gca().xaxis.set_minor_locator(minor_locator)\n",
    "plt.grid(which='minor',color='white', lw=0.5)\n",
    "xticks=[(bins[idx+1] + value)/2 for idx,value in enumerate(bins[:1])]\n",
    "xticks_labels=[\"{:.2f}\\nto\\n{:.2f}\".format(value,bins[idx+1]) for idx, value in enumerate(bins[:-1])]\n",
    "ax.tick_params(axis='x', which='both',length=0)\n",
    "\n",
    "plt.grid(axis='y', color='black', lw = 0.8, alpha=0.7)\n",
    "\n",
    "ax.spines['right'].set_visible(False)\n",
    "ax.spines['top'].set_visible(False)\n",
    "for bar in patches:\n",
    "    plt.annotate(text=format(bar.get_height(), '.0f'), \n",
    "                 xy=(bar.get_x() + bar.get_width() / 2, bar.get_height()),\n",
    "                 rotation=90,\n",
    "                 ha='center', va='bottom',\n",
    "                 size=10, xytext=(0, 8),\n",
    "                 textcoords='offset points')\n",
    "\n",
    "plt.show()"
   ]
  },
  {
   "cell_type": "markdown",
   "metadata": {},
   "source": [
    "<a name=\"Step_3.5\"></a>\n",
    "**Step 3. Study and check the data**  \n",
    " \n",
    "   • Did you lose many events and users when excluding the older data?  \n",
    "   \n",
    "  Back to the table of contents [click here](#table_of_contents)"
   ]
  },
  {
   "cell_type": "code",
   "execution_count": 121,
   "metadata": {},
   "outputs": [
    {
     "name": "stdout",
     "output_type": "stream",
     "text": [
      "From 243713 we lost 2413 users and lost 2413 events to now a total of 241300 .\n",
      "In percent this corresponds to a data loss of 0.9900990099009902 %\n"
     ]
    }
   ],
   "source": [
    "print('From',data['event_name'].count(),'we lost',data['user_id'].count()-df_filt['user_id'].count(),\n",
    "      'users and lost',data['event_name'].count()-df_filt['event_name'].count(),'events to now a total of',\n",
    "      df_filt['event_name'].count(),'.')\n",
    "print('In percent this corresponds to a data loss of',100/data['event_name'].count()*(data['user_id'].count()-df_filt['user_id'].count()),'%')"
   ]
  },
  {
   "cell_type": "markdown",
   "metadata": {},
   "source": [
    "**Conclusion**\n",
    "\n",
    "Since we filtered out the data for half of the total of 14 days, we only lost a small amount of data. From 243713 we lost 2826 this corresponds to a loss of 1.16% of our data to 98.84% from our 100% now I think that is reasonable."
   ]
  },
  {
   "cell_type": "markdown",
   "metadata": {},
   "source": [
    "<a name=\"Step_3.6\"></a>\n",
    "**Step 3. Study and check the data**  \n",
    "    \n",
    "   • Make sure you have users from all three experimental groups. \n",
    "   \n",
    "  Back to the table of contents [click here](#table_of_contents)"
   ]
  },
  {
   "cell_type": "code",
   "execution_count": 122,
   "metadata": {},
   "outputs": [
    {
     "name": "stdout",
     "output_type": "stream",
     "text": [
      "before 2489\n",
      "afterwards 2484\n"
     ]
    }
   ],
   "source": [
    "print('before',data[data['experiment_id']==246]['user_id'].nunique())\n",
    "print('afterwards',df_filt[df_filt['experiment_id']==246]['user_id'].nunique())"
   ]
  },
  {
   "cell_type": "code",
   "execution_count": 123,
   "metadata": {},
   "outputs": [
    {
     "name": "stdout",
     "output_type": "stream",
     "text": [
      "before 2520\n",
      "afterwards 2517\n"
     ]
    }
   ],
   "source": [
    "print('before',data[data['experiment_id']==247]['user_id'].nunique())\n",
    "print('afterwards',df_filt[df_filt['experiment_id']==247]['user_id'].nunique())"
   ]
  },
  {
   "cell_type": "code",
   "execution_count": 124,
   "metadata": {},
   "outputs": [
    {
     "name": "stdout",
     "output_type": "stream",
     "text": [
      "before 2520\n",
      "afterwards 2537\n"
     ]
    }
   ],
   "source": [
    "print('before',data[data['experiment_id']==247]['user_id'].nunique())\n",
    "print('afterwards',df_filt[df_filt['experiment_id']==248]['user_id'].nunique())"
   ]
  },
  {
   "cell_type": "markdown",
   "metadata": {},
   "source": [
    "**Conclusion** \n",
    "\n",
    "We have also lost data here but still sufficient data."
   ]
  },
  {
   "cell_type": "markdown",
   "metadata": {},
   "source": [
    "<a name=\"Step_4.1\"></a>\n",
    "**Step 4. Study the event funnel**  \n",
    "\n",
    "   • See what events are in the logs and their frequency of occurrence. Sort them by frequency.\n",
    "   \n",
    " Back to the table of contents [click here](#table_of_contents)"
   ]
  },
  {
   "cell_type": "code",
   "execution_count": 125,
   "metadata": {},
   "outputs": [
    {
     "data": {
      "text/html": [
       "<div>\n",
       "<style scoped>\n",
       "    .dataframe tbody tr th:only-of-type {\n",
       "        vertical-align: middle;\n",
       "    }\n",
       "\n",
       "    .dataframe tbody tr th {\n",
       "        vertical-align: top;\n",
       "    }\n",
       "\n",
       "    .dataframe thead th {\n",
       "        text-align: right;\n",
       "    }\n",
       "</style>\n",
       "<table border=\"1\" class=\"dataframe\">\n",
       "  <thead>\n",
       "    <tr style=\"text-align: right;\">\n",
       "      <th></th>\n",
       "      <th>user_id</th>\n",
       "    </tr>\n",
       "    <tr>\n",
       "      <th>event_name</th>\n",
       "      <th></th>\n",
       "    </tr>\n",
       "  </thead>\n",
       "  <tbody>\n",
       "    <tr>\n",
       "      <th>MainScreenAppear</th>\n",
       "      <td>117617</td>\n",
       "    </tr>\n",
       "    <tr>\n",
       "      <th>OffersScreenAppear</th>\n",
       "      <td>46420</td>\n",
       "    </tr>\n",
       "    <tr>\n",
       "      <th>CartScreenAppear</th>\n",
       "      <td>42322</td>\n",
       "    </tr>\n",
       "    <tr>\n",
       "      <th>PaymentScreenSuccessful</th>\n",
       "      <td>33935</td>\n",
       "    </tr>\n",
       "    <tr>\n",
       "      <th>Tutorial</th>\n",
       "      <td>1006</td>\n",
       "    </tr>\n",
       "  </tbody>\n",
       "</table>\n",
       "</div>"
      ],
      "text/plain": [
       "                         user_id\n",
       "event_name                      \n",
       "MainScreenAppear          117617\n",
       "OffersScreenAppear         46420\n",
       "CartScreenAppear           42322\n",
       "PaymentScreenSuccessful    33935\n",
       "Tutorial                    1006"
      ]
     },
     "execution_count": 125,
     "metadata": {},
     "output_type": "execute_result"
    }
   ],
   "source": [
    "df_filt.groupby('event_name').agg({'user_id': 'count'}).sort_values(by='user_id', ascending=False)"
   ]
  },
  {
   "cell_type": "markdown",
   "metadata": {},
   "source": [
    "**Conclusion** \n",
    "\n",
    "That the Main Screen Appear event occurs most frequently with 117720 and the tutorial occurs with 1040 the least often. "
   ]
  },
  {
   "cell_type": "markdown",
   "metadata": {},
   "source": [
    "<a name=\"Step_4.2\"></a>\n",
    "**Step 4. Study the event funnel**  \n",
    "   \n",
    "   • Find the number of users who performed each of these actions. Sort the events by the number of users. Calculate the proportion of users who performed the action at least once. \n",
    "   \n",
    "   Back to the table of contents [click here](#table_of_contents)"
   ]
  },
  {
   "cell_type": "code",
   "execution_count": 126,
   "metadata": {},
   "outputs": [
    {
     "data": {
      "text/html": [
       "<div>\n",
       "<style scoped>\n",
       "    .dataframe tbody tr th:only-of-type {\n",
       "        vertical-align: middle;\n",
       "    }\n",
       "\n",
       "    .dataframe tbody tr th {\n",
       "        vertical-align: top;\n",
       "    }\n",
       "\n",
       "    .dataframe thead th {\n",
       "        text-align: right;\n",
       "    }\n",
       "</style>\n",
       "<table border=\"1\" class=\"dataframe\">\n",
       "  <thead>\n",
       "    <tr style=\"text-align: right;\">\n",
       "      <th>experiment_id</th>\n",
       "      <th>event_name</th>\n",
       "      <th>246</th>\n",
       "      <th>247</th>\n",
       "      <th>248</th>\n",
       "    </tr>\n",
       "  </thead>\n",
       "  <tbody>\n",
       "    <tr>\n",
       "      <th>0</th>\n",
       "      <td>CartScreenAppear</td>\n",
       "      <td>1266</td>\n",
       "      <td>1239</td>\n",
       "      <td>1230</td>\n",
       "    </tr>\n",
       "    <tr>\n",
       "      <th>1</th>\n",
       "      <td>MainScreenAppear</td>\n",
       "      <td>2450</td>\n",
       "      <td>2479</td>\n",
       "      <td>2494</td>\n",
       "    </tr>\n",
       "    <tr>\n",
       "      <th>2</th>\n",
       "      <td>OffersScreenAppear</td>\n",
       "      <td>1542</td>\n",
       "      <td>1522</td>\n",
       "      <td>1531</td>\n",
       "    </tr>\n",
       "    <tr>\n",
       "      <th>3</th>\n",
       "      <td>PaymentScreenSuccessful</td>\n",
       "      <td>1200</td>\n",
       "      <td>1158</td>\n",
       "      <td>1181</td>\n",
       "    </tr>\n",
       "    <tr>\n",
       "      <th>4</th>\n",
       "      <td>Tutorial</td>\n",
       "      <td>278</td>\n",
       "      <td>283</td>\n",
       "      <td>280</td>\n",
       "    </tr>\n",
       "  </tbody>\n",
       "</table>\n",
       "</div>"
      ],
      "text/plain": [
       "experiment_id               event_name   246   247   248\n",
       "0                     CartScreenAppear  1266  1239  1230\n",
       "1                     MainScreenAppear  2450  2479  2494\n",
       "2                   OffersScreenAppear  1542  1522  1531\n",
       "3              PaymentScreenSuccessful  1200  1158  1181\n",
       "4                             Tutorial   278   283   280"
      ]
     },
     "execution_count": 126,
     "metadata": {},
     "output_type": "execute_result"
    }
   ],
   "source": [
    "df_pivot = df_filt.pivot_table(index='event_name', values='user_id', columns='experiment_id', aggfunc=lambda x: x.nunique()).reset_index()\n",
    "df_pivot"
   ]
  },
  {
   "cell_type": "code",
   "execution_count": 127,
   "metadata": {},
   "outputs": [
    {
     "name": "stdout",
     "output_type": "stream",
     "text": [
      "The number of users who performed each of these actions is: 7538\n"
     ]
    }
   ],
   "source": [
    "print('The number of users who performed each of these actions is:',df_filt['user_id'].nunique())"
   ]
  },
  {
   "cell_type": "code",
   "execution_count": 128,
   "metadata": {},
   "outputs": [
    {
     "data": {
      "text/html": [
       "<div>\n",
       "<style scoped>\n",
       "    .dataframe tbody tr th:only-of-type {\n",
       "        vertical-align: middle;\n",
       "    }\n",
       "\n",
       "    .dataframe tbody tr th {\n",
       "        vertical-align: top;\n",
       "    }\n",
       "\n",
       "    .dataframe thead th {\n",
       "        text-align: right;\n",
       "    }\n",
       "</style>\n",
       "<table border=\"1\" class=\"dataframe\">\n",
       "  <thead>\n",
       "    <tr style=\"text-align: right;\">\n",
       "      <th>event_name</th>\n",
       "      <th>CartScreenAppear</th>\n",
       "      <th>MainScreenAppear</th>\n",
       "      <th>OffersScreenAppear</th>\n",
       "      <th>PaymentScreenSuccessful</th>\n",
       "      <th>Tutorial</th>\n",
       "    </tr>\n",
       "    <tr>\n",
       "      <th>user_id</th>\n",
       "      <th></th>\n",
       "      <th></th>\n",
       "      <th></th>\n",
       "      <th></th>\n",
       "      <th></th>\n",
       "    </tr>\n",
       "  </thead>\n",
       "  <tbody>\n",
       "    <tr>\n",
       "      <th>6888746892508752</th>\n",
       "      <td>NaT</td>\n",
       "      <td>2019-08-06 16:06:34</td>\n",
       "      <td>NaT</td>\n",
       "      <td>NaT</td>\n",
       "      <td>NaT</td>\n",
       "    </tr>\n",
       "    <tr>\n",
       "      <th>6909561520679493</th>\n",
       "      <td>2019-08-06 20:52:58</td>\n",
       "      <td>2019-08-06 20:52:54</td>\n",
       "      <td>2019-08-06 20:53:04</td>\n",
       "      <td>2019-08-06 20:52:58</td>\n",
       "      <td>NaT</td>\n",
       "    </tr>\n",
       "    <tr>\n",
       "      <th>6922444491712477</th>\n",
       "      <td>2019-08-04 16:19:40</td>\n",
       "      <td>2019-08-04 16:19:33</td>\n",
       "      <td>2019-08-04 16:19:46</td>\n",
       "      <td>2019-08-04 16:19:40</td>\n",
       "      <td>NaT</td>\n",
       "    </tr>\n",
       "    <tr>\n",
       "      <th>7435777799948366</th>\n",
       "      <td>NaT</td>\n",
       "      <td>2019-08-05 10:06:34</td>\n",
       "      <td>NaT</td>\n",
       "      <td>NaT</td>\n",
       "      <td>NaT</td>\n",
       "    </tr>\n",
       "    <tr>\n",
       "      <th>7702139951469979</th>\n",
       "      <td>2019-08-02 16:28:45</td>\n",
       "      <td>2019-08-01 06:29:54</td>\n",
       "      <td>2019-08-01 06:29:56</td>\n",
       "      <td>2019-08-02 16:28:45</td>\n",
       "      <td>NaT</td>\n",
       "    </tr>\n",
       "    <tr>\n",
       "      <th>...</th>\n",
       "      <td>...</td>\n",
       "      <td>...</td>\n",
       "      <td>...</td>\n",
       "      <td>...</td>\n",
       "      <td>...</td>\n",
       "    </tr>\n",
       "    <tr>\n",
       "      <th>9217594193087726423</th>\n",
       "      <td>2019-08-02 11:00:58</td>\n",
       "      <td>NaT</td>\n",
       "      <td>2019-08-02 11:01:08</td>\n",
       "      <td>2019-08-02 11:00:57</td>\n",
       "      <td>NaT</td>\n",
       "    </tr>\n",
       "    <tr>\n",
       "      <th>9219463515465815368</th>\n",
       "      <td>2019-08-06 18:49:40</td>\n",
       "      <td>2019-08-05 07:26:26</td>\n",
       "      <td>2019-08-06 18:48:57</td>\n",
       "      <td>2019-08-06 18:52:16</td>\n",
       "      <td>NaT</td>\n",
       "    </tr>\n",
       "    <tr>\n",
       "      <th>9220879493065341500</th>\n",
       "      <td>2019-08-02 19:59:16</td>\n",
       "      <td>2019-08-02 19:58:48</td>\n",
       "      <td>2019-08-02 19:59:00</td>\n",
       "      <td>NaT</td>\n",
       "      <td>NaT</td>\n",
       "    </tr>\n",
       "    <tr>\n",
       "      <th>9221926045299980007</th>\n",
       "      <td>NaT</td>\n",
       "      <td>2019-08-01 19:30:27</td>\n",
       "      <td>NaT</td>\n",
       "      <td>NaT</td>\n",
       "      <td>NaT</td>\n",
       "    </tr>\n",
       "    <tr>\n",
       "      <th>9222603179720523844</th>\n",
       "      <td>NaT</td>\n",
       "      <td>2019-08-01 08:52:13</td>\n",
       "      <td>NaT</td>\n",
       "      <td>NaT</td>\n",
       "      <td>NaT</td>\n",
       "    </tr>\n",
       "  </tbody>\n",
       "</table>\n",
       "<p>7538 rows × 5 columns</p>\n",
       "</div>"
      ],
      "text/plain": [
       "event_name             CartScreenAppear    MainScreenAppear  \\\n",
       "user_id                                                       \n",
       "6888746892508752                    NaT 2019-08-06 16:06:34   \n",
       "6909561520679493    2019-08-06 20:52:58 2019-08-06 20:52:54   \n",
       "6922444491712477    2019-08-04 16:19:40 2019-08-04 16:19:33   \n",
       "7435777799948366                    NaT 2019-08-05 10:06:34   \n",
       "7702139951469979    2019-08-02 16:28:45 2019-08-01 06:29:54   \n",
       "...                                 ...                 ...   \n",
       "9217594193087726423 2019-08-02 11:00:58                 NaT   \n",
       "9219463515465815368 2019-08-06 18:49:40 2019-08-05 07:26:26   \n",
       "9220879493065341500 2019-08-02 19:59:16 2019-08-02 19:58:48   \n",
       "9221926045299980007                 NaT 2019-08-01 19:30:27   \n",
       "9222603179720523844                 NaT 2019-08-01 08:52:13   \n",
       "\n",
       "event_name           OffersScreenAppear PaymentScreenSuccessful Tutorial  \n",
       "user_id                                                                   \n",
       "6888746892508752                    NaT                     NaT      NaT  \n",
       "6909561520679493    2019-08-06 20:53:04     2019-08-06 20:52:58      NaT  \n",
       "6922444491712477    2019-08-04 16:19:46     2019-08-04 16:19:40      NaT  \n",
       "7435777799948366                    NaT                     NaT      NaT  \n",
       "7702139951469979    2019-08-01 06:29:56     2019-08-02 16:28:45      NaT  \n",
       "...                                 ...                     ...      ...  \n",
       "9217594193087726423 2019-08-02 11:01:08     2019-08-02 11:00:57      NaT  \n",
       "9219463515465815368 2019-08-06 18:48:57     2019-08-06 18:52:16      NaT  \n",
       "9220879493065341500 2019-08-02 19:59:00                     NaT      NaT  \n",
       "9221926045299980007                 NaT                     NaT      NaT  \n",
       "9222603179720523844                 NaT                     NaT      NaT  \n",
       "\n",
       "[7538 rows x 5 columns]"
      ]
     },
     "execution_count": 128,
     "metadata": {},
     "output_type": "execute_result"
    }
   ],
   "source": [
    "users = df_filt.pivot_table(index='user_id',columns='event_name',values='timestamp',aggfunc='min')\n",
    "users"
   ]
  },
  {
   "cell_type": "code",
   "execution_count": 129,
   "metadata": {},
   "outputs": [
    {
     "name": "stdout",
     "output_type": "stream",
     "text": [
      "Number of users at CartScreenAppear 3735\n"
     ]
    }
   ],
   "source": [
    "print('Number of users at CartScreenAppear',users[~users['CartScreenAppear'].isna()].shape[0])"
   ]
  },
  {
   "cell_type": "code",
   "execution_count": 130,
   "metadata": {},
   "outputs": [
    {
     "name": "stdout",
     "output_type": "stream",
     "text": [
      "Number of users at MainScreenAppear 7423\n"
     ]
    }
   ],
   "source": [
    "print('Number of users at MainScreenAppear',users[~users['MainScreenAppear'].isna()].shape[0])"
   ]
  },
  {
   "cell_type": "code",
   "execution_count": 131,
   "metadata": {},
   "outputs": [
    {
     "name": "stdout",
     "output_type": "stream",
     "text": [
      "Number of users at OffersScreenAppear 4595\n"
     ]
    }
   ],
   "source": [
    "print('Number of users at OffersScreenAppear',users[~users['OffersScreenAppear'].isna()].shape[0])"
   ]
  },
  {
   "cell_type": "code",
   "execution_count": 132,
   "metadata": {},
   "outputs": [
    {
     "name": "stdout",
     "output_type": "stream",
     "text": [
      "Number of users at PaymentScreenSuccessful 3539\n"
     ]
    }
   ],
   "source": [
    "print('Number of users at PaymentScreenSuccessful',users[~users['PaymentScreenSuccessful'].isna()].shape[0])"
   ]
  },
  {
   "cell_type": "markdown",
   "metadata": {},
   "source": [
    "**Conclusion**  \n",
    "\n",
    "If we add them together we get 19292 attended events since some of the 7538 users visited several events. "
   ]
  },
  {
   "cell_type": "markdown",
   "metadata": {},
   "source": [
    "<a name=\"Step_4.3\"></a>\n",
    "**Step 4. Study the event funnel**  \n",
    "\n",
    "   • In what order do you think the actions took place. Are all of them part of a single sequence? You don't need to take them into account when calculating the funnel. \n",
    "   \n",
    "   Back to the table of contents [click here](#table_of_contents)"
   ]
  },
  {
   "cell_type": "code",
   "execution_count": 133,
   "metadata": {},
   "outputs": [
    {
     "name": "stdout",
     "output_type": "stream",
     "text": [
      "2019-08-01 00:01:39\n"
     ]
    },
    {
     "data": {
      "text/plain": [
       "Timedelta('6 days 22:42:50')"
      ]
     },
     "execution_count": 133,
     "metadata": {},
     "output_type": "execute_result"
    }
   ],
   "source": [
    "print(users['CartScreenAppear'].min())\n",
    "users['CartScreenAppear'].max()-users['CartScreenAppear'].min()"
   ]
  },
  {
   "cell_type": "markdown",
   "metadata": {},
   "source": [
    "With the CartScreenAppear we have the first date on 2019-08-01 and then data for a further 6 days. "
   ]
  },
  {
   "cell_type": "code",
   "execution_count": 134,
   "metadata": {},
   "outputs": [
    {
     "name": "stdout",
     "output_type": "stream",
     "text": [
      "2019-08-01 00:00:12\n"
     ]
    },
    {
     "data": {
      "text/plain": [
       "Timedelta('6 days 22:43:18')"
      ]
     },
     "execution_count": 134,
     "metadata": {},
     "output_type": "execute_result"
    }
   ],
   "source": [
    "print(users['MainScreenAppear'].min())\n",
    "users['MainScreenAppear'].max()-users['MainScreenAppear'].min()"
   ]
  },
  {
   "cell_type": "markdown",
   "metadata": {},
   "source": [
    "With the MainScreenAppear we have the first date on 2019-08-01 and then data for a further 6 days. "
   ]
  },
  {
   "cell_type": "code",
   "execution_count": 135,
   "metadata": {},
   "outputs": [
    {
     "name": "stdout",
     "output_type": "stream",
     "text": [
      "2019-08-01 00:00:17\n"
     ]
    },
    {
     "data": {
      "text/plain": [
       "Timedelta('6 days 23:02:46')"
      ]
     },
     "execution_count": 135,
     "metadata": {},
     "output_type": "execute_result"
    }
   ],
   "source": [
    "print(users['OffersScreenAppear'].min())\n",
    "users['OffersScreenAppear'].max()-users['OffersScreenAppear'].min()"
   ]
  },
  {
   "cell_type": "markdown",
   "metadata": {},
   "source": [
    "With the OffersScreenAppear we have the first date on 2019-08-01 and then data for a further 6 days. "
   ]
  },
  {
   "cell_type": "code",
   "execution_count": 136,
   "metadata": {},
   "outputs": [
    {
     "name": "stdout",
     "output_type": "stream",
     "text": [
      "2019-08-01 00:01:38\n"
     ]
    },
    {
     "data": {
      "text/plain": [
       "Timedelta('6 days 22:39:58')"
      ]
     },
     "execution_count": 136,
     "metadata": {},
     "output_type": "execute_result"
    }
   ],
   "source": [
    "print(users['PaymentScreenSuccessful'].min())\n",
    "users['PaymentScreenSuccessful'].max()-users['PaymentScreenSuccessful'].min()"
   ]
  },
  {
   "cell_type": "markdown",
   "metadata": {},
   "source": [
    "With the PaymentScreenSuccessful we also have the first date on 2019-08-01 and then data for a further 6 days"
   ]
  },
  {
   "cell_type": "code",
   "execution_count": 137,
   "metadata": {},
   "outputs": [
    {
     "name": "stdout",
     "output_type": "stream",
     "text": [
      "2019-08-01 01:34:18\n"
     ]
    },
    {
     "data": {
      "text/plain": [
       "Timedelta('6 days 20:49:34')"
      ]
     },
     "execution_count": 137,
     "metadata": {},
     "output_type": "execute_result"
    }
   ],
   "source": [
    "print(users['Tutorial'].min())\n",
    "users['Tutorial'].max()-users['Tutorial'].min()"
   ]
  },
  {
   "cell_type": "markdown",
   "metadata": {},
   "source": [
    "With the Tutorial we also have the first date on 2019-08-01 and then data for a further 6 days. So it looks like these actions have taken place consistently and there is no order.They don't seem to have a single sequence either, since there are rush hours and times when it is less busy. It seems to be a continuous process that has been going on for a long time."
   ]
  },
  {
   "cell_type": "code",
   "execution_count": 138,
   "metadata": {},
   "outputs": [
    {
     "data": {
      "text/html": [
       "<div>\n",
       "<style scoped>\n",
       "    .dataframe tbody tr th:only-of-type {\n",
       "        vertical-align: middle;\n",
       "    }\n",
       "\n",
       "    .dataframe tbody tr th {\n",
       "        vertical-align: top;\n",
       "    }\n",
       "\n",
       "    .dataframe thead th {\n",
       "        text-align: right;\n",
       "    }\n",
       "</style>\n",
       "<table border=\"1\" class=\"dataframe\">\n",
       "  <thead>\n",
       "    <tr style=\"text-align: right;\">\n",
       "      <th></th>\n",
       "      <th>event_name</th>\n",
       "      <th>user_id</th>\n",
       "      <th>timestamp</th>\n",
       "      <th>experiment_id</th>\n",
       "      <th>day_of_week</th>\n",
       "    </tr>\n",
       "  </thead>\n",
       "  <tbody>\n",
       "    <tr>\n",
       "      <th>2415</th>\n",
       "      <td>MainScreenAppear</td>\n",
       "      <td>3957232200565023322</td>\n",
       "      <td>2019-08-01 00:00:12</td>\n",
       "      <td>246</td>\n",
       "      <td>Thursday</td>\n",
       "    </tr>\n",
       "    <tr>\n",
       "      <th>2416</th>\n",
       "      <td>OffersScreenAppear</td>\n",
       "      <td>3957232200565023322</td>\n",
       "      <td>2019-08-01 00:00:17</td>\n",
       "      <td>246</td>\n",
       "      <td>Thursday</td>\n",
       "    </tr>\n",
       "    <tr>\n",
       "      <th>2417</th>\n",
       "      <td>MainScreenAppear</td>\n",
       "      <td>4933689529142781210</td>\n",
       "      <td>2019-08-01 00:00:29</td>\n",
       "      <td>246</td>\n",
       "      <td>Thursday</td>\n",
       "    </tr>\n",
       "    <tr>\n",
       "      <th>2418</th>\n",
       "      <td>MainScreenAppear</td>\n",
       "      <td>1802682376349807053</td>\n",
       "      <td>2019-08-01 00:00:33</td>\n",
       "      <td>248</td>\n",
       "      <td>Thursday</td>\n",
       "    </tr>\n",
       "    <tr>\n",
       "      <th>2419</th>\n",
       "      <td>MainScreenAppear</td>\n",
       "      <td>2011152258955517776</td>\n",
       "      <td>2019-08-01 00:00:42</td>\n",
       "      <td>247</td>\n",
       "      <td>Thursday</td>\n",
       "    </tr>\n",
       "    <tr>\n",
       "      <th>...</th>\n",
       "      <td>...</td>\n",
       "      <td>...</td>\n",
       "      <td>...</td>\n",
       "      <td>...</td>\n",
       "      <td>...</td>\n",
       "    </tr>\n",
       "    <tr>\n",
       "      <th>244121</th>\n",
       "      <td>MainScreenAppear</td>\n",
       "      <td>4599628364049201812</td>\n",
       "      <td>2019-08-07 23:12:25</td>\n",
       "      <td>247</td>\n",
       "      <td>Wednesday</td>\n",
       "    </tr>\n",
       "    <tr>\n",
       "      <th>244122</th>\n",
       "      <td>MainScreenAppear</td>\n",
       "      <td>5849806612437486590</td>\n",
       "      <td>2019-08-07 23:13:59</td>\n",
       "      <td>246</td>\n",
       "      <td>Wednesday</td>\n",
       "    </tr>\n",
       "    <tr>\n",
       "      <th>244123</th>\n",
       "      <td>MainScreenAppear</td>\n",
       "      <td>5746969938801999050</td>\n",
       "      <td>2019-08-07 23:14:43</td>\n",
       "      <td>246</td>\n",
       "      <td>Wednesday</td>\n",
       "    </tr>\n",
       "    <tr>\n",
       "      <th>244124</th>\n",
       "      <td>MainScreenAppear</td>\n",
       "      <td>5746969938801999050</td>\n",
       "      <td>2019-08-07 23:14:58</td>\n",
       "      <td>246</td>\n",
       "      <td>Wednesday</td>\n",
       "    </tr>\n",
       "    <tr>\n",
       "      <th>244125</th>\n",
       "      <td>OffersScreenAppear</td>\n",
       "      <td>5746969938801999050</td>\n",
       "      <td>2019-08-07 23:15:17</td>\n",
       "      <td>246</td>\n",
       "      <td>Wednesday</td>\n",
       "    </tr>\n",
       "  </tbody>\n",
       "</table>\n",
       "<p>241300 rows × 5 columns</p>\n",
       "</div>"
      ],
      "text/plain": [
       "                event_name              user_id           timestamp  \\\n",
       "2415      MainScreenAppear  3957232200565023322 2019-08-01 00:00:12   \n",
       "2416    OffersScreenAppear  3957232200565023322 2019-08-01 00:00:17   \n",
       "2417      MainScreenAppear  4933689529142781210 2019-08-01 00:00:29   \n",
       "2418      MainScreenAppear  1802682376349807053 2019-08-01 00:00:33   \n",
       "2419      MainScreenAppear  2011152258955517776 2019-08-01 00:00:42   \n",
       "...                    ...                  ...                 ...   \n",
       "244121    MainScreenAppear  4599628364049201812 2019-08-07 23:12:25   \n",
       "244122    MainScreenAppear  5849806612437486590 2019-08-07 23:13:59   \n",
       "244123    MainScreenAppear  5746969938801999050 2019-08-07 23:14:43   \n",
       "244124    MainScreenAppear  5746969938801999050 2019-08-07 23:14:58   \n",
       "244125  OffersScreenAppear  5746969938801999050 2019-08-07 23:15:17   \n",
       "\n",
       "        experiment_id day_of_week  \n",
       "2415              246    Thursday  \n",
       "2416              246    Thursday  \n",
       "2417              246    Thursday  \n",
       "2418              248    Thursday  \n",
       "2419              247    Thursday  \n",
       "...               ...         ...  \n",
       "244121            247   Wednesday  \n",
       "244122            246   Wednesday  \n",
       "244123            246   Wednesday  \n",
       "244124            246   Wednesday  \n",
       "244125            246   Wednesday  \n",
       "\n",
       "[241300 rows x 5 columns]"
      ]
     },
     "execution_count": 138,
     "metadata": {},
     "output_type": "execute_result"
    }
   ],
   "source": [
    "df_filt"
   ]
  },
  {
   "cell_type": "code",
   "execution_count": 139,
   "metadata": {},
   "outputs": [
    {
     "data": {
      "text/html": [
       "<div>\n",
       "<style scoped>\n",
       "    .dataframe tbody tr th:only-of-type {\n",
       "        vertical-align: middle;\n",
       "    }\n",
       "\n",
       "    .dataframe tbody tr th {\n",
       "        vertical-align: top;\n",
       "    }\n",
       "\n",
       "    .dataframe thead th {\n",
       "        text-align: right;\n",
       "    }\n",
       "</style>\n",
       "<table border=\"1\" class=\"dataframe\">\n",
       "  <thead>\n",
       "    <tr style=\"text-align: right;\">\n",
       "      <th></th>\n",
       "      <th>event_name</th>\n",
       "      <th>user_id</th>\n",
       "      <th>timestamp</th>\n",
       "      <th>experiment_id</th>\n",
       "      <th>day_of_week</th>\n",
       "    </tr>\n",
       "  </thead>\n",
       "  <tbody>\n",
       "    <tr>\n",
       "      <th>82802</th>\n",
       "      <td>OffersScreenAppear</td>\n",
       "      <td>1968327796343926941</td>\n",
       "      <td>2019-08-03 11:07:30</td>\n",
       "      <td>248</td>\n",
       "      <td>Saturday</td>\n",
       "    </tr>\n",
       "  </tbody>\n",
       "</table>\n",
       "</div>"
      ],
      "text/plain": [
       "               event_name              user_id           timestamp  \\\n",
       "82802  OffersScreenAppear  1968327796343926941 2019-08-03 11:07:30   \n",
       "\n",
       "       experiment_id day_of_week  \n",
       "82802            248    Saturday  "
      ]
     },
     "execution_count": 139,
     "metadata": {},
     "output_type": "execute_result"
    }
   ],
   "source": [
    "sorted_data=df_filt[df_filt['event_name']!='Tutorial'].sort_values(by=['user_id','timestamp'])\n",
    "sorted_data.sample()"
   ]
  },
  {
   "cell_type": "markdown",
   "metadata": {},
   "source": [
    "we take an example visitor and look at the order in which the events go through "
   ]
  },
  {
   "cell_type": "code",
   "execution_count": 140,
   "metadata": {},
   "outputs": [
    {
     "data": {
      "text/html": [
       "<div>\n",
       "<style scoped>\n",
       "    .dataframe tbody tr th:only-of-type {\n",
       "        vertical-align: middle;\n",
       "    }\n",
       "\n",
       "    .dataframe tbody tr th {\n",
       "        vertical-align: top;\n",
       "    }\n",
       "\n",
       "    .dataframe thead th {\n",
       "        text-align: right;\n",
       "    }\n",
       "</style>\n",
       "<table border=\"1\" class=\"dataframe\">\n",
       "  <thead>\n",
       "    <tr style=\"text-align: right;\">\n",
       "      <th></th>\n",
       "      <th>event_name</th>\n",
       "      <th>user_id</th>\n",
       "      <th>timestamp</th>\n",
       "      <th>experiment_id</th>\n",
       "      <th>day_of_week</th>\n",
       "    </tr>\n",
       "  </thead>\n",
       "  <tbody>\n",
       "    <tr>\n",
       "      <th>27095</th>\n",
       "      <td>MainScreenAppear</td>\n",
       "      <td>3847488767744805011</td>\n",
       "      <td>2019-08-01 17:44:28</td>\n",
       "      <td>247</td>\n",
       "      <td>Thursday</td>\n",
       "    </tr>\n",
       "    <tr>\n",
       "      <th>27101</th>\n",
       "      <td>PaymentScreenSuccessful</td>\n",
       "      <td>3847488767744805011</td>\n",
       "      <td>2019-08-01 17:44:31</td>\n",
       "      <td>247</td>\n",
       "      <td>Thursday</td>\n",
       "    </tr>\n",
       "    <tr>\n",
       "      <th>27102</th>\n",
       "      <td>CartScreenAppear</td>\n",
       "      <td>3847488767744805011</td>\n",
       "      <td>2019-08-01 17:44:31</td>\n",
       "      <td>247</td>\n",
       "      <td>Thursday</td>\n",
       "    </tr>\n",
       "    <tr>\n",
       "      <th>27103</th>\n",
       "      <td>MainScreenAppear</td>\n",
       "      <td>3847488767744805011</td>\n",
       "      <td>2019-08-01 17:44:31</td>\n",
       "      <td>247</td>\n",
       "      <td>Thursday</td>\n",
       "    </tr>\n",
       "    <tr>\n",
       "      <th>27110</th>\n",
       "      <td>OffersScreenAppear</td>\n",
       "      <td>3847488767744805011</td>\n",
       "      <td>2019-08-01 17:44:38</td>\n",
       "      <td>247</td>\n",
       "      <td>Thursday</td>\n",
       "    </tr>\n",
       "    <tr>\n",
       "      <th>27114</th>\n",
       "      <td>CartScreenAppear</td>\n",
       "      <td>3847488767744805011</td>\n",
       "      <td>2019-08-01 17:44:41</td>\n",
       "      <td>247</td>\n",
       "      <td>Thursday</td>\n",
       "    </tr>\n",
       "    <tr>\n",
       "      <th>40956</th>\n",
       "      <td>MainScreenAppear</td>\n",
       "      <td>3847488767744805011</td>\n",
       "      <td>2019-08-02 04:46:18</td>\n",
       "      <td>247</td>\n",
       "      <td>Friday</td>\n",
       "    </tr>\n",
       "    <tr>\n",
       "      <th>40957</th>\n",
       "      <td>OffersScreenAppear</td>\n",
       "      <td>3847488767744805011</td>\n",
       "      <td>2019-08-02 04:46:20</td>\n",
       "      <td>247</td>\n",
       "      <td>Friday</td>\n",
       "    </tr>\n",
       "    <tr>\n",
       "      <th>40963</th>\n",
       "      <td>CartScreenAppear</td>\n",
       "      <td>3847488767744805011</td>\n",
       "      <td>2019-08-02 04:47:18</td>\n",
       "      <td>247</td>\n",
       "      <td>Friday</td>\n",
       "    </tr>\n",
       "    <tr>\n",
       "      <th>65297</th>\n",
       "      <td>MainScreenAppear</td>\n",
       "      <td>3847488767744805011</td>\n",
       "      <td>2019-08-02 18:20:01</td>\n",
       "      <td>247</td>\n",
       "      <td>Friday</td>\n",
       "    </tr>\n",
       "    <tr>\n",
       "      <th>65298</th>\n",
       "      <td>MainScreenAppear</td>\n",
       "      <td>3847488767744805011</td>\n",
       "      <td>2019-08-02 18:20:03</td>\n",
       "      <td>247</td>\n",
       "      <td>Friday</td>\n",
       "    </tr>\n",
       "    <tr>\n",
       "      <th>65299</th>\n",
       "      <td>CartScreenAppear</td>\n",
       "      <td>3847488767744805011</td>\n",
       "      <td>2019-08-02 18:20:03</td>\n",
       "      <td>247</td>\n",
       "      <td>Friday</td>\n",
       "    </tr>\n",
       "    <tr>\n",
       "      <th>65301</th>\n",
       "      <td>PaymentScreenSuccessful</td>\n",
       "      <td>3847488767744805011</td>\n",
       "      <td>2019-08-02 18:20:03</td>\n",
       "      <td>247</td>\n",
       "      <td>Friday</td>\n",
       "    </tr>\n",
       "    <tr>\n",
       "      <th>65308</th>\n",
       "      <td>OffersScreenAppear</td>\n",
       "      <td>3847488767744805011</td>\n",
       "      <td>2019-08-02 18:20:06</td>\n",
       "      <td>247</td>\n",
       "      <td>Friday</td>\n",
       "    </tr>\n",
       "    <tr>\n",
       "      <th>107486</th>\n",
       "      <td>MainScreenAppear</td>\n",
       "      <td>3847488767744805011</td>\n",
       "      <td>2019-08-03 23:42:39</td>\n",
       "      <td>247</td>\n",
       "      <td>Saturday</td>\n",
       "    </tr>\n",
       "    <tr>\n",
       "      <th>107488</th>\n",
       "      <td>PaymentScreenSuccessful</td>\n",
       "      <td>3847488767744805011</td>\n",
       "      <td>2019-08-03 23:42:53</td>\n",
       "      <td>247</td>\n",
       "      <td>Saturday</td>\n",
       "    </tr>\n",
       "    <tr>\n",
       "      <th>107489</th>\n",
       "      <td>MainScreenAppear</td>\n",
       "      <td>3847488767744805011</td>\n",
       "      <td>2019-08-03 23:42:53</td>\n",
       "      <td>247</td>\n",
       "      <td>Saturday</td>\n",
       "    </tr>\n",
       "    <tr>\n",
       "      <th>107490</th>\n",
       "      <td>CartScreenAppear</td>\n",
       "      <td>3847488767744805011</td>\n",
       "      <td>2019-08-03 23:42:53</td>\n",
       "      <td>247</td>\n",
       "      <td>Saturday</td>\n",
       "    </tr>\n",
       "    <tr>\n",
       "      <th>107493</th>\n",
       "      <td>OffersScreenAppear</td>\n",
       "      <td>3847488767744805011</td>\n",
       "      <td>2019-08-03 23:42:57</td>\n",
       "      <td>247</td>\n",
       "      <td>Saturday</td>\n",
       "    </tr>\n",
       "    <tr>\n",
       "      <th>107496</th>\n",
       "      <td>CartScreenAppear</td>\n",
       "      <td>3847488767744805011</td>\n",
       "      <td>2019-08-03 23:43:07</td>\n",
       "      <td>247</td>\n",
       "      <td>Saturday</td>\n",
       "    </tr>\n",
       "    <tr>\n",
       "      <th>107497</th>\n",
       "      <td>PaymentScreenSuccessful</td>\n",
       "      <td>3847488767744805011</td>\n",
       "      <td>2019-08-03 23:43:07</td>\n",
       "      <td>247</td>\n",
       "      <td>Saturday</td>\n",
       "    </tr>\n",
       "    <tr>\n",
       "      <th>107500</th>\n",
       "      <td>CartScreenAppear</td>\n",
       "      <td>3847488767744805011</td>\n",
       "      <td>2019-08-03 23:43:27</td>\n",
       "      <td>247</td>\n",
       "      <td>Saturday</td>\n",
       "    </tr>\n",
       "    <tr>\n",
       "      <th>107501</th>\n",
       "      <td>PaymentScreenSuccessful</td>\n",
       "      <td>3847488767744805011</td>\n",
       "      <td>2019-08-03 23:43:27</td>\n",
       "      <td>247</td>\n",
       "      <td>Saturday</td>\n",
       "    </tr>\n",
       "    <tr>\n",
       "      <th>107507</th>\n",
       "      <td>PaymentScreenSuccessful</td>\n",
       "      <td>3847488767744805011</td>\n",
       "      <td>2019-08-03 23:43:55</td>\n",
       "      <td>247</td>\n",
       "      <td>Saturday</td>\n",
       "    </tr>\n",
       "    <tr>\n",
       "      <th>107508</th>\n",
       "      <td>CartScreenAppear</td>\n",
       "      <td>3847488767744805011</td>\n",
       "      <td>2019-08-03 23:43:56</td>\n",
       "      <td>247</td>\n",
       "      <td>Saturday</td>\n",
       "    </tr>\n",
       "    <tr>\n",
       "      <th>139978</th>\n",
       "      <td>MainScreenAppear</td>\n",
       "      <td>3847488767744805011</td>\n",
       "      <td>2019-08-04 23:13:53</td>\n",
       "      <td>247</td>\n",
       "      <td>Sunday</td>\n",
       "    </tr>\n",
       "    <tr>\n",
       "      <th>139979</th>\n",
       "      <td>PaymentScreenSuccessful</td>\n",
       "      <td>3847488767744805011</td>\n",
       "      <td>2019-08-04 23:13:54</td>\n",
       "      <td>247</td>\n",
       "      <td>Sunday</td>\n",
       "    </tr>\n",
       "    <tr>\n",
       "      <th>139980</th>\n",
       "      <td>MainScreenAppear</td>\n",
       "      <td>3847488767744805011</td>\n",
       "      <td>2019-08-04 23:13:55</td>\n",
       "      <td>247</td>\n",
       "      <td>Sunday</td>\n",
       "    </tr>\n",
       "    <tr>\n",
       "      <th>139981</th>\n",
       "      <td>CartScreenAppear</td>\n",
       "      <td>3847488767744805011</td>\n",
       "      <td>2019-08-04 23:13:55</td>\n",
       "      <td>247</td>\n",
       "      <td>Sunday</td>\n",
       "    </tr>\n",
       "    <tr>\n",
       "      <th>139982</th>\n",
       "      <td>OffersScreenAppear</td>\n",
       "      <td>3847488767744805011</td>\n",
       "      <td>2019-08-04 23:13:59</td>\n",
       "      <td>247</td>\n",
       "      <td>Sunday</td>\n",
       "    </tr>\n",
       "    <tr>\n",
       "      <th>207413</th>\n",
       "      <td>MainScreenAppear</td>\n",
       "      <td>3847488767744805011</td>\n",
       "      <td>2019-08-06 20:05:05</td>\n",
       "      <td>247</td>\n",
       "      <td>Tuesday</td>\n",
       "    </tr>\n",
       "    <tr>\n",
       "      <th>207414</th>\n",
       "      <td>PaymentScreenSuccessful</td>\n",
       "      <td>3847488767744805011</td>\n",
       "      <td>2019-08-06 20:05:07</td>\n",
       "      <td>247</td>\n",
       "      <td>Tuesday</td>\n",
       "    </tr>\n",
       "    <tr>\n",
       "      <th>207415</th>\n",
       "      <td>CartScreenAppear</td>\n",
       "      <td>3847488767744805011</td>\n",
       "      <td>2019-08-06 20:05:07</td>\n",
       "      <td>247</td>\n",
       "      <td>Tuesday</td>\n",
       "    </tr>\n",
       "    <tr>\n",
       "      <th>207417</th>\n",
       "      <td>MainScreenAppear</td>\n",
       "      <td>3847488767744805011</td>\n",
       "      <td>2019-08-06 20:05:08</td>\n",
       "      <td>247</td>\n",
       "      <td>Tuesday</td>\n",
       "    </tr>\n",
       "    <tr>\n",
       "      <th>207419</th>\n",
       "      <td>OffersScreenAppear</td>\n",
       "      <td>3847488767744805011</td>\n",
       "      <td>2019-08-06 20:05:10</td>\n",
       "      <td>247</td>\n",
       "      <td>Tuesday</td>\n",
       "    </tr>\n",
       "    <tr>\n",
       "      <th>207428</th>\n",
       "      <td>PaymentScreenSuccessful</td>\n",
       "      <td>3847488767744805011</td>\n",
       "      <td>2019-08-06 20:05:16</td>\n",
       "      <td>247</td>\n",
       "      <td>Tuesday</td>\n",
       "    </tr>\n",
       "    <tr>\n",
       "      <th>207430</th>\n",
       "      <td>CartScreenAppear</td>\n",
       "      <td>3847488767744805011</td>\n",
       "      <td>2019-08-06 20:05:17</td>\n",
       "      <td>247</td>\n",
       "      <td>Tuesday</td>\n",
       "    </tr>\n",
       "    <tr>\n",
       "      <th>207433</th>\n",
       "      <td>PaymentScreenSuccessful</td>\n",
       "      <td>3847488767744805011</td>\n",
       "      <td>2019-08-06 20:05:20</td>\n",
       "      <td>247</td>\n",
       "      <td>Tuesday</td>\n",
       "    </tr>\n",
       "  </tbody>\n",
       "</table>\n",
       "</div>"
      ],
      "text/plain": [
       "                     event_name              user_id           timestamp  \\\n",
       "27095          MainScreenAppear  3847488767744805011 2019-08-01 17:44:28   \n",
       "27101   PaymentScreenSuccessful  3847488767744805011 2019-08-01 17:44:31   \n",
       "27102          CartScreenAppear  3847488767744805011 2019-08-01 17:44:31   \n",
       "27103          MainScreenAppear  3847488767744805011 2019-08-01 17:44:31   \n",
       "27110        OffersScreenAppear  3847488767744805011 2019-08-01 17:44:38   \n",
       "27114          CartScreenAppear  3847488767744805011 2019-08-01 17:44:41   \n",
       "40956          MainScreenAppear  3847488767744805011 2019-08-02 04:46:18   \n",
       "40957        OffersScreenAppear  3847488767744805011 2019-08-02 04:46:20   \n",
       "40963          CartScreenAppear  3847488767744805011 2019-08-02 04:47:18   \n",
       "65297          MainScreenAppear  3847488767744805011 2019-08-02 18:20:01   \n",
       "65298          MainScreenAppear  3847488767744805011 2019-08-02 18:20:03   \n",
       "65299          CartScreenAppear  3847488767744805011 2019-08-02 18:20:03   \n",
       "65301   PaymentScreenSuccessful  3847488767744805011 2019-08-02 18:20:03   \n",
       "65308        OffersScreenAppear  3847488767744805011 2019-08-02 18:20:06   \n",
       "107486         MainScreenAppear  3847488767744805011 2019-08-03 23:42:39   \n",
       "107488  PaymentScreenSuccessful  3847488767744805011 2019-08-03 23:42:53   \n",
       "107489         MainScreenAppear  3847488767744805011 2019-08-03 23:42:53   \n",
       "107490         CartScreenAppear  3847488767744805011 2019-08-03 23:42:53   \n",
       "107493       OffersScreenAppear  3847488767744805011 2019-08-03 23:42:57   \n",
       "107496         CartScreenAppear  3847488767744805011 2019-08-03 23:43:07   \n",
       "107497  PaymentScreenSuccessful  3847488767744805011 2019-08-03 23:43:07   \n",
       "107500         CartScreenAppear  3847488767744805011 2019-08-03 23:43:27   \n",
       "107501  PaymentScreenSuccessful  3847488767744805011 2019-08-03 23:43:27   \n",
       "107507  PaymentScreenSuccessful  3847488767744805011 2019-08-03 23:43:55   \n",
       "107508         CartScreenAppear  3847488767744805011 2019-08-03 23:43:56   \n",
       "139978         MainScreenAppear  3847488767744805011 2019-08-04 23:13:53   \n",
       "139979  PaymentScreenSuccessful  3847488767744805011 2019-08-04 23:13:54   \n",
       "139980         MainScreenAppear  3847488767744805011 2019-08-04 23:13:55   \n",
       "139981         CartScreenAppear  3847488767744805011 2019-08-04 23:13:55   \n",
       "139982       OffersScreenAppear  3847488767744805011 2019-08-04 23:13:59   \n",
       "207413         MainScreenAppear  3847488767744805011 2019-08-06 20:05:05   \n",
       "207414  PaymentScreenSuccessful  3847488767744805011 2019-08-06 20:05:07   \n",
       "207415         CartScreenAppear  3847488767744805011 2019-08-06 20:05:07   \n",
       "207417         MainScreenAppear  3847488767744805011 2019-08-06 20:05:08   \n",
       "207419       OffersScreenAppear  3847488767744805011 2019-08-06 20:05:10   \n",
       "207428  PaymentScreenSuccessful  3847488767744805011 2019-08-06 20:05:16   \n",
       "207430         CartScreenAppear  3847488767744805011 2019-08-06 20:05:17   \n",
       "207433  PaymentScreenSuccessful  3847488767744805011 2019-08-06 20:05:20   \n",
       "\n",
       "        experiment_id day_of_week  \n",
       "27095             247    Thursday  \n",
       "27101             247    Thursday  \n",
       "27102             247    Thursday  \n",
       "27103             247    Thursday  \n",
       "27110             247    Thursday  \n",
       "27114             247    Thursday  \n",
       "40956             247      Friday  \n",
       "40957             247      Friday  \n",
       "40963             247      Friday  \n",
       "65297             247      Friday  \n",
       "65298             247      Friday  \n",
       "65299             247      Friday  \n",
       "65301             247      Friday  \n",
       "65308             247      Friday  \n",
       "107486            247    Saturday  \n",
       "107488            247    Saturday  \n",
       "107489            247    Saturday  \n",
       "107490            247    Saturday  \n",
       "107493            247    Saturday  \n",
       "107496            247    Saturday  \n",
       "107497            247    Saturday  \n",
       "107500            247    Saturday  \n",
       "107501            247    Saturday  \n",
       "107507            247    Saturday  \n",
       "107508            247    Saturday  \n",
       "139978            247      Sunday  \n",
       "139979            247      Sunday  \n",
       "139980            247      Sunday  \n",
       "139981            247      Sunday  \n",
       "139982            247      Sunday  \n",
       "207413            247     Tuesday  \n",
       "207414            247     Tuesday  \n",
       "207415            247     Tuesday  \n",
       "207417            247     Tuesday  \n",
       "207419            247     Tuesday  \n",
       "207428            247     Tuesday  \n",
       "207430            247     Tuesday  \n",
       "207433            247     Tuesday  "
      ]
     },
     "execution_count": 140,
     "metadata": {},
     "output_type": "execute_result"
    }
   ],
   "source": [
    "sorted_data[sorted_data.user_id==3847488767744805011]"
   ]
  },
  {
   "cell_type": "code",
   "execution_count": 141,
   "metadata": {},
   "outputs": [],
   "source": [
    "def sequence(user):\n",
    "    sorted_user=sorted_data[sorted_data['user_id']==user].sort_values(by=['user_id','timestamp'])\n",
    "    return sorted_user['event_name'].drop_duplicates().to_list()"
   ]
  },
  {
   "cell_type": "markdown",
   "metadata": {},
   "source": [
    "For the example user 3847488767744805011 there was this sequence 1 'MainScreenAppear', 2 'PaymentScreenSuccessful', 3 'CartScreenAppear',4 'OffersScreenAppear' "
   ]
  },
  {
   "cell_type": "code",
   "execution_count": 142,
   "metadata": {},
   "outputs": [
    {
     "data": {
      "text/plain": [
       "['MainScreenAppear',\n",
       " 'PaymentScreenSuccessful',\n",
       " 'CartScreenAppear',\n",
       " 'OffersScreenAppear']"
      ]
     },
     "execution_count": 142,
     "metadata": {},
     "output_type": "execute_result"
    }
   ],
   "source": [
    "sequence(3847488767744805011)"
   ]
  },
  {
   "cell_type": "code",
   "execution_count": 143,
   "metadata": {},
   "outputs": [
    {
     "data": {
      "text/html": [
       "<div>\n",
       "<style scoped>\n",
       "    .dataframe tbody tr th:only-of-type {\n",
       "        vertical-align: middle;\n",
       "    }\n",
       "\n",
       "    .dataframe tbody tr th {\n",
       "        vertical-align: top;\n",
       "    }\n",
       "\n",
       "    .dataframe thead th {\n",
       "        text-align: right;\n",
       "    }\n",
       "</style>\n",
       "<table border=\"1\" class=\"dataframe\">\n",
       "  <thead>\n",
       "    <tr style=\"text-align: right;\">\n",
       "      <th></th>\n",
       "      <th></th>\n",
       "      <th>event_name</th>\n",
       "    </tr>\n",
       "    <tr>\n",
       "      <th>user_id</th>\n",
       "      <th>event_time_hour</th>\n",
       "      <th></th>\n",
       "    </tr>\n",
       "  </thead>\n",
       "  <tbody>\n",
       "    <tr>\n",
       "      <th>6888746892508752</th>\n",
       "      <th>2019-08-06 16</th>\n",
       "      <td>{MainScreenAppear}</td>\n",
       "    </tr>\n",
       "    <tr>\n",
       "      <th>6909561520679493</th>\n",
       "      <th>2019-08-06 20</th>\n",
       "      <td>{PaymentScreenSuccessful, MainScreenAppear, CartScreenAppear, OffersScreenAppear}</td>\n",
       "    </tr>\n",
       "    <tr>\n",
       "      <th rowspan=\"3\" valign=\"top\">6922444491712477</th>\n",
       "      <th>2019-08-04 16</th>\n",
       "      <td>{PaymentScreenSuccessful, MainScreenAppear, CartScreenAppear, OffersScreenAppear}</td>\n",
       "    </tr>\n",
       "    <tr>\n",
       "      <th>2019-08-04 19</th>\n",
       "      <td>{PaymentScreenSuccessful, MainScreenAppear, CartScreenAppear, OffersScreenAppear}</td>\n",
       "    </tr>\n",
       "    <tr>\n",
       "      <th>2019-08-05 15</th>\n",
       "      <td>{MainScreenAppear, OffersScreenAppear}</td>\n",
       "    </tr>\n",
       "  </tbody>\n",
       "</table>\n",
       "</div>"
      ],
      "text/plain": [
       "                                                                                                         event_name\n",
       "user_id          event_time_hour                                                                                   \n",
       "6888746892508752 2019-08-06 16                                                                   {MainScreenAppear}\n",
       "6909561520679493 2019-08-06 20    {PaymentScreenSuccessful, MainScreenAppear, CartScreenAppear, OffersScreenAppear}\n",
       "6922444491712477 2019-08-04 16    {PaymentScreenSuccessful, MainScreenAppear, CartScreenAppear, OffersScreenAppear}\n",
       "                 2019-08-04 19    {PaymentScreenSuccessful, MainScreenAppear, CartScreenAppear, OffersScreenAppear}\n",
       "                 2019-08-05 15                                               {MainScreenAppear, OffersScreenAppear}"
      ]
     },
     "metadata": {},
     "output_type": "display_data"
    },
    {
     "data": {
      "text/html": [
       "<div>\n",
       "<style scoped>\n",
       "    .dataframe tbody tr th:only-of-type {\n",
       "        vertical-align: middle;\n",
       "    }\n",
       "\n",
       "    .dataframe tbody tr th {\n",
       "        vertical-align: top;\n",
       "    }\n",
       "\n",
       "    .dataframe thead th {\n",
       "        text-align: right;\n",
       "    }\n",
       "</style>\n",
       "<table border=\"1\" class=\"dataframe\">\n",
       "  <thead>\n",
       "    <tr style=\"text-align: right;\">\n",
       "      <th></th>\n",
       "      <th>event_name</th>\n",
       "    </tr>\n",
       "  </thead>\n",
       "  <tbody>\n",
       "    <tr>\n",
       "      <th>{MainScreenAppear}</th>\n",
       "      <td>21574</td>\n",
       "    </tr>\n",
       "    <tr>\n",
       "      <th>{PaymentScreenSuccessful, MainScreenAppear, CartScreenAppear, OffersScreenAppear}</th>\n",
       "      <td>9955</td>\n",
       "    </tr>\n",
       "    <tr>\n",
       "      <th>{MainScreenAppear, OffersScreenAppear}</th>\n",
       "      <td>9557</td>\n",
       "    </tr>\n",
       "    <tr>\n",
       "      <th>{OffersScreenAppear}</th>\n",
       "      <td>2278</td>\n",
       "    </tr>\n",
       "    <tr>\n",
       "      <th>{PaymentScreenSuccessful, CartScreenAppear, OffersScreenAppear}</th>\n",
       "      <td>1750</td>\n",
       "    </tr>\n",
       "    <tr>\n",
       "      <th>{MainScreenAppear, CartScreenAppear, OffersScreenAppear}</th>\n",
       "      <td>871</td>\n",
       "    </tr>\n",
       "    <tr>\n",
       "      <th>{PaymentScreenSuccessful, CartScreenAppear}</th>\n",
       "      <td>494</td>\n",
       "    </tr>\n",
       "    <tr>\n",
       "      <th>{PaymentScreenSuccessful, MainScreenAppear, CartScreenAppear}</th>\n",
       "      <td>362</td>\n",
       "    </tr>\n",
       "    <tr>\n",
       "      <th>{MainScreenAppear, CartScreenAppear}</th>\n",
       "      <td>353</td>\n",
       "    </tr>\n",
       "    <tr>\n",
       "      <th>{MainScreenAppear, Tutorial}</th>\n",
       "      <td>276</td>\n",
       "    </tr>\n",
       "    <tr>\n",
       "      <th>{Tutorial, OffersScreenAppear, PaymentScreenSuccessful, CartScreenAppear, MainScreenAppear}</th>\n",
       "      <td>260</td>\n",
       "    </tr>\n",
       "    <tr>\n",
       "      <th>{MainScreenAppear, Tutorial, OffersScreenAppear}</th>\n",
       "      <td>172</td>\n",
       "    </tr>\n",
       "    <tr>\n",
       "      <th>{CartScreenAppear, OffersScreenAppear}</th>\n",
       "      <td>160</td>\n",
       "    </tr>\n",
       "    <tr>\n",
       "      <th>{CartScreenAppear}</th>\n",
       "      <td>115</td>\n",
       "    </tr>\n",
       "    <tr>\n",
       "      <th>{MainScreenAppear, Tutorial, CartScreenAppear, OffersScreenAppear}</th>\n",
       "      <td>107</td>\n",
       "    </tr>\n",
       "  </tbody>\n",
       "</table>\n",
       "</div>"
      ],
      "text/plain": [
       "                                                    event_name\n",
       "{MainScreenAppear}                                       21574\n",
       "{PaymentScreenSuccessful, MainScreenAppear, Car...        9955\n",
       "{MainScreenAppear, OffersScreenAppear}                    9557\n",
       "{OffersScreenAppear}                                      2278\n",
       "{PaymentScreenSuccessful, CartScreenAppear, Off...        1750\n",
       "{MainScreenAppear, CartScreenAppear, OffersScre...         871\n",
       "{PaymentScreenSuccessful, CartScreenAppear}                494\n",
       "{PaymentScreenSuccessful, MainScreenAppear, Car...         362\n",
       "{MainScreenAppear, CartScreenAppear}                       353\n",
       "{MainScreenAppear, Tutorial}                               276\n",
       "{Tutorial, OffersScreenAppear, PaymentScreenSuc...         260\n",
       "{MainScreenAppear, Tutorial, OffersScreenAppear}           172\n",
       "{CartScreenAppear, OffersScreenAppear}                     160\n",
       "{CartScreenAppear}                                         115\n",
       "{MainScreenAppear, Tutorial, CartScreenAppear, ...         107"
      ]
     },
     "execution_count": 143,
     "metadata": {},
     "output_type": "execute_result"
    }
   ],
   "source": [
    "#from pandas import option_context\n",
    "# isolate my code from other parts of your project\n",
    "example_df = df_filt.copy() \n",
    "# We will group event sequence with hour precision\n",
    "example_df['event_time_hour'] = example_df['timestamp'].dt.strftime('%Y-%m-%d %H')\n",
    "# Order events\n",
    "example_df = example_df.sort_values(by='timestamp')\n",
    "# Get event sequences for every user and event time with hour precision. \n",
    "# We use set instead of the list to remove repeated events\n",
    "# You can change set to list and you will see the difference\n",
    "event_orders = example_df.groupby(['user_id', 'event_time_hour']).agg({'event_name':set})\n",
    "\n",
    "with option_context('display.max_colwidth', 400):\n",
    "    display(event_orders.head())\n",
    "    \n",
    "event_orders['event_name'].value_counts()[:15].to_frame()  "
   ]
  },
  {
   "cell_type": "markdown",
   "metadata": {},
   "source": [
    "So, now we can see that users can randomly switch between stages and we need to select the main funnel scenario based on logic, rather than the most popular pattern."
   ]
  },
  {
   "cell_type": "markdown",
   "metadata": {},
   "source": [
    "To see for each user in general which way he has taken"
   ]
  },
  {
   "cell_type": "markdown",
   "metadata": {},
   "source": [
    "<a name=\"Step_4.4\"></a>\n",
    "**Step 4. Study the event funnel**  \n",
    "  \n",
    "   • Use the event funnel to find the share of users that proceed from each stage to the next. (For instance, for the sequence of events A → B → C, calculate the ratio of users at stage B to the number of users at stage A and the ratio of users at stage C to the number at stage B.)  \n",
    "   \n",
    "   Back to the table of contents [click here](#table_of_contents)"
   ]
  },
  {
   "cell_type": "code",
   "execution_count": 144,
   "metadata": {},
   "outputs": [
    {
     "data": {
      "text/html": [
       "<div>\n",
       "<style scoped>\n",
       "    .dataframe tbody tr th:only-of-type {\n",
       "        vertical-align: middle;\n",
       "    }\n",
       "\n",
       "    .dataframe tbody tr th {\n",
       "        vertical-align: top;\n",
       "    }\n",
       "\n",
       "    .dataframe thead th {\n",
       "        text-align: right;\n",
       "    }\n",
       "</style>\n",
       "<table border=\"1\" class=\"dataframe\">\n",
       "  <thead>\n",
       "    <tr style=\"text-align: right;\">\n",
       "      <th>event_name</th>\n",
       "      <th>CartScreenAppear</th>\n",
       "      <th>MainScreenAppear</th>\n",
       "      <th>OffersScreenAppear</th>\n",
       "      <th>PaymentScreenSuccessful</th>\n",
       "      <th>Tutorial</th>\n",
       "    </tr>\n",
       "    <tr>\n",
       "      <th>user_id</th>\n",
       "      <th></th>\n",
       "      <th></th>\n",
       "      <th></th>\n",
       "      <th></th>\n",
       "      <th></th>\n",
       "    </tr>\n",
       "  </thead>\n",
       "  <tbody>\n",
       "    <tr>\n",
       "      <th>6888746892508752</th>\n",
       "      <td>NaT</td>\n",
       "      <td>2019-08-06 16:06:34</td>\n",
       "      <td>NaT</td>\n",
       "      <td>NaT</td>\n",
       "      <td>NaT</td>\n",
       "    </tr>\n",
       "    <tr>\n",
       "      <th>6909561520679493</th>\n",
       "      <td>2019-08-06 20:52:58</td>\n",
       "      <td>2019-08-06 20:52:54</td>\n",
       "      <td>2019-08-06 20:53:04</td>\n",
       "      <td>2019-08-06 20:52:58</td>\n",
       "      <td>NaT</td>\n",
       "    </tr>\n",
       "    <tr>\n",
       "      <th>6922444491712477</th>\n",
       "      <td>2019-08-04 16:19:40</td>\n",
       "      <td>2019-08-04 16:19:33</td>\n",
       "      <td>2019-08-04 16:19:46</td>\n",
       "      <td>2019-08-04 16:19:40</td>\n",
       "      <td>NaT</td>\n",
       "    </tr>\n",
       "    <tr>\n",
       "      <th>7435777799948366</th>\n",
       "      <td>NaT</td>\n",
       "      <td>2019-08-05 10:06:34</td>\n",
       "      <td>NaT</td>\n",
       "      <td>NaT</td>\n",
       "      <td>NaT</td>\n",
       "    </tr>\n",
       "    <tr>\n",
       "      <th>7702139951469979</th>\n",
       "      <td>2019-08-02 16:28:45</td>\n",
       "      <td>2019-08-01 06:29:54</td>\n",
       "      <td>2019-08-01 06:29:56</td>\n",
       "      <td>2019-08-02 16:28:45</td>\n",
       "      <td>NaT</td>\n",
       "    </tr>\n",
       "  </tbody>\n",
       "</table>\n",
       "</div>"
      ],
      "text/plain": [
       "event_name          CartScreenAppear    MainScreenAppear  OffersScreenAppear  \\\n",
       "user_id                                                                        \n",
       "6888746892508752                 NaT 2019-08-06 16:06:34                 NaT   \n",
       "6909561520679493 2019-08-06 20:52:58 2019-08-06 20:52:54 2019-08-06 20:53:04   \n",
       "6922444491712477 2019-08-04 16:19:40 2019-08-04 16:19:33 2019-08-04 16:19:46   \n",
       "7435777799948366                 NaT 2019-08-05 10:06:34                 NaT   \n",
       "7702139951469979 2019-08-02 16:28:45 2019-08-01 06:29:54 2019-08-01 06:29:56   \n",
       "\n",
       "event_name       PaymentScreenSuccessful Tutorial  \n",
       "user_id                                            \n",
       "6888746892508752                     NaT      NaT  \n",
       "6909561520679493     2019-08-06 20:52:58      NaT  \n",
       "6922444491712477     2019-08-04 16:19:40      NaT  \n",
       "7435777799948366                     NaT      NaT  \n",
       "7702139951469979     2019-08-02 16:28:45      NaT  "
      ]
     },
     "execution_count": 144,
     "metadata": {},
     "output_type": "execute_result"
    }
   ],
   "source": [
    "users.head()"
   ]
  },
  {
   "cell_type": "code",
   "execution_count": 145,
   "metadata": {},
   "outputs": [
    {
     "name": "stdout",
     "output_type": "stream",
     "text": [
      "CartScreenAppear: 3735\n",
      "MainScreenAppear: 201\n",
      "OffersScreenAppear: 45\n",
      "PaymentScreenSuccessful: 8\n",
      "Tutorial: 0\n"
     ]
    }
   ],
   "source": [
    "step_1 = ~users['CartScreenAppear'].isna()\n",
    "step_2 = step_1 & (users['MainScreenAppear'] > users['CartScreenAppear'])\n",
    "step_3 = step_2 & (users['OffersScreenAppear'] > users['MainScreenAppear'])\n",
    "step_4 = step_3 & (users['PaymentScreenSuccessful'] > users['OffersScreenAppear'])\n",
    "step_5 = step_4 & (users['Tutorial'] > users['PaymentScreenSuccessful'])\n",
    "\n",
    "n_CartScreenAppear = users[step_1].shape[0]\n",
    "n_MainScreenAppear = users[step_2].shape[0]\n",
    "n_OffersScreenAppear = users[step_3].shape[0]\n",
    "n_PaymentScreenSuccessful = users[step_4].shape[0]\n",
    "n_Tutorial = users[step_5].shape[0]\n",
    "\n",
    "print('CartScreenAppear:', n_CartScreenAppear)\n",
    "print('MainScreenAppear:', n_MainScreenAppear)\n",
    "print('OffersScreenAppear:', n_OffersScreenAppear)\n",
    "print('PaymentScreenSuccessful:', n_PaymentScreenSuccessful)\n",
    "print('Tutorial:', n_Tutorial)"
   ]
  },
  {
   "cell_type": "markdown",
   "metadata": {},
   "source": [
    "Of the 3735 CartScreenAppear visitors only 0 participated in the tutorial. "
   ]
  },
  {
   "cell_type": "code",
   "execution_count": 146,
   "metadata": {},
   "outputs": [
    {
     "data": {
      "text/html": [
       "<div>\n",
       "<style scoped>\n",
       "    .dataframe tbody tr th:only-of-type {\n",
       "        vertical-align: middle;\n",
       "    }\n",
       "\n",
       "    .dataframe tbody tr th {\n",
       "        vertical-align: top;\n",
       "    }\n",
       "\n",
       "    .dataframe thead th {\n",
       "        text-align: right;\n",
       "    }\n",
       "</style>\n",
       "<table border=\"1\" class=\"dataframe\">\n",
       "  <thead>\n",
       "    <tr style=\"text-align: right;\">\n",
       "      <th></th>\n",
       "      <th>event_name</th>\n",
       "      <th>user_id</th>\n",
       "    </tr>\n",
       "  </thead>\n",
       "  <tbody>\n",
       "    <tr>\n",
       "      <th>0</th>\n",
       "      <td>MainScreenAppear</td>\n",
       "      <td>7423</td>\n",
       "    </tr>\n",
       "    <tr>\n",
       "      <th>1</th>\n",
       "      <td>OffersScreenAppear</td>\n",
       "      <td>4595</td>\n",
       "    </tr>\n",
       "    <tr>\n",
       "      <th>2</th>\n",
       "      <td>CartScreenAppear</td>\n",
       "      <td>3735</td>\n",
       "    </tr>\n",
       "    <tr>\n",
       "      <th>3</th>\n",
       "      <td>PaymentScreenSuccessful</td>\n",
       "      <td>3539</td>\n",
       "    </tr>\n",
       "    <tr>\n",
       "      <th>4</th>\n",
       "      <td>Tutorial</td>\n",
       "      <td>841</td>\n",
       "    </tr>\n",
       "  </tbody>\n",
       "</table>\n",
       "</div>"
      ],
      "text/plain": [
       "                event_name  user_id\n",
       "0         MainScreenAppear     7423\n",
       "1       OffersScreenAppear     4595\n",
       "2         CartScreenAppear     3735\n",
       "3  PaymentScreenSuccessful     3539\n",
       "4                 Tutorial      841"
      ]
     },
     "execution_count": 146,
     "metadata": {},
     "output_type": "execute_result"
    }
   ],
   "source": [
    "funnel_shift=df_filt.groupby(['event_name'])['user_id'].nunique().sort_values(ascending=False).reset_index()\n",
    "funnel_shift"
   ]
  },
  {
   "cell_type": "code",
   "execution_count": 147,
   "metadata": {},
   "outputs": [
    {
     "data": {
      "text/html": [
       "<div>\n",
       "<style scoped>\n",
       "    .dataframe tbody tr th:only-of-type {\n",
       "        vertical-align: middle;\n",
       "    }\n",
       "\n",
       "    .dataframe tbody tr th {\n",
       "        vertical-align: top;\n",
       "    }\n",
       "\n",
       "    .dataframe thead th {\n",
       "        text-align: right;\n",
       "    }\n",
       "</style>\n",
       "<table border=\"1\" class=\"dataframe\">\n",
       "  <thead>\n",
       "    <tr style=\"text-align: right;\">\n",
       "      <th></th>\n",
       "      <th>event_name</th>\n",
       "      <th>user_id</th>\n",
       "      <th>perc_ch</th>\n",
       "    </tr>\n",
       "  </thead>\n",
       "  <tbody>\n",
       "    <tr>\n",
       "      <th>0</th>\n",
       "      <td>MainScreenAppear</td>\n",
       "      <td>7423</td>\n",
       "      <td>NaN</td>\n",
       "    </tr>\n",
       "    <tr>\n",
       "      <th>1</th>\n",
       "      <td>OffersScreenAppear</td>\n",
       "      <td>4595</td>\n",
       "      <td>-0.380978</td>\n",
       "    </tr>\n",
       "    <tr>\n",
       "      <th>2</th>\n",
       "      <td>CartScreenAppear</td>\n",
       "      <td>3735</td>\n",
       "      <td>-0.187160</td>\n",
       "    </tr>\n",
       "    <tr>\n",
       "      <th>3</th>\n",
       "      <td>PaymentScreenSuccessful</td>\n",
       "      <td>3539</td>\n",
       "      <td>-0.052477</td>\n",
       "    </tr>\n",
       "    <tr>\n",
       "      <th>4</th>\n",
       "      <td>Tutorial</td>\n",
       "      <td>841</td>\n",
       "      <td>-0.762362</td>\n",
       "    </tr>\n",
       "  </tbody>\n",
       "</table>\n",
       "</div>"
      ],
      "text/plain": [
       "                event_name  user_id   perc_ch\n",
       "0         MainScreenAppear     7423       NaN\n",
       "1       OffersScreenAppear     4595 -0.380978\n",
       "2         CartScreenAppear     3735 -0.187160\n",
       "3  PaymentScreenSuccessful     3539 -0.052477\n",
       "4                 Tutorial      841 -0.762362"
      ]
     },
     "execution_count": 147,
     "metadata": {},
     "output_type": "execute_result"
    }
   ],
   "source": [
    "funnel_shift['perc_ch']=funnel_shift['user_id'].pct_change()\n",
    "funnel_shift"
   ]
  },
  {
   "cell_type": "code",
   "execution_count": 148,
   "metadata": {},
   "outputs": [
    {
     "data": {
      "text/html": [
       "<div>\n",
       "<style scoped>\n",
       "    .dataframe tbody tr th:only-of-type {\n",
       "        vertical-align: middle;\n",
       "    }\n",
       "\n",
       "    .dataframe tbody tr th {\n",
       "        vertical-align: top;\n",
       "    }\n",
       "\n",
       "    .dataframe thead th {\n",
       "        text-align: right;\n",
       "    }\n",
       "</style>\n",
       "<table border=\"1\" class=\"dataframe\">\n",
       "  <thead>\n",
       "    <tr style=\"text-align: right;\">\n",
       "      <th></th>\n",
       "      <th>event_name</th>\n",
       "      <th>experiment_id</th>\n",
       "      <th>user_id</th>\n",
       "    </tr>\n",
       "  </thead>\n",
       "  <tbody>\n",
       "    <tr>\n",
       "      <th>1</th>\n",
       "      <td>MainScreenAppear</td>\n",
       "      <td>246</td>\n",
       "      <td>2450</td>\n",
       "    </tr>\n",
       "    <tr>\n",
       "      <th>2</th>\n",
       "      <td>OffersScreenAppear</td>\n",
       "      <td>246</td>\n",
       "      <td>1542</td>\n",
       "    </tr>\n",
       "    <tr>\n",
       "      <th>0</th>\n",
       "      <td>CartScreenAppear</td>\n",
       "      <td>246</td>\n",
       "      <td>1266</td>\n",
       "    </tr>\n",
       "    <tr>\n",
       "      <th>3</th>\n",
       "      <td>PaymentScreenSuccessful</td>\n",
       "      <td>246</td>\n",
       "      <td>1200</td>\n",
       "    </tr>\n",
       "    <tr>\n",
       "      <th>4</th>\n",
       "      <td>Tutorial</td>\n",
       "      <td>246</td>\n",
       "      <td>278</td>\n",
       "    </tr>\n",
       "  </tbody>\n",
       "</table>\n",
       "</div>"
      ],
      "text/plain": [
       "                event_name  experiment_id  user_id\n",
       "1         MainScreenAppear            246     2450\n",
       "2       OffersScreenAppear            246     1542\n",
       "0         CartScreenAppear            246     1266\n",
       "3  PaymentScreenSuccessful            246     1200\n",
       "4                 Tutorial            246      278"
      ]
     },
     "metadata": {},
     "output_type": "display_data"
    },
    {
     "data": {
      "text/html": [
       "<div>\n",
       "<style scoped>\n",
       "    .dataframe tbody tr th:only-of-type {\n",
       "        vertical-align: middle;\n",
       "    }\n",
       "\n",
       "    .dataframe tbody tr th {\n",
       "        vertical-align: top;\n",
       "    }\n",
       "\n",
       "    .dataframe thead th {\n",
       "        text-align: right;\n",
       "    }\n",
       "</style>\n",
       "<table border=\"1\" class=\"dataframe\">\n",
       "  <thead>\n",
       "    <tr style=\"text-align: right;\">\n",
       "      <th></th>\n",
       "      <th>event_name</th>\n",
       "      <th>experiment_id</th>\n",
       "      <th>user_id</th>\n",
       "    </tr>\n",
       "  </thead>\n",
       "  <tbody>\n",
       "    <tr>\n",
       "      <th>1</th>\n",
       "      <td>MainScreenAppear</td>\n",
       "      <td>248</td>\n",
       "      <td>2494</td>\n",
       "    </tr>\n",
       "    <tr>\n",
       "      <th>2</th>\n",
       "      <td>OffersScreenAppear</td>\n",
       "      <td>248</td>\n",
       "      <td>1531</td>\n",
       "    </tr>\n",
       "    <tr>\n",
       "      <th>0</th>\n",
       "      <td>CartScreenAppear</td>\n",
       "      <td>248</td>\n",
       "      <td>1230</td>\n",
       "    </tr>\n",
       "    <tr>\n",
       "      <th>3</th>\n",
       "      <td>PaymentScreenSuccessful</td>\n",
       "      <td>248</td>\n",
       "      <td>1181</td>\n",
       "    </tr>\n",
       "    <tr>\n",
       "      <th>4</th>\n",
       "      <td>Tutorial</td>\n",
       "      <td>248</td>\n",
       "      <td>280</td>\n",
       "    </tr>\n",
       "  </tbody>\n",
       "</table>\n",
       "</div>"
      ],
      "text/plain": [
       "                event_name  experiment_id  user_id\n",
       "1         MainScreenAppear            248     2494\n",
       "2       OffersScreenAppear            248     1531\n",
       "0         CartScreenAppear            248     1230\n",
       "3  PaymentScreenSuccessful            248     1181\n",
       "4                 Tutorial            248      280"
      ]
     },
     "metadata": {},
     "output_type": "display_data"
    },
    {
     "data": {
      "text/html": [
       "<div>\n",
       "<style scoped>\n",
       "    .dataframe tbody tr th:only-of-type {\n",
       "        vertical-align: middle;\n",
       "    }\n",
       "\n",
       "    .dataframe tbody tr th {\n",
       "        vertical-align: top;\n",
       "    }\n",
       "\n",
       "    .dataframe thead th {\n",
       "        text-align: right;\n",
       "    }\n",
       "</style>\n",
       "<table border=\"1\" class=\"dataframe\">\n",
       "  <thead>\n",
       "    <tr style=\"text-align: right;\">\n",
       "      <th></th>\n",
       "      <th>event_name</th>\n",
       "      <th>experiment_id</th>\n",
       "      <th>user_id</th>\n",
       "    </tr>\n",
       "  </thead>\n",
       "  <tbody>\n",
       "    <tr>\n",
       "      <th>1</th>\n",
       "      <td>MainScreenAppear</td>\n",
       "      <td>247</td>\n",
       "      <td>2479</td>\n",
       "    </tr>\n",
       "    <tr>\n",
       "      <th>2</th>\n",
       "      <td>OffersScreenAppear</td>\n",
       "      <td>247</td>\n",
       "      <td>1522</td>\n",
       "    </tr>\n",
       "    <tr>\n",
       "      <th>0</th>\n",
       "      <td>CartScreenAppear</td>\n",
       "      <td>247</td>\n",
       "      <td>1239</td>\n",
       "    </tr>\n",
       "    <tr>\n",
       "      <th>3</th>\n",
       "      <td>PaymentScreenSuccessful</td>\n",
       "      <td>247</td>\n",
       "      <td>1158</td>\n",
       "    </tr>\n",
       "    <tr>\n",
       "      <th>4</th>\n",
       "      <td>Tutorial</td>\n",
       "      <td>247</td>\n",
       "      <td>283</td>\n",
       "    </tr>\n",
       "  </tbody>\n",
       "</table>\n",
       "</div>"
      ],
      "text/plain": [
       "                event_name  experiment_id  user_id\n",
       "1         MainScreenAppear            247     2479\n",
       "2       OffersScreenAppear            247     1522\n",
       "0         CartScreenAppear            247     1239\n",
       "3  PaymentScreenSuccessful            247     1158\n",
       "4                 Tutorial            247      283"
      ]
     },
     "metadata": {},
     "output_type": "display_data"
    }
   ],
   "source": [
    "funnel_by_groups=[]\n",
    "for i in df_filt.experiment_id.unique():\n",
    "    group=df_filt[df_filt.experiment_id==i].groupby(['event_name','experiment_id'])['user_id'].nunique().reset_index().sort_values(by=['user_id'],ascending=False)\n",
    "    display(group)\n",
    "    funnel_by_groups.append(group)"
   ]
  },
  {
   "cell_type": "code",
   "execution_count": 149,
   "metadata": {},
   "outputs": [
    {
     "data": {
      "text/html": [
       "<div>\n",
       "<style scoped>\n",
       "    .dataframe tbody tr th:only-of-type {\n",
       "        vertical-align: middle;\n",
       "    }\n",
       "\n",
       "    .dataframe tbody tr th {\n",
       "        vertical-align: top;\n",
       "    }\n",
       "\n",
       "    .dataframe thead th {\n",
       "        text-align: right;\n",
       "    }\n",
       "</style>\n",
       "<table border=\"1\" class=\"dataframe\">\n",
       "  <thead>\n",
       "    <tr style=\"text-align: right;\">\n",
       "      <th></th>\n",
       "      <th>event_name</th>\n",
       "      <th>experiment_id</th>\n",
       "      <th>user_id</th>\n",
       "    </tr>\n",
       "  </thead>\n",
       "  <tbody>\n",
       "    <tr>\n",
       "      <th>1</th>\n",
       "      <td>MainScreenAppear</td>\n",
       "      <td>246</td>\n",
       "      <td>2450</td>\n",
       "    </tr>\n",
       "    <tr>\n",
       "      <th>2</th>\n",
       "      <td>OffersScreenAppear</td>\n",
       "      <td>246</td>\n",
       "      <td>1542</td>\n",
       "    </tr>\n",
       "    <tr>\n",
       "      <th>0</th>\n",
       "      <td>CartScreenAppear</td>\n",
       "      <td>246</td>\n",
       "      <td>1266</td>\n",
       "    </tr>\n",
       "    <tr>\n",
       "      <th>3</th>\n",
       "      <td>PaymentScreenSuccessful</td>\n",
       "      <td>246</td>\n",
       "      <td>1200</td>\n",
       "    </tr>\n",
       "    <tr>\n",
       "      <th>4</th>\n",
       "      <td>Tutorial</td>\n",
       "      <td>246</td>\n",
       "      <td>278</td>\n",
       "    </tr>\n",
       "    <tr>\n",
       "      <th>1</th>\n",
       "      <td>MainScreenAppear</td>\n",
       "      <td>248</td>\n",
       "      <td>2494</td>\n",
       "    </tr>\n",
       "    <tr>\n",
       "      <th>2</th>\n",
       "      <td>OffersScreenAppear</td>\n",
       "      <td>248</td>\n",
       "      <td>1531</td>\n",
       "    </tr>\n",
       "    <tr>\n",
       "      <th>0</th>\n",
       "      <td>CartScreenAppear</td>\n",
       "      <td>248</td>\n",
       "      <td>1230</td>\n",
       "    </tr>\n",
       "    <tr>\n",
       "      <th>3</th>\n",
       "      <td>PaymentScreenSuccessful</td>\n",
       "      <td>248</td>\n",
       "      <td>1181</td>\n",
       "    </tr>\n",
       "    <tr>\n",
       "      <th>4</th>\n",
       "      <td>Tutorial</td>\n",
       "      <td>248</td>\n",
       "      <td>280</td>\n",
       "    </tr>\n",
       "    <tr>\n",
       "      <th>1</th>\n",
       "      <td>MainScreenAppear</td>\n",
       "      <td>247</td>\n",
       "      <td>2479</td>\n",
       "    </tr>\n",
       "    <tr>\n",
       "      <th>2</th>\n",
       "      <td>OffersScreenAppear</td>\n",
       "      <td>247</td>\n",
       "      <td>1522</td>\n",
       "    </tr>\n",
       "    <tr>\n",
       "      <th>0</th>\n",
       "      <td>CartScreenAppear</td>\n",
       "      <td>247</td>\n",
       "      <td>1239</td>\n",
       "    </tr>\n",
       "    <tr>\n",
       "      <th>3</th>\n",
       "      <td>PaymentScreenSuccessful</td>\n",
       "      <td>247</td>\n",
       "      <td>1158</td>\n",
       "    </tr>\n",
       "    <tr>\n",
       "      <th>4</th>\n",
       "      <td>Tutorial</td>\n",
       "      <td>247</td>\n",
       "      <td>283</td>\n",
       "    </tr>\n",
       "  </tbody>\n",
       "</table>\n",
       "</div>"
      ],
      "text/plain": [
       "                event_name  experiment_id  user_id\n",
       "1         MainScreenAppear            246     2450\n",
       "2       OffersScreenAppear            246     1542\n",
       "0         CartScreenAppear            246     1266\n",
       "3  PaymentScreenSuccessful            246     1200\n",
       "4                 Tutorial            246      278\n",
       "1         MainScreenAppear            248     2494\n",
       "2       OffersScreenAppear            248     1531\n",
       "0         CartScreenAppear            248     1230\n",
       "3  PaymentScreenSuccessful            248     1181\n",
       "4                 Tutorial            248      280\n",
       "1         MainScreenAppear            247     2479\n",
       "2       OffersScreenAppear            247     1522\n",
       "0         CartScreenAppear            247     1239\n",
       "3  PaymentScreenSuccessful            247     1158\n",
       "4                 Tutorial            247      283"
      ]
     },
     "execution_count": 149,
     "metadata": {},
     "output_type": "execute_result"
    }
   ],
   "source": [
    "funnel_by_groups=pd.concat(funnel_by_groups)\n",
    "funnel_by_groups"
   ]
  },
  {
   "cell_type": "code",
   "execution_count": 150,
   "metadata": {
    "scrolled": false
   },
   "outputs": [
    {
     "data": {
      "application/vnd.plotly.v1+json": {
       "config": {
        "plotlyServerURL": "https://plot.ly"
       },
       "data": [
        {
         "hovertemplate": "experiment_id=246<br>user_id=%{x}<br>event_name=%{y}<extra></extra>",
         "legendgroup": "246",
         "marker": {
          "color": "#636efa"
         },
         "name": "246",
         "orientation": "h",
         "showlegend": true,
         "type": "funnel",
         "x": [
          2450,
          1542,
          1266,
          1200
         ],
         "xaxis": "x",
         "y": [
          "MainScreenAppear",
          "OffersScreenAppear",
          "CartScreenAppear",
          "PaymentScreenSuccessful"
         ],
         "yaxis": "y"
        },
        {
         "hovertemplate": "experiment_id=248<br>user_id=%{x}<br>event_name=%{y}<extra></extra>",
         "legendgroup": "248",
         "marker": {
          "color": "#EF553B"
         },
         "name": "248",
         "orientation": "h",
         "showlegend": true,
         "type": "funnel",
         "x": [
          2494,
          1531,
          1230,
          1181
         ],
         "xaxis": "x",
         "y": [
          "MainScreenAppear",
          "OffersScreenAppear",
          "CartScreenAppear",
          "PaymentScreenSuccessful"
         ],
         "yaxis": "y"
        },
        {
         "hovertemplate": "experiment_id=247<br>user_id=%{x}<br>event_name=%{y}<extra></extra>",
         "legendgroup": "247",
         "marker": {
          "color": "#00cc96"
         },
         "name": "247",
         "orientation": "h",
         "showlegend": true,
         "type": "funnel",
         "x": [
          2479,
          1522,
          1239,
          1158
         ],
         "xaxis": "x",
         "y": [
          "MainScreenAppear",
          "OffersScreenAppear",
          "CartScreenAppear",
          "PaymentScreenSuccessful"
         ],
         "yaxis": "y"
        }
       ],
       "layout": {
        "legend": {
         "title": {
          "text": "experiment_id"
         },
         "tracegroupgap": 0
        },
        "margin": {
         "t": 60
        },
        "template": {
         "data": {
          "bar": [
           {
            "error_x": {
             "color": "#2a3f5f"
            },
            "error_y": {
             "color": "#2a3f5f"
            },
            "marker": {
             "line": {
              "color": "#E5ECF6",
              "width": 0.5
             },
             "pattern": {
              "fillmode": "overlay",
              "size": 10,
              "solidity": 0.2
             }
            },
            "type": "bar"
           }
          ],
          "barpolar": [
           {
            "marker": {
             "line": {
              "color": "#E5ECF6",
              "width": 0.5
             },
             "pattern": {
              "fillmode": "overlay",
              "size": 10,
              "solidity": 0.2
             }
            },
            "type": "barpolar"
           }
          ],
          "carpet": [
           {
            "aaxis": {
             "endlinecolor": "#2a3f5f",
             "gridcolor": "white",
             "linecolor": "white",
             "minorgridcolor": "white",
             "startlinecolor": "#2a3f5f"
            },
            "baxis": {
             "endlinecolor": "#2a3f5f",
             "gridcolor": "white",
             "linecolor": "white",
             "minorgridcolor": "white",
             "startlinecolor": "#2a3f5f"
            },
            "type": "carpet"
           }
          ],
          "choropleth": [
           {
            "colorbar": {
             "outlinewidth": 0,
             "ticks": ""
            },
            "type": "choropleth"
           }
          ],
          "contour": [
           {
            "colorbar": {
             "outlinewidth": 0,
             "ticks": ""
            },
            "colorscale": [
             [
              0,
              "#0d0887"
             ],
             [
              0.1111111111111111,
              "#46039f"
             ],
             [
              0.2222222222222222,
              "#7201a8"
             ],
             [
              0.3333333333333333,
              "#9c179e"
             ],
             [
              0.4444444444444444,
              "#bd3786"
             ],
             [
              0.5555555555555556,
              "#d8576b"
             ],
             [
              0.6666666666666666,
              "#ed7953"
             ],
             [
              0.7777777777777778,
              "#fb9f3a"
             ],
             [
              0.8888888888888888,
              "#fdca26"
             ],
             [
              1,
              "#f0f921"
             ]
            ],
            "type": "contour"
           }
          ],
          "contourcarpet": [
           {
            "colorbar": {
             "outlinewidth": 0,
             "ticks": ""
            },
            "type": "contourcarpet"
           }
          ],
          "heatmap": [
           {
            "colorbar": {
             "outlinewidth": 0,
             "ticks": ""
            },
            "colorscale": [
             [
              0,
              "#0d0887"
             ],
             [
              0.1111111111111111,
              "#46039f"
             ],
             [
              0.2222222222222222,
              "#7201a8"
             ],
             [
              0.3333333333333333,
              "#9c179e"
             ],
             [
              0.4444444444444444,
              "#bd3786"
             ],
             [
              0.5555555555555556,
              "#d8576b"
             ],
             [
              0.6666666666666666,
              "#ed7953"
             ],
             [
              0.7777777777777778,
              "#fb9f3a"
             ],
             [
              0.8888888888888888,
              "#fdca26"
             ],
             [
              1,
              "#f0f921"
             ]
            ],
            "type": "heatmap"
           }
          ],
          "heatmapgl": [
           {
            "colorbar": {
             "outlinewidth": 0,
             "ticks": ""
            },
            "colorscale": [
             [
              0,
              "#0d0887"
             ],
             [
              0.1111111111111111,
              "#46039f"
             ],
             [
              0.2222222222222222,
              "#7201a8"
             ],
             [
              0.3333333333333333,
              "#9c179e"
             ],
             [
              0.4444444444444444,
              "#bd3786"
             ],
             [
              0.5555555555555556,
              "#d8576b"
             ],
             [
              0.6666666666666666,
              "#ed7953"
             ],
             [
              0.7777777777777778,
              "#fb9f3a"
             ],
             [
              0.8888888888888888,
              "#fdca26"
             ],
             [
              1,
              "#f0f921"
             ]
            ],
            "type": "heatmapgl"
           }
          ],
          "histogram": [
           {
            "marker": {
             "pattern": {
              "fillmode": "overlay",
              "size": 10,
              "solidity": 0.2
             }
            },
            "type": "histogram"
           }
          ],
          "histogram2d": [
           {
            "colorbar": {
             "outlinewidth": 0,
             "ticks": ""
            },
            "colorscale": [
             [
              0,
              "#0d0887"
             ],
             [
              0.1111111111111111,
              "#46039f"
             ],
             [
              0.2222222222222222,
              "#7201a8"
             ],
             [
              0.3333333333333333,
              "#9c179e"
             ],
             [
              0.4444444444444444,
              "#bd3786"
             ],
             [
              0.5555555555555556,
              "#d8576b"
             ],
             [
              0.6666666666666666,
              "#ed7953"
             ],
             [
              0.7777777777777778,
              "#fb9f3a"
             ],
             [
              0.8888888888888888,
              "#fdca26"
             ],
             [
              1,
              "#f0f921"
             ]
            ],
            "type": "histogram2d"
           }
          ],
          "histogram2dcontour": [
           {
            "colorbar": {
             "outlinewidth": 0,
             "ticks": ""
            },
            "colorscale": [
             [
              0,
              "#0d0887"
             ],
             [
              0.1111111111111111,
              "#46039f"
             ],
             [
              0.2222222222222222,
              "#7201a8"
             ],
             [
              0.3333333333333333,
              "#9c179e"
             ],
             [
              0.4444444444444444,
              "#bd3786"
             ],
             [
              0.5555555555555556,
              "#d8576b"
             ],
             [
              0.6666666666666666,
              "#ed7953"
             ],
             [
              0.7777777777777778,
              "#fb9f3a"
             ],
             [
              0.8888888888888888,
              "#fdca26"
             ],
             [
              1,
              "#f0f921"
             ]
            ],
            "type": "histogram2dcontour"
           }
          ],
          "mesh3d": [
           {
            "colorbar": {
             "outlinewidth": 0,
             "ticks": ""
            },
            "type": "mesh3d"
           }
          ],
          "parcoords": [
           {
            "line": {
             "colorbar": {
              "outlinewidth": 0,
              "ticks": ""
             }
            },
            "type": "parcoords"
           }
          ],
          "pie": [
           {
            "automargin": true,
            "type": "pie"
           }
          ],
          "scatter": [
           {
            "marker": {
             "colorbar": {
              "outlinewidth": 0,
              "ticks": ""
             }
            },
            "type": "scatter"
           }
          ],
          "scatter3d": [
           {
            "line": {
             "colorbar": {
              "outlinewidth": 0,
              "ticks": ""
             }
            },
            "marker": {
             "colorbar": {
              "outlinewidth": 0,
              "ticks": ""
             }
            },
            "type": "scatter3d"
           }
          ],
          "scattercarpet": [
           {
            "marker": {
             "colorbar": {
              "outlinewidth": 0,
              "ticks": ""
             }
            },
            "type": "scattercarpet"
           }
          ],
          "scattergeo": [
           {
            "marker": {
             "colorbar": {
              "outlinewidth": 0,
              "ticks": ""
             }
            },
            "type": "scattergeo"
           }
          ],
          "scattergl": [
           {
            "marker": {
             "colorbar": {
              "outlinewidth": 0,
              "ticks": ""
             }
            },
            "type": "scattergl"
           }
          ],
          "scattermapbox": [
           {
            "marker": {
             "colorbar": {
              "outlinewidth": 0,
              "ticks": ""
             }
            },
            "type": "scattermapbox"
           }
          ],
          "scatterpolar": [
           {
            "marker": {
             "colorbar": {
              "outlinewidth": 0,
              "ticks": ""
             }
            },
            "type": "scatterpolar"
           }
          ],
          "scatterpolargl": [
           {
            "marker": {
             "colorbar": {
              "outlinewidth": 0,
              "ticks": ""
             }
            },
            "type": "scatterpolargl"
           }
          ],
          "scatterternary": [
           {
            "marker": {
             "colorbar": {
              "outlinewidth": 0,
              "ticks": ""
             }
            },
            "type": "scatterternary"
           }
          ],
          "surface": [
           {
            "colorbar": {
             "outlinewidth": 0,
             "ticks": ""
            },
            "colorscale": [
             [
              0,
              "#0d0887"
             ],
             [
              0.1111111111111111,
              "#46039f"
             ],
             [
              0.2222222222222222,
              "#7201a8"
             ],
             [
              0.3333333333333333,
              "#9c179e"
             ],
             [
              0.4444444444444444,
              "#bd3786"
             ],
             [
              0.5555555555555556,
              "#d8576b"
             ],
             [
              0.6666666666666666,
              "#ed7953"
             ],
             [
              0.7777777777777778,
              "#fb9f3a"
             ],
             [
              0.8888888888888888,
              "#fdca26"
             ],
             [
              1,
              "#f0f921"
             ]
            ],
            "type": "surface"
           }
          ],
          "table": [
           {
            "cells": {
             "fill": {
              "color": "#EBF0F8"
             },
             "line": {
              "color": "white"
             }
            },
            "header": {
             "fill": {
              "color": "#C8D4E3"
             },
             "line": {
              "color": "white"
             }
            },
            "type": "table"
           }
          ]
         },
         "layout": {
          "annotationdefaults": {
           "arrowcolor": "#2a3f5f",
           "arrowhead": 0,
           "arrowwidth": 1
          },
          "autotypenumbers": "strict",
          "coloraxis": {
           "colorbar": {
            "outlinewidth": 0,
            "ticks": ""
           }
          },
          "colorscale": {
           "diverging": [
            [
             0,
             "#8e0152"
            ],
            [
             0.1,
             "#c51b7d"
            ],
            [
             0.2,
             "#de77ae"
            ],
            [
             0.3,
             "#f1b6da"
            ],
            [
             0.4,
             "#fde0ef"
            ],
            [
             0.5,
             "#f7f7f7"
            ],
            [
             0.6,
             "#e6f5d0"
            ],
            [
             0.7,
             "#b8e186"
            ],
            [
             0.8,
             "#7fbc41"
            ],
            [
             0.9,
             "#4d9221"
            ],
            [
             1,
             "#276419"
            ]
           ],
           "sequential": [
            [
             0,
             "#0d0887"
            ],
            [
             0.1111111111111111,
             "#46039f"
            ],
            [
             0.2222222222222222,
             "#7201a8"
            ],
            [
             0.3333333333333333,
             "#9c179e"
            ],
            [
             0.4444444444444444,
             "#bd3786"
            ],
            [
             0.5555555555555556,
             "#d8576b"
            ],
            [
             0.6666666666666666,
             "#ed7953"
            ],
            [
             0.7777777777777778,
             "#fb9f3a"
            ],
            [
             0.8888888888888888,
             "#fdca26"
            ],
            [
             1,
             "#f0f921"
            ]
           ],
           "sequentialminus": [
            [
             0,
             "#0d0887"
            ],
            [
             0.1111111111111111,
             "#46039f"
            ],
            [
             0.2222222222222222,
             "#7201a8"
            ],
            [
             0.3333333333333333,
             "#9c179e"
            ],
            [
             0.4444444444444444,
             "#bd3786"
            ],
            [
             0.5555555555555556,
             "#d8576b"
            ],
            [
             0.6666666666666666,
             "#ed7953"
            ],
            [
             0.7777777777777778,
             "#fb9f3a"
            ],
            [
             0.8888888888888888,
             "#fdca26"
            ],
            [
             1,
             "#f0f921"
            ]
           ]
          },
          "colorway": [
           "#636efa",
           "#EF553B",
           "#00cc96",
           "#ab63fa",
           "#FFA15A",
           "#19d3f3",
           "#FF6692",
           "#B6E880",
           "#FF97FF",
           "#FECB52"
          ],
          "font": {
           "color": "#2a3f5f"
          },
          "geo": {
           "bgcolor": "white",
           "lakecolor": "white",
           "landcolor": "#E5ECF6",
           "showlakes": true,
           "showland": true,
           "subunitcolor": "white"
          },
          "hoverlabel": {
           "align": "left"
          },
          "hovermode": "closest",
          "mapbox": {
           "style": "light"
          },
          "paper_bgcolor": "white",
          "plot_bgcolor": "#E5ECF6",
          "polar": {
           "angularaxis": {
            "gridcolor": "white",
            "linecolor": "white",
            "ticks": ""
           },
           "bgcolor": "#E5ECF6",
           "radialaxis": {
            "gridcolor": "white",
            "linecolor": "white",
            "ticks": ""
           }
          },
          "scene": {
           "xaxis": {
            "backgroundcolor": "#E5ECF6",
            "gridcolor": "white",
            "gridwidth": 2,
            "linecolor": "white",
            "showbackground": true,
            "ticks": "",
            "zerolinecolor": "white"
           },
           "yaxis": {
            "backgroundcolor": "#E5ECF6",
            "gridcolor": "white",
            "gridwidth": 2,
            "linecolor": "white",
            "showbackground": true,
            "ticks": "",
            "zerolinecolor": "white"
           },
           "zaxis": {
            "backgroundcolor": "#E5ECF6",
            "gridcolor": "white",
            "gridwidth": 2,
            "linecolor": "white",
            "showbackground": true,
            "ticks": "",
            "zerolinecolor": "white"
           }
          },
          "shapedefaults": {
           "line": {
            "color": "#2a3f5f"
           }
          },
          "ternary": {
           "aaxis": {
            "gridcolor": "white",
            "linecolor": "white",
            "ticks": ""
           },
           "baxis": {
            "gridcolor": "white",
            "linecolor": "white",
            "ticks": ""
           },
           "bgcolor": "#E5ECF6",
           "caxis": {
            "gridcolor": "white",
            "linecolor": "white",
            "ticks": ""
           }
          },
          "title": {
           "x": 0.05
          },
          "xaxis": {
           "automargin": true,
           "gridcolor": "white",
           "linecolor": "white",
           "ticks": "",
           "title": {
            "standoff": 15
           },
           "zerolinecolor": "white",
           "zerolinewidth": 2
          },
          "yaxis": {
           "automargin": true,
           "gridcolor": "white",
           "linecolor": "white",
           "ticks": "",
           "title": {
            "standoff": 15
           },
           "zerolinecolor": "white",
           "zerolinewidth": 2
          }
         }
        },
        "title": {
         "text": "Event funnel of the share of users from each stage to the next"
        },
        "xaxis": {
         "anchor": "y",
         "domain": [
          0,
          1
         ],
         "title": {
          "text": "user_id"
         }
        },
        "yaxis": {
         "anchor": "x",
         "domain": [
          0,
          1
         ],
         "title": {
          "text": "event_name"
         }
        }
       }
      },
      "text/html": [
       "<div>                            <div id=\"208b7c53-325e-4766-b989-66b361405f08\" class=\"plotly-graph-div\" style=\"height:525px; width:100%;\"></div>            <script type=\"text/javascript\">                require([\"plotly\"], function(Plotly) {                    window.PLOTLYENV=window.PLOTLYENV || {};                                    if (document.getElementById(\"208b7c53-325e-4766-b989-66b361405f08\")) {                    Plotly.newPlot(                        \"208b7c53-325e-4766-b989-66b361405f08\",                        [{\"hovertemplate\":\"experiment_id=246<br>user_id=%{x}<br>event_name=%{y}<extra></extra>\",\"legendgroup\":\"246\",\"marker\":{\"color\":\"#636efa\"},\"name\":\"246\",\"orientation\":\"h\",\"showlegend\":true,\"type\":\"funnel\",\"x\":[2450,1542,1266,1200],\"xaxis\":\"x\",\"y\":[\"MainScreenAppear\",\"OffersScreenAppear\",\"CartScreenAppear\",\"PaymentScreenSuccessful\"],\"yaxis\":\"y\"},{\"hovertemplate\":\"experiment_id=248<br>user_id=%{x}<br>event_name=%{y}<extra></extra>\",\"legendgroup\":\"248\",\"marker\":{\"color\":\"#EF553B\"},\"name\":\"248\",\"orientation\":\"h\",\"showlegend\":true,\"type\":\"funnel\",\"x\":[2494,1531,1230,1181],\"xaxis\":\"x\",\"y\":[\"MainScreenAppear\",\"OffersScreenAppear\",\"CartScreenAppear\",\"PaymentScreenSuccessful\"],\"yaxis\":\"y\"},{\"hovertemplate\":\"experiment_id=247<br>user_id=%{x}<br>event_name=%{y}<extra></extra>\",\"legendgroup\":\"247\",\"marker\":{\"color\":\"#00cc96\"},\"name\":\"247\",\"orientation\":\"h\",\"showlegend\":true,\"type\":\"funnel\",\"x\":[2479,1522,1239,1158],\"xaxis\":\"x\",\"y\":[\"MainScreenAppear\",\"OffersScreenAppear\",\"CartScreenAppear\",\"PaymentScreenSuccessful\"],\"yaxis\":\"y\"}],                        {\"legend\":{\"title\":{\"text\":\"experiment_id\"},\"tracegroupgap\":0},\"margin\":{\"t\":60},\"template\":{\"data\":{\"bar\":[{\"error_x\":{\"color\":\"#2a3f5f\"},\"error_y\":{\"color\":\"#2a3f5f\"},\"marker\":{\"line\":{\"color\":\"#E5ECF6\",\"width\":0.5},\"pattern\":{\"fillmode\":\"overlay\",\"size\":10,\"solidity\":0.2}},\"type\":\"bar\"}],\"barpolar\":[{\"marker\":{\"line\":{\"color\":\"#E5ECF6\",\"width\":0.5},\"pattern\":{\"fillmode\":\"overlay\",\"size\":10,\"solidity\":0.2}},\"type\":\"barpolar\"}],\"carpet\":[{\"aaxis\":{\"endlinecolor\":\"#2a3f5f\",\"gridcolor\":\"white\",\"linecolor\":\"white\",\"minorgridcolor\":\"white\",\"startlinecolor\":\"#2a3f5f\"},\"baxis\":{\"endlinecolor\":\"#2a3f5f\",\"gridcolor\":\"white\",\"linecolor\":\"white\",\"minorgridcolor\":\"white\",\"startlinecolor\":\"#2a3f5f\"},\"type\":\"carpet\"}],\"choropleth\":[{\"colorbar\":{\"outlinewidth\":0,\"ticks\":\"\"},\"type\":\"choropleth\"}],\"contour\":[{\"colorbar\":{\"outlinewidth\":0,\"ticks\":\"\"},\"colorscale\":[[0.0,\"#0d0887\"],[0.1111111111111111,\"#46039f\"],[0.2222222222222222,\"#7201a8\"],[0.3333333333333333,\"#9c179e\"],[0.4444444444444444,\"#bd3786\"],[0.5555555555555556,\"#d8576b\"],[0.6666666666666666,\"#ed7953\"],[0.7777777777777778,\"#fb9f3a\"],[0.8888888888888888,\"#fdca26\"],[1.0,\"#f0f921\"]],\"type\":\"contour\"}],\"contourcarpet\":[{\"colorbar\":{\"outlinewidth\":0,\"ticks\":\"\"},\"type\":\"contourcarpet\"}],\"heatmap\":[{\"colorbar\":{\"outlinewidth\":0,\"ticks\":\"\"},\"colorscale\":[[0.0,\"#0d0887\"],[0.1111111111111111,\"#46039f\"],[0.2222222222222222,\"#7201a8\"],[0.3333333333333333,\"#9c179e\"],[0.4444444444444444,\"#bd3786\"],[0.5555555555555556,\"#d8576b\"],[0.6666666666666666,\"#ed7953\"],[0.7777777777777778,\"#fb9f3a\"],[0.8888888888888888,\"#fdca26\"],[1.0,\"#f0f921\"]],\"type\":\"heatmap\"}],\"heatmapgl\":[{\"colorbar\":{\"outlinewidth\":0,\"ticks\":\"\"},\"colorscale\":[[0.0,\"#0d0887\"],[0.1111111111111111,\"#46039f\"],[0.2222222222222222,\"#7201a8\"],[0.3333333333333333,\"#9c179e\"],[0.4444444444444444,\"#bd3786\"],[0.5555555555555556,\"#d8576b\"],[0.6666666666666666,\"#ed7953\"],[0.7777777777777778,\"#fb9f3a\"],[0.8888888888888888,\"#fdca26\"],[1.0,\"#f0f921\"]],\"type\":\"heatmapgl\"}],\"histogram\":[{\"marker\":{\"pattern\":{\"fillmode\":\"overlay\",\"size\":10,\"solidity\":0.2}},\"type\":\"histogram\"}],\"histogram2d\":[{\"colorbar\":{\"outlinewidth\":0,\"ticks\":\"\"},\"colorscale\":[[0.0,\"#0d0887\"],[0.1111111111111111,\"#46039f\"],[0.2222222222222222,\"#7201a8\"],[0.3333333333333333,\"#9c179e\"],[0.4444444444444444,\"#bd3786\"],[0.5555555555555556,\"#d8576b\"],[0.6666666666666666,\"#ed7953\"],[0.7777777777777778,\"#fb9f3a\"],[0.8888888888888888,\"#fdca26\"],[1.0,\"#f0f921\"]],\"type\":\"histogram2d\"}],\"histogram2dcontour\":[{\"colorbar\":{\"outlinewidth\":0,\"ticks\":\"\"},\"colorscale\":[[0.0,\"#0d0887\"],[0.1111111111111111,\"#46039f\"],[0.2222222222222222,\"#7201a8\"],[0.3333333333333333,\"#9c179e\"],[0.4444444444444444,\"#bd3786\"],[0.5555555555555556,\"#d8576b\"],[0.6666666666666666,\"#ed7953\"],[0.7777777777777778,\"#fb9f3a\"],[0.8888888888888888,\"#fdca26\"],[1.0,\"#f0f921\"]],\"type\":\"histogram2dcontour\"}],\"mesh3d\":[{\"colorbar\":{\"outlinewidth\":0,\"ticks\":\"\"},\"type\":\"mesh3d\"}],\"parcoords\":[{\"line\":{\"colorbar\":{\"outlinewidth\":0,\"ticks\":\"\"}},\"type\":\"parcoords\"}],\"pie\":[{\"automargin\":true,\"type\":\"pie\"}],\"scatter\":[{\"marker\":{\"colorbar\":{\"outlinewidth\":0,\"ticks\":\"\"}},\"type\":\"scatter\"}],\"scatter3d\":[{\"line\":{\"colorbar\":{\"outlinewidth\":0,\"ticks\":\"\"}},\"marker\":{\"colorbar\":{\"outlinewidth\":0,\"ticks\":\"\"}},\"type\":\"scatter3d\"}],\"scattercarpet\":[{\"marker\":{\"colorbar\":{\"outlinewidth\":0,\"ticks\":\"\"}},\"type\":\"scattercarpet\"}],\"scattergeo\":[{\"marker\":{\"colorbar\":{\"outlinewidth\":0,\"ticks\":\"\"}},\"type\":\"scattergeo\"}],\"scattergl\":[{\"marker\":{\"colorbar\":{\"outlinewidth\":0,\"ticks\":\"\"}},\"type\":\"scattergl\"}],\"scattermapbox\":[{\"marker\":{\"colorbar\":{\"outlinewidth\":0,\"ticks\":\"\"}},\"type\":\"scattermapbox\"}],\"scatterpolar\":[{\"marker\":{\"colorbar\":{\"outlinewidth\":0,\"ticks\":\"\"}},\"type\":\"scatterpolar\"}],\"scatterpolargl\":[{\"marker\":{\"colorbar\":{\"outlinewidth\":0,\"ticks\":\"\"}},\"type\":\"scatterpolargl\"}],\"scatterternary\":[{\"marker\":{\"colorbar\":{\"outlinewidth\":0,\"ticks\":\"\"}},\"type\":\"scatterternary\"}],\"surface\":[{\"colorbar\":{\"outlinewidth\":0,\"ticks\":\"\"},\"colorscale\":[[0.0,\"#0d0887\"],[0.1111111111111111,\"#46039f\"],[0.2222222222222222,\"#7201a8\"],[0.3333333333333333,\"#9c179e\"],[0.4444444444444444,\"#bd3786\"],[0.5555555555555556,\"#d8576b\"],[0.6666666666666666,\"#ed7953\"],[0.7777777777777778,\"#fb9f3a\"],[0.8888888888888888,\"#fdca26\"],[1.0,\"#f0f921\"]],\"type\":\"surface\"}],\"table\":[{\"cells\":{\"fill\":{\"color\":\"#EBF0F8\"},\"line\":{\"color\":\"white\"}},\"header\":{\"fill\":{\"color\":\"#C8D4E3\"},\"line\":{\"color\":\"white\"}},\"type\":\"table\"}]},\"layout\":{\"annotationdefaults\":{\"arrowcolor\":\"#2a3f5f\",\"arrowhead\":0,\"arrowwidth\":1},\"autotypenumbers\":\"strict\",\"coloraxis\":{\"colorbar\":{\"outlinewidth\":0,\"ticks\":\"\"}},\"colorscale\":{\"diverging\":[[0,\"#8e0152\"],[0.1,\"#c51b7d\"],[0.2,\"#de77ae\"],[0.3,\"#f1b6da\"],[0.4,\"#fde0ef\"],[0.5,\"#f7f7f7\"],[0.6,\"#e6f5d0\"],[0.7,\"#b8e186\"],[0.8,\"#7fbc41\"],[0.9,\"#4d9221\"],[1,\"#276419\"]],\"sequential\":[[0.0,\"#0d0887\"],[0.1111111111111111,\"#46039f\"],[0.2222222222222222,\"#7201a8\"],[0.3333333333333333,\"#9c179e\"],[0.4444444444444444,\"#bd3786\"],[0.5555555555555556,\"#d8576b\"],[0.6666666666666666,\"#ed7953\"],[0.7777777777777778,\"#fb9f3a\"],[0.8888888888888888,\"#fdca26\"],[1.0,\"#f0f921\"]],\"sequentialminus\":[[0.0,\"#0d0887\"],[0.1111111111111111,\"#46039f\"],[0.2222222222222222,\"#7201a8\"],[0.3333333333333333,\"#9c179e\"],[0.4444444444444444,\"#bd3786\"],[0.5555555555555556,\"#d8576b\"],[0.6666666666666666,\"#ed7953\"],[0.7777777777777778,\"#fb9f3a\"],[0.8888888888888888,\"#fdca26\"],[1.0,\"#f0f921\"]]},\"colorway\":[\"#636efa\",\"#EF553B\",\"#00cc96\",\"#ab63fa\",\"#FFA15A\",\"#19d3f3\",\"#FF6692\",\"#B6E880\",\"#FF97FF\",\"#FECB52\"],\"font\":{\"color\":\"#2a3f5f\"},\"geo\":{\"bgcolor\":\"white\",\"lakecolor\":\"white\",\"landcolor\":\"#E5ECF6\",\"showlakes\":true,\"showland\":true,\"subunitcolor\":\"white\"},\"hoverlabel\":{\"align\":\"left\"},\"hovermode\":\"closest\",\"mapbox\":{\"style\":\"light\"},\"paper_bgcolor\":\"white\",\"plot_bgcolor\":\"#E5ECF6\",\"polar\":{\"angularaxis\":{\"gridcolor\":\"white\",\"linecolor\":\"white\",\"ticks\":\"\"},\"bgcolor\":\"#E5ECF6\",\"radialaxis\":{\"gridcolor\":\"white\",\"linecolor\":\"white\",\"ticks\":\"\"}},\"scene\":{\"xaxis\":{\"backgroundcolor\":\"#E5ECF6\",\"gridcolor\":\"white\",\"gridwidth\":2,\"linecolor\":\"white\",\"showbackground\":true,\"ticks\":\"\",\"zerolinecolor\":\"white\"},\"yaxis\":{\"backgroundcolor\":\"#E5ECF6\",\"gridcolor\":\"white\",\"gridwidth\":2,\"linecolor\":\"white\",\"showbackground\":true,\"ticks\":\"\",\"zerolinecolor\":\"white\"},\"zaxis\":{\"backgroundcolor\":\"#E5ECF6\",\"gridcolor\":\"white\",\"gridwidth\":2,\"linecolor\":\"white\",\"showbackground\":true,\"ticks\":\"\",\"zerolinecolor\":\"white\"}},\"shapedefaults\":{\"line\":{\"color\":\"#2a3f5f\"}},\"ternary\":{\"aaxis\":{\"gridcolor\":\"white\",\"linecolor\":\"white\",\"ticks\":\"\"},\"baxis\":{\"gridcolor\":\"white\",\"linecolor\":\"white\",\"ticks\":\"\"},\"bgcolor\":\"#E5ECF6\",\"caxis\":{\"gridcolor\":\"white\",\"linecolor\":\"white\",\"ticks\":\"\"}},\"title\":{\"x\":0.05},\"xaxis\":{\"automargin\":true,\"gridcolor\":\"white\",\"linecolor\":\"white\",\"ticks\":\"\",\"title\":{\"standoff\":15},\"zerolinecolor\":\"white\",\"zerolinewidth\":2},\"yaxis\":{\"automargin\":true,\"gridcolor\":\"white\",\"linecolor\":\"white\",\"ticks\":\"\",\"title\":{\"standoff\":15},\"zerolinecolor\":\"white\",\"zerolinewidth\":2}}},\"title\":{\"text\":\"Event funnel of the share of users from each stage to the next\"},\"xaxis\":{\"anchor\":\"y\",\"domain\":[0.0,1.0],\"title\":{\"text\":\"user_id\"}},\"yaxis\":{\"anchor\":\"x\",\"domain\":[0.0,1.0],\"title\":{\"text\":\"event_name\"}}},                        {\"responsive\": true}                    ).then(function(){\n",
       "                            \n",
       "var gd = document.getElementById('208b7c53-325e-4766-b989-66b361405f08');\n",
       "var x = new MutationObserver(function (mutations, observer) {{\n",
       "        var display = window.getComputedStyle(gd).display;\n",
       "        if (!display || display === 'none') {{\n",
       "            console.log([gd, 'removed!']);\n",
       "            Plotly.purge(gd);\n",
       "            observer.disconnect();\n",
       "        }}\n",
       "}});\n",
       "\n",
       "// Listen for the removal of the full notebook cells\n",
       "var notebookContainer = gd.closest('#notebook-container');\n",
       "if (notebookContainer) {{\n",
       "    x.observe(notebookContainer, {childList: true});\n",
       "}}\n",
       "\n",
       "// Listen for the clearing of the current output cell\n",
       "var outputEl = gd.closest('.output');\n",
       "if (outputEl) {{\n",
       "    x.observe(outputEl, {childList: true});\n",
       "}}\n",
       "\n",
       "                        })                };                });            </script>        </div>"
      ]
     },
     "metadata": {},
     "output_type": "display_data"
    }
   ],
   "source": [
    "fig=px.funnel(funnel_by_groups[funnel_by_groups['event_name']!='Tutorial'],x='user_id',y='event_name', color='experiment_id')\n",
    "fig.update_layout(title=\"Event funnel of the share of users from each stage to the next\")\n",
    "fig.show()"
   ]
  },
  {
   "attachments": {
    "Bildschirmfoto%20vom%202021-09-07%2015-16-27.png": {
     "image/png": "[encoded data removed]"
    }
   },
   "cell_type": "markdown",
   "metadata": {},
   "source": [
    "![Bildschirmfoto%20vom%202021-09-07%2015-16-27.png](attachment:Bildschirmfoto%20vom%202021-09-07%2015-16-27.png)"
   ]
  },
  {
   "cell_type": "markdown",
   "metadata": {},
   "source": [
    "<a name=\"Step_4.5\"></a>\n",
    "**Step 4. Study the event funnel**  \n",
    " \n",
    "   • At what stage do you lose the most users?  \n",
    "   \n",
    "   Back to the table of contents [click here](#table_of_contents)"
   ]
  },
  {
   "cell_type": "markdown",
   "metadata": {},
   "source": [
    "From the first to the 2 stage we lose most of 3735 to 201, there are 3534 users who no longer participate.\n",
    "From the payment to the tutorial."
   ]
  },
  {
   "cell_type": "markdown",
   "metadata": {},
   "source": [
    "<a name=\"Step_4.6\"></a>\n",
    "**Step 4. Study the event funnel**  \n",
    "\n",
    "   • What share of users make the entire journey from their first event to payment? \n",
    "   \n",
    "   Back to the table of contents [click here](#table_of_contents)"
   ]
  },
  {
   "cell_type": "markdown",
   "metadata": {},
   "source": [
    "The first event is that the user appears on the main screen (MainScreenAppear) and the last is after the other stages that the user is successfully convinced and has understood how he purchases the product. Our last stage is the payment (PaymentScreenSuccessful). To answer the question we now have to see how many users we have at PaymentScreenSuccessful.it is also useful to see how many we lost from the first (MainScreenAppear) to the last (PaymentScreenSuccessful)for the individual experiment_id 246, 247 and 248. Let's subtract the number of the first from the last. The loss of users can have different causes. Reasons for loss could be, for example, not convinced or problems getting to the next step, product too expensive in the eyes of the user (not yet created enough value), etc. To find out the reason we would have to dig deeper. I think it makes sense to do this because it is an important point to know what is holding off potential customers from buying from us. In order to generate more capital here, perhaps through small improvements or bigger if they are worth it."
   ]
  },
  {
   "cell_type": "code",
   "execution_count": 151,
   "metadata": {},
   "outputs": [
    {
     "data": {
      "text/html": [
       "<div>\n",
       "<style scoped>\n",
       "    .dataframe tbody tr th:only-of-type {\n",
       "        vertical-align: middle;\n",
       "    }\n",
       "\n",
       "    .dataframe tbody tr th {\n",
       "        vertical-align: top;\n",
       "    }\n",
       "\n",
       "    .dataframe thead th {\n",
       "        text-align: right;\n",
       "    }\n",
       "</style>\n",
       "<table border=\"1\" class=\"dataframe\">\n",
       "  <thead>\n",
       "    <tr style=\"text-align: right;\">\n",
       "      <th></th>\n",
       "      <th>experiment_id</th>\n",
       "      <th>user_id</th>\n",
       "    </tr>\n",
       "  </thead>\n",
       "  <tbody>\n",
       "    <tr>\n",
       "      <th>0</th>\n",
       "      <td>246</td>\n",
       "      <td>2450</td>\n",
       "    </tr>\n",
       "    <tr>\n",
       "      <th>1</th>\n",
       "      <td>247</td>\n",
       "      <td>2479</td>\n",
       "    </tr>\n",
       "    <tr>\n",
       "      <th>2</th>\n",
       "      <td>248</td>\n",
       "      <td>2494</td>\n",
       "    </tr>\n",
       "  </tbody>\n",
       "</table>\n",
       "</div>"
      ],
      "text/plain": [
       "   experiment_id  user_id\n",
       "0            246     2450\n",
       "1            247     2479\n",
       "2            248     2494"
      ]
     },
     "execution_count": 151,
     "metadata": {},
     "output_type": "execute_result"
    }
   ],
   "source": [
    "journey_first=funnel_by_groups[funnel_by_groups['event_name']=='MainScreenAppear'].groupby(['experiment_id'])['user_id'].sum().reset_index()\n",
    "journey_first"
   ]
  },
  {
   "cell_type": "code",
   "execution_count": 152,
   "metadata": {},
   "outputs": [
    {
     "data": {
      "text/html": [
       "<div>\n",
       "<style scoped>\n",
       "    .dataframe tbody tr th:only-of-type {\n",
       "        vertical-align: middle;\n",
       "    }\n",
       "\n",
       "    .dataframe tbody tr th {\n",
       "        vertical-align: top;\n",
       "    }\n",
       "\n",
       "    .dataframe thead th {\n",
       "        text-align: right;\n",
       "    }\n",
       "</style>\n",
       "<table border=\"1\" class=\"dataframe\">\n",
       "  <thead>\n",
       "    <tr style=\"text-align: right;\">\n",
       "      <th></th>\n",
       "      <th>experiment_id</th>\n",
       "      <th>user_id</th>\n",
       "    </tr>\n",
       "  </thead>\n",
       "  <tbody>\n",
       "    <tr>\n",
       "      <th>0</th>\n",
       "      <td>246</td>\n",
       "      <td>1200</td>\n",
       "    </tr>\n",
       "    <tr>\n",
       "      <th>1</th>\n",
       "      <td>247</td>\n",
       "      <td>1158</td>\n",
       "    </tr>\n",
       "    <tr>\n",
       "      <th>2</th>\n",
       "      <td>248</td>\n",
       "      <td>1181</td>\n",
       "    </tr>\n",
       "  </tbody>\n",
       "</table>\n",
       "</div>"
      ],
      "text/plain": [
       "   experiment_id  user_id\n",
       "0            246     1200\n",
       "1            247     1158\n",
       "2            248     1181"
      ]
     },
     "execution_count": 152,
     "metadata": {},
     "output_type": "execute_result"
    }
   ],
   "source": [
    "journey_last=funnel_by_groups[funnel_by_groups['event_name']=='PaymentScreenSuccessful'].groupby(['experiment_id'])['user_id'].sum().reset_index()\n",
    "journey_last"
   ]
  },
  {
   "cell_type": "code",
   "execution_count": 153,
   "metadata": {},
   "outputs": [
    {
     "data": {
      "text/html": [
       "<div>\n",
       "<style scoped>\n",
       "    .dataframe tbody tr th:only-of-type {\n",
       "        vertical-align: middle;\n",
       "    }\n",
       "\n",
       "    .dataframe tbody tr th {\n",
       "        vertical-align: top;\n",
       "    }\n",
       "\n",
       "    .dataframe thead th {\n",
       "        text-align: right;\n",
       "    }\n",
       "</style>\n",
       "<table border=\"1\" class=\"dataframe\">\n",
       "  <thead>\n",
       "    <tr style=\"text-align: right;\">\n",
       "      <th></th>\n",
       "      <th>experiment_id</th>\n",
       "      <th>MainScreenAppear</th>\n",
       "      <th>PaymentScreenSuccessful</th>\n",
       "    </tr>\n",
       "  </thead>\n",
       "  <tbody>\n",
       "    <tr>\n",
       "      <th>0</th>\n",
       "      <td>246</td>\n",
       "      <td>2450</td>\n",
       "      <td>1200</td>\n",
       "    </tr>\n",
       "    <tr>\n",
       "      <th>1</th>\n",
       "      <td>247</td>\n",
       "      <td>2479</td>\n",
       "      <td>1158</td>\n",
       "    </tr>\n",
       "    <tr>\n",
       "      <th>2</th>\n",
       "      <td>248</td>\n",
       "      <td>2494</td>\n",
       "      <td>1181</td>\n",
       "    </tr>\n",
       "  </tbody>\n",
       "</table>\n",
       "</div>"
      ],
      "text/plain": [
       "   experiment_id  MainScreenAppear  PaymentScreenSuccessful\n",
       "0            246              2450                     1200\n",
       "1            247              2479                     1158\n",
       "2            248              2494                     1181"
      ]
     },
     "execution_count": 153,
     "metadata": {},
     "output_type": "execute_result"
    }
   ],
   "source": [
    "journey_first_to_last=journey_first.merge(journey_last, on='experiment_id')\n",
    "journey_first_to_last.rename(columns = {'user_id_x':'MainScreenAppear','user_id_y':'PaymentScreenSuccessful'}, inplace = True)\n",
    "journey_first_to_last"
   ]
  },
  {
   "cell_type": "code",
   "execution_count": 154,
   "metadata": {},
   "outputs": [
    {
     "data": {
      "text/html": [
       "<div>\n",
       "<style scoped>\n",
       "    .dataframe tbody tr th:only-of-type {\n",
       "        vertical-align: middle;\n",
       "    }\n",
       "\n",
       "    .dataframe tbody tr th {\n",
       "        vertical-align: top;\n",
       "    }\n",
       "\n",
       "    .dataframe thead th {\n",
       "        text-align: right;\n",
       "    }\n",
       "</style>\n",
       "<table border=\"1\" class=\"dataframe\">\n",
       "  <thead>\n",
       "    <tr style=\"text-align: right;\">\n",
       "      <th></th>\n",
       "      <th>experiment_id</th>\n",
       "      <th>MainScreenAppear</th>\n",
       "      <th>PaymentScreenSuccessful</th>\n",
       "      <th>users_we_have_lost</th>\n",
       "    </tr>\n",
       "  </thead>\n",
       "  <tbody>\n",
       "    <tr>\n",
       "      <th>0</th>\n",
       "      <td>246</td>\n",
       "      <td>2450</td>\n",
       "      <td>1200</td>\n",
       "      <td>1250</td>\n",
       "    </tr>\n",
       "    <tr>\n",
       "      <th>1</th>\n",
       "      <td>247</td>\n",
       "      <td>2479</td>\n",
       "      <td>1158</td>\n",
       "      <td>1321</td>\n",
       "    </tr>\n",
       "    <tr>\n",
       "      <th>2</th>\n",
       "      <td>248</td>\n",
       "      <td>2494</td>\n",
       "      <td>1181</td>\n",
       "      <td>1313</td>\n",
       "    </tr>\n",
       "  </tbody>\n",
       "</table>\n",
       "</div>"
      ],
      "text/plain": [
       "   experiment_id  MainScreenAppear  PaymentScreenSuccessful  \\\n",
       "0            246              2450                     1200   \n",
       "1            247              2479                     1158   \n",
       "2            248              2494                     1181   \n",
       "\n",
       "   users_we_have_lost  \n",
       "0                1250  \n",
       "1                1321  \n",
       "2                1313  "
      ]
     },
     "execution_count": 154,
     "metadata": {},
     "output_type": "execute_result"
    }
   ],
   "source": [
    "journey_first_to_last['users_we_have_lost']=journey_first_to_last['MainScreenAppear']-journey_first_to_last['PaymentScreenSuccessful']\n",
    "journey_first_to_last"
   ]
  },
  {
   "cell_type": "code",
   "execution_count": 155,
   "metadata": {},
   "outputs": [
    {
     "data": {
      "application/vnd.plotly.v1+json": {
       "config": {
        "plotlyServerURL": "https://plot.ly"
       },
       "data": [
        {
         "labels": [
          246,
          247,
          248
         ],
         "type": "pie",
         "values": [
          1250,
          1321,
          1313
         ]
        }
       ],
       "layout": {
        "template": {
         "data": {
          "bar": [
           {
            "error_x": {
             "color": "#2a3f5f"
            },
            "error_y": {
             "color": "#2a3f5f"
            },
            "marker": {
             "line": {
              "color": "#E5ECF6",
              "width": 0.5
             },
             "pattern": {
              "fillmode": "overlay",
              "size": 10,
              "solidity": 0.2
             }
            },
            "type": "bar"
           }
          ],
          "barpolar": [
           {
            "marker": {
             "line": {
              "color": "#E5ECF6",
              "width": 0.5
             },
             "pattern": {
              "fillmode": "overlay",
              "size": 10,
              "solidity": 0.2
             }
            },
            "type": "barpolar"
           }
          ],
          "carpet": [
           {
            "aaxis": {
             "endlinecolor": "#2a3f5f",
             "gridcolor": "white",
             "linecolor": "white",
             "minorgridcolor": "white",
             "startlinecolor": "#2a3f5f"
            },
            "baxis": {
             "endlinecolor": "#2a3f5f",
             "gridcolor": "white",
             "linecolor": "white",
             "minorgridcolor": "white",
             "startlinecolor": "#2a3f5f"
            },
            "type": "carpet"
           }
          ],
          "choropleth": [
           {
            "colorbar": {
             "outlinewidth": 0,
             "ticks": ""
            },
            "type": "choropleth"
           }
          ],
          "contour": [
           {
            "colorbar": {
             "outlinewidth": 0,
             "ticks": ""
            },
            "colorscale": [
             [
              0,
              "#0d0887"
             ],
             [
              0.1111111111111111,
              "#46039f"
             ],
             [
              0.2222222222222222,
              "#7201a8"
             ],
             [
              0.3333333333333333,
              "#9c179e"
             ],
             [
              0.4444444444444444,
              "#bd3786"
             ],
             [
              0.5555555555555556,
              "#d8576b"
             ],
             [
              0.6666666666666666,
              "#ed7953"
             ],
             [
              0.7777777777777778,
              "#fb9f3a"
             ],
             [
              0.8888888888888888,
              "#fdca26"
             ],
             [
              1,
              "#f0f921"
             ]
            ],
            "type": "contour"
           }
          ],
          "contourcarpet": [
           {
            "colorbar": {
             "outlinewidth": 0,
             "ticks": ""
            },
            "type": "contourcarpet"
           }
          ],
          "heatmap": [
           {
            "colorbar": {
             "outlinewidth": 0,
             "ticks": ""
            },
            "colorscale": [
             [
              0,
              "#0d0887"
             ],
             [
              0.1111111111111111,
              "#46039f"
             ],
             [
              0.2222222222222222,
              "#7201a8"
             ],
             [
              0.3333333333333333,
              "#9c179e"
             ],
             [
              0.4444444444444444,
              "#bd3786"
             ],
             [
              0.5555555555555556,
              "#d8576b"
             ],
             [
              0.6666666666666666,
              "#ed7953"
             ],
             [
              0.7777777777777778,
              "#fb9f3a"
             ],
             [
              0.8888888888888888,
              "#fdca26"
             ],
             [
              1,
              "#f0f921"
             ]
            ],
            "type": "heatmap"
           }
          ],
          "heatmapgl": [
           {
            "colorbar": {
             "outlinewidth": 0,
             "ticks": ""
            },
            "colorscale": [
             [
              0,
              "#0d0887"
             ],
             [
              0.1111111111111111,
              "#46039f"
             ],
             [
              0.2222222222222222,
              "#7201a8"
             ],
             [
              0.3333333333333333,
              "#9c179e"
             ],
             [
              0.4444444444444444,
              "#bd3786"
             ],
             [
              0.5555555555555556,
              "#d8576b"
             ],
             [
              0.6666666666666666,
              "#ed7953"
             ],
             [
              0.7777777777777778,
              "#fb9f3a"
             ],
             [
              0.8888888888888888,
              "#fdca26"
             ],
             [
              1,
              "#f0f921"
             ]
            ],
            "type": "heatmapgl"
           }
          ],
          "histogram": [
           {
            "marker": {
             "pattern": {
              "fillmode": "overlay",
              "size": 10,
              "solidity": 0.2
             }
            },
            "type": "histogram"
           }
          ],
          "histogram2d": [
           {
            "colorbar": {
             "outlinewidth": 0,
             "ticks": ""
            },
            "colorscale": [
             [
              0,
              "#0d0887"
             ],
             [
              0.1111111111111111,
              "#46039f"
             ],
             [
              0.2222222222222222,
              "#7201a8"
             ],
             [
              0.3333333333333333,
              "#9c179e"
             ],
             [
              0.4444444444444444,
              "#bd3786"
             ],
             [
              0.5555555555555556,
              "#d8576b"
             ],
             [
              0.6666666666666666,
              "#ed7953"
             ],
             [
              0.7777777777777778,
              "#fb9f3a"
             ],
             [
              0.8888888888888888,
              "#fdca26"
             ],
             [
              1,
              "#f0f921"
             ]
            ],
            "type": "histogram2d"
           }
          ],
          "histogram2dcontour": [
           {
            "colorbar": {
             "outlinewidth": 0,
             "ticks": ""
            },
            "colorscale": [
             [
              0,
              "#0d0887"
             ],
             [
              0.1111111111111111,
              "#46039f"
             ],
             [
              0.2222222222222222,
              "#7201a8"
             ],
             [
              0.3333333333333333,
              "#9c179e"
             ],
             [
              0.4444444444444444,
              "#bd3786"
             ],
             [
              0.5555555555555556,
              "#d8576b"
             ],
             [
              0.6666666666666666,
              "#ed7953"
             ],
             [
              0.7777777777777778,
              "#fb9f3a"
             ],
             [
              0.8888888888888888,
              "#fdca26"
             ],
             [
              1,
              "#f0f921"
             ]
            ],
            "type": "histogram2dcontour"
           }
          ],
          "mesh3d": [
           {
            "colorbar": {
             "outlinewidth": 0,
             "ticks": ""
            },
            "type": "mesh3d"
           }
          ],
          "parcoords": [
           {
            "line": {
             "colorbar": {
              "outlinewidth": 0,
              "ticks": ""
             }
            },
            "type": "parcoords"
           }
          ],
          "pie": [
           {
            "automargin": true,
            "type": "pie"
           }
          ],
          "scatter": [
           {
            "marker": {
             "colorbar": {
              "outlinewidth": 0,
              "ticks": ""
             }
            },
            "type": "scatter"
           }
          ],
          "scatter3d": [
           {
            "line": {
             "colorbar": {
              "outlinewidth": 0,
              "ticks": ""
             }
            },
            "marker": {
             "colorbar": {
              "outlinewidth": 0,
              "ticks": ""
             }
            },
            "type": "scatter3d"
           }
          ],
          "scattercarpet": [
           {
            "marker": {
             "colorbar": {
              "outlinewidth": 0,
              "ticks": ""
             }
            },
            "type": "scattercarpet"
           }
          ],
          "scattergeo": [
           {
            "marker": {
             "colorbar": {
              "outlinewidth": 0,
              "ticks": ""
             }
            },
            "type": "scattergeo"
           }
          ],
          "scattergl": [
           {
            "marker": {
             "colorbar": {
              "outlinewidth": 0,
              "ticks": ""
             }
            },
            "type": "scattergl"
           }
          ],
          "scattermapbox": [
           {
            "marker": {
             "colorbar": {
              "outlinewidth": 0,
              "ticks": ""
             }
            },
            "type": "scattermapbox"
           }
          ],
          "scatterpolar": [
           {
            "marker": {
             "colorbar": {
              "outlinewidth": 0,
              "ticks": ""
             }
            },
            "type": "scatterpolar"
           }
          ],
          "scatterpolargl": [
           {
            "marker": {
             "colorbar": {
              "outlinewidth": 0,
              "ticks": ""
             }
            },
            "type": "scatterpolargl"
           }
          ],
          "scatterternary": [
           {
            "marker": {
             "colorbar": {
              "outlinewidth": 0,
              "ticks": ""
             }
            },
            "type": "scatterternary"
           }
          ],
          "surface": [
           {
            "colorbar": {
             "outlinewidth": 0,
             "ticks": ""
            },
            "colorscale": [
             [
              0,
              "#0d0887"
             ],
             [
              0.1111111111111111,
              "#46039f"
             ],
             [
              0.2222222222222222,
              "#7201a8"
             ],
             [
              0.3333333333333333,
              "#9c179e"
             ],
             [
              0.4444444444444444,
              "#bd3786"
             ],
             [
              0.5555555555555556,
              "#d8576b"
             ],
             [
              0.6666666666666666,
              "#ed7953"
             ],
             [
              0.7777777777777778,
              "#fb9f3a"
             ],
             [
              0.8888888888888888,
              "#fdca26"
             ],
             [
              1,
              "#f0f921"
             ]
            ],
            "type": "surface"
           }
          ],
          "table": [
           {
            "cells": {
             "fill": {
              "color": "#EBF0F8"
             },
             "line": {
              "color": "white"
             }
            },
            "header": {
             "fill": {
              "color": "#C8D4E3"
             },
             "line": {
              "color": "white"
             }
            },
            "type": "table"
           }
          ]
         },
         "layout": {
          "annotationdefaults": {
           "arrowcolor": "#2a3f5f",
           "arrowhead": 0,
           "arrowwidth": 1
          },
          "autotypenumbers": "strict",
          "coloraxis": {
           "colorbar": {
            "outlinewidth": 0,
            "ticks": ""
           }
          },
          "colorscale": {
           "diverging": [
            [
             0,
             "#8e0152"
            ],
            [
             0.1,
             "#c51b7d"
            ],
            [
             0.2,
             "#de77ae"
            ],
            [
             0.3,
             "#f1b6da"
            ],
            [
             0.4,
             "#fde0ef"
            ],
            [
             0.5,
             "#f7f7f7"
            ],
            [
             0.6,
             "#e6f5d0"
            ],
            [
             0.7,
             "#b8e186"
            ],
            [
             0.8,
             "#7fbc41"
            ],
            [
             0.9,
             "#4d9221"
            ],
            [
             1,
             "#276419"
            ]
           ],
           "sequential": [
            [
             0,
             "#0d0887"
            ],
            [
             0.1111111111111111,
             "#46039f"
            ],
            [
             0.2222222222222222,
             "#7201a8"
            ],
            [
             0.3333333333333333,
             "#9c179e"
            ],
            [
             0.4444444444444444,
             "#bd3786"
            ],
            [
             0.5555555555555556,
             "#d8576b"
            ],
            [
             0.6666666666666666,
             "#ed7953"
            ],
            [
             0.7777777777777778,
             "#fb9f3a"
            ],
            [
             0.8888888888888888,
             "#fdca26"
            ],
            [
             1,
             "#f0f921"
            ]
           ],
           "sequentialminus": [
            [
             0,
             "#0d0887"
            ],
            [
             0.1111111111111111,
             "#46039f"
            ],
            [
             0.2222222222222222,
             "#7201a8"
            ],
            [
             0.3333333333333333,
             "#9c179e"
            ],
            [
             0.4444444444444444,
             "#bd3786"
            ],
            [
             0.5555555555555556,
             "#d8576b"
            ],
            [
             0.6666666666666666,
             "#ed7953"
            ],
            [
             0.7777777777777778,
             "#fb9f3a"
            ],
            [
             0.8888888888888888,
             "#fdca26"
            ],
            [
             1,
             "#f0f921"
            ]
           ]
          },
          "colorway": [
           "#636efa",
           "#EF553B",
           "#00cc96",
           "#ab63fa",
           "#FFA15A",
           "#19d3f3",
           "#FF6692",
           "#B6E880",
           "#FF97FF",
           "#FECB52"
          ],
          "font": {
           "color": "#2a3f5f"
          },
          "geo": {
           "bgcolor": "white",
           "lakecolor": "white",
           "landcolor": "#E5ECF6",
           "showlakes": true,
           "showland": true,
           "subunitcolor": "white"
          },
          "hoverlabel": {
           "align": "left"
          },
          "hovermode": "closest",
          "mapbox": {
           "style": "light"
          },
          "paper_bgcolor": "white",
          "plot_bgcolor": "#E5ECF6",
          "polar": {
           "angularaxis": {
            "gridcolor": "white",
            "linecolor": "white",
            "ticks": ""
           },
           "bgcolor": "#E5ECF6",
           "radialaxis": {
            "gridcolor": "white",
            "linecolor": "white",
            "ticks": ""
           }
          },
          "scene": {
           "xaxis": {
            "backgroundcolor": "#E5ECF6",
            "gridcolor": "white",
            "gridwidth": 2,
            "linecolor": "white",
            "showbackground": true,
            "ticks": "",
            "zerolinecolor": "white"
           },
           "yaxis": {
            "backgroundcolor": "#E5ECF6",
            "gridcolor": "white",
            "gridwidth": 2,
            "linecolor": "white",
            "showbackground": true,
            "ticks": "",
            "zerolinecolor": "white"
           },
           "zaxis": {
            "backgroundcolor": "#E5ECF6",
            "gridcolor": "white",
            "gridwidth": 2,
            "linecolor": "white",
            "showbackground": true,
            "ticks": "",
            "zerolinecolor": "white"
           }
          },
          "shapedefaults": {
           "line": {
            "color": "#2a3f5f"
           }
          },
          "ternary": {
           "aaxis": {
            "gridcolor": "white",
            "linecolor": "white",
            "ticks": ""
           },
           "baxis": {
            "gridcolor": "white",
            "linecolor": "white",
            "ticks": ""
           },
           "bgcolor": "#E5ECF6",
           "caxis": {
            "gridcolor": "white",
            "linecolor": "white",
            "ticks": ""
           }
          },
          "title": {
           "x": 0.05
          },
          "xaxis": {
           "automargin": true,
           "gridcolor": "white",
           "linecolor": "white",
           "ticks": "",
           "title": {
            "standoff": 15
           },
           "zerolinecolor": "white",
           "zerolinewidth": 2
          },
          "yaxis": {
           "automargin": true,
           "gridcolor": "white",
           "linecolor": "white",
           "ticks": "",
           "title": {
            "standoff": 15
           },
           "zerolinecolor": "white",
           "zerolinewidth": 2
          }
         }
        },
        "title": {
         "text": "Users that we have lost the entire journey from their first event to payment"
        }
       }
      },
      "text/html": [
       "<div>                            <div id=\"b87adb24-81ea-4932-9e9a-4504636a10f0\" class=\"plotly-graph-div\" style=\"height:525px; width:100%;\"></div>            <script type=\"text/javascript\">                require([\"plotly\"], function(Plotly) {                    window.PLOTLYENV=window.PLOTLYENV || {};                                    if (document.getElementById(\"b87adb24-81ea-4932-9e9a-4504636a10f0\")) {                    Plotly.newPlot(                        \"b87adb24-81ea-4932-9e9a-4504636a10f0\",                        [{\"labels\":[246,247,248],\"type\":\"pie\",\"values\":[1250,1321,1313]}],                        {\"template\":{\"data\":{\"bar\":[{\"error_x\":{\"color\":\"#2a3f5f\"},\"error_y\":{\"color\":\"#2a3f5f\"},\"marker\":{\"line\":{\"color\":\"#E5ECF6\",\"width\":0.5},\"pattern\":{\"fillmode\":\"overlay\",\"size\":10,\"solidity\":0.2}},\"type\":\"bar\"}],\"barpolar\":[{\"marker\":{\"line\":{\"color\":\"#E5ECF6\",\"width\":0.5},\"pattern\":{\"fillmode\":\"overlay\",\"size\":10,\"solidity\":0.2}},\"type\":\"barpolar\"}],\"carpet\":[{\"aaxis\":{\"endlinecolor\":\"#2a3f5f\",\"gridcolor\":\"white\",\"linecolor\":\"white\",\"minorgridcolor\":\"white\",\"startlinecolor\":\"#2a3f5f\"},\"baxis\":{\"endlinecolor\":\"#2a3f5f\",\"gridcolor\":\"white\",\"linecolor\":\"white\",\"minorgridcolor\":\"white\",\"startlinecolor\":\"#2a3f5f\"},\"type\":\"carpet\"}],\"choropleth\":[{\"colorbar\":{\"outlinewidth\":0,\"ticks\":\"\"},\"type\":\"choropleth\"}],\"contour\":[{\"colorbar\":{\"outlinewidth\":0,\"ticks\":\"\"},\"colorscale\":[[0.0,\"#0d0887\"],[0.1111111111111111,\"#46039f\"],[0.2222222222222222,\"#7201a8\"],[0.3333333333333333,\"#9c179e\"],[0.4444444444444444,\"#bd3786\"],[0.5555555555555556,\"#d8576b\"],[0.6666666666666666,\"#ed7953\"],[0.7777777777777778,\"#fb9f3a\"],[0.8888888888888888,\"#fdca26\"],[1.0,\"#f0f921\"]],\"type\":\"contour\"}],\"contourcarpet\":[{\"colorbar\":{\"outlinewidth\":0,\"ticks\":\"\"},\"type\":\"contourcarpet\"}],\"heatmap\":[{\"colorbar\":{\"outlinewidth\":0,\"ticks\":\"\"},\"colorscale\":[[0.0,\"#0d0887\"],[0.1111111111111111,\"#46039f\"],[0.2222222222222222,\"#7201a8\"],[0.3333333333333333,\"#9c179e\"],[0.4444444444444444,\"#bd3786\"],[0.5555555555555556,\"#d8576b\"],[0.6666666666666666,\"#ed7953\"],[0.7777777777777778,\"#fb9f3a\"],[0.8888888888888888,\"#fdca26\"],[1.0,\"#f0f921\"]],\"type\":\"heatmap\"}],\"heatmapgl\":[{\"colorbar\":{\"outlinewidth\":0,\"ticks\":\"\"},\"colorscale\":[[0.0,\"#0d0887\"],[0.1111111111111111,\"#46039f\"],[0.2222222222222222,\"#7201a8\"],[0.3333333333333333,\"#9c179e\"],[0.4444444444444444,\"#bd3786\"],[0.5555555555555556,\"#d8576b\"],[0.6666666666666666,\"#ed7953\"],[0.7777777777777778,\"#fb9f3a\"],[0.8888888888888888,\"#fdca26\"],[1.0,\"#f0f921\"]],\"type\":\"heatmapgl\"}],\"histogram\":[{\"marker\":{\"pattern\":{\"fillmode\":\"overlay\",\"size\":10,\"solidity\":0.2}},\"type\":\"histogram\"}],\"histogram2d\":[{\"colorbar\":{\"outlinewidth\":0,\"ticks\":\"\"},\"colorscale\":[[0.0,\"#0d0887\"],[0.1111111111111111,\"#46039f\"],[0.2222222222222222,\"#7201a8\"],[0.3333333333333333,\"#9c179e\"],[0.4444444444444444,\"#bd3786\"],[0.5555555555555556,\"#d8576b\"],[0.6666666666666666,\"#ed7953\"],[0.7777777777777778,\"#fb9f3a\"],[0.8888888888888888,\"#fdca26\"],[1.0,\"#f0f921\"]],\"type\":\"histogram2d\"}],\"histogram2dcontour\":[{\"colorbar\":{\"outlinewidth\":0,\"ticks\":\"\"},\"colorscale\":[[0.0,\"#0d0887\"],[0.1111111111111111,\"#46039f\"],[0.2222222222222222,\"#7201a8\"],[0.3333333333333333,\"#9c179e\"],[0.4444444444444444,\"#bd3786\"],[0.5555555555555556,\"#d8576b\"],[0.6666666666666666,\"#ed7953\"],[0.7777777777777778,\"#fb9f3a\"],[0.8888888888888888,\"#fdca26\"],[1.0,\"#f0f921\"]],\"type\":\"histogram2dcontour\"}],\"mesh3d\":[{\"colorbar\":{\"outlinewidth\":0,\"ticks\":\"\"},\"type\":\"mesh3d\"}],\"parcoords\":[{\"line\":{\"colorbar\":{\"outlinewidth\":0,\"ticks\":\"\"}},\"type\":\"parcoords\"}],\"pie\":[{\"automargin\":true,\"type\":\"pie\"}],\"scatter\":[{\"marker\":{\"colorbar\":{\"outlinewidth\":0,\"ticks\":\"\"}},\"type\":\"scatter\"}],\"scatter3d\":[{\"line\":{\"colorbar\":{\"outlinewidth\":0,\"ticks\":\"\"}},\"marker\":{\"colorbar\":{\"outlinewidth\":0,\"ticks\":\"\"}},\"type\":\"scatter3d\"}],\"scattercarpet\":[{\"marker\":{\"colorbar\":{\"outlinewidth\":0,\"ticks\":\"\"}},\"type\":\"scattercarpet\"}],\"scattergeo\":[{\"marker\":{\"colorbar\":{\"outlinewidth\":0,\"ticks\":\"\"}},\"type\":\"scattergeo\"}],\"scattergl\":[{\"marker\":{\"colorbar\":{\"outlinewidth\":0,\"ticks\":\"\"}},\"type\":\"scattergl\"}],\"scattermapbox\":[{\"marker\":{\"colorbar\":{\"outlinewidth\":0,\"ticks\":\"\"}},\"type\":\"scattermapbox\"}],\"scatterpolar\":[{\"marker\":{\"colorbar\":{\"outlinewidth\":0,\"ticks\":\"\"}},\"type\":\"scatterpolar\"}],\"scatterpolargl\":[{\"marker\":{\"colorbar\":{\"outlinewidth\":0,\"ticks\":\"\"}},\"type\":\"scatterpolargl\"}],\"scatterternary\":[{\"marker\":{\"colorbar\":{\"outlinewidth\":0,\"ticks\":\"\"}},\"type\":\"scatterternary\"}],\"surface\":[{\"colorbar\":{\"outlinewidth\":0,\"ticks\":\"\"},\"colorscale\":[[0.0,\"#0d0887\"],[0.1111111111111111,\"#46039f\"],[0.2222222222222222,\"#7201a8\"],[0.3333333333333333,\"#9c179e\"],[0.4444444444444444,\"#bd3786\"],[0.5555555555555556,\"#d8576b\"],[0.6666666666666666,\"#ed7953\"],[0.7777777777777778,\"#fb9f3a\"],[0.8888888888888888,\"#fdca26\"],[1.0,\"#f0f921\"]],\"type\":\"surface\"}],\"table\":[{\"cells\":{\"fill\":{\"color\":\"#EBF0F8\"},\"line\":{\"color\":\"white\"}},\"header\":{\"fill\":{\"color\":\"#C8D4E3\"},\"line\":{\"color\":\"white\"}},\"type\":\"table\"}]},\"layout\":{\"annotationdefaults\":{\"arrowcolor\":\"#2a3f5f\",\"arrowhead\":0,\"arrowwidth\":1},\"autotypenumbers\":\"strict\",\"coloraxis\":{\"colorbar\":{\"outlinewidth\":0,\"ticks\":\"\"}},\"colorscale\":{\"diverging\":[[0,\"#8e0152\"],[0.1,\"#c51b7d\"],[0.2,\"#de77ae\"],[0.3,\"#f1b6da\"],[0.4,\"#fde0ef\"],[0.5,\"#f7f7f7\"],[0.6,\"#e6f5d0\"],[0.7,\"#b8e186\"],[0.8,\"#7fbc41\"],[0.9,\"#4d9221\"],[1,\"#276419\"]],\"sequential\":[[0.0,\"#0d0887\"],[0.1111111111111111,\"#46039f\"],[0.2222222222222222,\"#7201a8\"],[0.3333333333333333,\"#9c179e\"],[0.4444444444444444,\"#bd3786\"],[0.5555555555555556,\"#d8576b\"],[0.6666666666666666,\"#ed7953\"],[0.7777777777777778,\"#fb9f3a\"],[0.8888888888888888,\"#fdca26\"],[1.0,\"#f0f921\"]],\"sequentialminus\":[[0.0,\"#0d0887\"],[0.1111111111111111,\"#46039f\"],[0.2222222222222222,\"#7201a8\"],[0.3333333333333333,\"#9c179e\"],[0.4444444444444444,\"#bd3786\"],[0.5555555555555556,\"#d8576b\"],[0.6666666666666666,\"#ed7953\"],[0.7777777777777778,\"#fb9f3a\"],[0.8888888888888888,\"#fdca26\"],[1.0,\"#f0f921\"]]},\"colorway\":[\"#636efa\",\"#EF553B\",\"#00cc96\",\"#ab63fa\",\"#FFA15A\",\"#19d3f3\",\"#FF6692\",\"#B6E880\",\"#FF97FF\",\"#FECB52\"],\"font\":{\"color\":\"#2a3f5f\"},\"geo\":{\"bgcolor\":\"white\",\"lakecolor\":\"white\",\"landcolor\":\"#E5ECF6\",\"showlakes\":true,\"showland\":true,\"subunitcolor\":\"white\"},\"hoverlabel\":{\"align\":\"left\"},\"hovermode\":\"closest\",\"mapbox\":{\"style\":\"light\"},\"paper_bgcolor\":\"white\",\"plot_bgcolor\":\"#E5ECF6\",\"polar\":{\"angularaxis\":{\"gridcolor\":\"white\",\"linecolor\":\"white\",\"ticks\":\"\"},\"bgcolor\":\"#E5ECF6\",\"radialaxis\":{\"gridcolor\":\"white\",\"linecolor\":\"white\",\"ticks\":\"\"}},\"scene\":{\"xaxis\":{\"backgroundcolor\":\"#E5ECF6\",\"gridcolor\":\"white\",\"gridwidth\":2,\"linecolor\":\"white\",\"showbackground\":true,\"ticks\":\"\",\"zerolinecolor\":\"white\"},\"yaxis\":{\"backgroundcolor\":\"#E5ECF6\",\"gridcolor\":\"white\",\"gridwidth\":2,\"linecolor\":\"white\",\"showbackground\":true,\"ticks\":\"\",\"zerolinecolor\":\"white\"},\"zaxis\":{\"backgroundcolor\":\"#E5ECF6\",\"gridcolor\":\"white\",\"gridwidth\":2,\"linecolor\":\"white\",\"showbackground\":true,\"ticks\":\"\",\"zerolinecolor\":\"white\"}},\"shapedefaults\":{\"line\":{\"color\":\"#2a3f5f\"}},\"ternary\":{\"aaxis\":{\"gridcolor\":\"white\",\"linecolor\":\"white\",\"ticks\":\"\"},\"baxis\":{\"gridcolor\":\"white\",\"linecolor\":\"white\",\"ticks\":\"\"},\"bgcolor\":\"#E5ECF6\",\"caxis\":{\"gridcolor\":\"white\",\"linecolor\":\"white\",\"ticks\":\"\"}},\"title\":{\"x\":0.05},\"xaxis\":{\"automargin\":true,\"gridcolor\":\"white\",\"linecolor\":\"white\",\"ticks\":\"\",\"title\":{\"standoff\":15},\"zerolinecolor\":\"white\",\"zerolinewidth\":2},\"yaxis\":{\"automargin\":true,\"gridcolor\":\"white\",\"linecolor\":\"white\",\"ticks\":\"\",\"title\":{\"standoff\":15},\"zerolinecolor\":\"white\",\"zerolinewidth\":2}}},\"title\":{\"text\":\"Users that we have lost the entire journey from their first event to payment\"}},                        {\"responsive\": true}                    ).then(function(){\n",
       "                            \n",
       "var gd = document.getElementById('b87adb24-81ea-4932-9e9a-4504636a10f0');\n",
       "var x = new MutationObserver(function (mutations, observer) {{\n",
       "        var display = window.getComputedStyle(gd).display;\n",
       "        if (!display || display === 'none') {{\n",
       "            console.log([gd, 'removed!']);\n",
       "            Plotly.purge(gd);\n",
       "            observer.disconnect();\n",
       "        }}\n",
       "}});\n",
       "\n",
       "// Listen for the removal of the full notebook cells\n",
       "var notebookContainer = gd.closest('#notebook-container');\n",
       "if (notebookContainer) {{\n",
       "    x.observe(notebookContainer, {childList: true});\n",
       "}}\n",
       "\n",
       "// Listen for the clearing of the current output cell\n",
       "var outputEl = gd.closest('.output');\n",
       "if (outputEl) {{\n",
       "    x.observe(outputEl, {childList: true});\n",
       "}}\n",
       "\n",
       "                        })                };                });            </script>        </div>"
      ]
     },
     "metadata": {},
     "output_type": "display_data"
    }
   ],
   "source": [
    "from plotly import graph_objects as go\n",
    "name_rest = journey_first_to_last['experiment_id']\n",
    "values = journey_first_to_last['users_we_have_lost']\n",
    "\n",
    "fig = go.Figure(data=[go.Pie(labels=name_rest, values=values)])\n",
    "fig.update_layout(title=\"Users that we have lost the entire journey from their first event to payment\")\n",
    "fig.show() "
   ]
  },
  {
   "attachments": {
    "Bildschirmfoto%20vom%202021-09-07%2015-17-10.png": {
     "image/png": "[encoded data removed]"
    }
   },
   "cell_type": "markdown",
   "metadata": {},
   "source": [
    "![Bildschirmfoto%20vom%202021-09-07%2015-17-10.png](attachment:Bildschirmfoto%20vom%202021-09-07%2015-17-10.png)"
   ]
  },
  {
   "cell_type": "code",
   "execution_count": 156,
   "metadata": {},
   "outputs": [
    {
     "data": {
      "text/html": [
       "<div>\n",
       "<style scoped>\n",
       "    .dataframe tbody tr th:only-of-type {\n",
       "        vertical-align: middle;\n",
       "    }\n",
       "\n",
       "    .dataframe tbody tr th {\n",
       "        vertical-align: top;\n",
       "    }\n",
       "\n",
       "    .dataframe thead th {\n",
       "        text-align: right;\n",
       "    }\n",
       "</style>\n",
       "<table border=\"1\" class=\"dataframe\">\n",
       "  <thead>\n",
       "    <tr style=\"text-align: right;\">\n",
       "      <th></th>\n",
       "      <th>experiment_id</th>\n",
       "      <th>MainScreenAppear</th>\n",
       "      <th>PaymentScreenSuccessful</th>\n",
       "      <th>users_we_have_lost</th>\n",
       "    </tr>\n",
       "  </thead>\n",
       "  <tbody>\n",
       "    <tr>\n",
       "      <th>0</th>\n",
       "      <td>246</td>\n",
       "      <td>2450</td>\n",
       "      <td>1200</td>\n",
       "      <td>1250</td>\n",
       "    </tr>\n",
       "    <tr>\n",
       "      <th>1</th>\n",
       "      <td>247</td>\n",
       "      <td>2479</td>\n",
       "      <td>1158</td>\n",
       "      <td>1321</td>\n",
       "    </tr>\n",
       "    <tr>\n",
       "      <th>2</th>\n",
       "      <td>248</td>\n",
       "      <td>2494</td>\n",
       "      <td>1181</td>\n",
       "      <td>1313</td>\n",
       "    </tr>\n",
       "  </tbody>\n",
       "</table>\n",
       "</div>"
      ],
      "text/plain": [
       "   experiment_id  MainScreenAppear  PaymentScreenSuccessful  \\\n",
       "0            246              2450                     1200   \n",
       "1            247              2479                     1158   \n",
       "2            248              2494                     1181   \n",
       "\n",
       "   users_we_have_lost  \n",
       "0                1250  \n",
       "1                1321  \n",
       "2                1313  "
      ]
     },
     "execution_count": 156,
     "metadata": {},
     "output_type": "execute_result"
    }
   ],
   "source": [
    "journey_first_to_last"
   ]
  },
  {
   "cell_type": "code",
   "execution_count": 157,
   "metadata": {},
   "outputs": [],
   "source": [
    "new_data = {'Experiment_id': ['246', '247', '248','246', '247', '248','246', '247', '248'],\n",
    "        'Stage': ['Users_appeared_on_main_screen -','Users_appeared_on_main_screen -',\n",
    "                  'Users_appeared_on_main_screen -', 'Users_make_entire_journey_until_payment', \n",
    "                  'Users_make_entire_journey_until_payment', 'Users_make_entire_journey_until_payment',\n",
    "                  '= Users_we_have_lost', '= Users_we_have_lost', '= Users_we_have_lost'],\n",
    "        'User_nomb': [2450, 2476, 2493, 1200, 1158, 1181, 1250, 1318, 1312]}"
   ]
  },
  {
   "cell_type": "code",
   "execution_count": 158,
   "metadata": {},
   "outputs": [
    {
     "data": {
      "text/html": [
       "<div>\n",
       "<style scoped>\n",
       "    .dataframe tbody tr th:only-of-type {\n",
       "        vertical-align: middle;\n",
       "    }\n",
       "\n",
       "    .dataframe tbody tr th {\n",
       "        vertical-align: top;\n",
       "    }\n",
       "\n",
       "    .dataframe thead th {\n",
       "        text-align: right;\n",
       "    }\n",
       "</style>\n",
       "<table border=\"1\" class=\"dataframe\">\n",
       "  <thead>\n",
       "    <tr style=\"text-align: right;\">\n",
       "      <th></th>\n",
       "      <th>Experiment_id</th>\n",
       "      <th>Stage</th>\n",
       "      <th>User_nomb</th>\n",
       "    </tr>\n",
       "  </thead>\n",
       "  <tbody>\n",
       "    <tr>\n",
       "      <th>0</th>\n",
       "      <td>246</td>\n",
       "      <td>Users_appeared_on_main_screen -</td>\n",
       "      <td>2450</td>\n",
       "    </tr>\n",
       "    <tr>\n",
       "      <th>1</th>\n",
       "      <td>247</td>\n",
       "      <td>Users_appeared_on_main_screen -</td>\n",
       "      <td>2476</td>\n",
       "    </tr>\n",
       "    <tr>\n",
       "      <th>2</th>\n",
       "      <td>248</td>\n",
       "      <td>Users_appeared_on_main_screen -</td>\n",
       "      <td>2493</td>\n",
       "    </tr>\n",
       "    <tr>\n",
       "      <th>3</th>\n",
       "      <td>246</td>\n",
       "      <td>Users_make_entire_journey_until_payment</td>\n",
       "      <td>1200</td>\n",
       "    </tr>\n",
       "    <tr>\n",
       "      <th>4</th>\n",
       "      <td>247</td>\n",
       "      <td>Users_make_entire_journey_until_payment</td>\n",
       "      <td>1158</td>\n",
       "    </tr>\n",
       "    <tr>\n",
       "      <th>5</th>\n",
       "      <td>248</td>\n",
       "      <td>Users_make_entire_journey_until_payment</td>\n",
       "      <td>1181</td>\n",
       "    </tr>\n",
       "    <tr>\n",
       "      <th>6</th>\n",
       "      <td>246</td>\n",
       "      <td>= Users_we_have_lost</td>\n",
       "      <td>1250</td>\n",
       "    </tr>\n",
       "    <tr>\n",
       "      <th>7</th>\n",
       "      <td>247</td>\n",
       "      <td>= Users_we_have_lost</td>\n",
       "      <td>1318</td>\n",
       "    </tr>\n",
       "    <tr>\n",
       "      <th>8</th>\n",
       "      <td>248</td>\n",
       "      <td>= Users_we_have_lost</td>\n",
       "      <td>1312</td>\n",
       "    </tr>\n",
       "  </tbody>\n",
       "</table>\n",
       "</div>"
      ],
      "text/plain": [
       "  Experiment_id                                    Stage  User_nomb\n",
       "0           246          Users_appeared_on_main_screen -       2450\n",
       "1           247          Users_appeared_on_main_screen -       2476\n",
       "2           248          Users_appeared_on_main_screen -       2493\n",
       "3           246  Users_make_entire_journey_until_payment       1200\n",
       "4           247  Users_make_entire_journey_until_payment       1158\n",
       "5           248  Users_make_entire_journey_until_payment       1181\n",
       "6           246                     = Users_we_have_lost       1250\n",
       "7           247                     = Users_we_have_lost       1318\n",
       "8           248                     = Users_we_have_lost       1312"
      ]
     },
     "execution_count": 158,
     "metadata": {},
     "output_type": "execute_result"
    }
   ],
   "source": [
    "df_ = pd.DataFrame(new_data)\n",
    "df_"
   ]
  },
  {
   "cell_type": "code",
   "execution_count": 159,
   "metadata": {},
   "outputs": [
    {
     "data": {
      "application/vnd.plotly.v1+json": {
       "config": {
        "plotlyServerURL": "https://plot.ly"
       },
       "data": [
        {
         "hovertemplate": "Experiment_id=246<br>User_nomb=%{x}<br>Stage=%{y}<extra></extra>",
         "legendgroup": "246",
         "marker": {
          "color": "#636efa"
         },
         "name": "246",
         "orientation": "h",
         "showlegend": true,
         "type": "funnel",
         "x": [
          2450,
          1200,
          1250
         ],
         "xaxis": "x",
         "y": [
          "Users_appeared_on_main_screen -",
          "Users_make_entire_journey_until_payment",
          "= Users_we_have_lost"
         ],
         "yaxis": "y"
        },
        {
         "hovertemplate": "Experiment_id=247<br>User_nomb=%{x}<br>Stage=%{y}<extra></extra>",
         "legendgroup": "247",
         "marker": {
          "color": "#EF553B"
         },
         "name": "247",
         "orientation": "h",
         "showlegend": true,
         "type": "funnel",
         "x": [
          2476,
          1158,
          1318
         ],
         "xaxis": "x",
         "y": [
          "Users_appeared_on_main_screen -",
          "Users_make_entire_journey_until_payment",
          "= Users_we_have_lost"
         ],
         "yaxis": "y"
        },
        {
         "hovertemplate": "Experiment_id=248<br>User_nomb=%{x}<br>Stage=%{y}<extra></extra>",
         "legendgroup": "248",
         "marker": {
          "color": "#00cc96"
         },
         "name": "248",
         "orientation": "h",
         "showlegend": true,
         "type": "funnel",
         "x": [
          2493,
          1181,
          1312
         ],
         "xaxis": "x",
         "y": [
          "Users_appeared_on_main_screen -",
          "Users_make_entire_journey_until_payment",
          "= Users_we_have_lost"
         ],
         "yaxis": "y"
        }
       ],
       "layout": {
        "legend": {
         "title": {
          "text": "Experiment_id"
         },
         "tracegroupgap": 0
        },
        "margin": {
         "t": 60
        },
        "template": {
         "data": {
          "bar": [
           {
            "error_x": {
             "color": "#2a3f5f"
            },
            "error_y": {
             "color": "#2a3f5f"
            },
            "marker": {
             "line": {
              "color": "#E5ECF6",
              "width": 0.5
             },
             "pattern": {
              "fillmode": "overlay",
              "size": 10,
              "solidity": 0.2
             }
            },
            "type": "bar"
           }
          ],
          "barpolar": [
           {
            "marker": {
             "line": {
              "color": "#E5ECF6",
              "width": 0.5
             },
             "pattern": {
              "fillmode": "overlay",
              "size": 10,
              "solidity": 0.2
             }
            },
            "type": "barpolar"
           }
          ],
          "carpet": [
           {
            "aaxis": {
             "endlinecolor": "#2a3f5f",
             "gridcolor": "white",
             "linecolor": "white",
             "minorgridcolor": "white",
             "startlinecolor": "#2a3f5f"
            },
            "baxis": {
             "endlinecolor": "#2a3f5f",
             "gridcolor": "white",
             "linecolor": "white",
             "minorgridcolor": "white",
             "startlinecolor": "#2a3f5f"
            },
            "type": "carpet"
           }
          ],
          "choropleth": [
           {
            "colorbar": {
             "outlinewidth": 0,
             "ticks": ""
            },
            "type": "choropleth"
           }
          ],
          "contour": [
           {
            "colorbar": {
             "outlinewidth": 0,
             "ticks": ""
            },
            "colorscale": [
             [
              0,
              "#0d0887"
             ],
             [
              0.1111111111111111,
              "#46039f"
             ],
             [
              0.2222222222222222,
              "#7201a8"
             ],
             [
              0.3333333333333333,
              "#9c179e"
             ],
             [
              0.4444444444444444,
              "#bd3786"
             ],
             [
              0.5555555555555556,
              "#d8576b"
             ],
             [
              0.6666666666666666,
              "#ed7953"
             ],
             [
              0.7777777777777778,
              "#fb9f3a"
             ],
             [
              0.8888888888888888,
              "#fdca26"
             ],
             [
              1,
              "#f0f921"
             ]
            ],
            "type": "contour"
           }
          ],
          "contourcarpet": [
           {
            "colorbar": {
             "outlinewidth": 0,
             "ticks": ""
            },
            "type": "contourcarpet"
           }
          ],
          "heatmap": [
           {
            "colorbar": {
             "outlinewidth": 0,
             "ticks": ""
            },
            "colorscale": [
             [
              0,
              "#0d0887"
             ],
             [
              0.1111111111111111,
              "#46039f"
             ],
             [
              0.2222222222222222,
              "#7201a8"
             ],
             [
              0.3333333333333333,
              "#9c179e"
             ],
             [
              0.4444444444444444,
              "#bd3786"
             ],
             [
              0.5555555555555556,
              "#d8576b"
             ],
             [
              0.6666666666666666,
              "#ed7953"
             ],
             [
              0.7777777777777778,
              "#fb9f3a"
             ],
             [
              0.8888888888888888,
              "#fdca26"
             ],
             [
              1,
              "#f0f921"
             ]
            ],
            "type": "heatmap"
           }
          ],
          "heatmapgl": [
           {
            "colorbar": {
             "outlinewidth": 0,
             "ticks": ""
            },
            "colorscale": [
             [
              0,
              "#0d0887"
             ],
             [
              0.1111111111111111,
              "#46039f"
             ],
             [
              0.2222222222222222,
              "#7201a8"
             ],
             [
              0.3333333333333333,
              "#9c179e"
             ],
             [
              0.4444444444444444,
              "#bd3786"
             ],
             [
              0.5555555555555556,
              "#d8576b"
             ],
             [
              0.6666666666666666,
              "#ed7953"
             ],
             [
              0.7777777777777778,
              "#fb9f3a"
             ],
             [
              0.8888888888888888,
              "#fdca26"
             ],
             [
              1,
              "#f0f921"
             ]
            ],
            "type": "heatmapgl"
           }
          ],
          "histogram": [
           {
            "marker": {
             "pattern": {
              "fillmode": "overlay",
              "size": 10,
              "solidity": 0.2
             }
            },
            "type": "histogram"
           }
          ],
          "histogram2d": [
           {
            "colorbar": {
             "outlinewidth": 0,
             "ticks": ""
            },
            "colorscale": [
             [
              0,
              "#0d0887"
             ],
             [
              0.1111111111111111,
              "#46039f"
             ],
             [
              0.2222222222222222,
              "#7201a8"
             ],
             [
              0.3333333333333333,
              "#9c179e"
             ],
             [
              0.4444444444444444,
              "#bd3786"
             ],
             [
              0.5555555555555556,
              "#d8576b"
             ],
             [
              0.6666666666666666,
              "#ed7953"
             ],
             [
              0.7777777777777778,
              "#fb9f3a"
             ],
             [
              0.8888888888888888,
              "#fdca26"
             ],
             [
              1,
              "#f0f921"
             ]
            ],
            "type": "histogram2d"
           }
          ],
          "histogram2dcontour": [
           {
            "colorbar": {
             "outlinewidth": 0,
             "ticks": ""
            },
            "colorscale": [
             [
              0,
              "#0d0887"
             ],
             [
              0.1111111111111111,
              "#46039f"
             ],
             [
              0.2222222222222222,
              "#7201a8"
             ],
             [
              0.3333333333333333,
              "#9c179e"
             ],
             [
              0.4444444444444444,
              "#bd3786"
             ],
             [
              0.5555555555555556,
              "#d8576b"
             ],
             [
              0.6666666666666666,
              "#ed7953"
             ],
             [
              0.7777777777777778,
              "#fb9f3a"
             ],
             [
              0.8888888888888888,
              "#fdca26"
             ],
             [
              1,
              "#f0f921"
             ]
            ],
            "type": "histogram2dcontour"
           }
          ],
          "mesh3d": [
           {
            "colorbar": {
             "outlinewidth": 0,
             "ticks": ""
            },
            "type": "mesh3d"
           }
          ],
          "parcoords": [
           {
            "line": {
             "colorbar": {
              "outlinewidth": 0,
              "ticks": ""
             }
            },
            "type": "parcoords"
           }
          ],
          "pie": [
           {
            "automargin": true,
            "type": "pie"
           }
          ],
          "scatter": [
           {
            "marker": {
             "colorbar": {
              "outlinewidth": 0,
              "ticks": ""
             }
            },
            "type": "scatter"
           }
          ],
          "scatter3d": [
           {
            "line": {
             "colorbar": {
              "outlinewidth": 0,
              "ticks": ""
             }
            },
            "marker": {
             "colorbar": {
              "outlinewidth": 0,
              "ticks": ""
             }
            },
            "type": "scatter3d"
           }
          ],
          "scattercarpet": [
           {
            "marker": {
             "colorbar": {
              "outlinewidth": 0,
              "ticks": ""
             }
            },
            "type": "scattercarpet"
           }
          ],
          "scattergeo": [
           {
            "marker": {
             "colorbar": {
              "outlinewidth": 0,
              "ticks": ""
             }
            },
            "type": "scattergeo"
           }
          ],
          "scattergl": [
           {
            "marker": {
             "colorbar": {
              "outlinewidth": 0,
              "ticks": ""
             }
            },
            "type": "scattergl"
           }
          ],
          "scattermapbox": [
           {
            "marker": {
             "colorbar": {
              "outlinewidth": 0,
              "ticks": ""
             }
            },
            "type": "scattermapbox"
           }
          ],
          "scatterpolar": [
           {
            "marker": {
             "colorbar": {
              "outlinewidth": 0,
              "ticks": ""
             }
            },
            "type": "scatterpolar"
           }
          ],
          "scatterpolargl": [
           {
            "marker": {
             "colorbar": {
              "outlinewidth": 0,
              "ticks": ""
             }
            },
            "type": "scatterpolargl"
           }
          ],
          "scatterternary": [
           {
            "marker": {
             "colorbar": {
              "outlinewidth": 0,
              "ticks": ""
             }
            },
            "type": "scatterternary"
           }
          ],
          "surface": [
           {
            "colorbar": {
             "outlinewidth": 0,
             "ticks": ""
            },
            "colorscale": [
             [
              0,
              "#0d0887"
             ],
             [
              0.1111111111111111,
              "#46039f"
             ],
             [
              0.2222222222222222,
              "#7201a8"
             ],
             [
              0.3333333333333333,
              "#9c179e"
             ],
             [
              0.4444444444444444,
              "#bd3786"
             ],
             [
              0.5555555555555556,
              "#d8576b"
             ],
             [
              0.6666666666666666,
              "#ed7953"
             ],
             [
              0.7777777777777778,
              "#fb9f3a"
             ],
             [
              0.8888888888888888,
              "#fdca26"
             ],
             [
              1,
              "#f0f921"
             ]
            ],
            "type": "surface"
           }
          ],
          "table": [
           {
            "cells": {
             "fill": {
              "color": "#EBF0F8"
             },
             "line": {
              "color": "white"
             }
            },
            "header": {
             "fill": {
              "color": "#C8D4E3"
             },
             "line": {
              "color": "white"
             }
            },
            "type": "table"
           }
          ]
         },
         "layout": {
          "annotationdefaults": {
           "arrowcolor": "#2a3f5f",
           "arrowhead": 0,
           "arrowwidth": 1
          },
          "autotypenumbers": "strict",
          "coloraxis": {
           "colorbar": {
            "outlinewidth": 0,
            "ticks": ""
           }
          },
          "colorscale": {
           "diverging": [
            [
             0,
             "#8e0152"
            ],
            [
             0.1,
             "#c51b7d"
            ],
            [
             0.2,
             "#de77ae"
            ],
            [
             0.3,
             "#f1b6da"
            ],
            [
             0.4,
             "#fde0ef"
            ],
            [
             0.5,
             "#f7f7f7"
            ],
            [
             0.6,
             "#e6f5d0"
            ],
            [
             0.7,
             "#b8e186"
            ],
            [
             0.8,
             "#7fbc41"
            ],
            [
             0.9,
             "#4d9221"
            ],
            [
             1,
             "#276419"
            ]
           ],
           "sequential": [
            [
             0,
             "#0d0887"
            ],
            [
             0.1111111111111111,
             "#46039f"
            ],
            [
             0.2222222222222222,
             "#7201a8"
            ],
            [
             0.3333333333333333,
             "#9c179e"
            ],
            [
             0.4444444444444444,
             "#bd3786"
            ],
            [
             0.5555555555555556,
             "#d8576b"
            ],
            [
             0.6666666666666666,
             "#ed7953"
            ],
            [
             0.7777777777777778,
             "#fb9f3a"
            ],
            [
             0.8888888888888888,
             "#fdca26"
            ],
            [
             1,
             "#f0f921"
            ]
           ],
           "sequentialminus": [
            [
             0,
             "#0d0887"
            ],
            [
             0.1111111111111111,
             "#46039f"
            ],
            [
             0.2222222222222222,
             "#7201a8"
            ],
            [
             0.3333333333333333,
             "#9c179e"
            ],
            [
             0.4444444444444444,
             "#bd3786"
            ],
            [
             0.5555555555555556,
             "#d8576b"
            ],
            [
             0.6666666666666666,
             "#ed7953"
            ],
            [
             0.7777777777777778,
             "#fb9f3a"
            ],
            [
             0.8888888888888888,
             "#fdca26"
            ],
            [
             1,
             "#f0f921"
            ]
           ]
          },
          "colorway": [
           "#636efa",
           "#EF553B",
           "#00cc96",
           "#ab63fa",
           "#FFA15A",
           "#19d3f3",
           "#FF6692",
           "#B6E880",
           "#FF97FF",
           "#FECB52"
          ],
          "font": {
           "color": "#2a3f5f"
          },
          "geo": {
           "bgcolor": "white",
           "lakecolor": "white",
           "landcolor": "#E5ECF6",
           "showlakes": true,
           "showland": true,
           "subunitcolor": "white"
          },
          "hoverlabel": {
           "align": "left"
          },
          "hovermode": "closest",
          "mapbox": {
           "style": "light"
          },
          "paper_bgcolor": "white",
          "plot_bgcolor": "#E5ECF6",
          "polar": {
           "angularaxis": {
            "gridcolor": "white",
            "linecolor": "white",
            "ticks": ""
           },
           "bgcolor": "#E5ECF6",
           "radialaxis": {
            "gridcolor": "white",
            "linecolor": "white",
            "ticks": ""
           }
          },
          "scene": {
           "xaxis": {
            "backgroundcolor": "#E5ECF6",
            "gridcolor": "white",
            "gridwidth": 2,
            "linecolor": "white",
            "showbackground": true,
            "ticks": "",
            "zerolinecolor": "white"
           },
           "yaxis": {
            "backgroundcolor": "#E5ECF6",
            "gridcolor": "white",
            "gridwidth": 2,
            "linecolor": "white",
            "showbackground": true,
            "ticks": "",
            "zerolinecolor": "white"
           },
           "zaxis": {
            "backgroundcolor": "#E5ECF6",
            "gridcolor": "white",
            "gridwidth": 2,
            "linecolor": "white",
            "showbackground": true,
            "ticks": "",
            "zerolinecolor": "white"
           }
          },
          "shapedefaults": {
           "line": {
            "color": "#2a3f5f"
           }
          },
          "ternary": {
           "aaxis": {
            "gridcolor": "white",
            "linecolor": "white",
            "ticks": ""
           },
           "baxis": {
            "gridcolor": "white",
            "linecolor": "white",
            "ticks": ""
           },
           "bgcolor": "#E5ECF6",
           "caxis": {
            "gridcolor": "white",
            "linecolor": "white",
            "ticks": ""
           }
          },
          "title": {
           "x": 0.05
          },
          "xaxis": {
           "automargin": true,
           "gridcolor": "white",
           "linecolor": "white",
           "ticks": "",
           "title": {
            "standoff": 15
           },
           "zerolinecolor": "white",
           "zerolinewidth": 2
          },
          "yaxis": {
           "automargin": true,
           "gridcolor": "white",
           "linecolor": "white",
           "ticks": "",
           "title": {
            "standoff": 15
           },
           "zerolinecolor": "white",
           "zerolinewidth": 2
          }
         }
        },
        "title": {
         "text": "Users that we have lost the entire journey from their first event to payment"
        },
        "xaxis": {
         "anchor": "y",
         "domain": [
          0,
          1
         ],
         "title": {
          "text": "User_nomb"
         }
        },
        "yaxis": {
         "anchor": "x",
         "domain": [
          0,
          1
         ],
         "title": {
          "text": "Stage"
         }
        }
       }
      },
      "text/html": [
       "<div>                            <div id=\"a5deda1b-530e-4234-baf0-e7cd6a2bc120\" class=\"plotly-graph-div\" style=\"height:525px; width:100%;\"></div>            <script type=\"text/javascript\">                require([\"plotly\"], function(Plotly) {                    window.PLOTLYENV=window.PLOTLYENV || {};                                    if (document.getElementById(\"a5deda1b-530e-4234-baf0-e7cd6a2bc120\")) {                    Plotly.newPlot(                        \"a5deda1b-530e-4234-baf0-e7cd6a2bc120\",                        [{\"hovertemplate\":\"Experiment_id=246<br>User_nomb=%{x}<br>Stage=%{y}<extra></extra>\",\"legendgroup\":\"246\",\"marker\":{\"color\":\"#636efa\"},\"name\":\"246\",\"orientation\":\"h\",\"showlegend\":true,\"type\":\"funnel\",\"x\":[2450,1200,1250],\"xaxis\":\"x\",\"y\":[\"Users_appeared_on_main_screen -\",\"Users_make_entire_journey_until_payment\",\"= Users_we_have_lost\"],\"yaxis\":\"y\"},{\"hovertemplate\":\"Experiment_id=247<br>User_nomb=%{x}<br>Stage=%{y}<extra></extra>\",\"legendgroup\":\"247\",\"marker\":{\"color\":\"#EF553B\"},\"name\":\"247\",\"orientation\":\"h\",\"showlegend\":true,\"type\":\"funnel\",\"x\":[2476,1158,1318],\"xaxis\":\"x\",\"y\":[\"Users_appeared_on_main_screen -\",\"Users_make_entire_journey_until_payment\",\"= Users_we_have_lost\"],\"yaxis\":\"y\"},{\"hovertemplate\":\"Experiment_id=248<br>User_nomb=%{x}<br>Stage=%{y}<extra></extra>\",\"legendgroup\":\"248\",\"marker\":{\"color\":\"#00cc96\"},\"name\":\"248\",\"orientation\":\"h\",\"showlegend\":true,\"type\":\"funnel\",\"x\":[2493,1181,1312],\"xaxis\":\"x\",\"y\":[\"Users_appeared_on_main_screen -\",\"Users_make_entire_journey_until_payment\",\"= Users_we_have_lost\"],\"yaxis\":\"y\"}],                        {\"legend\":{\"title\":{\"text\":\"Experiment_id\"},\"tracegroupgap\":0},\"margin\":{\"t\":60},\"template\":{\"data\":{\"bar\":[{\"error_x\":{\"color\":\"#2a3f5f\"},\"error_y\":{\"color\":\"#2a3f5f\"},\"marker\":{\"line\":{\"color\":\"#E5ECF6\",\"width\":0.5},\"pattern\":{\"fillmode\":\"overlay\",\"size\":10,\"solidity\":0.2}},\"type\":\"bar\"}],\"barpolar\":[{\"marker\":{\"line\":{\"color\":\"#E5ECF6\",\"width\":0.5},\"pattern\":{\"fillmode\":\"overlay\",\"size\":10,\"solidity\":0.2}},\"type\":\"barpolar\"}],\"carpet\":[{\"aaxis\":{\"endlinecolor\":\"#2a3f5f\",\"gridcolor\":\"white\",\"linecolor\":\"white\",\"minorgridcolor\":\"white\",\"startlinecolor\":\"#2a3f5f\"},\"baxis\":{\"endlinecolor\":\"#2a3f5f\",\"gridcolor\":\"white\",\"linecolor\":\"white\",\"minorgridcolor\":\"white\",\"startlinecolor\":\"#2a3f5f\"},\"type\":\"carpet\"}],\"choropleth\":[{\"colorbar\":{\"outlinewidth\":0,\"ticks\":\"\"},\"type\":\"choropleth\"}],\"contour\":[{\"colorbar\":{\"outlinewidth\":0,\"ticks\":\"\"},\"colorscale\":[[0.0,\"#0d0887\"],[0.1111111111111111,\"#46039f\"],[0.2222222222222222,\"#7201a8\"],[0.3333333333333333,\"#9c179e\"],[0.4444444444444444,\"#bd3786\"],[0.5555555555555556,\"#d8576b\"],[0.6666666666666666,\"#ed7953\"],[0.7777777777777778,\"#fb9f3a\"],[0.8888888888888888,\"#fdca26\"],[1.0,\"#f0f921\"]],\"type\":\"contour\"}],\"contourcarpet\":[{\"colorbar\":{\"outlinewidth\":0,\"ticks\":\"\"},\"type\":\"contourcarpet\"}],\"heatmap\":[{\"colorbar\":{\"outlinewidth\":0,\"ticks\":\"\"},\"colorscale\":[[0.0,\"#0d0887\"],[0.1111111111111111,\"#46039f\"],[0.2222222222222222,\"#7201a8\"],[0.3333333333333333,\"#9c179e\"],[0.4444444444444444,\"#bd3786\"],[0.5555555555555556,\"#d8576b\"],[0.6666666666666666,\"#ed7953\"],[0.7777777777777778,\"#fb9f3a\"],[0.8888888888888888,\"#fdca26\"],[1.0,\"#f0f921\"]],\"type\":\"heatmap\"}],\"heatmapgl\":[{\"colorbar\":{\"outlinewidth\":0,\"ticks\":\"\"},\"colorscale\":[[0.0,\"#0d0887\"],[0.1111111111111111,\"#46039f\"],[0.2222222222222222,\"#7201a8\"],[0.3333333333333333,\"#9c179e\"],[0.4444444444444444,\"#bd3786\"],[0.5555555555555556,\"#d8576b\"],[0.6666666666666666,\"#ed7953\"],[0.7777777777777778,\"#fb9f3a\"],[0.8888888888888888,\"#fdca26\"],[1.0,\"#f0f921\"]],\"type\":\"heatmapgl\"}],\"histogram\":[{\"marker\":{\"pattern\":{\"fillmode\":\"overlay\",\"size\":10,\"solidity\":0.2}},\"type\":\"histogram\"}],\"histogram2d\":[{\"colorbar\":{\"outlinewidth\":0,\"ticks\":\"\"},\"colorscale\":[[0.0,\"#0d0887\"],[0.1111111111111111,\"#46039f\"],[0.2222222222222222,\"#7201a8\"],[0.3333333333333333,\"#9c179e\"],[0.4444444444444444,\"#bd3786\"],[0.5555555555555556,\"#d8576b\"],[0.6666666666666666,\"#ed7953\"],[0.7777777777777778,\"#fb9f3a\"],[0.8888888888888888,\"#fdca26\"],[1.0,\"#f0f921\"]],\"type\":\"histogram2d\"}],\"histogram2dcontour\":[{\"colorbar\":{\"outlinewidth\":0,\"ticks\":\"\"},\"colorscale\":[[0.0,\"#0d0887\"],[0.1111111111111111,\"#46039f\"],[0.2222222222222222,\"#7201a8\"],[0.3333333333333333,\"#9c179e\"],[0.4444444444444444,\"#bd3786\"],[0.5555555555555556,\"#d8576b\"],[0.6666666666666666,\"#ed7953\"],[0.7777777777777778,\"#fb9f3a\"],[0.8888888888888888,\"#fdca26\"],[1.0,\"#f0f921\"]],\"type\":\"histogram2dcontour\"}],\"mesh3d\":[{\"colorbar\":{\"outlinewidth\":0,\"ticks\":\"\"},\"type\":\"mesh3d\"}],\"parcoords\":[{\"line\":{\"colorbar\":{\"outlinewidth\":0,\"ticks\":\"\"}},\"type\":\"parcoords\"}],\"pie\":[{\"automargin\":true,\"type\":\"pie\"}],\"scatter\":[{\"marker\":{\"colorbar\":{\"outlinewidth\":0,\"ticks\":\"\"}},\"type\":\"scatter\"}],\"scatter3d\":[{\"line\":{\"colorbar\":{\"outlinewidth\":0,\"ticks\":\"\"}},\"marker\":{\"colorbar\":{\"outlinewidth\":0,\"ticks\":\"\"}},\"type\":\"scatter3d\"}],\"scattercarpet\":[{\"marker\":{\"colorbar\":{\"outlinewidth\":0,\"ticks\":\"\"}},\"type\":\"scattercarpet\"}],\"scattergeo\":[{\"marker\":{\"colorbar\":{\"outlinewidth\":0,\"ticks\":\"\"}},\"type\":\"scattergeo\"}],\"scattergl\":[{\"marker\":{\"colorbar\":{\"outlinewidth\":0,\"ticks\":\"\"}},\"type\":\"scattergl\"}],\"scattermapbox\":[{\"marker\":{\"colorbar\":{\"outlinewidth\":0,\"ticks\":\"\"}},\"type\":\"scattermapbox\"}],\"scatterpolar\":[{\"marker\":{\"colorbar\":{\"outlinewidth\":0,\"ticks\":\"\"}},\"type\":\"scatterpolar\"}],\"scatterpolargl\":[{\"marker\":{\"colorbar\":{\"outlinewidth\":0,\"ticks\":\"\"}},\"type\":\"scatterpolargl\"}],\"scatterternary\":[{\"marker\":{\"colorbar\":{\"outlinewidth\":0,\"ticks\":\"\"}},\"type\":\"scatterternary\"}],\"surface\":[{\"colorbar\":{\"outlinewidth\":0,\"ticks\":\"\"},\"colorscale\":[[0.0,\"#0d0887\"],[0.1111111111111111,\"#46039f\"],[0.2222222222222222,\"#7201a8\"],[0.3333333333333333,\"#9c179e\"],[0.4444444444444444,\"#bd3786\"],[0.5555555555555556,\"#d8576b\"],[0.6666666666666666,\"#ed7953\"],[0.7777777777777778,\"#fb9f3a\"],[0.8888888888888888,\"#fdca26\"],[1.0,\"#f0f921\"]],\"type\":\"surface\"}],\"table\":[{\"cells\":{\"fill\":{\"color\":\"#EBF0F8\"},\"line\":{\"color\":\"white\"}},\"header\":{\"fill\":{\"color\":\"#C8D4E3\"},\"line\":{\"color\":\"white\"}},\"type\":\"table\"}]},\"layout\":{\"annotationdefaults\":{\"arrowcolor\":\"#2a3f5f\",\"arrowhead\":0,\"arrowwidth\":1},\"autotypenumbers\":\"strict\",\"coloraxis\":{\"colorbar\":{\"outlinewidth\":0,\"ticks\":\"\"}},\"colorscale\":{\"diverging\":[[0,\"#8e0152\"],[0.1,\"#c51b7d\"],[0.2,\"#de77ae\"],[0.3,\"#f1b6da\"],[0.4,\"#fde0ef\"],[0.5,\"#f7f7f7\"],[0.6,\"#e6f5d0\"],[0.7,\"#b8e186\"],[0.8,\"#7fbc41\"],[0.9,\"#4d9221\"],[1,\"#276419\"]],\"sequential\":[[0.0,\"#0d0887\"],[0.1111111111111111,\"#46039f\"],[0.2222222222222222,\"#7201a8\"],[0.3333333333333333,\"#9c179e\"],[0.4444444444444444,\"#bd3786\"],[0.5555555555555556,\"#d8576b\"],[0.6666666666666666,\"#ed7953\"],[0.7777777777777778,\"#fb9f3a\"],[0.8888888888888888,\"#fdca26\"],[1.0,\"#f0f921\"]],\"sequentialminus\":[[0.0,\"#0d0887\"],[0.1111111111111111,\"#46039f\"],[0.2222222222222222,\"#7201a8\"],[0.3333333333333333,\"#9c179e\"],[0.4444444444444444,\"#bd3786\"],[0.5555555555555556,\"#d8576b\"],[0.6666666666666666,\"#ed7953\"],[0.7777777777777778,\"#fb9f3a\"],[0.8888888888888888,\"#fdca26\"],[1.0,\"#f0f921\"]]},\"colorway\":[\"#636efa\",\"#EF553B\",\"#00cc96\",\"#ab63fa\",\"#FFA15A\",\"#19d3f3\",\"#FF6692\",\"#B6E880\",\"#FF97FF\",\"#FECB52\"],\"font\":{\"color\":\"#2a3f5f\"},\"geo\":{\"bgcolor\":\"white\",\"lakecolor\":\"white\",\"landcolor\":\"#E5ECF6\",\"showlakes\":true,\"showland\":true,\"subunitcolor\":\"white\"},\"hoverlabel\":{\"align\":\"left\"},\"hovermode\":\"closest\",\"mapbox\":{\"style\":\"light\"},\"paper_bgcolor\":\"white\",\"plot_bgcolor\":\"#E5ECF6\",\"polar\":{\"angularaxis\":{\"gridcolor\":\"white\",\"linecolor\":\"white\",\"ticks\":\"\"},\"bgcolor\":\"#E5ECF6\",\"radialaxis\":{\"gridcolor\":\"white\",\"linecolor\":\"white\",\"ticks\":\"\"}},\"scene\":{\"xaxis\":{\"backgroundcolor\":\"#E5ECF6\",\"gridcolor\":\"white\",\"gridwidth\":2,\"linecolor\":\"white\",\"showbackground\":true,\"ticks\":\"\",\"zerolinecolor\":\"white\"},\"yaxis\":{\"backgroundcolor\":\"#E5ECF6\",\"gridcolor\":\"white\",\"gridwidth\":2,\"linecolor\":\"white\",\"showbackground\":true,\"ticks\":\"\",\"zerolinecolor\":\"white\"},\"zaxis\":{\"backgroundcolor\":\"#E5ECF6\",\"gridcolor\":\"white\",\"gridwidth\":2,\"linecolor\":\"white\",\"showbackground\":true,\"ticks\":\"\",\"zerolinecolor\":\"white\"}},\"shapedefaults\":{\"line\":{\"color\":\"#2a3f5f\"}},\"ternary\":{\"aaxis\":{\"gridcolor\":\"white\",\"linecolor\":\"white\",\"ticks\":\"\"},\"baxis\":{\"gridcolor\":\"white\",\"linecolor\":\"white\",\"ticks\":\"\"},\"bgcolor\":\"#E5ECF6\",\"caxis\":{\"gridcolor\":\"white\",\"linecolor\":\"white\",\"ticks\":\"\"}},\"title\":{\"x\":0.05},\"xaxis\":{\"automargin\":true,\"gridcolor\":\"white\",\"linecolor\":\"white\",\"ticks\":\"\",\"title\":{\"standoff\":15},\"zerolinecolor\":\"white\",\"zerolinewidth\":2},\"yaxis\":{\"automargin\":true,\"gridcolor\":\"white\",\"linecolor\":\"white\",\"ticks\":\"\",\"title\":{\"standoff\":15},\"zerolinecolor\":\"white\",\"zerolinewidth\":2}}},\"title\":{\"text\":\"Users that we have lost the entire journey from their first event to payment\"},\"xaxis\":{\"anchor\":\"y\",\"domain\":[0.0,1.0],\"title\":{\"text\":\"User_nomb\"}},\"yaxis\":{\"anchor\":\"x\",\"domain\":[0.0,1.0],\"title\":{\"text\":\"Stage\"}}},                        {\"responsive\": true}                    ).then(function(){\n",
       "                            \n",
       "var gd = document.getElementById('a5deda1b-530e-4234-baf0-e7cd6a2bc120');\n",
       "var x = new MutationObserver(function (mutations, observer) {{\n",
       "        var display = window.getComputedStyle(gd).display;\n",
       "        if (!display || display === 'none') {{\n",
       "            console.log([gd, 'removed!']);\n",
       "            Plotly.purge(gd);\n",
       "            observer.disconnect();\n",
       "        }}\n",
       "}});\n",
       "\n",
       "// Listen for the removal of the full notebook cells\n",
       "var notebookContainer = gd.closest('#notebook-container');\n",
       "if (notebookContainer) {{\n",
       "    x.observe(notebookContainer, {childList: true});\n",
       "}}\n",
       "\n",
       "// Listen for the clearing of the current output cell\n",
       "var outputEl = gd.closest('.output');\n",
       "if (outputEl) {{\n",
       "    x.observe(outputEl, {childList: true});\n",
       "}}\n",
       "\n",
       "                        })                };                });            </script>        </div>"
      ]
     },
     "metadata": {},
     "output_type": "display_data"
    }
   ],
   "source": [
    "fig=px.funnel(df_,x='User_nomb',y='Stage', color='Experiment_id')\n",
    "fig.update_layout(title=\"Users that we have lost the entire journey from their first event to payment\")\n",
    "fig.show()"
   ]
  },
  {
   "attachments": {
    "Bildschirmfoto%20vom%202021-09-07%2015-17-47.png": {
     "image/png": "[encoded data removed]"
    }
   },
   "cell_type": "markdown",
   "metadata": {},
   "source": [
    "![Bildschirmfoto%20vom%202021-09-07%2015-17-47.png](attachment:Bildschirmfoto%20vom%202021-09-07%2015-17-47.png)"
   ]
  },
  {
   "cell_type": "markdown",
   "metadata": {},
   "source": [
    "And the answer to the question. What share of users make the entire journey from their first event to payment?"
   ]
  },
  {
   "cell_type": "code",
   "execution_count": 160,
   "metadata": {},
   "outputs": [
    {
     "data": {
      "application/vnd.plotly.v1+json": {
       "config": {
        "plotlyServerURL": "https://plot.ly"
       },
       "data": [
        {
         "labels": [
          246,
          247,
          248
         ],
         "type": "pie",
         "values": [
          1200,
          1158,
          1181
         ]
        }
       ],
       "layout": {
        "template": {
         "data": {
          "bar": [
           {
            "error_x": {
             "color": "#2a3f5f"
            },
            "error_y": {
             "color": "#2a3f5f"
            },
            "marker": {
             "line": {
              "color": "#E5ECF6",
              "width": 0.5
             },
             "pattern": {
              "fillmode": "overlay",
              "size": 10,
              "solidity": 0.2
             }
            },
            "type": "bar"
           }
          ],
          "barpolar": [
           {
            "marker": {
             "line": {
              "color": "#E5ECF6",
              "width": 0.5
             },
             "pattern": {
              "fillmode": "overlay",
              "size": 10,
              "solidity": 0.2
             }
            },
            "type": "barpolar"
           }
          ],
          "carpet": [
           {
            "aaxis": {
             "endlinecolor": "#2a3f5f",
             "gridcolor": "white",
             "linecolor": "white",
             "minorgridcolor": "white",
             "startlinecolor": "#2a3f5f"
            },
            "baxis": {
             "endlinecolor": "#2a3f5f",
             "gridcolor": "white",
             "linecolor": "white",
             "minorgridcolor": "white",
             "startlinecolor": "#2a3f5f"
            },
            "type": "carpet"
           }
          ],
          "choropleth": [
           {
            "colorbar": {
             "outlinewidth": 0,
             "ticks": ""
            },
            "type": "choropleth"
           }
          ],
          "contour": [
           {
            "colorbar": {
             "outlinewidth": 0,
             "ticks": ""
            },
            "colorscale": [
             [
              0,
              "#0d0887"
             ],
             [
              0.1111111111111111,
              "#46039f"
             ],
             [
              0.2222222222222222,
              "#7201a8"
             ],
             [
              0.3333333333333333,
              "#9c179e"
             ],
             [
              0.4444444444444444,
              "#bd3786"
             ],
             [
              0.5555555555555556,
              "#d8576b"
             ],
             [
              0.6666666666666666,
              "#ed7953"
             ],
             [
              0.7777777777777778,
              "#fb9f3a"
             ],
             [
              0.8888888888888888,
              "#fdca26"
             ],
             [
              1,
              "#f0f921"
             ]
            ],
            "type": "contour"
           }
          ],
          "contourcarpet": [
           {
            "colorbar": {
             "outlinewidth": 0,
             "ticks": ""
            },
            "type": "contourcarpet"
           }
          ],
          "heatmap": [
           {
            "colorbar": {
             "outlinewidth": 0,
             "ticks": ""
            },
            "colorscale": [
             [
              0,
              "#0d0887"
             ],
             [
              0.1111111111111111,
              "#46039f"
             ],
             [
              0.2222222222222222,
              "#7201a8"
             ],
             [
              0.3333333333333333,
              "#9c179e"
             ],
             [
              0.4444444444444444,
              "#bd3786"
             ],
             [
              0.5555555555555556,
              "#d8576b"
             ],
             [
              0.6666666666666666,
              "#ed7953"
             ],
             [
              0.7777777777777778,
              "#fb9f3a"
             ],
             [
              0.8888888888888888,
              "#fdca26"
             ],
             [
              1,
              "#f0f921"
             ]
            ],
            "type": "heatmap"
           }
          ],
          "heatmapgl": [
           {
            "colorbar": {
             "outlinewidth": 0,
             "ticks": ""
            },
            "colorscale": [
             [
              0,
              "#0d0887"
             ],
             [
              0.1111111111111111,
              "#46039f"
             ],
             [
              0.2222222222222222,
              "#7201a8"
             ],
             [
              0.3333333333333333,
              "#9c179e"
             ],
             [
              0.4444444444444444,
              "#bd3786"
             ],
             [
              0.5555555555555556,
              "#d8576b"
             ],
             [
              0.6666666666666666,
              "#ed7953"
             ],
             [
              0.7777777777777778,
              "#fb9f3a"
             ],
             [
              0.8888888888888888,
              "#fdca26"
             ],
             [
              1,
              "#f0f921"
             ]
            ],
            "type": "heatmapgl"
           }
          ],
          "histogram": [
           {
            "marker": {
             "pattern": {
              "fillmode": "overlay",
              "size": 10,
              "solidity": 0.2
             }
            },
            "type": "histogram"
           }
          ],
          "histogram2d": [
           {
            "colorbar": {
             "outlinewidth": 0,
             "ticks": ""
            },
            "colorscale": [
             [
              0,
              "#0d0887"
             ],
             [
              0.1111111111111111,
              "#46039f"
             ],
             [
              0.2222222222222222,
              "#7201a8"
             ],
             [
              0.3333333333333333,
              "#9c179e"
             ],
             [
              0.4444444444444444,
              "#bd3786"
             ],
             [
              0.5555555555555556,
              "#d8576b"
             ],
             [
              0.6666666666666666,
              "#ed7953"
             ],
             [
              0.7777777777777778,
              "#fb9f3a"
             ],
             [
              0.8888888888888888,
              "#fdca26"
             ],
             [
              1,
              "#f0f921"
             ]
            ],
            "type": "histogram2d"
           }
          ],
          "histogram2dcontour": [
           {
            "colorbar": {
             "outlinewidth": 0,
             "ticks": ""
            },
            "colorscale": [
             [
              0,
              "#0d0887"
             ],
             [
              0.1111111111111111,
              "#46039f"
             ],
             [
              0.2222222222222222,
              "#7201a8"
             ],
             [
              0.3333333333333333,
              "#9c179e"
             ],
             [
              0.4444444444444444,
              "#bd3786"
             ],
             [
              0.5555555555555556,
              "#d8576b"
             ],
             [
              0.6666666666666666,
              "#ed7953"
             ],
             [
              0.7777777777777778,
              "#fb9f3a"
             ],
             [
              0.8888888888888888,
              "#fdca26"
             ],
             [
              1,
              "#f0f921"
             ]
            ],
            "type": "histogram2dcontour"
           }
          ],
          "mesh3d": [
           {
            "colorbar": {
             "outlinewidth": 0,
             "ticks": ""
            },
            "type": "mesh3d"
           }
          ],
          "parcoords": [
           {
            "line": {
             "colorbar": {
              "outlinewidth": 0,
              "ticks": ""
             }
            },
            "type": "parcoords"
           }
          ],
          "pie": [
           {
            "automargin": true,
            "type": "pie"
           }
          ],
          "scatter": [
           {
            "marker": {
             "colorbar": {
              "outlinewidth": 0,
              "ticks": ""
             }
            },
            "type": "scatter"
           }
          ],
          "scatter3d": [
           {
            "line": {
             "colorbar": {
              "outlinewidth": 0,
              "ticks": ""
             }
            },
            "marker": {
             "colorbar": {
              "outlinewidth": 0,
              "ticks": ""
             }
            },
            "type": "scatter3d"
           }
          ],
          "scattercarpet": [
           {
            "marker": {
             "colorbar": {
              "outlinewidth": 0,
              "ticks": ""
             }
            },
            "type": "scattercarpet"
           }
          ],
          "scattergeo": [
           {
            "marker": {
             "colorbar": {
              "outlinewidth": 0,
              "ticks": ""
             }
            },
            "type": "scattergeo"
           }
          ],
          "scattergl": [
           {
            "marker": {
             "colorbar": {
              "outlinewidth": 0,
              "ticks": ""
             }
            },
            "type": "scattergl"
           }
          ],
          "scattermapbox": [
           {
            "marker": {
             "colorbar": {
              "outlinewidth": 0,
              "ticks": ""
             }
            },
            "type": "scattermapbox"
           }
          ],
          "scatterpolar": [
           {
            "marker": {
             "colorbar": {
              "outlinewidth": 0,
              "ticks": ""
             }
            },
            "type": "scatterpolar"
           }
          ],
          "scatterpolargl": [
           {
            "marker": {
             "colorbar": {
              "outlinewidth": 0,
              "ticks": ""
             }
            },
            "type": "scatterpolargl"
           }
          ],
          "scatterternary": [
           {
            "marker": {
             "colorbar": {
              "outlinewidth": 0,
              "ticks": ""
             }
            },
            "type": "scatterternary"
           }
          ],
          "surface": [
           {
            "colorbar": {
             "outlinewidth": 0,
             "ticks": ""
            },
            "colorscale": [
             [
              0,
              "#0d0887"
             ],
             [
              0.1111111111111111,
              "#46039f"
             ],
             [
              0.2222222222222222,
              "#7201a8"
             ],
             [
              0.3333333333333333,
              "#9c179e"
             ],
             [
              0.4444444444444444,
              "#bd3786"
             ],
             [
              0.5555555555555556,
              "#d8576b"
             ],
             [
              0.6666666666666666,
              "#ed7953"
             ],
             [
              0.7777777777777778,
              "#fb9f3a"
             ],
             [
              0.8888888888888888,
              "#fdca26"
             ],
             [
              1,
              "#f0f921"
             ]
            ],
            "type": "surface"
           }
          ],
          "table": [
           {
            "cells": {
             "fill": {
              "color": "#EBF0F8"
             },
             "line": {
              "color": "white"
             }
            },
            "header": {
             "fill": {
              "color": "#C8D4E3"
             },
             "line": {
              "color": "white"
             }
            },
            "type": "table"
           }
          ]
         },
         "layout": {
          "annotationdefaults": {
           "arrowcolor": "#2a3f5f",
           "arrowhead": 0,
           "arrowwidth": 1
          },
          "autotypenumbers": "strict",
          "coloraxis": {
           "colorbar": {
            "outlinewidth": 0,
            "ticks": ""
           }
          },
          "colorscale": {
           "diverging": [
            [
             0,
             "#8e0152"
            ],
            [
             0.1,
             "#c51b7d"
            ],
            [
             0.2,
             "#de77ae"
            ],
            [
             0.3,
             "#f1b6da"
            ],
            [
             0.4,
             "#fde0ef"
            ],
            [
             0.5,
             "#f7f7f7"
            ],
            [
             0.6,
             "#e6f5d0"
            ],
            [
             0.7,
             "#b8e186"
            ],
            [
             0.8,
             "#7fbc41"
            ],
            [
             0.9,
             "#4d9221"
            ],
            [
             1,
             "#276419"
            ]
           ],
           "sequential": [
            [
             0,
             "#0d0887"
            ],
            [
             0.1111111111111111,
             "#46039f"
            ],
            [
             0.2222222222222222,
             "#7201a8"
            ],
            [
             0.3333333333333333,
             "#9c179e"
            ],
            [
             0.4444444444444444,
             "#bd3786"
            ],
            [
             0.5555555555555556,
             "#d8576b"
            ],
            [
             0.6666666666666666,
             "#ed7953"
            ],
            [
             0.7777777777777778,
             "#fb9f3a"
            ],
            [
             0.8888888888888888,
             "#fdca26"
            ],
            [
             1,
             "#f0f921"
            ]
           ],
           "sequentialminus": [
            [
             0,
             "#0d0887"
            ],
            [
             0.1111111111111111,
             "#46039f"
            ],
            [
             0.2222222222222222,
             "#7201a8"
            ],
            [
             0.3333333333333333,
             "#9c179e"
            ],
            [
             0.4444444444444444,
             "#bd3786"
            ],
            [
             0.5555555555555556,
             "#d8576b"
            ],
            [
             0.6666666666666666,
             "#ed7953"
            ],
            [
             0.7777777777777778,
             "#fb9f3a"
            ],
            [
             0.8888888888888888,
             "#fdca26"
            ],
            [
             1,
             "#f0f921"
            ]
           ]
          },
          "colorway": [
           "#636efa",
           "#EF553B",
           "#00cc96",
           "#ab63fa",
           "#FFA15A",
           "#19d3f3",
           "#FF6692",
           "#B6E880",
           "#FF97FF",
           "#FECB52"
          ],
          "font": {
           "color": "#2a3f5f"
          },
          "geo": {
           "bgcolor": "white",
           "lakecolor": "white",
           "landcolor": "#E5ECF6",
           "showlakes": true,
           "showland": true,
           "subunitcolor": "white"
          },
          "hoverlabel": {
           "align": "left"
          },
          "hovermode": "closest",
          "mapbox": {
           "style": "light"
          },
          "paper_bgcolor": "white",
          "plot_bgcolor": "#E5ECF6",
          "polar": {
           "angularaxis": {
            "gridcolor": "white",
            "linecolor": "white",
            "ticks": ""
           },
           "bgcolor": "#E5ECF6",
           "radialaxis": {
            "gridcolor": "white",
            "linecolor": "white",
            "ticks": ""
           }
          },
          "scene": {
           "xaxis": {
            "backgroundcolor": "#E5ECF6",
            "gridcolor": "white",
            "gridwidth": 2,
            "linecolor": "white",
            "showbackground": true,
            "ticks": "",
            "zerolinecolor": "white"
           },
           "yaxis": {
            "backgroundcolor": "#E5ECF6",
            "gridcolor": "white",
            "gridwidth": 2,
            "linecolor": "white",
            "showbackground": true,
            "ticks": "",
            "zerolinecolor": "white"
           },
           "zaxis": {
            "backgroundcolor": "#E5ECF6",
            "gridcolor": "white",
            "gridwidth": 2,
            "linecolor": "white",
            "showbackground": true,
            "ticks": "",
            "zerolinecolor": "white"
           }
          },
          "shapedefaults": {
           "line": {
            "color": "#2a3f5f"
           }
          },
          "ternary": {
           "aaxis": {
            "gridcolor": "white",
            "linecolor": "white",
            "ticks": ""
           },
           "baxis": {
            "gridcolor": "white",
            "linecolor": "white",
            "ticks": ""
           },
           "bgcolor": "#E5ECF6",
           "caxis": {
            "gridcolor": "white",
            "linecolor": "white",
            "ticks": ""
           }
          },
          "title": {
           "x": 0.05
          },
          "xaxis": {
           "automargin": true,
           "gridcolor": "white",
           "linecolor": "white",
           "ticks": "",
           "title": {
            "standoff": 15
           },
           "zerolinecolor": "white",
           "zerolinewidth": 2
          },
          "yaxis": {
           "automargin": true,
           "gridcolor": "white",
           "linecolor": "white",
           "ticks": "",
           "title": {
            "standoff": 15
           },
           "zerolinecolor": "white",
           "zerolinewidth": 2
          }
         }
        },
        "title": {
         "text": "Share of users make the entire journey from their first event to payment"
        }
       }
      },
      "text/html": [
       "<div>                            <div id=\"2739abf7-f070-48e7-8e55-bef4b82a5007\" class=\"plotly-graph-div\" style=\"height:525px; width:100%;\"></div>            <script type=\"text/javascript\">                require([\"plotly\"], function(Plotly) {                    window.PLOTLYENV=window.PLOTLYENV || {};                                    if (document.getElementById(\"2739abf7-f070-48e7-8e55-bef4b82a5007\")) {                    Plotly.newPlot(                        \"2739abf7-f070-48e7-8e55-bef4b82a5007\",                        [{\"labels\":[246,247,248],\"type\":\"pie\",\"values\":[1200,1158,1181]}],                        {\"template\":{\"data\":{\"bar\":[{\"error_x\":{\"color\":\"#2a3f5f\"},\"error_y\":{\"color\":\"#2a3f5f\"},\"marker\":{\"line\":{\"color\":\"#E5ECF6\",\"width\":0.5},\"pattern\":{\"fillmode\":\"overlay\",\"size\":10,\"solidity\":0.2}},\"type\":\"bar\"}],\"barpolar\":[{\"marker\":{\"line\":{\"color\":\"#E5ECF6\",\"width\":0.5},\"pattern\":{\"fillmode\":\"overlay\",\"size\":10,\"solidity\":0.2}},\"type\":\"barpolar\"}],\"carpet\":[{\"aaxis\":{\"endlinecolor\":\"#2a3f5f\",\"gridcolor\":\"white\",\"linecolor\":\"white\",\"minorgridcolor\":\"white\",\"startlinecolor\":\"#2a3f5f\"},\"baxis\":{\"endlinecolor\":\"#2a3f5f\",\"gridcolor\":\"white\",\"linecolor\":\"white\",\"minorgridcolor\":\"white\",\"startlinecolor\":\"#2a3f5f\"},\"type\":\"carpet\"}],\"choropleth\":[{\"colorbar\":{\"outlinewidth\":0,\"ticks\":\"\"},\"type\":\"choropleth\"}],\"contour\":[{\"colorbar\":{\"outlinewidth\":0,\"ticks\":\"\"},\"colorscale\":[[0.0,\"#0d0887\"],[0.1111111111111111,\"#46039f\"],[0.2222222222222222,\"#7201a8\"],[0.3333333333333333,\"#9c179e\"],[0.4444444444444444,\"#bd3786\"],[0.5555555555555556,\"#d8576b\"],[0.6666666666666666,\"#ed7953\"],[0.7777777777777778,\"#fb9f3a\"],[0.8888888888888888,\"#fdca26\"],[1.0,\"#f0f921\"]],\"type\":\"contour\"}],\"contourcarpet\":[{\"colorbar\":{\"outlinewidth\":0,\"ticks\":\"\"},\"type\":\"contourcarpet\"}],\"heatmap\":[{\"colorbar\":{\"outlinewidth\":0,\"ticks\":\"\"},\"colorscale\":[[0.0,\"#0d0887\"],[0.1111111111111111,\"#46039f\"],[0.2222222222222222,\"#7201a8\"],[0.3333333333333333,\"#9c179e\"],[0.4444444444444444,\"#bd3786\"],[0.5555555555555556,\"#d8576b\"],[0.6666666666666666,\"#ed7953\"],[0.7777777777777778,\"#fb9f3a\"],[0.8888888888888888,\"#fdca26\"],[1.0,\"#f0f921\"]],\"type\":\"heatmap\"}],\"heatmapgl\":[{\"colorbar\":{\"outlinewidth\":0,\"ticks\":\"\"},\"colorscale\":[[0.0,\"#0d0887\"],[0.1111111111111111,\"#46039f\"],[0.2222222222222222,\"#7201a8\"],[0.3333333333333333,\"#9c179e\"],[0.4444444444444444,\"#bd3786\"],[0.5555555555555556,\"#d8576b\"],[0.6666666666666666,\"#ed7953\"],[0.7777777777777778,\"#fb9f3a\"],[0.8888888888888888,\"#fdca26\"],[1.0,\"#f0f921\"]],\"type\":\"heatmapgl\"}],\"histogram\":[{\"marker\":{\"pattern\":{\"fillmode\":\"overlay\",\"size\":10,\"solidity\":0.2}},\"type\":\"histogram\"}],\"histogram2d\":[{\"colorbar\":{\"outlinewidth\":0,\"ticks\":\"\"},\"colorscale\":[[0.0,\"#0d0887\"],[0.1111111111111111,\"#46039f\"],[0.2222222222222222,\"#7201a8\"],[0.3333333333333333,\"#9c179e\"],[0.4444444444444444,\"#bd3786\"],[0.5555555555555556,\"#d8576b\"],[0.6666666666666666,\"#ed7953\"],[0.7777777777777778,\"#fb9f3a\"],[0.8888888888888888,\"#fdca26\"],[1.0,\"#f0f921\"]],\"type\":\"histogram2d\"}],\"histogram2dcontour\":[{\"colorbar\":{\"outlinewidth\":0,\"ticks\":\"\"},\"colorscale\":[[0.0,\"#0d0887\"],[0.1111111111111111,\"#46039f\"],[0.2222222222222222,\"#7201a8\"],[0.3333333333333333,\"#9c179e\"],[0.4444444444444444,\"#bd3786\"],[0.5555555555555556,\"#d8576b\"],[0.6666666666666666,\"#ed7953\"],[0.7777777777777778,\"#fb9f3a\"],[0.8888888888888888,\"#fdca26\"],[1.0,\"#f0f921\"]],\"type\":\"histogram2dcontour\"}],\"mesh3d\":[{\"colorbar\":{\"outlinewidth\":0,\"ticks\":\"\"},\"type\":\"mesh3d\"}],\"parcoords\":[{\"line\":{\"colorbar\":{\"outlinewidth\":0,\"ticks\":\"\"}},\"type\":\"parcoords\"}],\"pie\":[{\"automargin\":true,\"type\":\"pie\"}],\"scatter\":[{\"marker\":{\"colorbar\":{\"outlinewidth\":0,\"ticks\":\"\"}},\"type\":\"scatter\"}],\"scatter3d\":[{\"line\":{\"colorbar\":{\"outlinewidth\":0,\"ticks\":\"\"}},\"marker\":{\"colorbar\":{\"outlinewidth\":0,\"ticks\":\"\"}},\"type\":\"scatter3d\"}],\"scattercarpet\":[{\"marker\":{\"colorbar\":{\"outlinewidth\":0,\"ticks\":\"\"}},\"type\":\"scattercarpet\"}],\"scattergeo\":[{\"marker\":{\"colorbar\":{\"outlinewidth\":0,\"ticks\":\"\"}},\"type\":\"scattergeo\"}],\"scattergl\":[{\"marker\":{\"colorbar\":{\"outlinewidth\":0,\"ticks\":\"\"}},\"type\":\"scattergl\"}],\"scattermapbox\":[{\"marker\":{\"colorbar\":{\"outlinewidth\":0,\"ticks\":\"\"}},\"type\":\"scattermapbox\"}],\"scatterpolar\":[{\"marker\":{\"colorbar\":{\"outlinewidth\":0,\"ticks\":\"\"}},\"type\":\"scatterpolar\"}],\"scatterpolargl\":[{\"marker\":{\"colorbar\":{\"outlinewidth\":0,\"ticks\":\"\"}},\"type\":\"scatterpolargl\"}],\"scatterternary\":[{\"marker\":{\"colorbar\":{\"outlinewidth\":0,\"ticks\":\"\"}},\"type\":\"scatterternary\"}],\"surface\":[{\"colorbar\":{\"outlinewidth\":0,\"ticks\":\"\"},\"colorscale\":[[0.0,\"#0d0887\"],[0.1111111111111111,\"#46039f\"],[0.2222222222222222,\"#7201a8\"],[0.3333333333333333,\"#9c179e\"],[0.4444444444444444,\"#bd3786\"],[0.5555555555555556,\"#d8576b\"],[0.6666666666666666,\"#ed7953\"],[0.7777777777777778,\"#fb9f3a\"],[0.8888888888888888,\"#fdca26\"],[1.0,\"#f0f921\"]],\"type\":\"surface\"}],\"table\":[{\"cells\":{\"fill\":{\"color\":\"#EBF0F8\"},\"line\":{\"color\":\"white\"}},\"header\":{\"fill\":{\"color\":\"#C8D4E3\"},\"line\":{\"color\":\"white\"}},\"type\":\"table\"}]},\"layout\":{\"annotationdefaults\":{\"arrowcolor\":\"#2a3f5f\",\"arrowhead\":0,\"arrowwidth\":1},\"autotypenumbers\":\"strict\",\"coloraxis\":{\"colorbar\":{\"outlinewidth\":0,\"ticks\":\"\"}},\"colorscale\":{\"diverging\":[[0,\"#8e0152\"],[0.1,\"#c51b7d\"],[0.2,\"#de77ae\"],[0.3,\"#f1b6da\"],[0.4,\"#fde0ef\"],[0.5,\"#f7f7f7\"],[0.6,\"#e6f5d0\"],[0.7,\"#b8e186\"],[0.8,\"#7fbc41\"],[0.9,\"#4d9221\"],[1,\"#276419\"]],\"sequential\":[[0.0,\"#0d0887\"],[0.1111111111111111,\"#46039f\"],[0.2222222222222222,\"#7201a8\"],[0.3333333333333333,\"#9c179e\"],[0.4444444444444444,\"#bd3786\"],[0.5555555555555556,\"#d8576b\"],[0.6666666666666666,\"#ed7953\"],[0.7777777777777778,\"#fb9f3a\"],[0.8888888888888888,\"#fdca26\"],[1.0,\"#f0f921\"]],\"sequentialminus\":[[0.0,\"#0d0887\"],[0.1111111111111111,\"#46039f\"],[0.2222222222222222,\"#7201a8\"],[0.3333333333333333,\"#9c179e\"],[0.4444444444444444,\"#bd3786\"],[0.5555555555555556,\"#d8576b\"],[0.6666666666666666,\"#ed7953\"],[0.7777777777777778,\"#fb9f3a\"],[0.8888888888888888,\"#fdca26\"],[1.0,\"#f0f921\"]]},\"colorway\":[\"#636efa\",\"#EF553B\",\"#00cc96\",\"#ab63fa\",\"#FFA15A\",\"#19d3f3\",\"#FF6692\",\"#B6E880\",\"#FF97FF\",\"#FECB52\"],\"font\":{\"color\":\"#2a3f5f\"},\"geo\":{\"bgcolor\":\"white\",\"lakecolor\":\"white\",\"landcolor\":\"#E5ECF6\",\"showlakes\":true,\"showland\":true,\"subunitcolor\":\"white\"},\"hoverlabel\":{\"align\":\"left\"},\"hovermode\":\"closest\",\"mapbox\":{\"style\":\"light\"},\"paper_bgcolor\":\"white\",\"plot_bgcolor\":\"#E5ECF6\",\"polar\":{\"angularaxis\":{\"gridcolor\":\"white\",\"linecolor\":\"white\",\"ticks\":\"\"},\"bgcolor\":\"#E5ECF6\",\"radialaxis\":{\"gridcolor\":\"white\",\"linecolor\":\"white\",\"ticks\":\"\"}},\"scene\":{\"xaxis\":{\"backgroundcolor\":\"#E5ECF6\",\"gridcolor\":\"white\",\"gridwidth\":2,\"linecolor\":\"white\",\"showbackground\":true,\"ticks\":\"\",\"zerolinecolor\":\"white\"},\"yaxis\":{\"backgroundcolor\":\"#E5ECF6\",\"gridcolor\":\"white\",\"gridwidth\":2,\"linecolor\":\"white\",\"showbackground\":true,\"ticks\":\"\",\"zerolinecolor\":\"white\"},\"zaxis\":{\"backgroundcolor\":\"#E5ECF6\",\"gridcolor\":\"white\",\"gridwidth\":2,\"linecolor\":\"white\",\"showbackground\":true,\"ticks\":\"\",\"zerolinecolor\":\"white\"}},\"shapedefaults\":{\"line\":{\"color\":\"#2a3f5f\"}},\"ternary\":{\"aaxis\":{\"gridcolor\":\"white\",\"linecolor\":\"white\",\"ticks\":\"\"},\"baxis\":{\"gridcolor\":\"white\",\"linecolor\":\"white\",\"ticks\":\"\"},\"bgcolor\":\"#E5ECF6\",\"caxis\":{\"gridcolor\":\"white\",\"linecolor\":\"white\",\"ticks\":\"\"}},\"title\":{\"x\":0.05},\"xaxis\":{\"automargin\":true,\"gridcolor\":\"white\",\"linecolor\":\"white\",\"ticks\":\"\",\"title\":{\"standoff\":15},\"zerolinecolor\":\"white\",\"zerolinewidth\":2},\"yaxis\":{\"automargin\":true,\"gridcolor\":\"white\",\"linecolor\":\"white\",\"ticks\":\"\",\"title\":{\"standoff\":15},\"zerolinecolor\":\"white\",\"zerolinewidth\":2}}},\"title\":{\"text\":\"Share of users make the entire journey from their first event to payment\"}},                        {\"responsive\": true}                    ).then(function(){\n",
       "                            \n",
       "var gd = document.getElementById('2739abf7-f070-48e7-8e55-bef4b82a5007');\n",
       "var x = new MutationObserver(function (mutations, observer) {{\n",
       "        var display = window.getComputedStyle(gd).display;\n",
       "        if (!display || display === 'none') {{\n",
       "            console.log([gd, 'removed!']);\n",
       "            Plotly.purge(gd);\n",
       "            observer.disconnect();\n",
       "        }}\n",
       "}});\n",
       "\n",
       "// Listen for the removal of the full notebook cells\n",
       "var notebookContainer = gd.closest('#notebook-container');\n",
       "if (notebookContainer) {{\n",
       "    x.observe(notebookContainer, {childList: true});\n",
       "}}\n",
       "\n",
       "// Listen for the clearing of the current output cell\n",
       "var outputEl = gd.closest('.output');\n",
       "if (outputEl) {{\n",
       "    x.observe(outputEl, {childList: true});\n",
       "}}\n",
       "\n",
       "                        })                };                });            </script>        </div>"
      ]
     },
     "metadata": {},
     "output_type": "display_data"
    }
   ],
   "source": [
    "from plotly import graph_objects as go\n",
    "name_rest = journey_first_to_last['experiment_id']\n",
    "values = journey_first_to_last['PaymentScreenSuccessful']\n",
    "\n",
    "fig = go.Figure(data=[go.Pie(labels=name_rest, values=values)])\n",
    "fig.update_layout(title=\"Share of users make the entire journey from their first event to payment\")\n",
    "fig.show() "
   ]
  },
  {
   "cell_type": "markdown",
   "metadata": {},
   "source": [
    "<a name=\"Step_5.1\"></a>\n",
    "**Step 5. Study the results of the experiment**  \n",
    "\n",
    "   • How many users are there in each group? \n",
    "   \n",
    "   Back to the table of contents [click here](#table_of_contents)  "
   ]
  },
  {
   "cell_type": "code",
   "execution_count": 161,
   "metadata": {},
   "outputs": [
    {
     "data": {
      "text/plain": [
       "experiment_id\n",
       "246    2484\n",
       "247    2517\n",
       "248    2537\n",
       "Name: user_id, dtype: int64"
      ]
     },
     "execution_count": 161,
     "metadata": {},
     "output_type": "execute_result"
    }
   ],
   "source": [
    "df_filt.groupby('experiment_id')['user_id'].nunique()"
   ]
  },
  {
   "cell_type": "code",
   "execution_count": 162,
   "metadata": {},
   "outputs": [
    {
     "name": "stdout",
     "output_type": "stream",
     "text": [
      "Number of users at CartScreenAppear 3735\n"
     ]
    }
   ],
   "source": [
    "print('Number of users at CartScreenAppear',users[~users['CartScreenAppear'].isna()].shape[0])"
   ]
  },
  {
   "cell_type": "code",
   "execution_count": 163,
   "metadata": {},
   "outputs": [
    {
     "name": "stdout",
     "output_type": "stream",
     "text": [
      "Number of users at MainScreenAppear 7423\n"
     ]
    }
   ],
   "source": [
    "print('Number of users at MainScreenAppear',users[~users['MainScreenAppear'].isna()].shape[0])"
   ]
  },
  {
   "cell_type": "code",
   "execution_count": 164,
   "metadata": {},
   "outputs": [
    {
     "name": "stdout",
     "output_type": "stream",
     "text": [
      "Number of users at OffersScreenAppear 4595\n"
     ]
    }
   ],
   "source": [
    "print('Number of users at OffersScreenAppear',users[~users['OffersScreenAppear'].isna()].shape[0])"
   ]
  },
  {
   "cell_type": "code",
   "execution_count": 165,
   "metadata": {},
   "outputs": [
    {
     "name": "stdout",
     "output_type": "stream",
     "text": [
      "Number of users at PaymentScreenSuccessful 3539\n"
     ]
    }
   ],
   "source": [
    "print('Number of users at PaymentScreenSuccessful',users[~users['PaymentScreenSuccessful'].isna()].shape[0])"
   ]
  },
  {
   "cell_type": "code",
   "execution_count": 166,
   "metadata": {},
   "outputs": [
    {
     "name": "stdout",
     "output_type": "stream",
     "text": [
      "Number of users at Tutorial 841\n"
     ]
    }
   ],
   "source": [
    "print('Number of users at Tutorial',users[~users['Tutorial'].isna()].shape[0])"
   ]
  },
  {
   "cell_type": "markdown",
   "metadata": {},
   "source": [
    "<a name=\"Step_5.2\"></a>\n",
    "**Step 5. Study the results of the experiment**  \n",
    "   \n",
    "   • We have two control groups in the A/A test, where we check our mechanisms and calculations. See if there is a statistically significant difference between samples 246 and 247.\n",
    "   \n",
    "  Back to the table of contents [click here](#table_of_contents) "
   ]
  },
  {
   "cell_type": "code",
   "execution_count": 167,
   "metadata": {},
   "outputs": [
    {
     "data": {
      "text/html": [
       "<div>\n",
       "<style scoped>\n",
       "    .dataframe tbody tr th:only-of-type {\n",
       "        vertical-align: middle;\n",
       "    }\n",
       "\n",
       "    .dataframe tbody tr th {\n",
       "        vertical-align: top;\n",
       "    }\n",
       "\n",
       "    .dataframe thead th {\n",
       "        text-align: right;\n",
       "    }\n",
       "</style>\n",
       "<table border=\"1\" class=\"dataframe\">\n",
       "  <thead>\n",
       "    <tr style=\"text-align: right;\">\n",
       "      <th></th>\n",
       "      <th>event_name</th>\n",
       "      <th>user_id</th>\n",
       "      <th>timestamp</th>\n",
       "      <th>experiment_id</th>\n",
       "      <th>day_of_week</th>\n",
       "    </tr>\n",
       "  </thead>\n",
       "  <tbody>\n",
       "    <tr>\n",
       "      <th>2415</th>\n",
       "      <td>MainScreenAppear</td>\n",
       "      <td>3957232200565023322</td>\n",
       "      <td>2019-08-01 00:00:12</td>\n",
       "      <td>246</td>\n",
       "      <td>Thursday</td>\n",
       "    </tr>\n",
       "    <tr>\n",
       "      <th>2416</th>\n",
       "      <td>OffersScreenAppear</td>\n",
       "      <td>3957232200565023322</td>\n",
       "      <td>2019-08-01 00:00:17</td>\n",
       "      <td>246</td>\n",
       "      <td>Thursday</td>\n",
       "    </tr>\n",
       "    <tr>\n",
       "      <th>2417</th>\n",
       "      <td>MainScreenAppear</td>\n",
       "      <td>4933689529142781210</td>\n",
       "      <td>2019-08-01 00:00:29</td>\n",
       "      <td>246</td>\n",
       "      <td>Thursday</td>\n",
       "    </tr>\n",
       "    <tr>\n",
       "      <th>2419</th>\n",
       "      <td>MainScreenAppear</td>\n",
       "      <td>2011152258955517776</td>\n",
       "      <td>2019-08-01 00:00:42</td>\n",
       "      <td>247</td>\n",
       "      <td>Thursday</td>\n",
       "    </tr>\n",
       "    <tr>\n",
       "      <th>2421</th>\n",
       "      <td>OffersScreenAppear</td>\n",
       "      <td>4933689529142781210</td>\n",
       "      <td>2019-08-01 00:01:12</td>\n",
       "      <td>246</td>\n",
       "      <td>Thursday</td>\n",
       "    </tr>\n",
       "  </tbody>\n",
       "</table>\n",
       "</div>"
      ],
      "text/plain": [
       "              event_name              user_id           timestamp  \\\n",
       "2415    MainScreenAppear  3957232200565023322 2019-08-01 00:00:12   \n",
       "2416  OffersScreenAppear  3957232200565023322 2019-08-01 00:00:17   \n",
       "2417    MainScreenAppear  4933689529142781210 2019-08-01 00:00:29   \n",
       "2419    MainScreenAppear  2011152258955517776 2019-08-01 00:00:42   \n",
       "2421  OffersScreenAppear  4933689529142781210 2019-08-01 00:01:12   \n",
       "\n",
       "      experiment_id day_of_week  \n",
       "2415            246    Thursday  \n",
       "2416            246    Thursday  \n",
       "2417            246    Thursday  \n",
       "2419            247    Thursday  \n",
       "2421            246    Thursday  "
      ]
     },
     "execution_count": 167,
     "metadata": {},
     "output_type": "execute_result"
    }
   ],
   "source": [
    "test_samples=df_filt[df_filt['experiment_id']!=248]\n",
    "test_samples.head()"
   ]
  },
  {
   "cell_type": "code",
   "execution_count": 168,
   "metadata": {},
   "outputs": [
    {
     "data": {
      "text/html": [
       "<div>\n",
       "<style scoped>\n",
       "    .dataframe tbody tr th:only-of-type {\n",
       "        vertical-align: middle;\n",
       "    }\n",
       "\n",
       "    .dataframe tbody tr th {\n",
       "        vertical-align: top;\n",
       "    }\n",
       "\n",
       "    .dataframe thead th {\n",
       "        text-align: right;\n",
       "    }\n",
       "</style>\n",
       "<table border=\"1\" class=\"dataframe\">\n",
       "  <thead>\n",
       "    <tr style=\"text-align: right;\">\n",
       "      <th></th>\n",
       "      <th>event_name</th>\n",
       "      <th>experiment_id</th>\n",
       "      <th>number_of_users</th>\n",
       "    </tr>\n",
       "  </thead>\n",
       "  <tbody>\n",
       "    <tr>\n",
       "      <th>0</th>\n",
       "      <td>CartScreenAppear</td>\n",
       "      <td>246</td>\n",
       "      <td>14694</td>\n",
       "    </tr>\n",
       "    <tr>\n",
       "      <th>1</th>\n",
       "      <td>CartScreenAppear</td>\n",
       "      <td>247</td>\n",
       "      <td>12437</td>\n",
       "    </tr>\n",
       "    <tr>\n",
       "      <th>2</th>\n",
       "      <td>MainScreenAppear</td>\n",
       "      <td>246</td>\n",
       "      <td>37780</td>\n",
       "    </tr>\n",
       "    <tr>\n",
       "      <th>3</th>\n",
       "      <td>MainScreenAppear</td>\n",
       "      <td>247</td>\n",
       "      <td>39183</td>\n",
       "    </tr>\n",
       "    <tr>\n",
       "      <th>4</th>\n",
       "      <td>OffersScreenAppear</td>\n",
       "      <td>246</td>\n",
       "      <td>14793</td>\n",
       "    </tr>\n",
       "  </tbody>\n",
       "</table>\n",
       "</div>"
      ],
      "text/plain": [
       "           event_name  experiment_id  number_of_users\n",
       "0    CartScreenAppear            246            14694\n",
       "1    CartScreenAppear            247            12437\n",
       "2    MainScreenAppear            246            37780\n",
       "3    MainScreenAppear            247            39183\n",
       "4  OffersScreenAppear            246            14793"
      ]
     },
     "execution_count": 168,
     "metadata": {},
     "output_type": "execute_result"
    }
   ],
   "source": [
    "test_samples_=test_samples.groupby(['event_name','experiment_id'])['user_id'].count().reset_index(name='number_of_users')\n",
    "test_samples_.head()"
   ]
  },
  {
   "cell_type": "code",
   "execution_count": 169,
   "metadata": {},
   "outputs": [
    {
     "data": {
      "text/html": [
       "<div>\n",
       "<style scoped>\n",
       "    .dataframe tbody tr th:only-of-type {\n",
       "        vertical-align: middle;\n",
       "    }\n",
       "\n",
       "    .dataframe tbody tr th {\n",
       "        vertical-align: top;\n",
       "    }\n",
       "\n",
       "    .dataframe thead th {\n",
       "        text-align: right;\n",
       "    }\n",
       "</style>\n",
       "<table border=\"1\" class=\"dataframe\">\n",
       "  <thead>\n",
       "    <tr style=\"text-align: right;\">\n",
       "      <th></th>\n",
       "      <th>event_name</th>\n",
       "      <th>user_id</th>\n",
       "      <th>timestamp</th>\n",
       "      <th>experiment_id</th>\n",
       "      <th>day_of_week</th>\n",
       "    </tr>\n",
       "  </thead>\n",
       "  <tbody>\n",
       "    <tr>\n",
       "      <th>2415</th>\n",
       "      <td>MainScreenAppear</td>\n",
       "      <td>3957232200565023322</td>\n",
       "      <td>2019-08-01 00:00:12</td>\n",
       "      <td>246</td>\n",
       "      <td>Thursday</td>\n",
       "    </tr>\n",
       "    <tr>\n",
       "      <th>2416</th>\n",
       "      <td>OffersScreenAppear</td>\n",
       "      <td>3957232200565023322</td>\n",
       "      <td>2019-08-01 00:00:17</td>\n",
       "      <td>246</td>\n",
       "      <td>Thursday</td>\n",
       "    </tr>\n",
       "    <tr>\n",
       "      <th>2417</th>\n",
       "      <td>MainScreenAppear</td>\n",
       "      <td>4933689529142781210</td>\n",
       "      <td>2019-08-01 00:00:29</td>\n",
       "      <td>246</td>\n",
       "      <td>Thursday</td>\n",
       "    </tr>\n",
       "    <tr>\n",
       "      <th>2418</th>\n",
       "      <td>MainScreenAppear</td>\n",
       "      <td>1802682376349807053</td>\n",
       "      <td>2019-08-01 00:00:33</td>\n",
       "      <td>248</td>\n",
       "      <td>Thursday</td>\n",
       "    </tr>\n",
       "    <tr>\n",
       "      <th>2419</th>\n",
       "      <td>MainScreenAppear</td>\n",
       "      <td>2011152258955517776</td>\n",
       "      <td>2019-08-01 00:00:42</td>\n",
       "      <td>247</td>\n",
       "      <td>Thursday</td>\n",
       "    </tr>\n",
       "  </tbody>\n",
       "</table>\n",
       "</div>"
      ],
      "text/plain": [
       "              event_name              user_id           timestamp  \\\n",
       "2415    MainScreenAppear  3957232200565023322 2019-08-01 00:00:12   \n",
       "2416  OffersScreenAppear  3957232200565023322 2019-08-01 00:00:17   \n",
       "2417    MainScreenAppear  4933689529142781210 2019-08-01 00:00:29   \n",
       "2418    MainScreenAppear  1802682376349807053 2019-08-01 00:00:33   \n",
       "2419    MainScreenAppear  2011152258955517776 2019-08-01 00:00:42   \n",
       "\n",
       "      experiment_id day_of_week  \n",
       "2415            246    Thursday  \n",
       "2416            246    Thursday  \n",
       "2417            246    Thursday  \n",
       "2418            248    Thursday  \n",
       "2419            247    Thursday  "
      ]
     },
     "execution_count": 169,
     "metadata": {},
     "output_type": "execute_result"
    }
   ],
   "source": [
    "df_filt.head()"
   ]
  },
  {
   "cell_type": "code",
   "execution_count": 170,
   "metadata": {},
   "outputs": [],
   "source": [
    "test1=df_filt[df_filt.experiment_id==246]['user_id'].unique()\n",
    "test2=df_filt[df_filt.experiment_id==247]['user_id'].unique()\n",
    "control=df_filt[df_filt.experiment_id==248]['user_id'].unique()"
   ]
  },
  {
   "cell_type": "code",
   "execution_count": 171,
   "metadata": {},
   "outputs": [
    {
     "name": "stdout",
     "output_type": "stream",
     "text": [
      "[3957232200565023322 4933689529142781210 3133982610597594970 ...\n",
      " 4876403292056911122 6660805781687343085 7823752606740475984]\n"
     ]
    }
   ],
   "source": [
    "print(test1)"
   ]
  },
  {
   "cell_type": "code",
   "execution_count": 172,
   "metadata": {},
   "outputs": [
    {
     "data": {
      "text/html": [
       "<div>\n",
       "<style scoped>\n",
       "    .dataframe tbody tr th:only-of-type {\n",
       "        vertical-align: middle;\n",
       "    }\n",
       "\n",
       "    .dataframe tbody tr th {\n",
       "        vertical-align: top;\n",
       "    }\n",
       "\n",
       "    .dataframe thead th {\n",
       "        text-align: right;\n",
       "    }\n",
       "</style>\n",
       "<table border=\"1\" class=\"dataframe\">\n",
       "  <thead>\n",
       "    <tr style=\"text-align: right;\">\n",
       "      <th>experiment_id</th>\n",
       "      <th>event_name</th>\n",
       "      <th>246</th>\n",
       "      <th>247</th>\n",
       "      <th>248</th>\n",
       "    </tr>\n",
       "  </thead>\n",
       "  <tbody>\n",
       "    <tr>\n",
       "      <th>0</th>\n",
       "      <td>CartScreenAppear</td>\n",
       "      <td>1266</td>\n",
       "      <td>1239</td>\n",
       "      <td>1230</td>\n",
       "    </tr>\n",
       "    <tr>\n",
       "      <th>1</th>\n",
       "      <td>MainScreenAppear</td>\n",
       "      <td>2450</td>\n",
       "      <td>2479</td>\n",
       "      <td>2494</td>\n",
       "    </tr>\n",
       "    <tr>\n",
       "      <th>2</th>\n",
       "      <td>OffersScreenAppear</td>\n",
       "      <td>1542</td>\n",
       "      <td>1522</td>\n",
       "      <td>1531</td>\n",
       "    </tr>\n",
       "    <tr>\n",
       "      <th>3</th>\n",
       "      <td>PaymentScreenSuccessful</td>\n",
       "      <td>1200</td>\n",
       "      <td>1158</td>\n",
       "      <td>1181</td>\n",
       "    </tr>\n",
       "    <tr>\n",
       "      <th>4</th>\n",
       "      <td>Tutorial</td>\n",
       "      <td>278</td>\n",
       "      <td>283</td>\n",
       "      <td>280</td>\n",
       "    </tr>\n",
       "  </tbody>\n",
       "</table>\n",
       "</div>"
      ],
      "text/plain": [
       "experiment_id               event_name   246   247   248\n",
       "0                     CartScreenAppear  1266  1239  1230\n",
       "1                     MainScreenAppear  2450  2479  2494\n",
       "2                   OffersScreenAppear  1542  1522  1531\n",
       "3              PaymentScreenSuccessful  1200  1158  1181\n",
       "4                             Tutorial   278   283   280"
      ]
     },
     "execution_count": 172,
     "metadata": {},
     "output_type": "execute_result"
    }
   ],
   "source": [
    "pivot = df_filt.pivot_table(index='event_name', values='user_id', columns='experiment_id', aggfunc=lambda x: x.nunique()).reset_index()\n",
    "pivot"
   ]
  },
  {
   "cell_type": "code",
   "execution_count": 173,
   "metadata": {},
   "outputs": [
    {
     "data": {
      "text/plain": [
       "1266"
      ]
     },
     "execution_count": 173,
     "metadata": {},
     "output_type": "execute_result"
    }
   ],
   "source": [
    "pivot[pivot.event_name=='CartScreenAppear'][246].iloc[0]"
   ]
  },
  {
   "cell_type": "code",
   "execution_count": 174,
   "metadata": {},
   "outputs": [
    {
     "data": {
      "text/html": [
       "<div>\n",
       "<style scoped>\n",
       "    .dataframe tbody tr th:only-of-type {\n",
       "        vertical-align: middle;\n",
       "    }\n",
       "\n",
       "    .dataframe tbody tr th {\n",
       "        vertical-align: top;\n",
       "    }\n",
       "\n",
       "    .dataframe thead th {\n",
       "        text-align: right;\n",
       "    }\n",
       "</style>\n",
       "<table border=\"1\" class=\"dataframe\">\n",
       "  <thead>\n",
       "    <tr style=\"text-align: right;\">\n",
       "      <th></th>\n",
       "      <th>event_name</th>\n",
       "      <th>user_id</th>\n",
       "      <th>timestamp</th>\n",
       "      <th>experiment_id</th>\n",
       "      <th>day_of_week</th>\n",
       "    </tr>\n",
       "  </thead>\n",
       "  <tbody>\n",
       "    <tr>\n",
       "      <th>2415</th>\n",
       "      <td>MainScreenAppear</td>\n",
       "      <td>3957232200565023322</td>\n",
       "      <td>2019-08-01 00:00:12</td>\n",
       "      <td>246</td>\n",
       "      <td>Thursday</td>\n",
       "    </tr>\n",
       "  </tbody>\n",
       "</table>\n",
       "</div>"
      ],
      "text/plain": [
       "            event_name              user_id           timestamp  \\\n",
       "2415  MainScreenAppear  3957232200565023322 2019-08-01 00:00:12   \n",
       "\n",
       "      experiment_id day_of_week  \n",
       "2415            246    Thursday  "
      ]
     },
     "execution_count": 174,
     "metadata": {},
     "output_type": "execute_result"
    }
   ],
   "source": [
    "df_filt.head(1)"
   ]
  },
  {
   "cell_type": "code",
   "execution_count": 175,
   "metadata": {},
   "outputs": [],
   "source": [
    "from scipy import stats as st\n",
    "import numpy as np\n",
    "import math as mth\n",
    "def check_hypotesis(group1,group2,event,alpha=0.05):\n",
    "    success1=pivot[pivot.event_name==event][group1].iloc[0]\n",
    "    success2=pivot[pivot.event_name==event][group2].iloc[0]\n",
    "    \n",
    "    trials1=df_filt[df_filt.experiment_id==group1]['user_id'].nunique()\n",
    "    trials2=df_filt[df_filt.experiment_id==group2]['user_id'].nunique()\n",
    "   \n",
    "    # sugsess proportion in de group:\n",
    "    p1=success1/trials1\n",
    "    p2=success2/trials2\n",
    "    #and in combined dataset:\n",
    "    p_combined = (success1 + success2) / (trials1 + trials2)\n",
    "    \n",
    "    #the difference between the datasets\n",
    "    difference= p1 - p2\n",
    "    #calc the statistic in standard deviations of the standart normal distribution\n",
    "    z_value = difference / mth.sqrt(p_combined *(1 - p_combined) * (1/trials1 +1/trials2))\n",
    "    \n",
    "    #setting up the standart normal distribution (mean0, standard deviation 1)\n",
    "    distr = st.norm(0, 1)   \n",
    "    #calc the statistic in standard deviations of the standart normal distribution\n",
    "    p_value =(1 - distr.cdf(abs(z_value))) *2 \n",
    "    \n",
    "    print('p-value:', p_value)\n",
    "    \n",
    "    if(p_value < alpha):\n",
    "        print('Reject the null hypotesis for',event, 'and groups', group1, group2)\n",
    "    else:\n",
    "        print('Failed to reject the null hypotesit for', event,'and groups', group1, group2)"
   ]
  },
  {
   "cell_type": "markdown",
   "metadata": {},
   "source": [
    "H0 there is no statistically significant difference the samples from 246 and 247 are the same.  \n",
    "H1 there is a statistically significant difference between the samples from 246 and 247 the samples are different.\n",
    "\n",
    "we have and an alfa level of 5%, a deviation from normal if we exceed this 5% we have statistically significant difference. "
   ]
  },
  {
   "cell_type": "code",
   "execution_count": 176,
   "metadata": {},
   "outputs": [
    {
     "name": "stdout",
     "output_type": "stream",
     "text": [
      "p-value: 0.2182812140633792\n",
      "Failed to reject the null hypotesit for CartScreenAppear and groups 246 247\n"
     ]
    }
   ],
   "source": [
    "check_hypotesis(246,247,'CartScreenAppear',alpha=0.05)"
   ]
  },
  {
   "cell_type": "markdown",
   "metadata": {},
   "source": [
    "This means that there is no statistically significant difference for the groups 246 and 247 for CartScreenAppear"
   ]
  },
  {
   "cell_type": "markdown",
   "metadata": {},
   "source": [
    "<a name=\"Step_5.3\"></a>\n",
    "**Step 5. Study the results of the experiment**  \n",
    "   \n",
    "   • Select the most popular event. In each of the control groups, find the number of users who performed this action. Find their share. Check whether the difference between the groups is statistically significant. Repeat the procedure for all other events (it will save time if you create a special function for this test). Can you confirm that the groups were split properly? \n",
    "   \n",
    "  Back to the table of contents [click here](#table_of_contents)   "
   ]
  },
  {
   "cell_type": "markdown",
   "metadata": {},
   "source": [
    "H0 there is no statistically significant difference the samples from 246 and 247 are the same.  \n",
    "H1 there is a statistically significant difference between the samples from 246 and 247 the samples are different."
   ]
  },
  {
   "cell_type": "code",
   "execution_count": 177,
   "metadata": {},
   "outputs": [
    {
     "name": "stdout",
     "output_type": "stream",
     "text": [
      "p-value: 0.2182812140633792\n",
      "Failed to reject the null hypotesit for CartScreenAppear and groups 246 247\n",
      "p-value: 0.6756217702005545\n",
      "Failed to reject the null hypotesit for MainScreenAppear and groups 246 247\n",
      "p-value: 0.24301271796804658\n",
      "Failed to reject the null hypotesit for OffersScreenAppear and groups 246 247\n",
      "p-value: 0.10298394982948822\n",
      "Failed to reject the null hypotesit for PaymentScreenSuccessful and groups 246 247\n",
      "p-value: 0.9536145439962604\n",
      "Failed to reject the null hypotesit for Tutorial and groups 246 247\n"
     ]
    }
   ],
   "source": [
    "for i in pivot.event_name.unique():\n",
    "    check_hypotesis(246,247,i,alpha=0.05)"
   ]
  },
  {
   "cell_type": "markdown",
   "metadata": {},
   "source": [
    "It seems that there is no statistically significant difference in any of the events."
   ]
  },
  {
   "cell_type": "markdown",
   "metadata": {},
   "source": [
    "<a name=\"Step_5.4\"></a>\n",
    "**Step 5. Study the results of the experiment**  \n",
    "\n",
    "   • Do the same thing for the group with altered fonts. Compare the results with those of each of the control groups for each event in isolation. Compare the results with the combined results for the control groups. What conclusions can you draw from the experiment? \n",
    "   \n",
    "   Back to the table of contents [click here](#table_of_contents)  "
   ]
  },
  {
   "cell_type": "markdown",
   "metadata": {},
   "source": [
    "H0 there is no statistically significant difference the samples from 247 and 248 are the same.  \n",
    "H1 there is a statistically significant difference between the samples from 247 and 248 the samples are different."
   ]
  },
  {
   "cell_type": "code",
   "execution_count": 178,
   "metadata": {},
   "outputs": [
    {
     "name": "stdout",
     "output_type": "stream",
     "text": [
      "p-value: 0.07842923237520116\n",
      "Failed to reject the null hypotesit for CartScreenAppear and groups 246 248\n",
      "p-value: 0.34705881021236484\n",
      "Failed to reject the null hypotesit for MainScreenAppear and groups 246 248\n",
      "p-value: 0.20836205402738917\n",
      "Failed to reject the null hypotesit for OffersScreenAppear and groups 246 248\n",
      "p-value: 0.2122553275697796\n",
      "Failed to reject the null hypotesit for PaymentScreenSuccessful and groups 246 248\n",
      "p-value: 0.861330427953267\n",
      "Failed to reject the null hypotesit for Tutorial and groups 246 248\n"
     ]
    }
   ],
   "source": [
    "for i in pivot.event_name.unique():\n",
    "    check_hypotesis(246,248,i,alpha=0.05)"
   ]
  },
  {
   "cell_type": "markdown",
   "metadata": {},
   "source": [
    "It seems that there is no statistically significant difference in any of the events."
   ]
  },
  {
   "cell_type": "code",
   "execution_count": 179,
   "metadata": {},
   "outputs": [
    {
     "name": "stdout",
     "output_type": "stream",
     "text": [
      "p-value: 0.5973544899382834\n",
      "Failed to reject the null hypotesit for CartScreenAppear and groups 247 248\n",
      "p-value: 0.6001661582453706\n",
      "Failed to reject the null hypotesit for MainScreenAppear and groups 247 248\n",
      "p-value: 0.9293730042460788\n",
      "Failed to reject the null hypotesit for OffersScreenAppear and groups 247 248\n",
      "p-value: 0.6982134522789267\n",
      "Failed to reject the null hypotesit for PaymentScreenSuccessful and groups 247 248\n",
      "p-value: 0.8151898803603024\n",
      "Failed to reject the null hypotesit for Tutorial and groups 247 248\n"
     ]
    }
   ],
   "source": [
    "for i in pivot.event_name.unique():\n",
    "    check_hypotesis(247,248,i,alpha=0.05)"
   ]
  },
  {
   "cell_type": "code",
   "execution_count": 180,
   "metadata": {},
   "outputs": [
    {
     "data": {
      "text/html": [
       "<div>\n",
       "<style scoped>\n",
       "    .dataframe tbody tr th:only-of-type {\n",
       "        vertical-align: middle;\n",
       "    }\n",
       "\n",
       "    .dataframe tbody tr th {\n",
       "        vertical-align: top;\n",
       "    }\n",
       "\n",
       "    .dataframe thead th {\n",
       "        text-align: right;\n",
       "    }\n",
       "</style>\n",
       "<table border=\"1\" class=\"dataframe\">\n",
       "  <thead>\n",
       "    <tr style=\"text-align: right;\">\n",
       "      <th>experiment_id</th>\n",
       "      <th>event_name</th>\n",
       "      <th>246</th>\n",
       "      <th>247</th>\n",
       "      <th>248</th>\n",
       "      <th>246247</th>\n",
       "    </tr>\n",
       "  </thead>\n",
       "  <tbody>\n",
       "    <tr>\n",
       "      <th>0</th>\n",
       "      <td>CartScreenAppear</td>\n",
       "      <td>1266</td>\n",
       "      <td>1239</td>\n",
       "      <td>1230</td>\n",
       "      <td>2505</td>\n",
       "    </tr>\n",
       "    <tr>\n",
       "      <th>1</th>\n",
       "      <td>MainScreenAppear</td>\n",
       "      <td>2450</td>\n",
       "      <td>2479</td>\n",
       "      <td>2494</td>\n",
       "      <td>4929</td>\n",
       "    </tr>\n",
       "    <tr>\n",
       "      <th>2</th>\n",
       "      <td>OffersScreenAppear</td>\n",
       "      <td>1542</td>\n",
       "      <td>1522</td>\n",
       "      <td>1531</td>\n",
       "      <td>3064</td>\n",
       "    </tr>\n",
       "    <tr>\n",
       "      <th>3</th>\n",
       "      <td>PaymentScreenSuccessful</td>\n",
       "      <td>1200</td>\n",
       "      <td>1158</td>\n",
       "      <td>1181</td>\n",
       "      <td>2358</td>\n",
       "    </tr>\n",
       "    <tr>\n",
       "      <th>4</th>\n",
       "      <td>Tutorial</td>\n",
       "      <td>278</td>\n",
       "      <td>283</td>\n",
       "      <td>280</td>\n",
       "      <td>561</td>\n",
       "    </tr>\n",
       "  </tbody>\n",
       "</table>\n",
       "</div>"
      ],
      "text/plain": [
       "experiment_id               event_name   246   247   248  246247\n",
       "0                     CartScreenAppear  1266  1239  1230    2505\n",
       "1                     MainScreenAppear  2450  2479  2494    4929\n",
       "2                   OffersScreenAppear  1542  1522  1531    3064\n",
       "3              PaymentScreenSuccessful  1200  1158  1181    2358\n",
       "4                             Tutorial   278   283   280     561"
      ]
     },
     "execution_count": 180,
     "metadata": {},
     "output_type": "execute_result"
    }
   ],
   "source": [
    "pivot[246247] =(pivot[246].iloc[:]+pivot[247].iloc[:])\n",
    "pivot"
   ]
  },
  {
   "attachments": {
    "Bildschirmfoto%20vom%202021-06-11%2015-26-04.png": {
     "image/png": "[encoded data removed]"
    }
   },
   "cell_type": "markdown",
   "metadata": {},
   "source": [
    "\n",
    "   \n",
    "    \n",
    "  difference  -> here you take the difference between the two 246247 and 248 to calculate the deviation we need to know the difference\n",
    "![Bildschirmfoto%20vom%202021-06-11%2015-26-04.png](attachment:Bildschirmfoto%20vom%202021-06-11%2015-26-04.png)   "
   ]
  },
  {
   "attachments": {
    "Bildschirmfoto%20vom%202021-06-11%2015-34-36.png": {
     "image/png": "[encoded data removed]"
    }
   },
   "cell_type": "markdown",
   "metadata": {},
   "source": [
    "   mth.sqrt -> gives us the square root of any number returns. Where there is no square root in the formula...but we need it to calculate the standard deviation from the variance.   \n",
    "       \n",
    "       (p_combined * (1 - p_combined) - (1 / trials1 + 1 / trials2))   \n",
    "   \n",
    "   who we have here. ![Bildschirmfoto%20vom%202021-06-11%2015-34-36.png](attachment:Bildschirmfoto%20vom%202021-06-11%2015-34-36.png)\n",
    "   \n",
    "   p_combined is our mean\n",
    "   trials is our x\n",
    "   "
   ]
  },
  {
   "cell_type": "code",
   "execution_count": 181,
   "metadata": {},
   "outputs": [
    {
     "data": {
      "text/html": [
       "<div>\n",
       "<style scoped>\n",
       "    .dataframe tbody tr th:only-of-type {\n",
       "        vertical-align: middle;\n",
       "    }\n",
       "\n",
       "    .dataframe tbody tr th {\n",
       "        vertical-align: top;\n",
       "    }\n",
       "\n",
       "    .dataframe thead th {\n",
       "        text-align: right;\n",
       "    }\n",
       "</style>\n",
       "<table border=\"1\" class=\"dataframe\">\n",
       "  <thead>\n",
       "    <tr style=\"text-align: right;\">\n",
       "      <th>experiment_id</th>\n",
       "      <th>event_name</th>\n",
       "      <th>246</th>\n",
       "      <th>247</th>\n",
       "      <th>248</th>\n",
       "      <th>246247</th>\n",
       "    </tr>\n",
       "  </thead>\n",
       "  <tbody>\n",
       "    <tr>\n",
       "      <th>0</th>\n",
       "      <td>CartScreenAppear</td>\n",
       "      <td>1266</td>\n",
       "      <td>1239</td>\n",
       "      <td>1230</td>\n",
       "      <td>2505</td>\n",
       "    </tr>\n",
       "    <tr>\n",
       "      <th>1</th>\n",
       "      <td>MainScreenAppear</td>\n",
       "      <td>2450</td>\n",
       "      <td>2479</td>\n",
       "      <td>2494</td>\n",
       "      <td>4929</td>\n",
       "    </tr>\n",
       "    <tr>\n",
       "      <th>2</th>\n",
       "      <td>OffersScreenAppear</td>\n",
       "      <td>1542</td>\n",
       "      <td>1522</td>\n",
       "      <td>1531</td>\n",
       "      <td>3064</td>\n",
       "    </tr>\n",
       "    <tr>\n",
       "      <th>3</th>\n",
       "      <td>PaymentScreenSuccessful</td>\n",
       "      <td>1200</td>\n",
       "      <td>1158</td>\n",
       "      <td>1181</td>\n",
       "      <td>2358</td>\n",
       "    </tr>\n",
       "    <tr>\n",
       "      <th>4</th>\n",
       "      <td>Tutorial</td>\n",
       "      <td>278</td>\n",
       "      <td>283</td>\n",
       "      <td>280</td>\n",
       "      <td>561</td>\n",
       "    </tr>\n",
       "  </tbody>\n",
       "</table>\n",
       "</div>"
      ],
      "text/plain": [
       "experiment_id               event_name   246   247   248  246247\n",
       "0                     CartScreenAppear  1266  1239  1230    2505\n",
       "1                     MainScreenAppear  2450  2479  2494    4929\n",
       "2                   OffersScreenAppear  1542  1522  1531    3064\n",
       "3              PaymentScreenSuccessful  1200  1158  1181    2358\n",
       "4                             Tutorial   278   283   280     561"
      ]
     },
     "execution_count": 181,
     "metadata": {},
     "output_type": "execute_result"
    }
   ],
   "source": [
    "pivot"
   ]
  },
  {
   "cell_type": "code",
   "execution_count": 182,
   "metadata": {},
   "outputs": [
    {
     "name": "stdout",
     "output_type": "stream",
     "text": [
      "Successes and trials: 2505 1230 0 2537\n"
     ]
    }
   ],
   "source": [
    "group1 = 246247\n",
    "group2 = 248\n",
    "event = 'CartScreenAppear'\n",
    "alpha=0.05\n",
    "\n",
    "success1=pivot[pivot.event_name==event][group1].iloc[0]\n",
    "success2=pivot[pivot.event_name==event][group2].iloc[0]\n",
    "\n",
    "trials1=df_filt[df_filt.experiment_id==group1]['user_id'].nunique()\n",
    "trials2=df_filt[df_filt.experiment_id==group2]['user_id'].nunique()\n",
    "\n",
    "print('Successes and trials:', success1, success2, trials1, trials2) \n",
    "# We got zero value here. That's why the code fails. \n",
    "# That happend, because you didn't have 246247 label in your original dataset\n",
    "# In order to simplify the task, you can calculate trials amount outside the function and pass it like new argumnet\n",
    "# Some thing like check_hypotesis(group1,group2,event,total_trials_amount, alpha=0.05)"
   ]
  },
  {
   "cell_type": "code",
   "execution_count": 183,
   "metadata": {},
   "outputs": [
    {
     "name": "stdout",
     "output_type": "stream",
     "text": [
      "Successes 1 : 2505\n",
      "Successes 2 : 1230\n",
      "trials 1 : 0 <------ Error\n",
      "trials 2 : 2537\n"
     ]
    }
   ],
   "source": [
    "print('Successes 1 :', success1)\n",
    "print('Successes 2 :', success2)\n",
    "print('trials 1 :',trials1, '<------ Error') \n",
    "#Since in our df_filt 246 247 and 248 are listed individually, \n",
    "#we would also have to calculate 247248 and our df_filt in order not \n",
    "#to have 0 in our trivial 1\n",
    "print('trials 2 :',trials2)"
   ]
  },
  {
   "cell_type": "code",
   "execution_count": 184,
   "metadata": {},
   "outputs": [
    {
     "data": {
      "text/html": [
       "<div>\n",
       "<style scoped>\n",
       "    .dataframe tbody tr th:only-of-type {\n",
       "        vertical-align: middle;\n",
       "    }\n",
       "\n",
       "    .dataframe tbody tr th {\n",
       "        vertical-align: top;\n",
       "    }\n",
       "\n",
       "    .dataframe thead th {\n",
       "        text-align: right;\n",
       "    }\n",
       "</style>\n",
       "<table border=\"1\" class=\"dataframe\">\n",
       "  <thead>\n",
       "    <tr style=\"text-align: right;\">\n",
       "      <th></th>\n",
       "      <th>event_name</th>\n",
       "      <th>user_id</th>\n",
       "      <th>timestamp</th>\n",
       "      <th>experiment_id</th>\n",
       "      <th>day_of_week</th>\n",
       "    </tr>\n",
       "  </thead>\n",
       "  <tbody>\n",
       "    <tr>\n",
       "      <th>2415</th>\n",
       "      <td>MainScreenAppear</td>\n",
       "      <td>3957232200565023322</td>\n",
       "      <td>2019-08-01 00:00:12</td>\n",
       "      <td>246</td>\n",
       "      <td>Thursday</td>\n",
       "    </tr>\n",
       "    <tr>\n",
       "      <th>2416</th>\n",
       "      <td>OffersScreenAppear</td>\n",
       "      <td>3957232200565023322</td>\n",
       "      <td>2019-08-01 00:00:17</td>\n",
       "      <td>246</td>\n",
       "      <td>Thursday</td>\n",
       "    </tr>\n",
       "    <tr>\n",
       "      <th>2417</th>\n",
       "      <td>MainScreenAppear</td>\n",
       "      <td>4933689529142781210</td>\n",
       "      <td>2019-08-01 00:00:29</td>\n",
       "      <td>246</td>\n",
       "      <td>Thursday</td>\n",
       "    </tr>\n",
       "    <tr>\n",
       "      <th>2418</th>\n",
       "      <td>MainScreenAppear</td>\n",
       "      <td>1802682376349807053</td>\n",
       "      <td>2019-08-01 00:00:33</td>\n",
       "      <td>248</td>\n",
       "      <td>Thursday</td>\n",
       "    </tr>\n",
       "    <tr>\n",
       "      <th>2419</th>\n",
       "      <td>MainScreenAppear</td>\n",
       "      <td>2011152258955517776</td>\n",
       "      <td>2019-08-01 00:00:42</td>\n",
       "      <td>247</td>\n",
       "      <td>Thursday</td>\n",
       "    </tr>\n",
       "  </tbody>\n",
       "</table>\n",
       "</div>"
      ],
      "text/plain": [
       "              event_name              user_id           timestamp  \\\n",
       "2415    MainScreenAppear  3957232200565023322 2019-08-01 00:00:12   \n",
       "2416  OffersScreenAppear  3957232200565023322 2019-08-01 00:00:17   \n",
       "2417    MainScreenAppear  4933689529142781210 2019-08-01 00:00:29   \n",
       "2418    MainScreenAppear  1802682376349807053 2019-08-01 00:00:33   \n",
       "2419    MainScreenAppear  2011152258955517776 2019-08-01 00:00:42   \n",
       "\n",
       "      experiment_id day_of_week  \n",
       "2415            246    Thursday  \n",
       "2416            246    Thursday  \n",
       "2417            246    Thursday  \n",
       "2418            248    Thursday  \n",
       "2419            247    Thursday  "
      ]
     },
     "execution_count": 184,
     "metadata": {},
     "output_type": "execute_result"
    }
   ],
   "source": [
    "df_filt.head()"
   ]
  },
  {
   "cell_type": "code",
   "execution_count": 185,
   "metadata": {},
   "outputs": [
    {
     "data": {
      "text/plain": [
       "5001"
      ]
     },
     "execution_count": 185,
     "metadata": {},
     "output_type": "execute_result"
    }
   ],
   "source": [
    "trials1=df_filt[df_filt.experiment_id==246]['user_id'].nunique()+df_filt[df_filt.experiment_id==247]['user_id'].nunique()\n",
    "trials1"
   ]
  },
  {
   "cell_type": "code",
   "execution_count": 186,
   "metadata": {},
   "outputs": [
    {
     "name": "stdout",
     "output_type": "stream",
     "text": [
      "Successes 1 : 2505\n",
      "Successes 2 : 1230\n",
      "trials 1 : 5001\n",
      "trials 2 : 2537\n"
     ]
    }
   ],
   "source": [
    "print('Successes 1 :', success1)\n",
    "print('Successes 2 :', success2)\n",
    "print('trials 1 :',trials1)\n",
    "print('trials 2 :',trials2)"
   ]
  },
  {
   "cell_type": "code",
   "execution_count": 187,
   "metadata": {},
   "outputs": [
    {
     "name": "stdout",
     "output_type": "stream",
     "text": [
      "p1 0.5008998200359928\n",
      "p2 0.48482459597950334\n",
      "p_combined 0.49548951976651634\n",
      "difference 0.016075224056489423\n",
      "z_value 1.3190622651014665\n",
      "p-value: 0.18714829717090664\n"
     ]
    }
   ],
   "source": [
    "   # sugsess proportion in de group:\n",
    "p1=success1/trials1\n",
    "p2=success2/trials2\n",
    "print('p1',p1)\n",
    "print('p2',p2)\n",
    "    #and in combined dataset:\n",
    "p_combined = (success1 + success2) / (trials1 + trials2)\n",
    "print('p_combined',p_combined)\n",
    "    #the difference between the datasets\n",
    "difference= p1 - p2\n",
    "print('difference',difference)\n",
    "\n",
    "#calc the statistic in standard deviations of the standart normal distribution\n",
    "z_value = difference / mth.sqrt(p_combined *(1 - p_combined) * (1/trials1 +1/trials2))\n",
    "print('z_value',z_value)\n",
    "\n",
    "#setting up the standart normal distribution (mean0, standard deviation 1)\n",
    "distr = st.norm(0, 1)   \n",
    "#calc the statistic in standard deviations of the standart normal distribution\n",
    "p_value =(1 - distr.cdf(abs(z_value))) *2   \n",
    "\n",
    "print('p-value:', p_value)"
   ]
  },
  {
   "cell_type": "code",
   "execution_count": 188,
   "metadata": {},
   "outputs": [
    {
     "name": "stdout",
     "output_type": "stream",
     "text": [
      "Failed to reject the null hypotesit for CartScreenAppear and groups 246247 248\n"
     ]
    }
   ],
   "source": [
    "    if(p_value < alpha):\n",
    "        print('Reject the null hypotesis for',event, 'and groups', group1, group2)\n",
    "    else:\n",
    "        print('Failed to reject the null hypotesit for', event,'and groups', group1, group2)    "
   ]
  },
  {
   "cell_type": "code",
   "execution_count": 189,
   "metadata": {},
   "outputs": [],
   "source": [
    "def check_hypotesis(group1,group2,event,alpha=0.05):\n",
    "    success1=pivot[pivot.event_name==event][group1].iloc[0]\n",
    "    success2=pivot[pivot.event_name==event][group2].iloc[0]\n",
    "    \n",
    "    trials1=df_filt[df_filt.experiment_id==246]['user_id'].nunique()+df_filt[df_filt.experiment_id==247]['user_id'].nunique()\n",
    "    trials2=df_filt[df_filt.experiment_id==group2]['user_id'].nunique()\n",
    "   \n",
    "    # sugsess proportion in de group:\n",
    "    p1=success1/trials1\n",
    "    p2=success2/trials2\n",
    "    #and in combined dataset:\n",
    "    p_combined = (success1 + success2) / (trials1 + trials2)\n",
    "    \n",
    "    #the difference between the datasets\n",
    "    difference= p1 - p2\n",
    "    #calc the statistic in standard deviations of the standart normal distribution\n",
    "    z_value = difference / mth.sqrt(p_combined *(1 - p_combined) * (1/trials1 +1/trials2))\n",
    "    \n",
    "    #setting up the standart normal distribution (mean0, standard deviation 1)\n",
    "    distr = st.norm(0, 1)   \n",
    "    #calc the statistic in standard deviations of the standart normal distribution\n",
    "    p_value =(1 - distr.cdf(abs(z_value))) *2 \n",
    "    \n",
    "    print('p-value:', p_value)\n",
    "    \n",
    "    if(p_value < alpha):\n",
    "        print('Reject the null hypotesis for',event, 'and groups', group1, group2)\n",
    "    else:\n",
    "        print('Failed to reject the null hypotesit for', event,'and groups', group1, group2)"
   ]
  },
  {
   "cell_type": "code",
   "execution_count": 190,
   "metadata": {},
   "outputs": [
    {
     "name": "stdout",
     "output_type": "stream",
     "text": [
      "p-value: 0.18714829717090664\n",
      "Failed to reject the null hypotesit for CartScreenAppear and groups 246247 248\n",
      "p-value: 0.39298914928006035\n",
      "Failed to reject the null hypotesit for MainScreenAppear and groups 246247 248\n",
      "p-value: 0.4386768167991866\n",
      "Failed to reject the null hypotesit for OffersScreenAppear and groups 246247 248\n",
      "p-value: 0.6221237660987535\n",
      "Failed to reject the null hypotesit for PaymentScreenSuccessful and groups 246247 248\n",
      "p-value: 0.813440015718357\n",
      "Failed to reject the null hypotesit for Tutorial and groups 246247 248\n"
     ]
    }
   ],
   "source": [
    "for i in pivot.event_name.unique():\n",
    "    check_hypotesis(246247,248,i,alpha=0.05)"
   ]
  },
  {
   "cell_type": "markdown",
   "metadata": {},
   "source": [
    "**Conclusion**\n",
    "\n",
    "Here, too, we failed to reject our H 0, which means there is no significant difference between 246+ 247 = (246247) and / 248. Our H1 that there is a significant difference between the groups, so that the two are not the same failed."
   ]
  },
  {
   "cell_type": "markdown",
   "metadata": {},
   "source": [
    "<a name=\"Step_5.5\"></a>\n",
    "**Step 5. Study the results of the experiment**  \n",
    "    \n",
    "   • What significance level have you set to test the statistical hypotheses mentioned above? Calculate how many statistical hypothesis tests you carried out. With a statistical significance level of 0.1, one in 10 results could be false. What should the significance level be? If you want to change it, run through the previous steps again and check your conclusions.\n",
    "   \n",
    "  Back to the table of contents [click here](#table_of_contents)   "
   ]
  },
  {
   "cell_type": "markdown",
   "metadata": {},
   "source": [
    "Since we have tested the hypotheses several times, we know that the Family Wise Error Rate (actually probability and not a rate) should be taken into account. We tested the ratio of the two experiments 246 & 247 based on the number of individual event groups. We also tested the same for experiments 247 & 248 on the 5 groups. with an alpha value of 0.05 i.e. a probability of 5% that the result does not correspond to what we hypothesize. The more often we test a hypotesis with the same values, it is important that this also increases the probability that we will find one significant difference bump because our fixed alpha adds up with each test.\n",
    "In numbers it would mean for us in the first test 1 for 100% -0.95 for our 95% probability that we are correct = 0.05 so 5% that we are not correct. But since we repeat the test 5 times, our calculation looks like this. 1 (100%) - 0.95^5 = 0.226 thus our alpha has increased our probability of making a mistake in our hypotesis. If we know that we will test our hypotesis several times and we can also calculate our alpha for the number of tests so that in the end we get our alpha of 0.05 for test. To calculate our threshold, we divide our desired FWER, for example 0.05 (5%), by the number of hypotesis tests in our case 5. So 0.05 / 5 = 0.01 we would have to set our alpha aso to 0.01 in order to receive a FWER of 0.05 for several tests. "
   ]
  },
  {
   "cell_type": "markdown",
   "metadata": {},
   "source": [
    "**Overall conclusion**  \n",
    "\n",
    "We have been able to draw some useful information from the analysis that we can now further develop in order to be able to draw further conclusions and what must be observed in order to avoid or correct old errors. Which include, among other things, lost data as well as large losses of users and results of our hypotesis test. \n",
    "In the hypotesis test we could see that there were no statistically significant differences between the groups. \n",
    "With the funnels, we could see that, despite this statistically insignificant difference, there was a group that could not see any statistically significant differences through the funnel that we in all groups of Main Screen Appear to the next stuffed a huge loss of users and, in the case of Payment Screen Success, also had a huge loss of users. With our histogram we were able to determine that we were missing a large amount of data before January 8th, 2019 and that if the date is left out, there is only a small amount of 1.159% of data that we lose. We also looked at the order of events with the users."
   ]
  }
 ],
 "metadata": {
  "ExecuteTimeLog": [
   {
    "duration": 154748,
    "start_time": "2021-06-08T17:57:57.226Z"
   },
   {
    "duration": 2541,
    "start_time": "2021-06-08T18:00:31.977Z"
   },
   {
    "duration": 373,
    "start_time": "2021-06-08T18:00:34.521Z"
   },
   {
    "duration": 21,
    "start_time": "2021-06-08T18:00:34.897Z"
   },
   {
    "duration": 17,
    "start_time": "2021-06-08T18:00:34.920Z"
   },
   {
    "duration": 45,
    "start_time": "2021-06-08T18:00:34.940Z"
   },
   {
    "duration": 79,
    "start_time": "2021-06-08T18:00:34.987Z"
   },
   {
    "duration": 98,
    "start_time": "2021-06-08T18:00:35.070Z"
   },
   {
    "duration": 85,
    "start_time": "2021-06-08T18:00:35.171Z"
   },
   {
    "duration": 242,
    "start_time": "2021-06-08T18:00:35.259Z"
   },
   {
    "duration": 160,
    "start_time": "2021-06-08T18:00:35.503Z"
   },
   {
    "duration": 38,
    "start_time": "2021-06-08T18:00:35.665Z"
   },
   {
    "duration": 24,
    "start_time": "2021-06-08T18:00:35.705Z"
   },
   {
    "duration": 20,
    "start_time": "2021-06-08T18:00:35.732Z"
   },
   {
    "duration": 7,
    "start_time": "2021-06-08T18:00:35.762Z"
   },
   {
    "duration": 11,
    "start_time": "2021-06-08T18:00:35.786Z"
   },
   {
    "duration": 28,
    "start_time": "2021-06-08T18:00:35.799Z"
   },
   {
    "duration": 15,
    "start_time": "2021-06-08T18:00:35.830Z"
   },
   {
    "duration": 44,
    "start_time": "2021-06-08T18:00:35.847Z"
   },
   {
    "duration": 6,
    "start_time": "2021-06-08T18:00:35.893Z"
   },
   {
    "duration": 10,
    "start_time": "2021-06-08T18:00:35.902Z"
   },
   {
    "duration": 11,
    "start_time": "2021-06-08T18:00:35.915Z"
   },
   {
    "duration": 2205,
    "start_time": "2021-06-08T18:00:35.932Z"
   },
   {
    "duration": 2179,
    "start_time": "2021-06-08T18:00:38.141Z"
   },
   {
    "duration": 20,
    "start_time": "2021-06-08T18:00:40.323Z"
   },
   {
    "duration": 2053,
    "start_time": "2021-06-08T18:00:40.346Z"
   },
   {
    "duration": 60,
    "start_time": "2021-06-08T18:00:42.401Z"
   },
   {
    "duration": 42,
    "start_time": "2021-06-08T18:00:42.464Z"
   },
   {
    "duration": 25,
    "start_time": "2021-06-08T18:00:42.508Z"
   },
   {
    "duration": 53,
    "start_time": "2021-06-08T18:00:42.535Z"
   },
   {
    "duration": 4,
    "start_time": "2021-06-08T18:00:42.590Z"
   },
   {
    "duration": 44,
    "start_time": "2021-06-08T18:00:42.596Z"
   },
   {
    "duration": 98,
    "start_time": "2021-06-08T18:00:42.642Z"
   },
   {
    "duration": 8,
    "start_time": "2021-06-08T18:00:42.742Z"
   },
   {
    "duration": 111,
    "start_time": "2021-06-08T18:00:42.753Z"
   },
   {
    "duration": 6,
    "start_time": "2021-06-08T18:00:42.866Z"
   },
   {
    "duration": 6,
    "start_time": "2021-06-08T18:00:42.886Z"
   },
   {
    "duration": 6,
    "start_time": "2021-06-08T18:00:42.895Z"
   },
   {
    "duration": 9,
    "start_time": "2021-06-08T18:00:42.903Z"
   },
   {
    "duration": 13,
    "start_time": "2021-06-08T18:00:42.914Z"
   },
   {
    "duration": 54,
    "start_time": "2021-06-08T18:00:42.930Z"
   },
   {
    "duration": 9,
    "start_time": "2021-06-08T18:00:42.987Z"
   },
   {
    "duration": 12,
    "start_time": "2021-06-08T18:00:42.998Z"
   },
   {
    "duration": 16,
    "start_time": "2021-06-08T18:00:43.012Z"
   },
   {
    "duration": 29,
    "start_time": "2021-06-08T18:00:43.030Z"
   },
   {
    "duration": 201,
    "start_time": "2021-06-08T18:00:43.086Z"
   },
   {
    "duration": 21,
    "start_time": "2021-06-08T18:00:43.290Z"
   },
   {
    "duration": 4,
    "start_time": "2021-06-08T18:00:43.314Z"
   },
   {
    "duration": 14,
    "start_time": "2021-06-08T18:00:43.321Z"
   },
   {
    "duration": 4,
    "start_time": "2021-06-08T18:00:43.337Z"
   },
   {
    "duration": 47,
    "start_time": "2021-06-08T18:00:43.344Z"
   },
   {
    "duration": 8,
    "start_time": "2021-06-08T18:00:43.394Z"
   },
   {
    "duration": 530,
    "start_time": "2021-06-08T18:00:43.404Z"
   },
   {
    "duration": 11,
    "start_time": "2021-06-08T18:00:43.937Z"
   },
   {
    "duration": 24,
    "start_time": "2021-06-08T18:00:43.951Z"
   },
   {
    "duration": 10,
    "start_time": "2021-06-08T18:00:43.986Z"
   },
   {
    "duration": 31834,
    "start_time": "2021-06-08T18:00:43.998Z"
   },
   {
    "duration": 21,
    "start_time": "2021-06-08T18:01:15.834Z"
   },
   {
    "duration": 27,
    "start_time": "2021-06-08T18:01:15.858Z"
   },
   {
    "duration": 30197,
    "start_time": "2021-06-08T18:01:15.888Z"
   },
   {
    "duration": 20,
    "start_time": "2021-06-08T18:01:46.088Z"
   },
   {
    "duration": 14,
    "start_time": "2021-06-08T18:01:46.111Z"
   },
   {
    "duration": 14,
    "start_time": "2021-06-08T18:01:46.128Z"
   },
   {
    "duration": 59,
    "start_time": "2021-06-08T18:01:46.144Z"
   },
   {
    "duration": 82,
    "start_time": "2021-06-08T18:01:46.205Z"
   },
   {
    "duration": 19,
    "start_time": "2021-06-08T18:01:46.290Z"
   },
   {
    "duration": 140,
    "start_time": "2021-06-08T18:01:46.312Z"
   },
   {
    "duration": 26,
    "start_time": "2021-06-08T18:01:46.461Z"
   },
   {
    "duration": 22319,
    "start_time": "2021-06-08T18:01:46.490Z"
   },
   {
    "duration": 81,
    "start_time": "2021-06-08T18:02:08.811Z"
   },
   {
    "duration": 7,
    "start_time": "2021-06-08T18:02:08.894Z"
   },
   {
    "duration": 8,
    "start_time": "2021-06-08T18:02:08.904Z"
   },
   {
    "duration": 8,
    "start_time": "2021-06-08T18:02:08.915Z"
   },
   {
    "duration": 64,
    "start_time": "2021-06-08T18:02:08.925Z"
   },
   {
    "duration": 8,
    "start_time": "2021-06-08T18:02:08.991Z"
   },
   {
    "duration": 25,
    "start_time": "2021-06-08T18:02:09.002Z"
   },
   {
    "duration": 40,
    "start_time": "2021-06-08T18:02:09.085Z"
   },
   {
    "duration": 4,
    "start_time": "2021-06-08T18:02:09.128Z"
   },
   {
    "duration": 3,
    "start_time": "2021-06-08T18:02:09.186Z"
   },
   {
    "duration": 9,
    "start_time": "2021-06-08T18:02:09.191Z"
   },
   {
    "duration": 35,
    "start_time": "2021-06-08T18:02:09.203Z"
   },
   {
    "duration": 105,
    "start_time": "2021-06-08T18:02:09.240Z"
   },
   {
    "duration": 7,
    "start_time": "2021-06-08T18:02:09.347Z"
   },
   {
    "duration": 33,
    "start_time": "2021-06-08T18:02:09.357Z"
   },
   {
    "duration": 10,
    "start_time": "2021-06-08T18:02:09.392Z"
   },
   {
    "duration": 35,
    "start_time": "2021-06-08T18:02:09.404Z"
   },
   {
    "duration": 161,
    "start_time": "2021-06-08T18:02:09.441Z"
   },
   {
    "duration": 146,
    "start_time": "2021-06-08T18:02:09.604Z"
   },
   {
    "duration": 154,
    "start_time": "2021-06-08T18:02:09.753Z"
   },
   {
    "duration": 13,
    "start_time": "2021-06-08T18:02:09.910Z"
   },
   {
    "duration": 4,
    "start_time": "2021-06-08T18:02:09.926Z"
   },
   {
    "duration": 115,
    "start_time": "2021-06-08T18:05:22.482Z"
   },
   {
    "duration": 97,
    "start_time": "2021-06-08T18:05:30.345Z"
   },
   {
    "duration": 108,
    "start_time": "2021-06-08T18:05:36.214Z"
   },
   {
    "duration": 99,
    "start_time": "2021-06-08T18:05:39.174Z"
   },
   {
    "duration": 106,
    "start_time": "2021-06-08T18:05:42.166Z"
   },
   {
    "duration": 21,
    "start_time": "2021-06-08T18:08:59.732Z"
   },
   {
    "duration": 526,
    "start_time": "2021-06-08T18:10:43.065Z"
   },
   {
    "duration": 46,
    "start_time": "2021-06-08T18:10:46.404Z"
   },
   {
    "duration": 136081,
    "start_time": "2021-06-08T18:11:36.380Z"
   },
   {
    "duration": 6,
    "start_time": "2021-06-08T18:13:52.465Z"
   },
   {
    "duration": 528,
    "start_time": "2021-06-08T18:13:52.474Z"
   },
   {
    "duration": 21,
    "start_time": "2021-06-08T18:13:53.005Z"
   },
   {
    "duration": 13,
    "start_time": "2021-06-08T18:13:53.028Z"
   },
   {
    "duration": 49,
    "start_time": "2021-06-08T18:13:53.044Z"
   },
   {
    "duration": 71,
    "start_time": "2021-06-08T18:13:53.096Z"
   },
   {
    "duration": 75,
    "start_time": "2021-06-08T18:13:53.186Z"
   },
   {
    "duration": 80,
    "start_time": "2021-06-08T18:13:53.264Z"
   },
   {
    "duration": 239,
    "start_time": "2021-06-08T18:13:53.347Z"
   },
   {
    "duration": 140,
    "start_time": "2021-06-08T18:13:53.589Z"
   },
   {
    "duration": 28,
    "start_time": "2021-06-08T18:13:53.732Z"
   },
   {
    "duration": 34,
    "start_time": "2021-06-08T18:13:53.762Z"
   },
   {
    "duration": 22,
    "start_time": "2021-06-08T18:13:53.798Z"
   },
   {
    "duration": 8,
    "start_time": "2021-06-08T18:13:53.822Z"
   },
   {
    "duration": 12,
    "start_time": "2021-06-08T18:13:53.832Z"
   },
   {
    "duration": 44,
    "start_time": "2021-06-08T18:13:53.847Z"
   },
   {
    "duration": 17,
    "start_time": "2021-06-08T18:13:53.894Z"
   },
   {
    "duration": 17,
    "start_time": "2021-06-08T18:13:53.914Z"
   },
   {
    "duration": 6,
    "start_time": "2021-06-08T18:13:53.933Z"
   },
   {
    "duration": 46,
    "start_time": "2021-06-08T18:13:53.941Z"
   },
   {
    "duration": 9,
    "start_time": "2021-06-08T18:13:53.989Z"
   },
   {
    "duration": 1989,
    "start_time": "2021-06-08T18:13:54.005Z"
   },
   {
    "duration": 2146,
    "start_time": "2021-06-08T18:13:55.997Z"
   },
   {
    "duration": 127,
    "start_time": "2021-06-08T18:13:58.145Z"
   },
   {
    "duration": 20,
    "start_time": "2021-06-08T18:13:58.275Z"
   },
   {
    "duration": 2304,
    "start_time": "2021-06-08T18:13:58.298Z"
   },
   {
    "duration": 59,
    "start_time": "2021-06-08T18:14:00.604Z"
   },
   {
    "duration": 40,
    "start_time": "2021-06-08T18:14:00.666Z"
   },
   {
    "duration": 26,
    "start_time": "2021-06-08T18:14:00.709Z"
   },
   {
    "duration": 38,
    "start_time": "2021-06-08T18:14:00.738Z"
   },
   {
    "duration": 4,
    "start_time": "2021-06-08T18:14:00.778Z"
   },
   {
    "duration": 76,
    "start_time": "2021-06-08T18:14:00.786Z"
   },
   {
    "duration": 106,
    "start_time": "2021-06-08T18:14:00.865Z"
   },
   {
    "duration": 6,
    "start_time": "2021-06-08T18:14:00.973Z"
   },
   {
    "duration": 104,
    "start_time": "2021-06-08T18:14:00.982Z"
   },
   {
    "duration": 7,
    "start_time": "2021-06-08T18:14:01.088Z"
   },
   {
    "duration": 254,
    "start_time": "2021-06-08T18:14:01.097Z"
   },
   {
    "duration": 15,
    "start_time": "2021-06-08T18:14:01.353Z"
   },
   {
    "duration": 195,
    "start_time": "2021-06-08T18:14:01.371Z"
   },
   {
    "duration": 49,
    "start_time": "2021-06-08T18:14:01.568Z"
   },
   {
    "duration": 30,
    "start_time": "2021-06-08T18:14:01.619Z"
   },
   {
    "duration": 32,
    "start_time": "2021-06-08T18:14:01.651Z"
   },
   {
    "duration": 16,
    "start_time": "2021-06-08T18:14:01.686Z"
   },
   {
    "duration": 41,
    "start_time": "2021-06-08T18:14:01.704Z"
   },
   {
    "duration": 44,
    "start_time": "2021-06-08T18:14:01.747Z"
   },
   {
    "duration": 208,
    "start_time": "2021-06-08T18:14:01.794Z"
   },
   {
    "duration": 19,
    "start_time": "2021-06-08T18:14:02.004Z"
   },
   {
    "duration": 26,
    "start_time": "2021-06-08T18:14:02.025Z"
   },
   {
    "duration": 32,
    "start_time": "2021-06-08T18:14:02.053Z"
   },
   {
    "duration": 31,
    "start_time": "2021-06-08T18:14:02.087Z"
   },
   {
    "duration": 27,
    "start_time": "2021-06-08T18:14:02.121Z"
   },
   {
    "duration": 53,
    "start_time": "2021-06-08T18:14:02.151Z"
   },
   {
    "duration": 533,
    "start_time": "2021-06-08T18:14:02.206Z"
   },
   {
    "duration": 9,
    "start_time": "2021-06-08T18:14:02.741Z"
   },
   {
    "duration": 20,
    "start_time": "2021-06-08T18:14:02.752Z"
   },
   {
    "duration": 22,
    "start_time": "2021-06-08T18:14:02.774Z"
   },
   {
    "duration": 9377,
    "start_time": "2021-06-08T18:14:02.798Z"
   },
   {
    "duration": 13,
    "start_time": "2021-06-08T18:14:25.106Z"
   },
   {
    "duration": 1484,
    "start_time": "2021-06-08T18:15:35.459Z"
   },
   {
    "duration": 1674,
    "start_time": "2021-06-08T18:15:49.648Z"
   },
   {
    "duration": 1529,
    "start_time": "2021-06-08T18:16:00.129Z"
   },
   {
    "duration": 1558,
    "start_time": "2021-06-08T18:16:13.587Z"
   },
   {
    "duration": 1521,
    "start_time": "2021-06-08T18:16:18.361Z"
   },
   {
    "duration": 1653,
    "start_time": "2021-06-08T18:17:24.576Z"
   },
   {
    "duration": 2015,
    "start_time": "2021-06-08T18:18:54.770Z"
   },
   {
    "duration": 1874,
    "start_time": "2021-06-08T18:19:05.911Z"
   },
   {
    "duration": 94,
    "start_time": "2021-06-08T18:19:17.303Z"
   },
   {
    "duration": 1836,
    "start_time": "2021-06-08T18:19:20.218Z"
   },
   {
    "duration": 1537,
    "start_time": "2021-06-08T18:19:27.805Z"
   },
   {
    "duration": 1564,
    "start_time": "2021-06-08T18:19:36.885Z"
   },
   {
    "duration": 38739,
    "start_time": "2021-06-08T18:21:32.517Z"
   },
   {
    "duration": 17311,
    "start_time": "2021-06-08T18:22:24.193Z"
   },
   {
    "duration": 1517,
    "start_time": "2021-06-08T18:23:10.232Z"
   },
   {
    "duration": 1502,
    "start_time": "2021-06-08T18:23:20.853Z"
   },
   {
    "duration": 7984,
    "start_time": "2021-06-08T18:23:26.550Z"
   },
   {
    "duration": 7958,
    "start_time": "2021-06-08T18:24:34.390Z"
   },
   {
    "duration": 13,
    "start_time": "2021-06-08T18:25:35.708Z"
   },
   {
    "duration": 21045,
    "start_time": "2021-06-08T18:26:26.119Z"
   },
   {
    "duration": -18,
    "start_time": "2021-06-08T18:28:11.896Z"
   },
   {
    "duration": 4,
    "start_time": "2021-06-08T18:28:17.162Z"
   },
   {
    "duration": 13,
    "start_time": "2021-06-08T18:28:28.083Z"
   },
   {
    "duration": 8452,
    "start_time": "2021-06-08T18:29:00.574Z"
   },
   {
    "duration": 9933,
    "start_time": "2021-06-08T18:29:54.524Z"
   },
   {
    "duration": 9095,
    "start_time": "2021-06-08T18:30:29.746Z"
   },
   {
    "duration": 9579,
    "start_time": "2021-06-08T18:30:58.746Z"
   },
   {
    "duration": 7485,
    "start_time": "2021-06-08T18:32:38.867Z"
   },
   {
    "duration": 2182,
    "start_time": "2021-06-08T18:34:44.344Z"
   },
   {
    "duration": 2697,
    "start_time": "2021-06-08T18:35:50.509Z"
   },
   {
    "duration": 2785,
    "start_time": "2021-06-08T19:58:28.413Z"
   },
   {
    "duration": 167,
    "start_time": "2021-06-08T19:59:12.714Z"
   },
   {
    "duration": 2609,
    "start_time": "2021-06-08T19:59:21.215Z"
   },
   {
    "duration": 2629,
    "start_time": "2021-06-08T19:59:28.097Z"
   },
   {
    "duration": 166529,
    "start_time": "2021-06-08T20:09:21.755Z"
   },
   {
    "duration": 5,
    "start_time": "2021-06-08T20:12:08.287Z"
   },
   {
    "duration": 492,
    "start_time": "2021-06-08T20:12:08.296Z"
   },
   {
    "duration": 22,
    "start_time": "2021-06-08T20:12:08.791Z"
   },
   {
    "duration": 12,
    "start_time": "2021-06-08T20:12:08.817Z"
   },
   {
    "duration": 55,
    "start_time": "2021-06-08T20:12:08.832Z"
   },
   {
    "duration": 95,
    "start_time": "2021-06-08T20:12:08.890Z"
   },
   {
    "duration": 77,
    "start_time": "2021-06-08T20:12:08.991Z"
   },
   {
    "duration": 78,
    "start_time": "2021-06-08T20:12:09.072Z"
   },
   {
    "duration": 266,
    "start_time": "2021-06-08T20:12:09.153Z"
   },
   {
    "duration": 144,
    "start_time": "2021-06-08T20:12:09.421Z"
   },
   {
    "duration": 41,
    "start_time": "2021-06-08T20:12:09.567Z"
   },
   {
    "duration": 15,
    "start_time": "2021-06-08T20:12:09.611Z"
   },
   {
    "duration": 13,
    "start_time": "2021-06-08T20:12:09.629Z"
   },
   {
    "duration": 44,
    "start_time": "2021-06-08T20:12:09.644Z"
   },
   {
    "duration": 11,
    "start_time": "2021-06-08T20:12:09.690Z"
   },
   {
    "duration": 17,
    "start_time": "2021-06-08T20:12:09.704Z"
   },
   {
    "duration": 18,
    "start_time": "2021-06-08T20:12:09.724Z"
   },
   {
    "duration": 18,
    "start_time": "2021-06-08T20:12:09.785Z"
   },
   {
    "duration": 8,
    "start_time": "2021-06-08T20:12:09.806Z"
   },
   {
    "duration": 7,
    "start_time": "2021-06-08T20:12:09.817Z"
   },
   {
    "duration": 60,
    "start_time": "2021-06-08T20:12:09.827Z"
   },
   {
    "duration": 2233,
    "start_time": "2021-06-08T20:12:09.896Z"
   },
   {
    "duration": 3438,
    "start_time": "2021-06-08T20:12:12.135Z"
   },
   {
    "duration": 115,
    "start_time": "2021-06-08T20:12:15.577Z"
   },
   {
    "duration": 19,
    "start_time": "2021-06-08T20:12:15.695Z"
   },
   {
    "duration": 2009,
    "start_time": "2021-06-08T20:12:15.717Z"
   },
   {
    "duration": 76,
    "start_time": "2021-06-08T20:12:17.729Z"
   },
   {
    "duration": 27,
    "start_time": "2021-06-08T20:12:17.808Z"
   },
   {
    "duration": 49,
    "start_time": "2021-06-08T20:12:17.838Z"
   },
   {
    "duration": 28,
    "start_time": "2021-06-08T20:12:17.890Z"
   },
   {
    "duration": 4,
    "start_time": "2021-06-08T20:12:17.920Z"
   },
   {
    "duration": 74,
    "start_time": "2021-06-08T20:12:17.927Z"
   },
   {
    "duration": 91,
    "start_time": "2021-06-08T20:12:18.004Z"
   },
   {
    "duration": 8,
    "start_time": "2021-06-08T20:12:18.097Z"
   },
   {
    "duration": 97,
    "start_time": "2021-06-08T20:12:18.107Z"
   },
   {
    "duration": 7,
    "start_time": "2021-06-08T20:12:18.206Z"
   },
   {
    "duration": 12,
    "start_time": "2021-06-08T20:12:18.215Z"
   },
   {
    "duration": 7,
    "start_time": "2021-06-08T20:12:18.229Z"
   },
   {
    "duration": 10,
    "start_time": "2021-06-08T20:12:18.239Z"
   },
   {
    "duration": 44,
    "start_time": "2021-06-08T20:12:18.252Z"
   },
   {
    "duration": 9,
    "start_time": "2021-06-08T20:12:18.299Z"
   },
   {
    "duration": 12,
    "start_time": "2021-06-08T20:12:18.310Z"
   },
   {
    "duration": 12,
    "start_time": "2021-06-08T20:12:18.325Z"
   },
   {
    "duration": 9,
    "start_time": "2021-06-08T20:12:18.386Z"
   },
   {
    "duration": 29,
    "start_time": "2021-06-08T20:12:18.398Z"
   },
   {
    "duration": 236,
    "start_time": "2021-06-08T20:12:18.430Z"
   },
   {
    "duration": 33,
    "start_time": "2021-06-08T20:12:18.669Z"
   },
   {
    "duration": 5,
    "start_time": "2021-06-08T20:12:18.704Z"
   },
   {
    "duration": 14,
    "start_time": "2021-06-08T20:12:18.711Z"
   },
   {
    "duration": 4,
    "start_time": "2021-06-08T20:12:18.728Z"
   },
   {
    "duration": 52,
    "start_time": "2021-06-08T20:12:18.735Z"
   },
   {
    "duration": 9,
    "start_time": "2021-06-08T20:12:18.790Z"
   },
   {
    "duration": 919,
    "start_time": "2021-06-08T20:12:18.802Z"
   },
   {
    "duration": 14,
    "start_time": "2021-06-08T20:12:19.725Z"
   },
   {
    "duration": 17,
    "start_time": "2021-06-08T20:12:19.742Z"
   },
   {
    "duration": 11,
    "start_time": "2021-06-08T20:12:19.788Z"
   },
   {
    "duration": 2737,
    "start_time": "2021-06-08T20:12:19.801Z"
   },
   {
    "duration": 3,
    "start_time": "2021-06-08T20:12:22.541Z"
   },
   {
    "duration": 30367,
    "start_time": "2021-06-08T20:12:22.547Z"
   },
   {
    "duration": 22,
    "start_time": "2021-06-08T20:12:52.916Z"
   },
   {
    "duration": 11,
    "start_time": "2021-06-08T20:12:52.941Z"
   },
   {
    "duration": 31451,
    "start_time": "2021-06-08T20:12:52.955Z"
   },
   {
    "duration": 19,
    "start_time": "2021-06-08T20:13:24.409Z"
   },
   {
    "duration": 15,
    "start_time": "2021-06-08T20:13:24.430Z"
   },
   {
    "duration": 39,
    "start_time": "2021-06-08T20:13:24.448Z"
   },
   {
    "duration": 21,
    "start_time": "2021-06-08T20:13:24.490Z"
   },
   {
    "duration": 90,
    "start_time": "2021-06-08T20:13:24.520Z"
   },
   {
    "duration": 12,
    "start_time": "2021-06-08T20:13:24.613Z"
   },
   {
    "duration": 143,
    "start_time": "2021-06-08T20:13:24.628Z"
   },
   {
    "duration": 21,
    "start_time": "2021-06-08T20:13:24.773Z"
   },
   {
    "duration": 108,
    "start_time": "2021-06-08T20:13:24.796Z"
   },
   {
    "duration": 36,
    "start_time": "2021-06-08T20:13:24.907Z"
   },
   {
    "duration": 7,
    "start_time": "2021-06-08T20:13:24.946Z"
   },
   {
    "duration": 8,
    "start_time": "2021-06-08T20:13:24.986Z"
   },
   {
    "duration": 7,
    "start_time": "2021-06-08T20:13:24.996Z"
   },
   {
    "duration": 13,
    "start_time": "2021-06-08T20:13:25.006Z"
   },
   {
    "duration": 14,
    "start_time": "2021-06-08T20:13:25.022Z"
   },
   {
    "duration": 70,
    "start_time": "2021-06-08T20:13:25.040Z"
   },
   {
    "duration": 36,
    "start_time": "2021-06-08T20:13:25.113Z"
   },
   {
    "duration": 3,
    "start_time": "2021-06-08T20:13:25.152Z"
   },
   {
    "duration": 29,
    "start_time": "2021-06-08T20:13:25.158Z"
   },
   {
    "duration": 7,
    "start_time": "2021-06-08T20:13:25.190Z"
   },
   {
    "duration": 37,
    "start_time": "2021-06-08T20:13:25.200Z"
   },
   {
    "duration": 104,
    "start_time": "2021-06-08T20:13:25.240Z"
   },
   {
    "duration": 8,
    "start_time": "2021-06-08T20:13:25.348Z"
   },
   {
    "duration": 32,
    "start_time": "2021-06-08T20:13:25.359Z"
   },
   {
    "duration": 10,
    "start_time": "2021-06-08T20:13:25.394Z"
   },
   {
    "duration": 33,
    "start_time": "2021-06-08T20:13:25.407Z"
   },
   {
    "duration": 162,
    "start_time": "2021-06-08T20:13:25.442Z"
   },
   {
    "duration": 178,
    "start_time": "2021-06-08T20:13:25.607Z"
   },
   {
    "duration": 163,
    "start_time": "2021-06-08T20:13:25.788Z"
   },
   {
    "duration": 13,
    "start_time": "2021-06-08T20:13:25.954Z"
   },
   {
    "duration": 7681,
    "start_time": "2021-06-08T20:13:25.987Z"
   },
   {
    "duration": 13,
    "start_time": "2021-06-08T20:13:47.114Z"
   },
   {
    "duration": 613,
    "start_time": "2021-06-08T20:13:48.203Z"
   },
   {
    "duration": 13,
    "start_time": "2021-06-08T20:13:56.455Z"
   },
   {
    "duration": 634,
    "start_time": "2021-06-08T20:13:58.747Z"
   },
   {
    "duration": 146070,
    "start_time": "2021-06-08T20:16:06.073Z"
   },
   {
    "duration": 1539,
    "start_time": "2021-06-08T20:18:32.146Z"
   },
   {
    "duration": 372,
    "start_time": "2021-06-08T20:18:33.688Z"
   },
   {
    "duration": 22,
    "start_time": "2021-06-08T20:18:34.063Z"
   },
   {
    "duration": 15,
    "start_time": "2021-06-08T20:18:34.088Z"
   },
   {
    "duration": 20,
    "start_time": "2021-06-08T20:18:34.105Z"
   },
   {
    "duration": 113,
    "start_time": "2021-06-08T20:18:34.128Z"
   },
   {
    "duration": 102,
    "start_time": "2021-06-08T20:18:34.244Z"
   },
   {
    "duration": 88,
    "start_time": "2021-06-08T20:18:34.350Z"
   },
   {
    "duration": 255,
    "start_time": "2021-06-08T20:18:34.441Z"
   },
   {
    "duration": 147,
    "start_time": "2021-06-08T20:18:34.699Z"
   },
   {
    "duration": 40,
    "start_time": "2021-06-08T20:18:34.848Z"
   },
   {
    "duration": 16,
    "start_time": "2021-06-08T20:18:34.891Z"
   },
   {
    "duration": 14,
    "start_time": "2021-06-08T20:18:34.910Z"
   },
   {
    "duration": 9,
    "start_time": "2021-06-08T20:18:34.927Z"
   },
   {
    "duration": 56,
    "start_time": "2021-06-08T20:18:34.939Z"
   },
   {
    "duration": 18,
    "start_time": "2021-06-08T20:18:34.998Z"
   },
   {
    "duration": 18,
    "start_time": "2021-06-08T20:18:35.019Z"
   },
   {
    "duration": 59,
    "start_time": "2021-06-08T20:18:35.040Z"
   },
   {
    "duration": 7,
    "start_time": "2021-06-08T20:18:35.103Z"
   },
   {
    "duration": 7,
    "start_time": "2021-06-08T20:18:35.113Z"
   },
   {
    "duration": 10,
    "start_time": "2021-06-08T20:18:35.123Z"
   },
   {
    "duration": 2086,
    "start_time": "2021-06-08T20:18:35.185Z"
   },
   {
    "duration": 2082,
    "start_time": "2021-06-08T20:18:37.274Z"
   },
   {
    "duration": 158,
    "start_time": "2021-06-08T20:18:39.358Z"
   },
   {
    "duration": 23,
    "start_time": "2021-06-08T20:18:39.518Z"
   },
   {
    "duration": 2011,
    "start_time": "2021-06-08T20:18:39.550Z"
   },
   {
    "duration": 75,
    "start_time": "2021-06-08T20:18:41.566Z"
   },
   {
    "duration": 47,
    "start_time": "2021-06-08T20:18:41.644Z"
   },
   {
    "duration": 27,
    "start_time": "2021-06-08T20:18:41.694Z"
   },
   {
    "duration": 27,
    "start_time": "2021-06-08T20:18:41.724Z"
   },
   {
    "duration": 32,
    "start_time": "2021-06-08T20:18:41.754Z"
   },
   {
    "duration": 50,
    "start_time": "2021-06-08T20:18:41.789Z"
   },
   {
    "duration": 95,
    "start_time": "2021-06-08T20:18:41.842Z"
   },
   {
    "duration": 10,
    "start_time": "2021-06-08T20:18:41.940Z"
   },
   {
    "duration": 116,
    "start_time": "2021-06-08T20:18:41.953Z"
   },
   {
    "duration": 15,
    "start_time": "2021-06-08T20:18:42.072Z"
   },
   {
    "duration": 7,
    "start_time": "2021-06-08T20:18:42.090Z"
   },
   {
    "duration": 11,
    "start_time": "2021-06-08T20:18:42.100Z"
   },
   {
    "duration": 23,
    "start_time": "2021-06-08T20:18:42.114Z"
   },
   {
    "duration": 16,
    "start_time": "2021-06-08T20:18:42.139Z"
   },
   {
    "duration": 32,
    "start_time": "2021-06-08T20:18:42.157Z"
   },
   {
    "duration": 22,
    "start_time": "2021-06-08T20:18:42.192Z"
   },
   {
    "duration": 13,
    "start_time": "2021-06-08T20:18:42.217Z"
   },
   {
    "duration": 19,
    "start_time": "2021-06-08T20:18:42.232Z"
   },
   {
    "duration": 42,
    "start_time": "2021-06-08T20:18:42.254Z"
   },
   {
    "duration": 205,
    "start_time": "2021-06-08T20:18:42.300Z"
   },
   {
    "duration": 19,
    "start_time": "2021-06-08T20:18:42.508Z"
   },
   {
    "duration": 5,
    "start_time": "2021-06-08T20:18:42.529Z"
   },
   {
    "duration": 48,
    "start_time": "2021-06-08T20:18:42.537Z"
   },
   {
    "duration": 4,
    "start_time": "2021-06-08T20:18:42.587Z"
   },
   {
    "duration": 28,
    "start_time": "2021-06-08T20:18:42.594Z"
   },
   {
    "duration": 23,
    "start_time": "2021-06-08T20:18:42.625Z"
   },
   {
    "duration": 545,
    "start_time": "2021-06-08T20:18:42.650Z"
   },
   {
    "duration": 9,
    "start_time": "2021-06-08T20:18:43.198Z"
   },
   {
    "duration": 23,
    "start_time": "2021-06-08T20:18:43.210Z"
   },
   {
    "duration": 17,
    "start_time": "2021-06-08T20:18:43.235Z"
   },
   {
    "duration": 2974,
    "start_time": "2021-06-08T20:18:43.255Z"
   },
   {
    "duration": 3,
    "start_time": "2021-06-08T20:18:46.231Z"
   },
   {
    "duration": 29823,
    "start_time": "2021-06-08T20:18:46.237Z"
   },
   {
    "duration": 33,
    "start_time": "2021-06-08T20:19:16.063Z"
   },
   {
    "duration": 11,
    "start_time": "2021-06-08T20:19:16.098Z"
   },
   {
    "duration": 29003,
    "start_time": "2021-06-08T20:19:16.112Z"
   },
   {
    "duration": 19,
    "start_time": "2021-06-08T20:19:45.118Z"
   },
   {
    "duration": 13,
    "start_time": "2021-06-08T20:19:45.140Z"
   },
   {
    "duration": 39,
    "start_time": "2021-06-08T20:19:45.156Z"
   },
   {
    "duration": 20,
    "start_time": "2021-06-08T20:19:45.197Z"
   },
   {
    "duration": 88,
    "start_time": "2021-06-08T20:19:45.220Z"
   },
   {
    "duration": 18,
    "start_time": "2021-06-08T20:19:45.310Z"
   },
   {
    "duration": 133,
    "start_time": "2021-06-08T20:19:45.330Z"
   },
   {
    "duration": 24,
    "start_time": "2021-06-08T20:19:45.465Z"
   },
   {
    "duration": 28433,
    "start_time": "2021-06-08T20:19:45.492Z"
   },
   {
    "duration": 70,
    "start_time": "2021-06-08T20:20:13.928Z"
   },
   {
    "duration": 6,
    "start_time": "2021-06-08T20:20:14.001Z"
   },
   {
    "duration": 9,
    "start_time": "2021-06-08T20:20:14.010Z"
   },
   {
    "duration": 6,
    "start_time": "2021-06-08T20:20:14.022Z"
   },
   {
    "duration": 8,
    "start_time": "2021-06-08T20:20:14.086Z"
   },
   {
    "duration": 11,
    "start_time": "2021-06-08T20:20:14.096Z"
   },
   {
    "duration": 80,
    "start_time": "2021-06-08T20:20:14.110Z"
   },
   {
    "duration": 35,
    "start_time": "2021-06-08T20:20:14.192Z"
   },
   {
    "duration": 4,
    "start_time": "2021-06-08T20:20:14.287Z"
   },
   {
    "duration": 9,
    "start_time": "2021-06-08T20:20:14.294Z"
   },
   {
    "duration": 8,
    "start_time": "2021-06-08T20:20:14.306Z"
   },
   {
    "duration": 83,
    "start_time": "2021-06-08T20:20:14.317Z"
   },
   {
    "duration": 99,
    "start_time": "2021-06-08T20:20:14.403Z"
   },
   {
    "duration": 7,
    "start_time": "2021-06-08T20:20:14.505Z"
   },
   {
    "duration": 16,
    "start_time": "2021-06-08T20:20:14.514Z"
   },
   {
    "duration": 10,
    "start_time": "2021-06-08T20:20:14.532Z"
   },
   {
    "duration": 67,
    "start_time": "2021-06-08T20:20:14.544Z"
   },
   {
    "duration": 135,
    "start_time": "2021-06-08T20:20:14.613Z"
   },
   {
    "duration": 152,
    "start_time": "2021-06-08T20:20:14.751Z"
   },
   {
    "duration": 143,
    "start_time": "2021-06-08T20:20:14.905Z"
   },
   {
    "duration": 35,
    "start_time": "2021-06-08T20:20:15.051Z"
   },
   {
    "duration": 9617,
    "start_time": "2021-06-08T20:20:15.088Z"
   },
   {
    "duration": 38543,
    "start_time": "2021-06-09T07:56:53.940Z"
   },
   {
    "duration": 2060,
    "start_time": "2021-06-09T07:57:34.768Z"
   },
   {
    "duration": 427,
    "start_time": "2021-06-09T07:57:37.962Z"
   },
   {
    "duration": 27,
    "start_time": "2021-06-09T07:57:38.671Z"
   },
   {
    "duration": 23,
    "start_time": "2021-06-09T07:57:39.590Z"
   },
   {
    "duration": 20,
    "start_time": "2021-06-09T07:57:40.239Z"
   },
   {
    "duration": 79,
    "start_time": "2021-06-09T07:57:40.521Z"
   },
   {
    "duration": 107,
    "start_time": "2021-06-09T07:57:40.763Z"
   },
   {
    "duration": 81,
    "start_time": "2021-06-09T07:57:40.997Z"
   },
   {
    "duration": 263,
    "start_time": "2021-06-09T07:57:41.909Z"
   },
   {
    "duration": 169,
    "start_time": "2021-06-09T07:57:42.174Z"
   },
   {
    "duration": 46,
    "start_time": "2021-06-09T07:57:42.771Z"
   },
   {
    "duration": 19,
    "start_time": "2021-06-09T07:57:42.985Z"
   },
   {
    "duration": 16,
    "start_time": "2021-06-09T07:57:43.631Z"
   },
   {
    "duration": 8,
    "start_time": "2021-06-09T07:57:43.864Z"
   },
   {
    "duration": 10,
    "start_time": "2021-06-09T07:57:44.672Z"
   },
   {
    "duration": 17,
    "start_time": "2021-06-09T07:57:45.158Z"
   },
   {
    "duration": 17,
    "start_time": "2021-06-09T07:57:46.309Z"
   },
   {
    "duration": 21,
    "start_time": "2021-06-09T07:57:47.001Z"
   },
   {
    "duration": 7,
    "start_time": "2021-06-09T07:57:48.728Z"
   },
   {
    "duration": 6,
    "start_time": "2021-06-09T07:57:48.944Z"
   },
   {
    "duration": 10,
    "start_time": "2021-06-09T07:57:49.247Z"
   },
   {
    "duration": 2349,
    "start_time": "2021-06-09T07:57:49.526Z"
   },
   {
    "duration": 2447,
    "start_time": "2021-06-09T07:57:51.886Z"
   },
   {
    "duration": 116,
    "start_time": "2021-06-09T07:57:56.894Z"
   },
   {
    "duration": 36,
    "start_time": "2021-06-09T07:58:00.410Z"
   },
   {
    "duration": 2381,
    "start_time": "2021-06-09T07:58:01.317Z"
   },
   {
    "duration": 105,
    "start_time": "2021-06-09T07:58:03.701Z"
   },
   {
    "duration": 40,
    "start_time": "2021-06-09T07:58:03.883Z"
   },
   {
    "duration": 28,
    "start_time": "2021-06-09T07:58:04.215Z"
   },
   {
    "duration": 27,
    "start_time": "2021-06-09T07:58:04.545Z"
   },
   {
    "duration": 3,
    "start_time": "2021-06-09T07:58:05.804Z"
   },
   {
    "duration": 34,
    "start_time": "2021-06-09T07:58:06.073Z"
   },
   {
    "duration": 88,
    "start_time": "2021-06-09T07:59:06.821Z"
   },
   {
    "duration": 14,
    "start_time": "2021-06-09T07:59:07.517Z"
   },
   {
    "duration": 100,
    "start_time": "2021-06-09T07:59:08.393Z"
   },
   {
    "duration": 6,
    "start_time": "2021-06-09T07:59:08.646Z"
   },
   {
    "duration": 7,
    "start_time": "2021-06-09T07:59:08.875Z"
   },
   {
    "duration": 7,
    "start_time": "2021-06-09T07:59:09.078Z"
   },
   {
    "duration": 7,
    "start_time": "2021-06-09T07:59:09.270Z"
   },
   {
    "duration": 12,
    "start_time": "2021-06-09T07:59:15.405Z"
   },
   {
    "duration": 10,
    "start_time": "2021-06-09T07:59:15.859Z"
   },
   {
    "duration": 12,
    "start_time": "2021-06-09T07:59:16.284Z"
   },
   {
    "duration": 11,
    "start_time": "2021-06-09T07:59:16.730Z"
   },
   {
    "duration": 14,
    "start_time": "2021-06-09T07:59:17.487Z"
   },
   {
    "duration": 37,
    "start_time": "2021-06-09T07:59:18.183Z"
   },
   {
    "duration": 220,
    "start_time": "2021-06-09T07:59:18.774Z"
   },
   {
    "duration": 20,
    "start_time": "2021-06-09T07:59:25.412Z"
   },
   {
    "duration": 5,
    "start_time": "2021-06-09T07:59:34.428Z"
   },
   {
    "duration": 13,
    "start_time": "2021-06-09T07:59:35.140Z"
   },
   {
    "duration": 5,
    "start_time": "2021-06-09T07:59:37.179Z"
   },
   {
    "duration": 7,
    "start_time": "2021-06-09T07:59:37.730Z"
   },
   {
    "duration": 9,
    "start_time": "2021-06-09T07:59:38.526Z"
   },
   {
    "duration": 571,
    "start_time": "2021-06-09T07:59:51.282Z"
   },
   {
    "duration": 10,
    "start_time": "2021-06-09T08:00:01.266Z"
   },
   {
    "duration": 11,
    "start_time": "2021-06-09T08:00:02.332Z"
   },
   {
    "duration": 11,
    "start_time": "2021-06-09T08:00:02.875Z"
   },
   {
    "duration": 3450,
    "start_time": "2021-06-09T08:00:44.510Z"
   },
   {
    "duration": 15,
    "start_time": "2021-06-09T08:02:18.711Z"
   },
   {
    "duration": 19,
    "start_time": "2021-06-09T08:02:18.955Z"
   },
   {
    "duration": 109,
    "start_time": "2021-06-09T08:02:19.530Z"
   },
   {
    "duration": 18,
    "start_time": "2021-06-09T08:02:23.537Z"
   },
   {
    "duration": 137,
    "start_time": "2021-06-09T08:02:29.621Z"
   },
   {
    "duration": 17,
    "start_time": "2021-06-09T08:02:30.298Z"
   },
   {
    "duration": 679,
    "start_time": "2021-06-09T08:02:30.813Z"
   },
   {
    "duration": 115,
    "start_time": "2021-06-09T08:05:12.382Z"
   },
   {
    "duration": 614,
    "start_time": "2021-06-09T08:05:16.608Z"
   },
   {
    "duration": 75,
    "start_time": "2021-06-09T08:05:35.185Z"
   },
   {
    "duration": 19,
    "start_time": "2021-06-09T08:05:35.871Z"
   },
   {
    "duration": 133,
    "start_time": "2021-06-09T08:05:37.315Z"
   },
   {
    "duration": 13,
    "start_time": "2021-06-09T08:05:45.352Z"
   },
   {
    "duration": 18,
    "start_time": "2021-06-09T08:06:05.694Z"
   },
   {
    "duration": 102,
    "start_time": "2021-06-09T08:06:08.322Z"
   },
   {
    "duration": 108,
    "start_time": "2021-06-09T08:06:32.248Z"
   },
   {
    "duration": 12,
    "start_time": "2021-06-09T08:32:36.846Z"
   },
   {
    "duration": 977,
    "start_time": "2021-06-09T08:35:05.754Z"
   },
   {
    "duration": 714,
    "start_time": "2021-06-09T08:35:15.491Z"
   },
   {
    "duration": 1574,
    "start_time": "2021-06-09T08:35:32.433Z"
   },
   {
    "duration": 364,
    "start_time": "2021-06-09T08:36:11.327Z"
   },
   {
    "duration": 12,
    "start_time": "2021-06-09T08:36:37.902Z"
   },
   {
    "duration": 354,
    "start_time": "2021-06-09T08:36:57.215Z"
   },
   {
    "duration": 13,
    "start_time": "2021-06-09T08:37:03.837Z"
   },
   {
    "duration": 13,
    "start_time": "2021-06-09T08:37:32.227Z"
   },
   {
    "duration": 14,
    "start_time": "2021-06-09T08:37:39.556Z"
   },
   {
    "duration": 16,
    "start_time": "2021-06-09T08:37:49.670Z"
   },
   {
    "duration": 326,
    "start_time": "2021-06-09T08:39:17.613Z"
   },
   {
    "duration": 8,
    "start_time": "2021-06-09T08:39:50.286Z"
   },
   {
    "duration": 16,
    "start_time": "2021-06-09T08:40:19.082Z"
   },
   {
    "duration": 13,
    "start_time": "2021-06-09T08:41:11.977Z"
   },
   {
    "duration": 15,
    "start_time": "2021-06-09T08:41:26.071Z"
   },
   {
    "duration": 18,
    "start_time": "2021-06-09T08:41:49.861Z"
   },
   {
    "duration": 10,
    "start_time": "2021-06-09T08:44:11.617Z"
   },
   {
    "duration": 354,
    "start_time": "2021-06-09T08:44:30.726Z"
   },
   {
    "duration": 14,
    "start_time": "2021-06-09T08:44:33.966Z"
   },
   {
    "duration": 16,
    "start_time": "2021-06-09T08:44:53.783Z"
   },
   {
    "duration": 14,
    "start_time": "2021-06-09T08:47:08.129Z"
   },
   {
    "duration": 15,
    "start_time": "2021-06-09T08:48:30.182Z"
   },
   {
    "duration": 17,
    "start_time": "2021-06-09T08:51:44.916Z"
   },
   {
    "duration": 9,
    "start_time": "2021-06-09T08:51:54.463Z"
   },
   {
    "duration": 24,
    "start_time": "2021-06-09T08:52:06.098Z"
   },
   {
    "duration": 15,
    "start_time": "2021-06-09T08:52:11.311Z"
   },
   {
    "duration": 10,
    "start_time": "2021-06-09T08:52:12.447Z"
   },
   {
    "duration": 10,
    "start_time": "2021-06-09T08:52:14.749Z"
   },
   {
    "duration": 16,
    "start_time": "2021-06-09T08:52:22.224Z"
   },
   {
    "duration": 16,
    "start_time": "2021-06-09T08:53:10.150Z"
   },
   {
    "duration": 8,
    "start_time": "2021-06-09T08:56:21.760Z"
   },
   {
    "duration": 11,
    "start_time": "2021-06-09T08:56:30.084Z"
   },
   {
    "duration": 456,
    "start_time": "2021-06-09T09:01:23.407Z"
   },
   {
    "duration": 328,
    "start_time": "2021-06-09T09:04:16.108Z"
   },
   {
    "duration": 15,
    "start_time": "2021-06-09T09:04:31.037Z"
   },
   {
    "duration": 17,
    "start_time": "2021-06-09T09:05:56.971Z"
   },
   {
    "duration": 14,
    "start_time": "2021-06-09T09:06:36.964Z"
   },
   {
    "duration": 328,
    "start_time": "2021-06-09T09:11:05.495Z"
   },
   {
    "duration": 351,
    "start_time": "2021-06-09T09:13:00.045Z"
   },
   {
    "duration": 17,
    "start_time": "2021-06-09T09:50:34.421Z"
   },
   {
    "duration": 9,
    "start_time": "2021-06-09T09:53:41.464Z"
   },
   {
    "duration": 5,
    "start_time": "2021-06-09T09:57:13.452Z"
   },
   {
    "duration": 8,
    "start_time": "2021-06-09T09:57:21.894Z"
   },
   {
    "duration": 12,
    "start_time": "2021-06-09T09:58:02.707Z"
   },
   {
    "duration": 4,
    "start_time": "2021-06-09T09:58:59.334Z"
   },
   {
    "duration": 13,
    "start_time": "2021-06-09T09:59:00.303Z"
   },
   {
    "duration": 4,
    "start_time": "2021-06-09T09:59:48.271Z"
   },
   {
    "duration": 11,
    "start_time": "2021-06-09T09:59:48.760Z"
   },
   {
    "duration": 4,
    "start_time": "2021-06-09T10:00:06.061Z"
   },
   {
    "duration": 12,
    "start_time": "2021-06-09T10:00:06.453Z"
   },
   {
    "duration": 91,
    "start_time": "2021-06-09T10:01:27.929Z"
   },
   {
    "duration": 4,
    "start_time": "2021-06-09T10:03:01.128Z"
   },
   {
    "duration": 12,
    "start_time": "2021-06-09T10:03:01.809Z"
   },
   {
    "duration": 90,
    "start_time": "2021-06-09T10:03:04.553Z"
   },
   {
    "duration": 5,
    "start_time": "2021-06-09T10:03:48.732Z"
   },
   {
    "duration": 12,
    "start_time": "2021-06-09T10:03:49.227Z"
   },
   {
    "duration": 94,
    "start_time": "2021-06-09T10:03:49.735Z"
   },
   {
    "duration": 14,
    "start_time": "2021-06-09T10:07:31.496Z"
   },
   {
    "duration": 19,
    "start_time": "2021-06-09T10:07:32.282Z"
   },
   {
    "duration": 15,
    "start_time": "2021-06-09T10:08:15.916Z"
   },
   {
    "duration": 9,
    "start_time": "2021-06-09T10:10:26.290Z"
   },
   {
    "duration": 12,
    "start_time": "2021-06-09T10:10:26.858Z"
   },
   {
    "duration": 5,
    "start_time": "2021-06-09T10:10:47.106Z"
   },
   {
    "duration": 14,
    "start_time": "2021-06-09T10:10:47.502Z"
   },
   {
    "duration": 209,
    "start_time": "2021-06-09T10:10:48.330Z"
   },
   {
    "duration": 94,
    "start_time": "2021-06-09T10:11:15.820Z"
   },
   {
    "duration": 15,
    "start_time": "2021-06-09T10:17:19.123Z"
   },
   {
    "duration": 15,
    "start_time": "2021-06-09T10:18:41.668Z"
   },
   {
    "duration": 5,
    "start_time": "2021-06-09T10:23:42.105Z"
   },
   {
    "duration": 13,
    "start_time": "2021-06-09T10:23:42.671Z"
   },
   {
    "duration": 5,
    "start_time": "2021-06-09T10:24:10.358Z"
   },
   {
    "duration": 13,
    "start_time": "2021-06-09T10:24:11.358Z"
   },
   {
    "duration": 152,
    "start_time": "2021-06-09T10:24:18.858Z"
   },
   {
    "duration": 16,
    "start_time": "2021-06-09T10:24:33.095Z"
   },
   {
    "duration": 8099,
    "start_time": "2021-06-09T10:25:10.756Z"
   },
   {
    "duration": 1547,
    "start_time": "2021-06-09T10:25:18.859Z"
   },
   {
    "duration": 1339,
    "start_time": "2021-06-09T10:25:20.409Z"
   },
   {
    "duration": 21,
    "start_time": "2021-06-09T10:25:21.751Z"
   },
   {
    "duration": 26,
    "start_time": "2021-06-09T10:25:21.774Z"
   },
   {
    "duration": 26,
    "start_time": "2021-06-09T10:25:21.802Z"
   },
   {
    "duration": 105,
    "start_time": "2021-06-09T10:25:21.830Z"
   },
   {
    "duration": 106,
    "start_time": "2021-06-09T10:25:21.938Z"
   },
   {
    "duration": 89,
    "start_time": "2021-06-09T10:25:22.050Z"
   },
   {
    "duration": 265,
    "start_time": "2021-06-09T10:25:22.144Z"
   },
   {
    "duration": 158,
    "start_time": "2021-06-09T10:25:22.412Z"
   },
   {
    "duration": 43,
    "start_time": "2021-06-09T10:25:22.572Z"
   },
   {
    "duration": 38,
    "start_time": "2021-06-09T10:25:22.617Z"
   },
   {
    "duration": 31,
    "start_time": "2021-06-09T10:25:22.658Z"
   },
   {
    "duration": 16,
    "start_time": "2021-06-09T10:25:22.693Z"
   },
   {
    "duration": 24,
    "start_time": "2021-06-09T10:25:22.712Z"
   },
   {
    "duration": 16,
    "start_time": "2021-06-09T10:25:22.739Z"
   },
   {
    "duration": 37,
    "start_time": "2021-06-09T10:25:22.758Z"
   },
   {
    "duration": 18,
    "start_time": "2021-06-09T10:25:22.798Z"
   },
   {
    "duration": 17,
    "start_time": "2021-06-09T10:25:22.818Z"
   },
   {
    "duration": 8,
    "start_time": "2021-06-09T10:25:22.838Z"
   },
   {
    "duration": 41,
    "start_time": "2021-06-09T10:25:22.849Z"
   },
   {
    "duration": 2459,
    "start_time": "2021-06-09T10:25:22.894Z"
   },
   {
    "duration": 2555,
    "start_time": "2021-06-09T10:25:25.355Z"
   },
   {
    "duration": 124,
    "start_time": "2021-06-09T10:25:27.913Z"
   },
   {
    "duration": 21,
    "start_time": "2021-06-09T10:25:28.040Z"
   },
   {
    "duration": 2184,
    "start_time": "2021-06-09T10:25:28.067Z"
   },
   {
    "duration": 81,
    "start_time": "2021-06-09T10:25:30.257Z"
   },
   {
    "duration": 50,
    "start_time": "2021-06-09T10:25:30.341Z"
   },
   {
    "duration": 31,
    "start_time": "2021-06-09T10:25:30.395Z"
   },
   {
    "duration": 56,
    "start_time": "2021-06-09T10:25:30.429Z"
   },
   {
    "duration": 3,
    "start_time": "2021-06-09T10:25:30.488Z"
   },
   {
    "duration": 58,
    "start_time": "2021-06-09T10:25:30.494Z"
   },
   {
    "duration": 91,
    "start_time": "2021-06-09T10:25:30.555Z"
   },
   {
    "duration": 9,
    "start_time": "2021-06-09T10:25:30.648Z"
   },
   {
    "duration": 129,
    "start_time": "2021-06-09T10:25:30.659Z"
   },
   {
    "duration": 10,
    "start_time": "2021-06-09T10:25:30.792Z"
   },
   {
    "duration": 21,
    "start_time": "2021-06-09T10:25:30.805Z"
   },
   {
    "duration": 22,
    "start_time": "2021-06-09T10:25:30.829Z"
   },
   {
    "duration": 13,
    "start_time": "2021-06-09T10:25:30.854Z"
   },
   {
    "duration": 27,
    "start_time": "2021-06-09T10:25:30.869Z"
   },
   {
    "duration": 20,
    "start_time": "2021-06-09T10:25:30.899Z"
   },
   {
    "duration": 29,
    "start_time": "2021-06-09T10:25:30.922Z"
   },
   {
    "duration": 21,
    "start_time": "2021-06-09T10:25:30.953Z"
   },
   {
    "duration": 22,
    "start_time": "2021-06-09T10:25:30.977Z"
   },
   {
    "duration": 32,
    "start_time": "2021-06-09T10:25:31.003Z"
   },
   {
    "duration": 261,
    "start_time": "2021-06-09T10:25:31.038Z"
   },
   {
    "duration": 20,
    "start_time": "2021-06-09T10:25:31.301Z"
   },
   {
    "duration": 28,
    "start_time": "2021-06-09T10:25:31.324Z"
   },
   {
    "duration": 34,
    "start_time": "2021-06-09T10:25:31.354Z"
   },
   {
    "duration": 21,
    "start_time": "2021-06-09T10:25:31.391Z"
   },
   {
    "duration": 27,
    "start_time": "2021-06-09T10:25:31.416Z"
   },
   {
    "duration": 31,
    "start_time": "2021-06-09T10:25:31.445Z"
   },
   {
    "duration": 587,
    "start_time": "2021-06-09T10:25:31.478Z"
   },
   {
    "duration": 3120,
    "start_time": "2021-06-09T10:25:32.067Z"
   },
   {
    "duration": 4,
    "start_time": "2021-06-09T10:25:35.191Z"
   },
   {
    "duration": 22,
    "start_time": "2021-06-09T10:25:35.198Z"
   },
   {
    "duration": 29,
    "start_time": "2021-06-09T10:25:35.222Z"
   },
   {
    "duration": 97,
    "start_time": "2021-06-09T10:25:35.253Z"
   },
   {
    "duration": 32,
    "start_time": "2021-06-09T10:25:35.353Z"
   },
   {
    "duration": 146,
    "start_time": "2021-06-09T10:25:35.389Z"
   },
   {
    "duration": 12,
    "start_time": "2021-06-09T10:25:35.538Z"
   },
   {
    "duration": 619,
    "start_time": "2021-06-09T10:25:35.553Z"
   },
   {
    "duration": 17,
    "start_time": "2021-06-09T10:25:36.174Z"
   },
   {
    "duration": 19,
    "start_time": "2021-06-09T10:25:36.194Z"
   },
   {
    "duration": 16,
    "start_time": "2021-06-09T10:25:36.215Z"
   },
   {
    "duration": 61,
    "start_time": "2021-06-09T10:25:36.233Z"
   },
   {
    "duration": 18,
    "start_time": "2021-06-09T10:25:36.297Z"
   },
   {
    "duration": 69,
    "start_time": "2021-06-09T10:25:36.318Z"
   },
   {
    "duration": 7,
    "start_time": "2021-06-09T10:25:36.390Z"
   },
   {
    "duration": 23,
    "start_time": "2021-06-09T10:25:36.400Z"
   },
   {
    "duration": 181,
    "start_time": "2021-06-09T10:25:36.429Z"
   },
   {
    "duration": 17,
    "start_time": "2021-06-09T10:25:36.613Z"
   },
   {
    "duration": 64,
    "start_time": "2021-06-09T10:25:36.633Z"
   },
   {
    "duration": 7,
    "start_time": "2021-06-09T10:25:36.699Z"
   },
   {
    "duration": 11,
    "start_time": "2021-06-09T10:25:36.708Z"
   },
   {
    "duration": 10,
    "start_time": "2021-06-09T10:25:36.721Z"
   },
   {
    "duration": 8,
    "start_time": "2021-06-09T10:25:36.733Z"
   },
   {
    "duration": 49,
    "start_time": "2021-06-09T10:25:36.743Z"
   },
   {
    "duration": 27,
    "start_time": "2021-06-09T10:25:36.796Z"
   },
   {
    "duration": 66,
    "start_time": "2021-06-09T10:25:36.831Z"
   },
   {
    "duration": 4,
    "start_time": "2021-06-09T10:25:36.900Z"
   },
   {
    "duration": 18,
    "start_time": "2021-06-09T10:25:36.906Z"
   },
   {
    "duration": 6,
    "start_time": "2021-06-09T10:25:36.927Z"
   },
   {
    "duration": 50,
    "start_time": "2021-06-09T10:25:36.936Z"
   },
   {
    "duration": 99,
    "start_time": "2021-06-09T10:25:36.990Z"
   },
   {
    "duration": 11,
    "start_time": "2021-06-09T10:25:37.093Z"
   },
   {
    "duration": 18,
    "start_time": "2021-06-09T10:25:37.107Z"
   },
   {
    "duration": 10,
    "start_time": "2021-06-09T10:25:37.127Z"
   },
   {
    "duration": 63,
    "start_time": "2021-06-09T10:25:37.139Z"
   },
   {
    "duration": 144,
    "start_time": "2021-06-09T10:25:37.204Z"
   },
   {
    "duration": 160,
    "start_time": "2021-06-09T10:25:37.351Z"
   },
   {
    "duration": 148,
    "start_time": "2021-06-09T10:25:37.514Z"
   },
   {
    "duration": 30,
    "start_time": "2021-06-09T10:25:37.665Z"
   },
   {
    "duration": 8730,
    "start_time": "2021-06-09T10:25:37.698Z"
   },
   {
    "duration": 13,
    "start_time": "2021-06-09T10:27:26.147Z"
   },
   {
    "duration": 702,
    "start_time": "2021-06-09T10:27:26.925Z"
   },
   {
    "duration": 8182,
    "start_time": "2021-06-09T10:27:56.074Z"
   },
   {
    "duration": 1584,
    "start_time": "2021-06-09T10:28:04.259Z"
   },
   {
    "duration": 378,
    "start_time": "2021-06-09T10:28:05.846Z"
   },
   {
    "duration": 40,
    "start_time": "2021-06-09T10:28:06.227Z"
   },
   {
    "duration": 28,
    "start_time": "2021-06-09T10:28:06.270Z"
   },
   {
    "duration": 43,
    "start_time": "2021-06-09T10:28:06.301Z"
   },
   {
    "duration": 109,
    "start_time": "2021-06-09T10:28:06.346Z"
   },
   {
    "duration": 105,
    "start_time": "2021-06-09T10:28:06.459Z"
   },
   {
    "duration": 90,
    "start_time": "2021-06-09T10:28:06.567Z"
   },
   {
    "duration": 287,
    "start_time": "2021-06-09T10:28:06.659Z"
   },
   {
    "duration": 163,
    "start_time": "2021-06-09T10:28:06.948Z"
   },
   {
    "duration": 78,
    "start_time": "2021-06-09T10:28:07.113Z"
   },
   {
    "duration": 37,
    "start_time": "2021-06-09T10:28:07.194Z"
   },
   {
    "duration": 15,
    "start_time": "2021-06-09T10:28:07.234Z"
   },
   {
    "duration": 36,
    "start_time": "2021-06-09T10:28:07.251Z"
   },
   {
    "duration": 10,
    "start_time": "2021-06-09T10:28:07.289Z"
   },
   {
    "duration": 22,
    "start_time": "2021-06-09T10:28:07.302Z"
   },
   {
    "duration": 20,
    "start_time": "2021-06-09T10:28:07.327Z"
   },
   {
    "duration": 19,
    "start_time": "2021-06-09T10:28:07.387Z"
   },
   {
    "duration": 6,
    "start_time": "2021-06-09T10:28:07.409Z"
   },
   {
    "duration": 8,
    "start_time": "2021-06-09T10:28:07.418Z"
   },
   {
    "duration": 9,
    "start_time": "2021-06-09T10:28:07.428Z"
   },
   {
    "duration": 2198,
    "start_time": "2021-06-09T10:28:07.492Z"
   },
   {
    "duration": 2237,
    "start_time": "2021-06-09T10:28:09.697Z"
   },
   {
    "duration": 133,
    "start_time": "2021-06-09T10:28:11.936Z"
   },
   {
    "duration": 21,
    "start_time": "2021-06-09T10:28:12.071Z"
   },
   {
    "duration": 2111,
    "start_time": "2021-06-09T10:28:12.095Z"
   },
   {
    "duration": 177,
    "start_time": "2021-06-09T10:28:14.210Z"
   },
   {
    "duration": 28,
    "start_time": "2021-06-09T10:28:14.389Z"
   },
   {
    "duration": 27,
    "start_time": "2021-06-09T10:28:14.421Z"
   },
   {
    "duration": 64,
    "start_time": "2021-06-09T10:28:14.450Z"
   },
   {
    "duration": 3,
    "start_time": "2021-06-09T10:28:14.517Z"
   },
   {
    "duration": 49,
    "start_time": "2021-06-09T10:28:14.522Z"
   },
   {
    "duration": 91,
    "start_time": "2021-06-09T10:28:14.574Z"
   },
   {
    "duration": 28,
    "start_time": "2021-06-09T10:28:14.667Z"
   },
   {
    "duration": 115,
    "start_time": "2021-06-09T10:28:14.702Z"
   },
   {
    "duration": 8,
    "start_time": "2021-06-09T10:28:14.820Z"
   },
   {
    "duration": 10,
    "start_time": "2021-06-09T10:28:14.831Z"
   },
   {
    "duration": 44,
    "start_time": "2021-06-09T10:28:14.844Z"
   },
   {
    "duration": 7,
    "start_time": "2021-06-09T10:28:14.892Z"
   },
   {
    "duration": 14,
    "start_time": "2021-06-09T10:28:14.901Z"
   },
   {
    "duration": 8,
    "start_time": "2021-06-09T10:28:14.918Z"
   },
   {
    "duration": 8,
    "start_time": "2021-06-09T10:28:14.929Z"
   },
   {
    "duration": 10,
    "start_time": "2021-06-09T10:28:14.984Z"
   },
   {
    "duration": 25,
    "start_time": "2021-06-09T10:28:14.997Z"
   },
   {
    "duration": 22,
    "start_time": "2021-06-09T10:28:15.025Z"
   },
   {
    "duration": 262,
    "start_time": "2021-06-09T10:28:15.049Z"
   },
   {
    "duration": 22,
    "start_time": "2021-06-09T10:28:15.314Z"
   },
   {
    "duration": 5,
    "start_time": "2021-06-09T10:28:15.340Z"
   },
   {
    "duration": 47,
    "start_time": "2021-06-09T10:28:15.348Z"
   },
   {
    "duration": 4,
    "start_time": "2021-06-09T10:28:15.397Z"
   },
   {
    "duration": 11,
    "start_time": "2021-06-09T10:28:15.404Z"
   },
   {
    "duration": 15,
    "start_time": "2021-06-09T10:28:15.418Z"
   },
   {
    "duration": 622,
    "start_time": "2021-06-09T10:28:15.437Z"
   },
   {
    "duration": 3168,
    "start_time": "2021-06-09T10:28:16.062Z"
   },
   {
    "duration": 4,
    "start_time": "2021-06-09T10:28:19.233Z"
   },
   {
    "duration": 21,
    "start_time": "2021-06-09T10:28:19.240Z"
   },
   {
    "duration": 42,
    "start_time": "2021-06-09T10:28:19.263Z"
   },
   {
    "duration": 95,
    "start_time": "2021-06-09T10:28:19.308Z"
   },
   {
    "duration": 24,
    "start_time": "2021-06-09T10:28:19.406Z"
   },
   {
    "duration": 211,
    "start_time": "2021-06-09T10:28:19.432Z"
   },
   {
    "duration": 58,
    "start_time": "2021-06-09T10:28:19.646Z"
   },
   {
    "duration": 1202,
    "start_time": "2021-06-09T10:28:19.719Z"
   },
   {
    "duration": 15,
    "start_time": "2021-06-09T10:28:20.923Z"
   },
   {
    "duration": 21,
    "start_time": "2021-06-09T10:28:20.940Z"
   },
   {
    "duration": 32,
    "start_time": "2021-06-09T10:28:20.964Z"
   },
   {
    "duration": 25,
    "start_time": "2021-06-09T10:28:20.999Z"
   },
   {
    "duration": 18,
    "start_time": "2021-06-09T10:28:21.034Z"
   },
   {
    "duration": 32,
    "start_time": "2021-06-09T10:28:21.056Z"
   },
   {
    "duration": 8,
    "start_time": "2021-06-09T10:28:21.091Z"
   },
   {
    "duration": 28,
    "start_time": "2021-06-09T10:28:21.102Z"
   },
   {
    "duration": 97,
    "start_time": "2021-06-09T10:28:21.132Z"
   },
   {
    "duration": 14,
    "start_time": "2021-06-09T10:28:21.232Z"
   },
   {
    "duration": 41,
    "start_time": "2021-06-09T10:28:21.248Z"
   },
   {
    "duration": 8,
    "start_time": "2021-06-09T10:28:21.292Z"
   },
   {
    "duration": 18,
    "start_time": "2021-06-09T10:28:21.304Z"
   },
   {
    "duration": 8,
    "start_time": "2021-06-09T10:28:21.325Z"
   },
   {
    "duration": 13,
    "start_time": "2021-06-09T10:28:21.335Z"
   },
   {
    "duration": 10,
    "start_time": "2021-06-09T10:28:21.350Z"
   },
   {
    "duration": 28,
    "start_time": "2021-06-09T10:28:21.362Z"
   },
   {
    "duration": 35,
    "start_time": "2021-06-09T10:28:21.392Z"
   },
   {
    "duration": 3,
    "start_time": "2021-06-09T10:28:21.430Z"
   },
   {
    "duration": 14,
    "start_time": "2021-06-09T10:28:21.435Z"
   },
   {
    "duration": 8,
    "start_time": "2021-06-09T10:28:21.451Z"
   },
   {
    "duration": 44,
    "start_time": "2021-06-09T10:28:21.462Z"
   },
   {
    "duration": 77,
    "start_time": "2021-06-09T10:28:21.509Z"
   },
   {
    "duration": 8,
    "start_time": "2021-06-09T10:28:21.589Z"
   },
   {
    "duration": 21,
    "start_time": "2021-06-09T10:28:21.599Z"
   },
   {
    "duration": 9,
    "start_time": "2021-06-09T10:28:21.623Z"
   },
   {
    "duration": 34,
    "start_time": "2021-06-09T10:28:21.635Z"
   },
   {
    "duration": 144,
    "start_time": "2021-06-09T10:28:21.672Z"
   },
   {
    "duration": 133,
    "start_time": "2021-06-09T10:28:21.818Z"
   },
   {
    "duration": 150,
    "start_time": "2021-06-09T10:28:21.954Z"
   },
   {
    "duration": 18,
    "start_time": "2021-06-09T10:28:22.107Z"
   },
   {
    "duration": 961,
    "start_time": "2021-06-09T10:28:22.128Z"
   },
   {
    "duration": 102,
    "start_time": "2021-06-09T10:30:57.262Z"
   },
   {
    "duration": 103,
    "start_time": "2021-06-09T10:32:53.868Z"
   },
   {
    "duration": 112,
    "start_time": "2021-06-09T13:29:31.338Z"
   },
   {
    "duration": 4872,
    "start_time": "2021-06-09T13:32:05.008Z"
   },
   {
    "duration": 2217,
    "start_time": "2021-06-09T13:32:31.209Z"
   },
   {
    "duration": 1886,
    "start_time": "2021-06-09T13:32:39.566Z"
   },
   {
    "duration": 8934,
    "start_time": "2021-06-09T13:33:17.521Z"
   },
   {
    "duration": 10787,
    "start_time": "2021-06-09T13:33:55.592Z"
   },
   {
    "duration": 15,
    "start_time": "2021-06-09T13:55:37.203Z"
   },
   {
    "duration": 718,
    "start_time": "2021-06-09T13:55:39.194Z"
   },
   {
    "duration": 16,
    "start_time": "2021-06-09T13:56:12.096Z"
   },
   {
    "duration": 653,
    "start_time": "2021-06-09T13:56:13.561Z"
   },
   {
    "duration": 13,
    "start_time": "2021-06-09T13:56:31.866Z"
   },
   {
    "duration": 629,
    "start_time": "2021-06-09T13:56:32.351Z"
   },
   {
    "duration": 13,
    "start_time": "2021-06-09T13:57:16.960Z"
   },
   {
    "duration": 658,
    "start_time": "2021-06-09T13:57:17.867Z"
   },
   {
    "duration": 7996,
    "start_time": "2021-06-09T14:09:16.263Z"
   },
   {
    "duration": 2104,
    "start_time": "2021-06-09T14:09:24.263Z"
   },
   {
    "duration": 443,
    "start_time": "2021-06-09T14:09:26.371Z"
   },
   {
    "duration": 26,
    "start_time": "2021-06-09T14:09:26.817Z"
   },
   {
    "duration": 40,
    "start_time": "2021-06-09T14:09:26.846Z"
   },
   {
    "duration": 27,
    "start_time": "2021-06-09T14:09:26.890Z"
   },
   {
    "duration": 127,
    "start_time": "2021-06-09T14:09:26.920Z"
   },
   {
    "duration": 128,
    "start_time": "2021-06-09T14:09:27.052Z"
   },
   {
    "duration": 121,
    "start_time": "2021-06-09T14:09:27.186Z"
   },
   {
    "duration": 438,
    "start_time": "2021-06-09T14:09:27.310Z"
   },
   {
    "duration": 236,
    "start_time": "2021-06-09T14:09:27.751Z"
   },
   {
    "duration": 55,
    "start_time": "2021-06-09T14:09:27.991Z"
   },
   {
    "duration": 50,
    "start_time": "2021-06-09T14:09:28.049Z"
   },
   {
    "duration": 20,
    "start_time": "2021-06-09T14:09:28.102Z"
   },
   {
    "duration": 10,
    "start_time": "2021-06-09T14:09:28.125Z"
   },
   {
    "duration": 49,
    "start_time": "2021-06-09T14:09:28.138Z"
   },
   {
    "duration": 24,
    "start_time": "2021-06-09T14:09:28.190Z"
   },
   {
    "duration": 20,
    "start_time": "2021-06-09T14:09:28.217Z"
   },
   {
    "duration": 57,
    "start_time": "2021-06-09T14:09:28.240Z"
   },
   {
    "duration": 8,
    "start_time": "2021-06-09T14:09:28.300Z"
   },
   {
    "duration": 14,
    "start_time": "2021-06-09T14:09:28.311Z"
   },
   {
    "duration": 22,
    "start_time": "2021-06-09T14:09:28.328Z"
   },
   {
    "duration": 2351,
    "start_time": "2021-06-09T14:09:28.358Z"
   },
   {
    "duration": 2288,
    "start_time": "2021-06-09T14:09:30.713Z"
   },
   {
    "duration": 124,
    "start_time": "2021-06-09T14:09:33.003Z"
   },
   {
    "duration": 22,
    "start_time": "2021-06-09T14:09:33.129Z"
   },
   {
    "duration": 2139,
    "start_time": "2021-06-09T14:09:33.154Z"
   },
   {
    "duration": 66,
    "start_time": "2021-06-09T14:09:35.296Z"
   },
   {
    "duration": 34,
    "start_time": "2021-06-09T14:09:35.385Z"
   },
   {
    "duration": 24,
    "start_time": "2021-06-09T14:09:35.422Z"
   },
   {
    "duration": 68,
    "start_time": "2021-06-09T14:09:35.449Z"
   },
   {
    "duration": 4,
    "start_time": "2021-06-09T14:09:35.519Z"
   },
   {
    "duration": 44,
    "start_time": "2021-06-09T14:09:35.525Z"
   },
   {
    "duration": 84,
    "start_time": "2021-06-09T14:09:35.587Z"
   },
   {
    "duration": 23,
    "start_time": "2021-06-09T14:09:35.674Z"
   },
   {
    "duration": 143,
    "start_time": "2021-06-09T14:09:35.701Z"
   },
   {
    "duration": 6,
    "start_time": "2021-06-09T14:09:35.847Z"
   },
   {
    "duration": 16,
    "start_time": "2021-06-09T14:09:35.855Z"
   },
   {
    "duration": 11,
    "start_time": "2021-06-09T14:09:35.891Z"
   },
   {
    "duration": 12,
    "start_time": "2021-06-09T14:09:35.905Z"
   },
   {
    "duration": 12,
    "start_time": "2021-06-09T14:09:35.920Z"
   },
   {
    "duration": 12,
    "start_time": "2021-06-09T14:09:35.934Z"
   },
   {
    "duration": 55,
    "start_time": "2021-06-09T14:09:35.948Z"
   },
   {
    "duration": 9,
    "start_time": "2021-06-09T14:09:36.006Z"
   },
   {
    "duration": 11,
    "start_time": "2021-06-09T14:09:36.018Z"
   },
   {
    "duration": 79,
    "start_time": "2021-06-09T14:09:36.032Z"
   },
   {
    "duration": 246,
    "start_time": "2021-06-09T14:09:36.116Z"
   },
   {
    "duration": 29,
    "start_time": "2021-06-09T14:09:36.364Z"
   },
   {
    "duration": 53,
    "start_time": "2021-06-09T14:09:36.397Z"
   },
   {
    "duration": 25,
    "start_time": "2021-06-09T14:09:36.453Z"
   },
   {
    "duration": 6,
    "start_time": "2021-06-09T14:09:36.481Z"
   },
   {
    "duration": 24,
    "start_time": "2021-06-09T14:09:36.490Z"
   },
   {
    "duration": 15,
    "start_time": "2021-06-09T14:09:36.517Z"
   },
   {
    "duration": 585,
    "start_time": "2021-06-09T14:09:36.535Z"
   },
   {
    "duration": 3156,
    "start_time": "2021-06-09T14:09:37.123Z"
   },
   {
    "duration": 5,
    "start_time": "2021-06-09T14:09:40.285Z"
   },
   {
    "duration": 25,
    "start_time": "2021-06-09T14:09:40.293Z"
   },
   {
    "duration": 20,
    "start_time": "2021-06-09T14:09:40.322Z"
   },
   {
    "duration": 108,
    "start_time": "2021-06-09T14:09:40.345Z"
   },
   {
    "duration": 29,
    "start_time": "2021-06-09T14:09:40.456Z"
   },
   {
    "duration": 189,
    "start_time": "2021-06-09T14:09:40.489Z"
   },
   {
    "duration": 21,
    "start_time": "2021-06-09T14:09:40.685Z"
   },
   {
    "duration": 643,
    "start_time": "2021-06-09T14:09:40.709Z"
   },
   {
    "duration": 31,
    "start_time": "2021-06-09T14:09:41.355Z"
   },
   {
    "duration": 131,
    "start_time": "2021-06-09T14:09:41.390Z"
   },
   {
    "duration": 18,
    "start_time": "2021-06-09T14:09:41.523Z"
   },
   {
    "duration": 57,
    "start_time": "2021-06-09T14:09:41.544Z"
   },
   {
    "duration": 22,
    "start_time": "2021-06-09T14:09:41.615Z"
   },
   {
    "duration": 10,
    "start_time": "2021-06-09T14:09:41.687Z"
   },
   {
    "duration": 23,
    "start_time": "2021-06-09T14:09:41.700Z"
   },
   {
    "duration": 28,
    "start_time": "2021-06-09T14:09:41.725Z"
   },
   {
    "duration": 135,
    "start_time": "2021-06-09T14:09:41.755Z"
   },
   {
    "duration": 20,
    "start_time": "2021-06-09T14:09:41.893Z"
   },
   {
    "duration": 44,
    "start_time": "2021-06-09T14:09:41.915Z"
   },
   {
    "duration": 8,
    "start_time": "2021-06-09T14:09:41.985Z"
   },
   {
    "duration": 11,
    "start_time": "2021-06-09T14:09:41.996Z"
   },
   {
    "duration": 24,
    "start_time": "2021-06-09T14:09:42.010Z"
   },
   {
    "duration": 14,
    "start_time": "2021-06-09T14:09:42.036Z"
   },
   {
    "duration": 14,
    "start_time": "2021-06-09T14:09:42.053Z"
   },
   {
    "duration": 53,
    "start_time": "2021-06-09T14:09:42.069Z"
   },
   {
    "duration": 32,
    "start_time": "2021-06-09T14:09:42.124Z"
   },
   {
    "duration": 3,
    "start_time": "2021-06-09T14:09:42.159Z"
   },
   {
    "duration": 46,
    "start_time": "2021-06-09T14:09:42.185Z"
   },
   {
    "duration": 10,
    "start_time": "2021-06-09T14:09:42.235Z"
   },
   {
    "duration": 60,
    "start_time": "2021-06-09T14:09:42.248Z"
   },
   {
    "duration": 95,
    "start_time": "2021-06-09T14:09:42.311Z"
   },
   {
    "duration": 9,
    "start_time": "2021-06-09T14:09:42.409Z"
   },
   {
    "duration": 22,
    "start_time": "2021-06-09T14:09:42.422Z"
   },
   {
    "duration": 14,
    "start_time": "2021-06-09T14:09:42.447Z"
   },
   {
    "duration": 40,
    "start_time": "2021-06-09T14:09:42.487Z"
   },
   {
    "duration": 193,
    "start_time": "2021-06-09T14:09:42.530Z"
   },
   {
    "duration": 192,
    "start_time": "2021-06-09T14:09:42.726Z"
   },
   {
    "duration": 193,
    "start_time": "2021-06-09T14:09:42.921Z"
   },
   {
    "duration": 18,
    "start_time": "2021-06-09T14:09:43.118Z"
   },
   {
    "duration": 1079,
    "start_time": "2021-06-09T14:09:43.139Z"
   },
   {
    "duration": 110,
    "start_time": "2021-06-09T14:12:00.341Z"
   },
   {
    "duration": 376,
    "start_time": "2021-06-09T14:12:07.884Z"
   },
   {
    "duration": 106,
    "start_time": "2021-06-10T11:32:59.001Z"
   },
   {
    "duration": 9,
    "start_time": "2021-06-10T21:37:16.299Z"
   },
   {
    "duration": 397,
    "start_time": "2021-06-10T21:37:17.047Z"
   },
   {
    "duration": 26758,
    "start_time": "2021-06-10T21:37:55.499Z"
   },
   {
    "duration": 1830,
    "start_time": "2021-06-10T21:38:22.260Z"
   },
   {
    "duration": 364,
    "start_time": "2021-06-10T21:38:24.093Z"
   },
   {
    "duration": 32,
    "start_time": "2021-06-10T21:38:24.460Z"
   },
   {
    "duration": 44,
    "start_time": "2021-06-10T21:38:24.495Z"
   },
   {
    "duration": 21,
    "start_time": "2021-06-10T21:38:24.541Z"
   },
   {
    "duration": 105,
    "start_time": "2021-06-10T21:38:24.564Z"
   },
   {
    "duration": 99,
    "start_time": "2021-06-10T21:38:24.673Z"
   },
   {
    "duration": 89,
    "start_time": "2021-06-10T21:38:24.775Z"
   },
   {
    "duration": 280,
    "start_time": "2021-06-10T21:38:24.866Z"
   },
   {
    "duration": 162,
    "start_time": "2021-06-10T21:38:25.149Z"
   },
   {
    "duration": 50,
    "start_time": "2021-06-10T21:38:25.313Z"
   },
   {
    "duration": 19,
    "start_time": "2021-06-10T21:38:25.366Z"
   },
   {
    "duration": 41,
    "start_time": "2021-06-10T21:38:25.387Z"
   },
   {
    "duration": 8,
    "start_time": "2021-06-10T21:38:25.430Z"
   },
   {
    "duration": 13,
    "start_time": "2021-06-10T21:38:25.440Z"
   },
   {
    "duration": 17,
    "start_time": "2021-06-10T21:38:25.456Z"
   },
   {
    "duration": 25,
    "start_time": "2021-06-10T21:38:25.524Z"
   },
   {
    "duration": 19,
    "start_time": "2021-06-10T21:38:25.552Z"
   },
   {
    "duration": 16,
    "start_time": "2021-06-10T21:38:25.573Z"
   },
   {
    "duration": 43,
    "start_time": "2021-06-10T21:38:25.592Z"
   },
   {
    "duration": 9,
    "start_time": "2021-06-10T21:38:25.637Z"
   },
   {
    "duration": 2177,
    "start_time": "2021-06-10T21:38:25.653Z"
   },
   {
    "duration": 2249,
    "start_time": "2021-06-10T21:38:27.834Z"
   },
   {
    "duration": 113,
    "start_time": "2021-06-10T21:38:30.086Z"
   },
   {
    "duration": 24,
    "start_time": "2021-06-10T21:38:30.201Z"
   },
   {
    "duration": 2065,
    "start_time": "2021-06-10T21:38:30.231Z"
   },
   {
    "duration": 76,
    "start_time": "2021-06-10T21:38:32.298Z"
   },
   {
    "duration": 26,
    "start_time": "2021-06-10T21:38:32.376Z"
   },
   {
    "duration": 44,
    "start_time": "2021-06-10T21:38:32.405Z"
   },
   {
    "duration": 28,
    "start_time": "2021-06-10T21:38:32.451Z"
   },
   {
    "duration": 3,
    "start_time": "2021-06-10T21:38:32.482Z"
   },
   {
    "duration": 72,
    "start_time": "2021-06-10T21:38:32.487Z"
   },
   {
    "duration": 101,
    "start_time": "2021-06-10T21:38:32.561Z"
   },
   {
    "duration": 12,
    "start_time": "2021-06-10T21:38:32.665Z"
   },
   {
    "duration": 1108,
    "start_time": "2021-06-10T21:38:32.680Z"
   },
   {
    "duration": 457,
    "start_time": "2021-06-10T21:38:33.792Z"
   },
   {
    "duration": 313,
    "start_time": "2021-06-10T21:38:34.252Z"
   },
   {
    "duration": 9,
    "start_time": "2021-06-10T21:38:34.568Z"
   },
   {
    "duration": 7,
    "start_time": "2021-06-10T21:38:34.580Z"
   },
   {
    "duration": 10,
    "start_time": "2021-06-10T21:38:34.590Z"
   },
   {
    "duration": 29,
    "start_time": "2021-06-10T21:38:34.603Z"
   },
   {
    "duration": 13,
    "start_time": "2021-06-10T21:38:34.635Z"
   },
   {
    "duration": 9,
    "start_time": "2021-06-10T21:38:34.651Z"
   },
   {
    "duration": 9,
    "start_time": "2021-06-10T21:38:34.662Z"
   },
   {
    "duration": 58,
    "start_time": "2021-06-10T21:38:34.674Z"
   },
   {
    "duration": 222,
    "start_time": "2021-06-10T21:38:34.734Z"
   },
   {
    "duration": 21,
    "start_time": "2021-06-10T21:38:34.958Z"
   },
   {
    "duration": 8,
    "start_time": "2021-06-10T21:38:34.981Z"
   },
   {
    "duration": 33,
    "start_time": "2021-06-10T21:38:34.991Z"
   },
   {
    "duration": 586,
    "start_time": "2021-06-10T21:38:35.026Z"
   },
   {
    "duration": 2998,
    "start_time": "2021-06-10T21:38:35.614Z"
   },
   {
    "duration": 6,
    "start_time": "2021-06-10T21:38:38.629Z"
   },
   {
    "duration": 29,
    "start_time": "2021-06-10T21:38:38.637Z"
   },
   {
    "duration": 20,
    "start_time": "2021-06-10T21:38:38.668Z"
   },
   {
    "duration": 86,
    "start_time": "2021-06-10T21:38:38.690Z"
   },
   {
    "duration": 17,
    "start_time": "2021-06-10T21:38:38.779Z"
   },
   {
    "duration": 158,
    "start_time": "2021-06-10T21:38:38.799Z"
   },
   {
    "duration": 13,
    "start_time": "2021-06-10T21:38:38.959Z"
   },
   {
    "duration": 602,
    "start_time": "2021-06-10T21:38:38.974Z"
   },
   {
    "duration": 46,
    "start_time": "2021-06-10T21:38:39.579Z"
   },
   {
    "duration": 18,
    "start_time": "2021-06-10T21:38:39.628Z"
   },
   {
    "duration": 21,
    "start_time": "2021-06-10T21:38:39.650Z"
   },
   {
    "duration": 61,
    "start_time": "2021-06-10T21:38:39.674Z"
   },
   {
    "duration": 18,
    "start_time": "2021-06-10T21:38:39.745Z"
   },
   {
    "duration": 65,
    "start_time": "2021-06-10T21:38:39.766Z"
   },
   {
    "duration": 6,
    "start_time": "2021-06-10T21:38:39.841Z"
   },
   {
    "duration": 71,
    "start_time": "2021-06-10T21:38:39.859Z"
   },
   {
    "duration": 147,
    "start_time": "2021-06-10T21:38:39.934Z"
   },
   {
    "duration": 52,
    "start_time": "2021-06-10T21:38:40.083Z"
   },
   {
    "duration": 40,
    "start_time": "2021-06-10T21:38:40.137Z"
   },
   {
    "duration": 6,
    "start_time": "2021-06-10T21:38:40.180Z"
   },
   {
    "duration": 40,
    "start_time": "2021-06-10T21:38:40.189Z"
   },
   {
    "duration": 11,
    "start_time": "2021-06-10T21:38:40.232Z"
   },
   {
    "duration": 6,
    "start_time": "2021-06-10T21:38:40.250Z"
   },
   {
    "duration": 8,
    "start_time": "2021-06-10T21:38:40.259Z"
   },
   {
    "duration": 71,
    "start_time": "2021-06-10T21:38:40.269Z"
   },
   {
    "duration": 34,
    "start_time": "2021-06-10T21:38:40.343Z"
   },
   {
    "duration": 4,
    "start_time": "2021-06-10T21:38:40.380Z"
   },
   {
    "duration": 37,
    "start_time": "2021-06-10T21:38:40.387Z"
   },
   {
    "duration": 4,
    "start_time": "2021-06-10T21:38:40.431Z"
   },
   {
    "duration": 39,
    "start_time": "2021-06-10T21:38:40.439Z"
   },
   {
    "duration": 102,
    "start_time": "2021-06-10T21:38:40.480Z"
   },
   {
    "duration": 7,
    "start_time": "2021-06-10T21:38:40.585Z"
   },
   {
    "duration": 40,
    "start_time": "2021-06-10T21:38:40.594Z"
   },
   {
    "duration": 11,
    "start_time": "2021-06-10T21:38:40.636Z"
   },
   {
    "duration": 36,
    "start_time": "2021-06-10T21:38:40.650Z"
   },
   {
    "duration": 144,
    "start_time": "2021-06-10T21:38:40.689Z"
   },
   {
    "duration": 152,
    "start_time": "2021-06-10T21:38:40.836Z"
   },
   {
    "duration": 163,
    "start_time": "2021-06-10T21:38:40.990Z"
   },
   {
    "duration": 11,
    "start_time": "2021-06-10T21:38:41.156Z"
   },
   {
    "duration": 25,
    "start_time": "2021-06-10T21:38:41.170Z"
   },
   {
    "duration": 813,
    "start_time": "2021-06-10T21:38:41.198Z"
   },
   {
    "duration": 9,
    "start_time": "2021-06-10T21:43:54.155Z"
   },
   {
    "duration": 47,
    "start_time": "2021-06-10T21:43:54.980Z"
   },
   {
    "duration": 565,
    "start_time": "2021-06-10T21:43:55.681Z"
   },
   {
    "duration": 12,
    "start_time": "2021-06-10T21:44:34.246Z"
   },
   {
    "duration": 13,
    "start_time": "2021-06-10T21:44:35.645Z"
   },
   {
    "duration": 560,
    "start_time": "2021-06-10T21:44:36.310Z"
   },
   {
    "duration": 11,
    "start_time": "2021-06-10T21:47:17.772Z"
   },
   {
    "duration": 17,
    "start_time": "2021-06-10T21:47:18.295Z"
   },
   {
    "duration": 577,
    "start_time": "2021-06-10T21:47:18.756Z"
   },
   {
    "duration": 375,
    "start_time": "2021-06-11T12:20:30.127Z"
   },
   {
    "duration": 25844,
    "start_time": "2021-06-11T12:20:42.895Z"
   },
   {
    "duration": 2008,
    "start_time": "2021-06-11T12:21:08.742Z"
   },
   {
    "duration": 368,
    "start_time": "2021-06-11T12:21:10.753Z"
   },
   {
    "duration": 21,
    "start_time": "2021-06-11T12:21:11.124Z"
   },
   {
    "duration": 16,
    "start_time": "2021-06-11T12:21:11.148Z"
   },
   {
    "duration": 20,
    "start_time": "2021-06-11T12:21:11.185Z"
   },
   {
    "duration": 115,
    "start_time": "2021-06-11T12:21:11.208Z"
   },
   {
    "duration": 124,
    "start_time": "2021-06-11T12:21:11.329Z"
   },
   {
    "duration": 98,
    "start_time": "2021-06-11T12:21:11.456Z"
   },
   {
    "duration": 256,
    "start_time": "2021-06-11T12:21:11.556Z"
   },
   {
    "duration": 160,
    "start_time": "2021-06-11T12:21:11.814Z"
   },
   {
    "duration": 36,
    "start_time": "2021-06-11T12:21:11.976Z"
   },
   {
    "duration": 38,
    "start_time": "2021-06-11T12:21:12.014Z"
   },
   {
    "duration": 40,
    "start_time": "2021-06-11T12:21:12.055Z"
   },
   {
    "duration": 15,
    "start_time": "2021-06-11T12:21:12.098Z"
   },
   {
    "duration": 39,
    "start_time": "2021-06-11T12:21:12.116Z"
   },
   {
    "duration": 22,
    "start_time": "2021-06-11T12:21:12.158Z"
   },
   {
    "duration": 15,
    "start_time": "2021-06-11T12:21:12.183Z"
   },
   {
    "duration": 18,
    "start_time": "2021-06-11T12:21:12.200Z"
   },
   {
    "duration": 5,
    "start_time": "2021-06-11T12:21:12.221Z"
   },
   {
    "duration": 19,
    "start_time": "2021-06-11T12:21:12.229Z"
   },
   {
    "duration": 19,
    "start_time": "2021-06-11T12:21:12.251Z"
   },
   {
    "duration": 2220,
    "start_time": "2021-06-11T12:21:12.286Z"
   },
   {
    "duration": 2257,
    "start_time": "2021-06-11T12:21:14.512Z"
   },
   {
    "duration": 148,
    "start_time": "2021-06-11T12:21:16.772Z"
   },
   {
    "duration": 20,
    "start_time": "2021-06-11T12:21:16.922Z"
   },
   {
    "duration": 1983,
    "start_time": "2021-06-11T12:21:16.944Z"
   },
   {
    "duration": 77,
    "start_time": "2021-06-11T12:21:18.929Z"
   },
   {
    "duration": 25,
    "start_time": "2021-06-11T12:21:19.009Z"
   },
   {
    "duration": 48,
    "start_time": "2021-06-11T12:21:19.037Z"
   },
   {
    "duration": 26,
    "start_time": "2021-06-11T12:21:19.088Z"
   },
   {
    "duration": 3,
    "start_time": "2021-06-11T12:21:19.117Z"
   },
   {
    "duration": 67,
    "start_time": "2021-06-11T12:21:19.122Z"
   },
   {
    "duration": 78,
    "start_time": "2021-06-11T12:21:19.192Z"
   },
   {
    "duration": 11,
    "start_time": "2021-06-11T12:21:19.285Z"
   },
   {
    "duration": 119,
    "start_time": "2021-06-11T12:21:19.298Z"
   },
   {
    "duration": 7,
    "start_time": "2021-06-11T12:21:19.420Z"
   },
   {
    "duration": 8,
    "start_time": "2021-06-11T12:21:19.430Z"
   },
   {
    "duration": 8,
    "start_time": "2021-06-11T12:21:19.441Z"
   },
   {
    "duration": 293,
    "start_time": "2021-06-11T12:21:19.487Z"
   },
   {
    "duration": 207,
    "start_time": "2021-06-11T12:21:19.782Z"
   },
   {
    "duration": 12,
    "start_time": "2021-06-11T12:21:19.992Z"
   },
   {
    "duration": 21,
    "start_time": "2021-06-11T12:21:20.006Z"
   },
   {
    "duration": 17,
    "start_time": "2021-06-11T12:21:20.030Z"
   },
   {
    "duration": 12,
    "start_time": "2021-06-11T12:21:20.049Z"
   },
   {
    "duration": 37,
    "start_time": "2021-06-11T12:21:20.063Z"
   },
   {
    "duration": 228,
    "start_time": "2021-06-11T12:21:20.103Z"
   },
   {
    "duration": 21,
    "start_time": "2021-06-11T12:21:20.333Z"
   },
   {
    "duration": 29,
    "start_time": "2021-06-11T12:21:20.356Z"
   },
   {
    "duration": 15,
    "start_time": "2021-06-11T12:21:20.388Z"
   },
   {
    "duration": 565,
    "start_time": "2021-06-11T12:21:20.406Z"
   },
   {
    "duration": 2878,
    "start_time": "2021-06-11T12:21:20.973Z"
   },
   {
    "duration": 3,
    "start_time": "2021-06-11T12:21:23.854Z"
   },
   {
    "duration": 28,
    "start_time": "2021-06-11T12:21:23.859Z"
   },
   {
    "duration": 21,
    "start_time": "2021-06-11T12:21:23.890Z"
   },
   {
    "duration": 66,
    "start_time": "2021-06-11T12:21:23.913Z"
   },
   {
    "duration": 36,
    "start_time": "2021-06-11T12:21:23.981Z"
   },
   {
    "duration": 136,
    "start_time": "2021-06-11T12:21:24.020Z"
   },
   {
    "duration": 11,
    "start_time": "2021-06-11T12:21:24.158Z"
   },
   {
    "duration": 725,
    "start_time": "2021-06-11T12:21:24.172Z"
   },
   {
    "duration": 15,
    "start_time": "2021-06-11T12:21:24.899Z"
   },
   {
    "duration": 15,
    "start_time": "2021-06-11T12:21:24.917Z"
   },
   {
    "duration": 81,
    "start_time": "2021-06-11T12:21:24.934Z"
   },
   {
    "duration": 15,
    "start_time": "2021-06-11T12:21:25.017Z"
   },
   {
    "duration": 22,
    "start_time": "2021-06-11T12:21:25.034Z"
   },
   {
    "duration": 9,
    "start_time": "2021-06-11T12:21:25.059Z"
   },
   {
    "duration": 6,
    "start_time": "2021-06-11T12:21:25.070Z"
   },
   {
    "duration": 78,
    "start_time": "2021-06-11T12:21:25.083Z"
   },
   {
    "duration": 100,
    "start_time": "2021-06-11T12:21:25.164Z"
   },
   {
    "duration": 19,
    "start_time": "2021-06-11T12:21:25.266Z"
   },
   {
    "duration": 37,
    "start_time": "2021-06-11T12:21:25.288Z"
   },
   {
    "duration": 6,
    "start_time": "2021-06-11T12:21:25.328Z"
   },
   {
    "duration": 10,
    "start_time": "2021-06-11T12:21:25.336Z"
   },
   {
    "duration": 6,
    "start_time": "2021-06-11T12:21:25.348Z"
   },
   {
    "duration": 7,
    "start_time": "2021-06-11T12:21:25.357Z"
   },
   {
    "duration": 10,
    "start_time": "2021-06-11T12:21:25.366Z"
   },
   {
    "duration": 32,
    "start_time": "2021-06-11T12:21:25.378Z"
   },
   {
    "duration": 32,
    "start_time": "2021-06-11T12:21:25.413Z"
   },
   {
    "duration": 3,
    "start_time": "2021-06-11T12:21:25.447Z"
   },
   {
    "duration": 16,
    "start_time": "2021-06-11T12:21:25.452Z"
   },
   {
    "duration": 18,
    "start_time": "2021-06-11T12:21:25.470Z"
   },
   {
    "duration": 57,
    "start_time": "2021-06-11T12:21:25.490Z"
   },
   {
    "duration": 82,
    "start_time": "2021-06-11T12:21:25.549Z"
   },
   {
    "duration": 15,
    "start_time": "2021-06-11T12:21:25.634Z"
   },
   {
    "duration": 16,
    "start_time": "2021-06-11T12:21:25.652Z"
   },
   {
    "duration": 14,
    "start_time": "2021-06-11T12:21:25.671Z"
   },
   {
    "duration": 35,
    "start_time": "2021-06-11T12:21:25.688Z"
   },
   {
    "duration": 172,
    "start_time": "2021-06-11T12:21:25.725Z"
   },
   {
    "duration": 237,
    "start_time": "2021-06-11T12:21:25.900Z"
   },
   {
    "duration": 154,
    "start_time": "2021-06-11T12:21:26.139Z"
   },
   {
    "duration": 8,
    "start_time": "2021-06-11T12:21:26.296Z"
   },
   {
    "duration": 86,
    "start_time": "2021-06-11T12:21:26.306Z"
   },
   {
    "duration": 740,
    "start_time": "2021-06-11T12:21:26.395Z"
   },
   {
    "duration": -721,
    "start_time": "2021-06-11T12:21:27.859Z"
   },
   {
    "duration": 8,
    "start_time": "2021-06-11T12:21:44.327Z"
   },
   {
    "duration": 323,
    "start_time": "2021-06-11T12:22:19.646Z"
   },
   {
    "duration": 339,
    "start_time": "2021-06-11T12:22:41.361Z"
   },
   {
    "duration": 4,
    "start_time": "2021-06-11T12:22:55.986Z"
   },
   {
    "duration": 5,
    "start_time": "2021-06-11T12:23:09.092Z"
   },
   {
    "duration": 4,
    "start_time": "2021-06-11T12:25:02.795Z"
   },
   {
    "duration": 5,
    "start_time": "2021-06-11T12:25:21.904Z"
   },
   {
    "duration": 6,
    "start_time": "2021-06-11T12:26:06.716Z"
   },
   {
    "duration": 13,
    "start_time": "2021-06-11T12:30:36.736Z"
   },
   {
    "duration": 10,
    "start_time": "2021-06-11T13:00:11.199Z"
   },
   {
    "duration": 898,
    "start_time": "2021-06-11T13:00:12.406Z"
   },
   {
    "duration": 10,
    "start_time": "2021-06-11T13:09:51.199Z"
   },
   {
    "duration": 1711,
    "start_time": "2021-06-11T13:09:51.868Z"
   },
   {
    "duration": 199,
    "start_time": "2021-06-11T13:12:23.872Z"
   },
   {
    "duration": 684,
    "start_time": "2021-06-11T13:12:40.555Z"
   },
   {
    "duration": 105,
    "start_time": "2021-06-11T13:13:12.902Z"
   },
   {
    "duration": 1087,
    "start_time": "2021-06-11T13:13:15.563Z"
   },
   {
    "duration": 166,
    "start_time": "2021-06-11T13:13:17.329Z"
   },
   {
    "duration": 116,
    "start_time": "2021-06-11T13:13:23.960Z"
   },
   {
    "duration": 9,
    "start_time": "2021-06-11T13:13:42.682Z"
   },
   {
    "duration": 9,
    "start_time": "2021-06-11T13:14:03.830Z"
   },
   {
    "duration": 22,
    "start_time": "2021-06-11T13:14:27.443Z"
   },
   {
    "duration": 17,
    "start_time": "2021-06-11T13:17:58.800Z"
   },
   {
    "duration": 13,
    "start_time": "2021-06-11T13:22:09.471Z"
   },
   {
    "duration": 12,
    "start_time": "2021-06-11T13:35:53.205Z"
   },
   {
    "duration": 135992,
    "start_time": "2021-06-12T13:03:16.564Z"
   },
   {
    "duration": 1914,
    "start_time": "2021-06-12T13:05:32.559Z"
   },
   {
    "duration": 347,
    "start_time": "2021-06-12T13:05:34.476Z"
   },
   {
    "duration": 32,
    "start_time": "2021-06-12T13:05:34.826Z"
   },
   {
    "duration": 22,
    "start_time": "2021-06-12T13:05:34.861Z"
   },
   {
    "duration": 62,
    "start_time": "2021-06-12T13:05:34.886Z"
   },
   {
    "duration": 127,
    "start_time": "2021-06-12T13:05:34.951Z"
   },
   {
    "duration": 136,
    "start_time": "2021-06-12T13:05:35.083Z"
   },
   {
    "duration": 116,
    "start_time": "2021-06-12T13:05:35.222Z"
   },
   {
    "duration": 256,
    "start_time": "2021-06-12T13:05:35.341Z"
   },
   {
    "duration": 180,
    "start_time": "2021-06-12T13:05:35.600Z"
   },
   {
    "duration": 32,
    "start_time": "2021-06-12T13:05:35.783Z"
   },
   {
    "duration": 33,
    "start_time": "2021-06-12T13:05:35.817Z"
   },
   {
    "duration": 14,
    "start_time": "2021-06-12T13:05:35.854Z"
   },
   {
    "duration": 7,
    "start_time": "2021-06-12T13:05:35.870Z"
   },
   {
    "duration": 54,
    "start_time": "2021-06-12T13:05:35.880Z"
   },
   {
    "duration": 20,
    "start_time": "2021-06-12T13:05:35.937Z"
   },
   {
    "duration": 15,
    "start_time": "2021-06-12T13:05:35.960Z"
   },
   {
    "duration": 57,
    "start_time": "2021-06-12T13:05:35.977Z"
   },
   {
    "duration": 10,
    "start_time": "2021-06-12T13:05:36.037Z"
   },
   {
    "duration": 6,
    "start_time": "2021-06-12T13:05:36.049Z"
   },
   {
    "duration": 9,
    "start_time": "2021-06-12T13:05:36.058Z"
   },
   {
    "duration": 2184,
    "start_time": "2021-06-12T13:05:36.073Z"
   },
   {
    "duration": 2193,
    "start_time": "2021-06-12T13:05:38.261Z"
   },
   {
    "duration": 81,
    "start_time": "2021-06-12T13:05:40.457Z"
   },
   {
    "duration": 434,
    "start_time": "2021-06-12T13:05:40.541Z"
   },
   {
    "duration": 2517,
    "start_time": "2021-06-12T13:05:40.977Z"
   },
   {
    "duration": 81,
    "start_time": "2021-06-12T13:05:43.496Z"
   },
   {
    "duration": 47,
    "start_time": "2021-06-12T13:05:43.579Z"
   },
   {
    "duration": 27,
    "start_time": "2021-06-12T13:05:43.629Z"
   },
   {
    "duration": 25,
    "start_time": "2021-06-12T13:05:43.659Z"
   },
   {
    "duration": 3,
    "start_time": "2021-06-12T13:05:43.686Z"
   },
   {
    "duration": 78,
    "start_time": "2021-06-12T13:05:43.691Z"
   },
   {
    "duration": 103,
    "start_time": "2021-06-12T13:05:43.771Z"
   },
   {
    "duration": 8,
    "start_time": "2021-06-12T13:05:43.876Z"
   },
   {
    "duration": 114,
    "start_time": "2021-06-12T13:05:43.887Z"
   },
   {
    "duration": 31,
    "start_time": "2021-06-12T13:05:44.003Z"
   },
   {
    "duration": 8,
    "start_time": "2021-06-12T13:05:44.042Z"
   },
   {
    "duration": 9,
    "start_time": "2021-06-12T13:05:44.053Z"
   },
   {
    "duration": 7,
    "start_time": "2021-06-12T13:05:44.066Z"
   },
   {
    "duration": 11,
    "start_time": "2021-06-12T13:05:44.077Z"
   },
   {
    "duration": 9,
    "start_time": "2021-06-12T13:05:44.128Z"
   },
   {
    "duration": 12,
    "start_time": "2021-06-12T13:05:44.141Z"
   },
   {
    "duration": 9,
    "start_time": "2021-06-12T13:05:44.155Z"
   },
   {
    "duration": 58,
    "start_time": "2021-06-12T13:05:44.167Z"
   },
   {
    "duration": 24,
    "start_time": "2021-06-12T13:05:44.232Z"
   },
   {
    "duration": 207,
    "start_time": "2021-06-12T13:05:44.258Z"
   },
   {
    "duration": 19,
    "start_time": "2021-06-12T13:05:44.468Z"
   },
   {
    "duration": 6,
    "start_time": "2021-06-12T13:05:44.489Z"
   },
   {
    "duration": 17,
    "start_time": "2021-06-12T13:05:44.524Z"
   },
   {
    "duration": 598,
    "start_time": "2021-06-12T13:05:44.544Z"
   },
   {
    "duration": 3048,
    "start_time": "2021-06-12T13:05:45.145Z"
   },
   {
    "duration": 3,
    "start_time": "2021-06-12T13:05:48.195Z"
   },
   {
    "duration": 37,
    "start_time": "2021-06-12T13:05:48.201Z"
   },
   {
    "duration": 22,
    "start_time": "2021-06-12T13:05:48.242Z"
   },
   {
    "duration": 102,
    "start_time": "2021-06-12T13:05:48.267Z"
   },
   {
    "duration": 20,
    "start_time": "2021-06-12T13:05:48.372Z"
   },
   {
    "duration": 168,
    "start_time": "2021-06-12T13:05:48.394Z"
   },
   {
    "duration": 13,
    "start_time": "2021-06-12T13:05:48.565Z"
   },
   {
    "duration": 21578,
    "start_time": "2021-06-12T13:05:48.582Z"
   },
   {
    "duration": 15,
    "start_time": "2021-06-12T13:06:10.162Z"
   },
   {
    "duration": 66,
    "start_time": "2021-06-12T13:06:10.180Z"
   },
   {
    "duration": 21,
    "start_time": "2021-06-12T13:06:10.248Z"
   },
   {
    "duration": 74,
    "start_time": "2021-06-12T13:06:10.272Z"
   },
   {
    "duration": 78,
    "start_time": "2021-06-12T13:06:10.351Z"
   },
   {
    "duration": 11,
    "start_time": "2021-06-12T13:06:10.432Z"
   },
   {
    "duration": 7,
    "start_time": "2021-06-12T13:06:10.448Z"
   },
   {
    "duration": 14,
    "start_time": "2021-06-12T13:06:10.465Z"
   },
   {
    "duration": 106,
    "start_time": "2021-06-12T13:06:10.533Z"
   },
   {
    "duration": 18,
    "start_time": "2021-06-12T13:06:10.642Z"
   },
   {
    "duration": 61,
    "start_time": "2021-06-12T13:06:10.663Z"
   },
   {
    "duration": 9,
    "start_time": "2021-06-12T13:06:10.726Z"
   },
   {
    "duration": 23,
    "start_time": "2021-06-12T13:06:10.738Z"
   },
   {
    "duration": 7,
    "start_time": "2021-06-12T13:06:10.764Z"
   },
   {
    "duration": 6,
    "start_time": "2021-06-12T13:06:10.774Z"
   },
   {
    "duration": 46,
    "start_time": "2021-06-12T13:06:10.782Z"
   },
   {
    "duration": 34,
    "start_time": "2021-06-12T13:06:10.831Z"
   },
   {
    "duration": 68,
    "start_time": "2021-06-12T13:06:10.869Z"
   },
   {
    "duration": 4,
    "start_time": "2021-06-12T13:06:10.940Z"
   },
   {
    "duration": 9,
    "start_time": "2021-06-12T13:06:10.948Z"
   },
   {
    "duration": 5,
    "start_time": "2021-06-12T13:06:10.960Z"
   },
   {
    "duration": 78,
    "start_time": "2021-06-12T13:06:10.968Z"
   },
   {
    "duration": 92,
    "start_time": "2021-06-12T13:06:11.049Z"
   },
   {
    "duration": 7,
    "start_time": "2021-06-12T13:06:11.144Z"
   },
   {
    "duration": 14,
    "start_time": "2021-06-12T13:06:11.153Z"
   },
   {
    "duration": 9,
    "start_time": "2021-06-12T13:06:11.169Z"
   },
   {
    "duration": 62,
    "start_time": "2021-06-12T13:06:11.181Z"
   },
   {
    "duration": 139,
    "start_time": "2021-06-12T13:06:11.245Z"
   },
   {
    "duration": 193,
    "start_time": "2021-06-12T13:06:11.386Z"
   },
   {
    "duration": 203,
    "start_time": "2021-06-12T13:06:11.582Z"
   },
   {
    "duration": 7208,
    "start_time": "2021-06-12T13:06:11.788Z"
   },
   {
    "duration": -81,
    "start_time": "2021-06-12T13:06:19.081Z"
   },
   {
    "duration": -87,
    "start_time": "2021-06-12T13:06:19.089Z"
   },
   {
    "duration": -96,
    "start_time": "2021-06-12T13:06:19.100Z"
   },
   {
    "duration": 13,
    "start_time": "2021-06-12T13:06:29.295Z"
   },
   {
    "duration": 8,
    "start_time": "2021-06-12T13:06:42.146Z"
   },
   {
    "duration": 554,
    "start_time": "2021-06-12T13:06:44.004Z"
   },
   {
    "duration": 4,
    "start_time": "2021-06-12T13:08:18.414Z"
   },
   {
    "duration": 10,
    "start_time": "2021-06-12T13:08:37.437Z"
   },
   {
    "duration": 21,
    "start_time": "2021-06-12T13:08:51.230Z"
   },
   {
    "duration": 22,
    "start_time": "2021-06-12T13:09:25.214Z"
   },
   {
    "duration": 18,
    "start_time": "2021-06-12T13:11:04.579Z"
   },
   {
    "duration": 30,
    "start_time": "2021-06-12T13:11:08.668Z"
   },
   {
    "duration": 23,
    "start_time": "2021-06-12T13:11:55.696Z"
   },
   {
    "duration": 211,
    "start_time": "2021-06-12T17:57:25.443Z"
   },
   {
    "duration": 165,
    "start_time": "2021-06-12T17:57:28.920Z"
   },
   {
    "duration": 14528,
    "start_time": "2021-06-12T17:57:43.204Z"
   },
   {
    "duration": 1209,
    "start_time": "2021-06-12T17:57:57.735Z"
   },
   {
    "duration": 598,
    "start_time": "2021-06-12T17:57:58.946Z"
   },
   {
    "duration": 16,
    "start_time": "2021-06-12T17:57:59.546Z"
   },
   {
    "duration": 10,
    "start_time": "2021-06-12T17:57:59.564Z"
   },
   {
    "duration": 21,
    "start_time": "2021-06-12T17:57:59.575Z"
   },
   {
    "duration": 55,
    "start_time": "2021-06-12T17:57:59.598Z"
   },
   {
    "duration": 74,
    "start_time": "2021-06-12T17:57:59.656Z"
   },
   {
    "duration": 58,
    "start_time": "2021-06-12T17:57:59.731Z"
   },
   {
    "duration": 153,
    "start_time": "2021-06-12T17:57:59.790Z"
   },
   {
    "duration": 101,
    "start_time": "2021-06-12T17:57:59.945Z"
   },
   {
    "duration": 22,
    "start_time": "2021-06-12T17:58:00.048Z"
   },
   {
    "duration": 22,
    "start_time": "2021-06-12T17:58:00.072Z"
   },
   {
    "duration": 11,
    "start_time": "2021-06-12T17:58:00.096Z"
   },
   {
    "duration": 5,
    "start_time": "2021-06-12T17:58:00.109Z"
   },
   {
    "duration": 8,
    "start_time": "2021-06-12T17:58:00.115Z"
   },
   {
    "duration": 18,
    "start_time": "2021-06-12T17:58:00.125Z"
   },
   {
    "duration": 11,
    "start_time": "2021-06-12T17:58:00.144Z"
   },
   {
    "duration": 34,
    "start_time": "2021-06-12T17:58:00.157Z"
   },
   {
    "duration": 5,
    "start_time": "2021-06-12T17:58:00.192Z"
   },
   {
    "duration": 11,
    "start_time": "2021-06-12T17:58:00.198Z"
   },
   {
    "duration": 10,
    "start_time": "2021-06-12T17:58:00.210Z"
   },
   {
    "duration": 1303,
    "start_time": "2021-06-12T17:58:00.224Z"
   },
   {
    "duration": 1396,
    "start_time": "2021-06-12T17:58:01.530Z"
   },
   {
    "duration": 90,
    "start_time": "2021-06-12T17:58:02.928Z"
   },
   {
    "duration": 14,
    "start_time": "2021-06-12T17:58:03.020Z"
   },
   {
    "duration": 1211,
    "start_time": "2021-06-12T17:58:03.036Z"
   },
   {
    "duration": 57,
    "start_time": "2021-06-12T17:58:04.249Z"
   },
   {
    "duration": 20,
    "start_time": "2021-06-12T17:58:04.308Z"
   },
   {
    "duration": 18,
    "start_time": "2021-06-12T17:58:04.329Z"
   },
   {
    "duration": 37,
    "start_time": "2021-06-12T17:58:04.348Z"
   },
   {
    "duration": 3,
    "start_time": "2021-06-12T17:58:04.386Z"
   },
   {
    "duration": 28,
    "start_time": "2021-06-12T17:58:04.390Z"
   },
   {
    "duration": 66,
    "start_time": "2021-06-12T17:58:04.420Z"
   },
   {
    "duration": 7,
    "start_time": "2021-06-12T17:58:04.487Z"
   },
   {
    "duration": 60,
    "start_time": "2021-06-12T17:58:04.495Z"
   },
   {
    "duration": 5,
    "start_time": "2021-06-12T17:58:04.556Z"
   },
   {
    "duration": 26,
    "start_time": "2021-06-12T17:58:04.562Z"
   },
   {
    "duration": 13,
    "start_time": "2021-06-12T17:58:04.590Z"
   },
   {
    "duration": 6,
    "start_time": "2021-06-12T17:58:04.605Z"
   },
   {
    "duration": 9,
    "start_time": "2021-06-12T17:58:04.613Z"
   },
   {
    "duration": 6,
    "start_time": "2021-06-12T17:58:04.623Z"
   },
   {
    "duration": 6,
    "start_time": "2021-06-12T17:58:04.630Z"
   },
   {
    "duration": 8,
    "start_time": "2021-06-12T17:58:04.637Z"
   },
   {
    "duration": 9,
    "start_time": "2021-06-12T17:58:04.646Z"
   },
   {
    "duration": 13,
    "start_time": "2021-06-12T17:58:04.685Z"
   },
   {
    "duration": 146,
    "start_time": "2021-06-12T17:58:04.700Z"
   },
   {
    "duration": 12,
    "start_time": "2021-06-12T17:58:04.847Z"
   },
   {
    "duration": 7,
    "start_time": "2021-06-12T17:58:04.860Z"
   },
   {
    "duration": 18,
    "start_time": "2021-06-12T17:58:04.868Z"
   },
   {
    "duration": 388,
    "start_time": "2021-06-12T17:58:04.887Z"
   },
   {
    "duration": 1728,
    "start_time": "2021-06-12T17:58:05.277Z"
   },
   {
    "duration": 3,
    "start_time": "2021-06-12T17:58:07.006Z"
   },
   {
    "duration": 18,
    "start_time": "2021-06-12T17:58:07.010Z"
   },
   {
    "duration": 12,
    "start_time": "2021-06-12T17:58:07.029Z"
   },
   {
    "duration": 65,
    "start_time": "2021-06-12T17:58:07.043Z"
   },
   {
    "duration": 10,
    "start_time": "2021-06-12T17:58:07.110Z"
   },
   {
    "duration": 101,
    "start_time": "2021-06-12T17:58:07.121Z"
   },
   {
    "duration": 8,
    "start_time": "2021-06-12T17:58:07.224Z"
   },
   {
    "duration": 339,
    "start_time": "2021-06-12T17:58:07.233Z"
   },
   {
    "duration": 10,
    "start_time": "2021-06-12T17:58:07.574Z"
   },
   {
    "duration": 18,
    "start_time": "2021-06-12T17:58:07.586Z"
   },
   {
    "duration": 9,
    "start_time": "2021-06-12T17:58:07.606Z"
   },
   {
    "duration": 11,
    "start_time": "2021-06-12T17:58:07.617Z"
   },
   {
    "duration": 59,
    "start_time": "2021-06-12T17:58:07.629Z"
   },
   {
    "duration": 6,
    "start_time": "2021-06-12T17:58:07.689Z"
   },
   {
    "duration": 14,
    "start_time": "2021-06-12T17:58:07.697Z"
   },
   {
    "duration": 13,
    "start_time": "2021-06-12T17:58:07.715Z"
   },
   {
    "duration": 100,
    "start_time": "2021-06-12T17:58:07.730Z"
   },
   {
    "duration": 9,
    "start_time": "2021-06-12T17:58:07.832Z"
   },
   {
    "duration": 44,
    "start_time": "2021-06-12T17:58:07.842Z"
   },
   {
    "duration": 4,
    "start_time": "2021-06-12T17:58:07.888Z"
   },
   {
    "duration": 9,
    "start_time": "2021-06-12T17:58:07.893Z"
   },
   {
    "duration": 8,
    "start_time": "2021-06-12T17:58:07.904Z"
   },
   {
    "duration": 6,
    "start_time": "2021-06-12T17:58:07.913Z"
   },
   {
    "duration": 12,
    "start_time": "2021-06-12T17:58:07.920Z"
   },
   {
    "duration": 26,
    "start_time": "2021-06-12T17:58:07.933Z"
   },
   {
    "duration": 28,
    "start_time": "2021-06-12T17:58:07.961Z"
   },
   {
    "duration": 2,
    "start_time": "2021-06-12T17:58:07.990Z"
   },
   {
    "duration": 10,
    "start_time": "2021-06-12T17:58:07.994Z"
   },
   {
    "duration": 8,
    "start_time": "2021-06-12T17:58:08.005Z"
   },
   {
    "duration": 44,
    "start_time": "2021-06-12T17:58:08.014Z"
   },
   {
    "duration": 50,
    "start_time": "2021-06-12T17:58:08.060Z"
   },
   {
    "duration": 5,
    "start_time": "2021-06-12T17:58:08.111Z"
   },
   {
    "duration": 12,
    "start_time": "2021-06-12T17:58:08.117Z"
   },
   {
    "duration": 5,
    "start_time": "2021-06-12T17:58:08.131Z"
   },
   {
    "duration": 27,
    "start_time": "2021-06-12T17:58:08.138Z"
   },
   {
    "duration": 93,
    "start_time": "2021-06-12T17:58:08.167Z"
   },
   {
    "duration": 102,
    "start_time": "2021-06-12T17:58:08.262Z"
   },
   {
    "duration": 95,
    "start_time": "2021-06-12T17:58:08.366Z"
   },
   {
    "duration": 317,
    "start_time": "2021-06-12T17:58:08.463Z"
   },
   {
    "duration": -2516,
    "start_time": "2021-06-12T17:58:11.298Z"
   },
   {
    "duration": -2518,
    "start_time": "2021-06-12T17:58:11.302Z"
   },
   {
    "duration": -2522,
    "start_time": "2021-06-12T17:58:11.307Z"
   },
   {
    "duration": -2525,
    "start_time": "2021-06-12T17:58:11.312Z"
   },
   {
    "duration": -2528,
    "start_time": "2021-06-12T17:58:11.316Z"
   },
   {
    "duration": 3,
    "start_time": "2021-06-12T17:59:35.958Z"
   },
   {
    "duration": 58,
    "start_time": "2021-06-12T18:01:14.301Z"
   },
   {
    "duration": 11,
    "start_time": "2021-06-12T18:02:10.336Z"
   },
   {
    "duration": 7,
    "start_time": "2021-06-12T18:02:14.968Z"
   },
   {
    "duration": 17,
    "start_time": "2021-06-12T18:02:27.742Z"
   },
   {
    "duration": 6,
    "start_time": "2021-06-12T18:02:30.569Z"
   },
   {
    "duration": 354,
    "start_time": "2021-06-12T18:02:31.492Z"
   },
   {
    "duration": 16,
    "start_time": "2021-06-12T18:02:41.238Z"
   },
   {
    "duration": 358,
    "start_time": "2021-06-12T18:02:44.585Z"
   },
   {
    "duration": 3,
    "start_time": "2021-06-12T18:03:20.917Z"
   },
   {
    "duration": 730,
    "start_time": "2021-06-12T18:03:20.922Z"
   },
   {
    "duration": 19,
    "start_time": "2021-06-12T18:05:26.344Z"
   },
   {
    "duration": 374,
    "start_time": "2021-06-12T18:05:31.290Z"
   },
   {
    "duration": 7,
    "start_time": "2021-06-12T18:06:18.730Z"
   },
   {
    "duration": 370,
    "start_time": "2021-06-12T18:06:19.289Z"
   },
   {
    "duration": 64,
    "start_time": "2021-06-12T18:06:30.833Z"
   },
   {
    "duration": 363,
    "start_time": "2021-06-12T18:06:31.670Z"
   },
   {
    "duration": 3,
    "start_time": "2021-06-12T18:06:54.087Z"
   },
   {
    "duration": 7,
    "start_time": "2021-06-12T18:06:54.848Z"
   },
   {
    "duration": 4,
    "start_time": "2021-06-12T18:07:03.325Z"
   },
   {
    "duration": 5,
    "start_time": "2021-06-12T18:07:07.298Z"
   },
   {
    "duration": 350,
    "start_time": "2021-06-12T18:07:09.191Z"
   },
   {
    "duration": 5,
    "start_time": "2021-06-12T18:07:49.331Z"
   },
   {
    "duration": 404,
    "start_time": "2021-06-12T18:07:50.365Z"
   },
   {
    "duration": 194,
    "start_time": "2021-06-12T18:08:18.848Z"
   },
   {
    "duration": 65,
    "start_time": "2021-06-12T18:08:32.709Z"
   },
   {
    "duration": 188,
    "start_time": "2021-06-12T18:09:12.135Z"
   },
   {
    "duration": 5,
    "start_time": "2021-06-12T18:09:47.170Z"
   },
   {
    "duration": 376,
    "start_time": "2021-06-12T18:09:49.298Z"
   },
   {
    "duration": 59,
    "start_time": "2021-06-12T18:10:32.716Z"
   },
   {
    "duration": 59,
    "start_time": "2021-06-12T18:10:53.186Z"
   },
   {
    "duration": 90,
    "start_time": "2021-06-12T18:11:02.314Z"
   },
   {
    "duration": 66,
    "start_time": "2021-06-12T18:11:27.964Z"
   },
   {
    "duration": 56,
    "start_time": "2021-06-12T18:11:45.984Z"
   },
   {
    "duration": 16,
    "start_time": "2021-06-12T18:12:10.749Z"
   },
   {
    "duration": 59,
    "start_time": "2021-06-12T18:12:11.607Z"
   },
   {
    "duration": 173,
    "start_time": "2021-06-12T18:12:34.760Z"
   },
   {
    "duration": 3,
    "start_time": "2021-06-12T18:12:54.591Z"
   },
   {
    "duration": 5,
    "start_time": "2021-06-12T18:14:01.484Z"
   },
   {
    "duration": 15,
    "start_time": "2021-06-12T18:15:10.602Z"
   },
   {
    "duration": 5,
    "start_time": "2021-06-12T18:24:28.858Z"
   },
   {
    "duration": 11,
    "start_time": "2021-06-12T18:26:15.895Z"
   },
   {
    "duration": 12,
    "start_time": "2021-06-12T18:29:10.747Z"
   },
   {
    "duration": 18,
    "start_time": "2021-06-12T18:29:59.524Z"
   },
   {
    "duration": 19,
    "start_time": "2021-06-12T18:30:09.250Z"
   },
   {
    "duration": 8,
    "start_time": "2021-06-12T18:30:37.525Z"
   },
   {
    "duration": 19,
    "start_time": "2021-06-12T18:30:40.702Z"
   },
   {
    "duration": 4,
    "start_time": "2021-06-12T18:30:47.354Z"
   },
   {
    "duration": 4,
    "start_time": "2021-06-12T18:30:51.552Z"
   },
   {
    "duration": 62,
    "start_time": "2021-06-12T18:31:14.240Z"
   },
   {
    "duration": 62,
    "start_time": "2021-06-12T18:31:21.409Z"
   },
   {
    "duration": 316,
    "start_time": "2021-06-12T18:31:28.427Z"
   },
   {
    "duration": 59,
    "start_time": "2021-06-12T18:32:20.906Z"
   },
   {
    "duration": 65,
    "start_time": "2021-06-12T18:33:00.296Z"
   },
   {
    "duration": 187,
    "start_time": "2021-06-12T18:33:07.355Z"
   },
   {
    "duration": 7,
    "start_time": "2021-06-12T18:34:20.927Z"
   },
   {
    "duration": 61,
    "start_time": "2021-06-12T18:35:48.014Z"
   },
   {
    "duration": 7,
    "start_time": "2021-06-12T18:35:54.488Z"
   },
   {
    "duration": 3,
    "start_time": "2021-06-12T18:35:58.548Z"
   },
   {
    "duration": 365,
    "start_time": "2021-06-12T18:36:10.434Z"
   },
   {
    "duration": 5,
    "start_time": "2021-06-12T18:37:14.739Z"
   },
   {
    "duration": 369,
    "start_time": "2021-06-12T18:37:16.064Z"
   },
   {
    "duration": 5,
    "start_time": "2021-06-12T18:38:14.767Z"
   },
   {
    "duration": 115,
    "start_time": "2021-06-12T18:38:15.678Z"
   },
   {
    "duration": 60,
    "start_time": "2021-06-12T18:58:16.543Z"
   },
   {
    "duration": 4454,
    "start_time": "2021-06-12T19:01:53.326Z"
   },
   {
    "duration": 1120,
    "start_time": "2021-06-12T19:01:57.782Z"
   },
   {
    "duration": 239,
    "start_time": "2021-06-12T19:01:58.904Z"
   },
   {
    "duration": 17,
    "start_time": "2021-06-12T19:01:59.145Z"
   },
   {
    "duration": 27,
    "start_time": "2021-06-12T19:01:59.164Z"
   },
   {
    "duration": 14,
    "start_time": "2021-06-12T19:01:59.192Z"
   },
   {
    "duration": 55,
    "start_time": "2021-06-12T19:01:59.208Z"
   },
   {
    "duration": 79,
    "start_time": "2021-06-12T19:01:59.266Z"
   },
   {
    "duration": 66,
    "start_time": "2021-06-12T19:01:59.347Z"
   },
   {
    "duration": 149,
    "start_time": "2021-06-12T19:01:59.415Z"
   },
   {
    "duration": 98,
    "start_time": "2021-06-12T19:01:59.565Z"
   },
   {
    "duration": 25,
    "start_time": "2021-06-12T19:01:59.665Z"
   },
   {
    "duration": 12,
    "start_time": "2021-06-12T19:01:59.692Z"
   },
   {
    "duration": 9,
    "start_time": "2021-06-12T19:01:59.706Z"
   },
   {
    "duration": 5,
    "start_time": "2021-06-12T19:01:59.716Z"
   },
   {
    "duration": 6,
    "start_time": "2021-06-12T19:01:59.722Z"
   },
   {
    "duration": 11,
    "start_time": "2021-06-12T19:01:59.729Z"
   },
   {
    "duration": 47,
    "start_time": "2021-06-12T19:01:59.742Z"
   },
   {
    "duration": 13,
    "start_time": "2021-06-12T19:01:59.791Z"
   },
   {
    "duration": 5,
    "start_time": "2021-06-12T19:01:59.805Z"
   },
   {
    "duration": 6,
    "start_time": "2021-06-12T19:01:59.811Z"
   },
   {
    "duration": 6,
    "start_time": "2021-06-12T19:01:59.818Z"
   },
   {
    "duration": 1321,
    "start_time": "2021-06-12T19:01:59.828Z"
   },
   {
    "duration": 1366,
    "start_time": "2021-06-12T19:02:01.152Z"
   },
   {
    "duration": 132,
    "start_time": "2021-06-12T19:02:02.519Z"
   },
   {
    "duration": 15,
    "start_time": "2021-06-12T19:02:02.652Z"
   },
   {
    "duration": 1226,
    "start_time": "2021-06-12T19:02:02.668Z"
   },
   {
    "duration": 50,
    "start_time": "2021-06-12T19:02:03.896Z"
   },
   {
    "duration": 43,
    "start_time": "2021-06-12T19:02:03.947Z"
   },
   {
    "duration": 19,
    "start_time": "2021-06-12T19:02:03.992Z"
   },
   {
    "duration": 28,
    "start_time": "2021-06-12T19:02:04.013Z"
   },
   {
    "duration": 3,
    "start_time": "2021-06-12T19:02:04.043Z"
   },
   {
    "duration": 50,
    "start_time": "2021-06-12T19:02:04.048Z"
   },
   {
    "duration": 56,
    "start_time": "2021-06-12T19:02:04.100Z"
   },
   {
    "duration": 5,
    "start_time": "2021-06-12T19:02:04.158Z"
   },
   {
    "duration": 68,
    "start_time": "2021-06-12T19:02:04.184Z"
   },
   {
    "duration": 7,
    "start_time": "2021-06-12T19:02:04.254Z"
   },
   {
    "duration": 21,
    "start_time": "2021-06-12T19:02:04.263Z"
   },
   {
    "duration": 11,
    "start_time": "2021-06-12T19:02:04.287Z"
   },
   {
    "duration": 11,
    "start_time": "2021-06-12T19:02:04.300Z"
   },
   {
    "duration": 13,
    "start_time": "2021-06-12T19:02:04.313Z"
   },
   {
    "duration": 35,
    "start_time": "2021-06-12T19:02:04.328Z"
   },
   {
    "duration": 24,
    "start_time": "2021-06-12T19:02:04.365Z"
   },
   {
    "duration": 14,
    "start_time": "2021-06-12T19:02:04.390Z"
   },
   {
    "duration": 18,
    "start_time": "2021-06-12T19:02:04.405Z"
   },
   {
    "duration": 26,
    "start_time": "2021-06-12T19:02:04.424Z"
   },
   {
    "duration": 150,
    "start_time": "2021-06-12T19:02:04.451Z"
   },
   {
    "duration": 11,
    "start_time": "2021-06-12T19:02:04.602Z"
   },
   {
    "duration": 5,
    "start_time": "2021-06-12T19:02:04.615Z"
   },
   {
    "duration": 11,
    "start_time": "2021-06-12T19:02:04.622Z"
   },
   {
    "duration": 456,
    "start_time": "2021-06-12T19:02:04.635Z"
   },
   {
    "duration": 1844,
    "start_time": "2021-06-12T19:02:05.092Z"
   },
   {
    "duration": 2,
    "start_time": "2021-06-12T19:02:06.938Z"
   },
   {
    "duration": 16,
    "start_time": "2021-06-12T19:02:06.942Z"
   },
   {
    "duration": 27,
    "start_time": "2021-06-12T19:02:06.959Z"
   },
   {
    "duration": 47,
    "start_time": "2021-06-12T19:02:06.988Z"
   },
   {
    "duration": 9,
    "start_time": "2021-06-12T19:02:07.037Z"
   },
   {
    "duration": 109,
    "start_time": "2021-06-12T19:02:07.048Z"
   },
   {
    "duration": 9,
    "start_time": "2021-06-12T19:02:07.159Z"
   },
   {
    "duration": 741,
    "start_time": "2021-06-12T19:02:07.170Z"
   },
   {
    "duration": 13,
    "start_time": "2021-06-12T19:02:07.913Z"
   },
   {
    "duration": 58,
    "start_time": "2021-06-12T19:02:07.928Z"
   },
   {
    "duration": 15,
    "start_time": "2021-06-12T19:02:07.988Z"
   },
   {
    "duration": 13,
    "start_time": "2021-06-12T19:02:08.005Z"
   },
   {
    "duration": 66,
    "start_time": "2021-06-12T19:02:08.020Z"
   },
   {
    "duration": 7,
    "start_time": "2021-06-12T19:02:08.087Z"
   },
   {
    "duration": 7,
    "start_time": "2021-06-12T19:02:08.096Z"
   },
   {
    "duration": 15,
    "start_time": "2021-06-12T19:02:08.108Z"
   },
   {
    "duration": 94,
    "start_time": "2021-06-12T19:02:08.125Z"
   },
   {
    "duration": 10,
    "start_time": "2021-06-12T19:02:08.220Z"
   },
   {
    "duration": 30,
    "start_time": "2021-06-12T19:02:08.232Z"
   },
   {
    "duration": 5,
    "start_time": "2021-06-12T19:02:08.285Z"
   },
   {
    "duration": 12,
    "start_time": "2021-06-12T19:02:08.291Z"
   },
   {
    "duration": 6,
    "start_time": "2021-06-12T19:02:08.305Z"
   },
   {
    "duration": 9,
    "start_time": "2021-06-12T19:02:08.313Z"
   },
   {
    "duration": 20,
    "start_time": "2021-06-12T19:02:08.324Z"
   },
   {
    "duration": 19,
    "start_time": "2021-06-12T19:02:08.346Z"
   },
   {
    "duration": 25,
    "start_time": "2021-06-12T19:02:08.367Z"
   },
   {
    "duration": 3,
    "start_time": "2021-06-12T19:02:08.394Z"
   },
   {
    "duration": 16,
    "start_time": "2021-06-12T19:02:08.399Z"
   },
   {
    "duration": 14,
    "start_time": "2021-06-12T19:02:08.417Z"
   },
   {
    "duration": 32,
    "start_time": "2021-06-12T19:02:08.432Z"
   },
   {
    "duration": 56,
    "start_time": "2021-06-12T19:02:08.466Z"
   },
   {
    "duration": 5,
    "start_time": "2021-06-12T19:02:08.523Z"
   },
   {
    "duration": 12,
    "start_time": "2021-06-12T19:02:08.530Z"
   },
   {
    "duration": 9,
    "start_time": "2021-06-12T19:02:08.544Z"
   },
   {
    "duration": 43,
    "start_time": "2021-06-12T19:02:08.554Z"
   },
   {
    "duration": 101,
    "start_time": "2021-06-12T19:02:08.599Z"
   },
   {
    "duration": 100,
    "start_time": "2021-06-12T19:02:08.702Z"
   },
   {
    "duration": 108,
    "start_time": "2021-06-12T19:02:08.804Z"
   },
   {
    "duration": 3,
    "start_time": "2021-06-12T19:02:08.914Z"
   },
   {
    "duration": 23,
    "start_time": "2021-06-12T19:02:08.919Z"
   },
   {
    "duration": 10,
    "start_time": "2021-06-12T19:02:08.944Z"
   },
   {
    "duration": 33,
    "start_time": "2021-06-12T19:02:08.956Z"
   },
   {
    "duration": 5,
    "start_time": "2021-06-12T19:02:08.991Z"
   },
   {
    "duration": 15,
    "start_time": "2021-06-12T19:02:08.997Z"
   },
   {
    "duration": 27,
    "start_time": "2021-06-12T19:02:09.013Z"
   },
   {
    "duration": 4,
    "start_time": "2021-06-12T19:02:09.043Z"
   },
   {
    "duration": 13,
    "start_time": "2021-06-12T19:02:09.049Z"
   },
   {
    "duration": 3,
    "start_time": "2021-06-12T19:02:09.085Z"
   },
   {
    "duration": 8,
    "start_time": "2021-06-12T19:02:09.090Z"
   },
   {
    "duration": 144,
    "start_time": "2021-06-12T19:02:09.100Z"
   },
   {
    "duration": 4,
    "start_time": "2021-06-12T19:03:01.958Z"
   },
   {
    "duration": 4466,
    "start_time": "2021-06-12T19:03:22.796Z"
   },
   {
    "duration": 1137,
    "start_time": "2021-06-12T19:03:27.265Z"
   },
   {
    "duration": 230,
    "start_time": "2021-06-12T19:03:28.404Z"
   },
   {
    "duration": 15,
    "start_time": "2021-06-12T19:03:28.636Z"
   },
   {
    "duration": 10,
    "start_time": "2021-06-12T19:03:28.653Z"
   },
   {
    "duration": 30,
    "start_time": "2021-06-12T19:03:28.665Z"
   },
   {
    "duration": 57,
    "start_time": "2021-06-12T19:03:28.696Z"
   },
   {
    "duration": 75,
    "start_time": "2021-06-12T19:03:28.755Z"
   },
   {
    "duration": 56,
    "start_time": "2021-06-12T19:03:28.832Z"
   },
   {
    "duration": 150,
    "start_time": "2021-06-12T19:03:28.890Z"
   },
   {
    "duration": 97,
    "start_time": "2021-06-12T19:03:29.041Z"
   },
   {
    "duration": 23,
    "start_time": "2021-06-12T19:03:29.139Z"
   },
   {
    "duration": 25,
    "start_time": "2021-06-12T19:03:29.163Z"
   },
   {
    "duration": 10,
    "start_time": "2021-06-12T19:03:29.190Z"
   },
   {
    "duration": 5,
    "start_time": "2021-06-12T19:03:29.201Z"
   },
   {
    "duration": 6,
    "start_time": "2021-06-12T19:03:29.207Z"
   },
   {
    "duration": 10,
    "start_time": "2021-06-12T19:03:29.215Z"
   },
   {
    "duration": 10,
    "start_time": "2021-06-12T19:03:29.227Z"
   },
   {
    "duration": 11,
    "start_time": "2021-06-12T19:03:29.238Z"
   },
   {
    "duration": 5,
    "start_time": "2021-06-12T19:03:29.285Z"
   },
   {
    "duration": 5,
    "start_time": "2021-06-12T19:03:29.291Z"
   },
   {
    "duration": 6,
    "start_time": "2021-06-12T19:03:29.298Z"
   },
   {
    "duration": 1357,
    "start_time": "2021-06-12T19:03:29.307Z"
   },
   {
    "duration": 1379,
    "start_time": "2021-06-12T19:03:30.667Z"
   },
   {
    "duration": 85,
    "start_time": "2021-06-12T19:03:32.047Z"
   },
   {
    "duration": 15,
    "start_time": "2021-06-12T19:03:32.133Z"
   },
   {
    "duration": 1246,
    "start_time": "2021-06-12T19:03:32.150Z"
   },
   {
    "duration": 45,
    "start_time": "2021-06-12T19:03:33.398Z"
   },
   {
    "duration": 20,
    "start_time": "2021-06-12T19:03:33.444Z"
   },
   {
    "duration": 19,
    "start_time": "2021-06-12T19:03:33.485Z"
   },
   {
    "duration": 19,
    "start_time": "2021-06-12T19:03:33.506Z"
   },
   {
    "duration": 2,
    "start_time": "2021-06-12T19:03:33.528Z"
   },
   {
    "duration": 33,
    "start_time": "2021-06-12T19:03:33.532Z"
   },
   {
    "duration": 55,
    "start_time": "2021-06-12T19:03:33.585Z"
   },
   {
    "duration": 6,
    "start_time": "2021-06-12T19:03:33.641Z"
   },
   {
    "duration": 86,
    "start_time": "2021-06-12T19:03:33.649Z"
   },
   {
    "duration": 5,
    "start_time": "2021-06-12T19:03:33.737Z"
   },
   {
    "duration": 7,
    "start_time": "2021-06-12T19:03:33.743Z"
   },
   {
    "duration": 7,
    "start_time": "2021-06-12T19:03:33.752Z"
   },
   {
    "duration": 25,
    "start_time": "2021-06-12T19:03:33.760Z"
   },
   {
    "duration": 8,
    "start_time": "2021-06-12T19:03:33.786Z"
   },
   {
    "duration": 7,
    "start_time": "2021-06-12T19:03:33.796Z"
   },
   {
    "duration": 7,
    "start_time": "2021-06-12T19:03:33.804Z"
   },
   {
    "duration": 6,
    "start_time": "2021-06-12T19:03:33.813Z"
   },
   {
    "duration": 5,
    "start_time": "2021-06-12T19:03:33.821Z"
   },
   {
    "duration": 58,
    "start_time": "2021-06-12T19:03:33.828Z"
   },
   {
    "duration": 150,
    "start_time": "2021-06-12T19:03:33.888Z"
   },
   {
    "duration": 12,
    "start_time": "2021-06-12T19:03:34.039Z"
   },
   {
    "duration": 2,
    "start_time": "2021-06-12T19:03:34.053Z"
   },
   {
    "duration": 32,
    "start_time": "2021-06-12T19:03:34.057Z"
   },
   {
    "duration": 412,
    "start_time": "2021-06-12T19:03:34.090Z"
   },
   {
    "duration": 1823,
    "start_time": "2021-06-12T19:03:34.504Z"
   },
   {
    "duration": 2,
    "start_time": "2021-06-12T19:03:36.329Z"
   },
   {
    "duration": 14,
    "start_time": "2021-06-12T19:03:36.333Z"
   },
   {
    "duration": 13,
    "start_time": "2021-06-12T19:03:36.349Z"
   },
   {
    "duration": 61,
    "start_time": "2021-06-12T19:03:36.364Z"
   },
   {
    "duration": 10,
    "start_time": "2021-06-12T19:03:36.427Z"
   },
   {
    "duration": 103,
    "start_time": "2021-06-12T19:03:36.438Z"
   },
   {
    "duration": 7,
    "start_time": "2021-06-12T19:03:36.543Z"
   },
   {
    "duration": 350,
    "start_time": "2021-06-12T19:03:36.552Z"
   },
   {
    "duration": 10,
    "start_time": "2021-06-12T19:03:36.904Z"
   },
   {
    "duration": 11,
    "start_time": "2021-06-12T19:03:36.916Z"
   },
   {
    "duration": 57,
    "start_time": "2021-06-12T19:03:36.929Z"
   },
   {
    "duration": 8,
    "start_time": "2021-06-12T19:03:36.988Z"
   },
   {
    "duration": 13,
    "start_time": "2021-06-12T19:03:36.998Z"
   },
   {
    "duration": 7,
    "start_time": "2021-06-12T19:03:37.012Z"
   },
   {
    "duration": 3,
    "start_time": "2021-06-12T19:03:37.021Z"
   },
   {
    "duration": 10,
    "start_time": "2021-06-12T19:03:37.085Z"
   },
   {
    "duration": 108,
    "start_time": "2021-06-12T19:03:37.098Z"
   },
   {
    "duration": 9,
    "start_time": "2021-06-12T19:03:37.208Z"
   },
   {
    "duration": 29,
    "start_time": "2021-06-12T19:03:37.219Z"
   },
   {
    "duration": 5,
    "start_time": "2021-06-12T19:03:37.250Z"
   },
   {
    "duration": 30,
    "start_time": "2021-06-12T19:03:37.256Z"
   },
   {
    "duration": 6,
    "start_time": "2021-06-12T19:03:37.288Z"
   },
   {
    "duration": 6,
    "start_time": "2021-06-12T19:03:37.295Z"
   },
   {
    "duration": 6,
    "start_time": "2021-06-12T19:03:37.302Z"
   },
   {
    "duration": 17,
    "start_time": "2021-06-12T19:03:37.309Z"
   },
   {
    "duration": 58,
    "start_time": "2021-06-12T19:03:37.328Z"
   },
   {
    "duration": 2,
    "start_time": "2021-06-12T19:03:37.388Z"
   },
   {
    "duration": 7,
    "start_time": "2021-06-12T19:03:37.392Z"
   },
   {
    "duration": 4,
    "start_time": "2021-06-12T19:03:37.401Z"
   },
   {
    "duration": 29,
    "start_time": "2021-06-12T19:03:37.406Z"
   },
   {
    "duration": 77,
    "start_time": "2021-06-12T19:03:37.436Z"
   },
   {
    "duration": 5,
    "start_time": "2021-06-12T19:03:37.515Z"
   },
   {
    "duration": 9,
    "start_time": "2021-06-12T19:03:37.522Z"
   },
   {
    "duration": 6,
    "start_time": "2021-06-12T19:03:37.532Z"
   },
   {
    "duration": 46,
    "start_time": "2021-06-12T19:03:37.540Z"
   },
   {
    "duration": 101,
    "start_time": "2021-06-12T19:03:37.587Z"
   },
   {
    "duration": 82,
    "start_time": "2021-06-12T19:03:37.690Z"
   },
   {
    "duration": 86,
    "start_time": "2021-06-12T19:03:37.785Z"
   },
   {
    "duration": 3,
    "start_time": "2021-06-12T19:03:37.885Z"
   },
   {
    "duration": 17,
    "start_time": "2021-06-12T19:03:37.889Z"
   },
   {
    "duration": 13,
    "start_time": "2021-06-12T19:03:37.907Z"
   },
   {
    "duration": 29,
    "start_time": "2021-06-12T19:03:37.922Z"
   },
   {
    "duration": 4,
    "start_time": "2021-06-12T19:03:37.953Z"
   },
   {
    "duration": 9,
    "start_time": "2021-06-12T19:03:37.958Z"
   },
   {
    "duration": 31,
    "start_time": "2021-06-12T19:03:37.968Z"
   },
   {
    "duration": 3,
    "start_time": "2021-06-12T19:03:38.001Z"
   },
   {
    "duration": 9,
    "start_time": "2021-06-12T19:03:38.006Z"
   },
   {
    "duration": 4,
    "start_time": "2021-06-12T19:03:38.017Z"
   },
   {
    "duration": 5,
    "start_time": "2021-06-12T19:03:38.023Z"
   },
   {
    "duration": 156,
    "start_time": "2021-06-12T19:03:38.029Z"
   },
   {
    "duration": 31978,
    "start_time": "2021-08-20T21:50:20.097Z"
   },
   {
    "duration": 1982,
    "start_time": "2021-08-20T21:50:52.078Z"
   },
   {
    "duration": 342,
    "start_time": "2021-08-20T21:50:54.063Z"
   },
   {
    "duration": 31,
    "start_time": "2021-08-20T21:50:54.408Z"
   },
   {
    "duration": 28,
    "start_time": "2021-08-20T21:50:54.442Z"
   },
   {
    "duration": 21,
    "start_time": "2021-08-20T21:50:54.473Z"
   },
   {
    "duration": 110,
    "start_time": "2021-08-20T21:50:54.497Z"
   },
   {
    "duration": 99,
    "start_time": "2021-08-20T21:50:54.611Z"
   },
   {
    "duration": 92,
    "start_time": "2021-08-20T21:50:54.713Z"
   },
   {
    "duration": 243,
    "start_time": "2021-08-20T21:50:54.807Z"
   },
   {
    "duration": 146,
    "start_time": "2021-08-20T21:50:55.056Z"
   },
   {
    "duration": 22,
    "start_time": "2021-08-20T21:50:55.204Z"
   },
   {
    "duration": 34,
    "start_time": "2021-08-20T21:50:55.229Z"
   },
   {
    "duration": 13,
    "start_time": "2021-08-20T21:50:55.266Z"
   },
   {
    "duration": 11,
    "start_time": "2021-08-20T21:50:55.281Z"
   },
   {
    "duration": 10,
    "start_time": "2021-08-20T21:50:55.294Z"
   },
   {
    "duration": 52,
    "start_time": "2021-08-20T21:50:55.307Z"
   },
   {
    "duration": 17,
    "start_time": "2021-08-20T21:50:55.361Z"
   },
   {
    "duration": 21,
    "start_time": "2021-08-20T21:50:55.380Z"
   },
   {
    "duration": 6,
    "start_time": "2021-08-20T21:50:55.403Z"
   },
   {
    "duration": 5,
    "start_time": "2021-08-20T21:50:55.411Z"
   },
   {
    "duration": 8,
    "start_time": "2021-08-20T21:50:55.455Z"
   },
   {
    "duration": 2212,
    "start_time": "2021-08-20T21:50:55.471Z"
   },
   {
    "duration": 2485,
    "start_time": "2021-08-20T21:50:57.688Z"
   },
   {
    "duration": 149,
    "start_time": "2021-08-20T21:51:00.176Z"
   },
   {
    "duration": 20,
    "start_time": "2021-08-20T21:51:00.327Z"
   },
   {
    "duration": 2139,
    "start_time": "2021-08-20T21:51:00.350Z"
   },
   {
    "duration": 84,
    "start_time": "2021-08-20T21:51:02.492Z"
   },
   {
    "duration": 25,
    "start_time": "2021-08-20T21:51:02.578Z"
   },
   {
    "duration": 53,
    "start_time": "2021-08-20T21:51:02.606Z"
   },
   {
    "duration": 25,
    "start_time": "2021-08-20T21:51:02.661Z"
   },
   {
    "duration": 3,
    "start_time": "2021-08-20T21:51:02.689Z"
   },
   {
    "duration": 75,
    "start_time": "2021-08-20T21:51:02.694Z"
   },
   {
    "duration": 106,
    "start_time": "2021-08-20T21:51:02.771Z"
   },
   {
    "duration": 9,
    "start_time": "2021-08-20T21:51:02.879Z"
   },
   {
    "duration": 120,
    "start_time": "2021-08-20T21:51:02.891Z"
   },
   {
    "duration": 7,
    "start_time": "2021-08-20T21:51:03.013Z"
   },
   {
    "duration": 17,
    "start_time": "2021-08-20T21:51:03.022Z"
   },
   {
    "duration": 6,
    "start_time": "2021-08-20T21:51:03.056Z"
   },
   {
    "duration": 17,
    "start_time": "2021-08-20T21:51:03.064Z"
   },
   {
    "duration": 19,
    "start_time": "2021-08-20T21:51:03.084Z"
   },
   {
    "duration": 17,
    "start_time": "2021-08-20T21:51:03.105Z"
   },
   {
    "duration": 37,
    "start_time": "2021-08-20T21:51:03.124Z"
   },
   {
    "duration": 9,
    "start_time": "2021-08-20T21:51:03.164Z"
   },
   {
    "duration": 17,
    "start_time": "2021-08-20T21:51:03.176Z"
   },
   {
    "duration": 33,
    "start_time": "2021-08-20T21:51:03.195Z"
   },
   {
    "duration": 231,
    "start_time": "2021-08-20T21:51:03.230Z"
   },
   {
    "duration": 16,
    "start_time": "2021-08-20T21:51:03.464Z"
   },
   {
    "duration": 19,
    "start_time": "2021-08-20T21:51:03.483Z"
   },
   {
    "duration": 17,
    "start_time": "2021-08-20T21:51:03.504Z"
   },
   {
    "duration": 743,
    "start_time": "2021-08-20T21:51:03.523Z"
   },
   {
    "duration": -114,
    "start_time": "2021-08-20T21:51:04.385Z"
   },
   {
    "duration": -118,
    "start_time": "2021-08-20T21:51:04.391Z"
   },
   {
    "duration": -122,
    "start_time": "2021-08-20T21:51:04.396Z"
   },
   {
    "duration": -137,
    "start_time": "2021-08-20T21:51:04.413Z"
   },
   {
    "duration": -155,
    "start_time": "2021-08-20T21:51:04.432Z"
   },
   {
    "duration": -171,
    "start_time": "2021-08-20T21:51:04.450Z"
   },
   {
    "duration": -178,
    "start_time": "2021-08-20T21:51:04.458Z"
   },
   {
    "duration": -182,
    "start_time": "2021-08-20T21:51:04.463Z"
   },
   {
    "duration": -185,
    "start_time": "2021-08-20T21:51:04.468Z"
   },
   {
    "duration": -189,
    "start_time": "2021-08-20T21:51:04.473Z"
   },
   {
    "duration": -193,
    "start_time": "2021-08-20T21:51:04.478Z"
   },
   {
    "duration": -197,
    "start_time": "2021-08-20T21:51:04.484Z"
   },
   {
    "duration": -200,
    "start_time": "2021-08-20T21:51:04.488Z"
   },
   {
    "duration": -204,
    "start_time": "2021-08-20T21:51:04.493Z"
   },
   {
    "duration": -207,
    "start_time": "2021-08-20T21:51:04.498Z"
   },
   {
    "duration": -210,
    "start_time": "2021-08-20T21:51:04.502Z"
   },
   {
    "duration": -213,
    "start_time": "2021-08-20T21:51:04.507Z"
   },
   {
    "duration": -217,
    "start_time": "2021-08-20T21:51:04.512Z"
   },
   {
    "duration": -221,
    "start_time": "2021-08-20T21:51:04.517Z"
   },
   {
    "duration": -224,
    "start_time": "2021-08-20T21:51:04.522Z"
   },
   {
    "duration": -229,
    "start_time": "2021-08-20T21:51:04.528Z"
   },
   {
    "duration": -231,
    "start_time": "2021-08-20T21:51:04.532Z"
   },
   {
    "duration": -235,
    "start_time": "2021-08-20T21:51:04.537Z"
   },
   {
    "duration": -239,
    "start_time": "2021-08-20T21:51:04.542Z"
   },
   {
    "duration": -252,
    "start_time": "2021-08-20T21:51:04.557Z"
   },
   {
    "duration": -259,
    "start_time": "2021-08-20T21:51:04.565Z"
   },
   {
    "duration": -215,
    "start_time": "2021-08-20T21:51:04.571Z"
   },
   {
    "duration": -219,
    "start_time": "2021-08-20T21:51:04.576Z"
   },
   {
    "duration": -223,
    "start_time": "2021-08-20T21:51:04.582Z"
   },
   {
    "duration": -226,
    "start_time": "2021-08-20T21:51:04.586Z"
   },
   {
    "duration": -230,
    "start_time": "2021-08-20T21:51:04.591Z"
   },
   {
    "duration": -233,
    "start_time": "2021-08-20T21:51:04.596Z"
   },
   {
    "duration": -237,
    "start_time": "2021-08-20T21:51:04.601Z"
   },
   {
    "duration": -279,
    "start_time": "2021-08-20T21:51:04.645Z"
   },
   {
    "duration": -283,
    "start_time": "2021-08-20T21:51:04.650Z"
   },
   {
    "duration": -313,
    "start_time": "2021-08-20T21:51:04.681Z"
   },
   {
    "duration": -317,
    "start_time": "2021-08-20T21:51:04.687Z"
   },
   {
    "duration": -320,
    "start_time": "2021-08-20T21:51:04.691Z"
   },
   {
    "duration": -324,
    "start_time": "2021-08-20T21:51:04.696Z"
   },
   {
    "duration": -328,
    "start_time": "2021-08-20T21:51:04.702Z"
   },
   {
    "duration": -340,
    "start_time": "2021-08-20T21:51:04.715Z"
   },
   {
    "duration": -343,
    "start_time": "2021-08-20T21:51:04.719Z"
   },
   {
    "duration": -347,
    "start_time": "2021-08-20T21:51:04.725Z"
   },
   {
    "duration": -350,
    "start_time": "2021-08-20T21:51:04.729Z"
   },
   {
    "duration": -354,
    "start_time": "2021-08-20T21:51:04.734Z"
   },
   {
    "duration": -357,
    "start_time": "2021-08-20T21:51:04.738Z"
   },
   {
    "duration": -360,
    "start_time": "2021-08-20T21:51:04.743Z"
   },
   {
    "duration": -363,
    "start_time": "2021-08-20T21:51:04.747Z"
   },
   {
    "duration": -369,
    "start_time": "2021-08-20T21:51:04.755Z"
   },
   {
    "duration": -384,
    "start_time": "2021-08-20T21:51:04.771Z"
   },
   {
    "duration": -391,
    "start_time": "2021-08-20T21:51:04.780Z"
   },
   {
    "duration": 8223,
    "start_time": "2021-08-20T21:56:04.176Z"
   },
   {
    "duration": 1628,
    "start_time": "2021-08-20T21:56:12.403Z"
   },
   {
    "duration": 303,
    "start_time": "2021-08-20T21:56:14.034Z"
   },
   {
    "duration": 36,
    "start_time": "2021-08-20T21:56:14.339Z"
   },
   {
    "duration": 14,
    "start_time": "2021-08-20T21:56:14.378Z"
   },
   {
    "duration": 61,
    "start_time": "2021-08-20T21:56:14.395Z"
   },
   {
    "duration": 81,
    "start_time": "2021-08-20T21:56:14.458Z"
   },
   {
    "duration": 104,
    "start_time": "2021-08-20T21:56:14.558Z"
   },
   {
    "duration": 77,
    "start_time": "2021-08-20T21:56:14.665Z"
   },
   {
    "duration": 248,
    "start_time": "2021-08-20T21:56:14.756Z"
   },
   {
    "duration": 152,
    "start_time": "2021-08-20T21:56:15.006Z"
   },
   {
    "duration": 21,
    "start_time": "2021-08-20T21:56:15.160Z"
   },
   {
    "duration": 19,
    "start_time": "2021-08-20T21:56:15.183Z"
   },
   {
    "duration": 52,
    "start_time": "2021-08-20T21:56:15.205Z"
   },
   {
    "duration": 14,
    "start_time": "2021-08-20T21:56:15.260Z"
   },
   {
    "duration": 11,
    "start_time": "2021-08-20T21:56:15.277Z"
   },
   {
    "duration": 67,
    "start_time": "2021-08-20T21:56:15.290Z"
   },
   {
    "duration": 18,
    "start_time": "2021-08-20T21:56:15.361Z"
   },
   {
    "duration": 19,
    "start_time": "2021-08-20T21:56:15.382Z"
   },
   {
    "duration": 55,
    "start_time": "2021-08-20T21:56:15.404Z"
   },
   {
    "duration": 8,
    "start_time": "2021-08-20T21:56:15.462Z"
   },
   {
    "duration": 9,
    "start_time": "2021-08-20T21:56:15.473Z"
   },
   {
    "duration": 2181,
    "start_time": "2021-08-20T21:56:15.489Z"
   },
   {
    "duration": 2498,
    "start_time": "2021-08-20T21:56:17.674Z"
   },
   {
    "duration": 122,
    "start_time": "2021-08-20T21:56:20.174Z"
   },
   {
    "duration": 32,
    "start_time": "2021-08-20T21:56:20.298Z"
   },
   {
    "duration": 2299,
    "start_time": "2021-08-20T21:56:20.333Z"
   },
   {
    "duration": 80,
    "start_time": "2021-08-20T21:56:22.635Z"
   },
   {
    "duration": 45,
    "start_time": "2021-08-20T21:56:22.717Z"
   },
   {
    "duration": 22,
    "start_time": "2021-08-20T21:56:22.765Z"
   },
   {
    "duration": 24,
    "start_time": "2021-08-20T21:56:22.790Z"
   },
   {
    "duration": 41,
    "start_time": "2021-08-20T21:56:22.816Z"
   },
   {
    "duration": 48,
    "start_time": "2021-08-20T21:56:22.859Z"
   },
   {
    "duration": 107,
    "start_time": "2021-08-20T21:56:22.910Z"
   },
   {
    "duration": 10,
    "start_time": "2021-08-20T21:56:23.019Z"
   },
   {
    "duration": 125,
    "start_time": "2021-08-20T21:56:23.032Z"
   },
   {
    "duration": 6,
    "start_time": "2021-08-20T21:56:23.160Z"
   },
   {
    "duration": 11,
    "start_time": "2021-08-20T21:56:23.169Z"
   },
   {
    "duration": 18,
    "start_time": "2021-08-20T21:56:23.183Z"
   },
   {
    "duration": 12,
    "start_time": "2021-08-20T21:56:23.204Z"
   },
   {
    "duration": 42,
    "start_time": "2021-08-20T21:56:23.218Z"
   },
   {
    "duration": 8,
    "start_time": "2021-08-20T21:56:23.263Z"
   },
   {
    "duration": 9,
    "start_time": "2021-08-20T21:56:23.273Z"
   },
   {
    "duration": 10,
    "start_time": "2021-08-20T21:56:23.284Z"
   },
   {
    "duration": 65,
    "start_time": "2021-08-20T21:56:23.296Z"
   },
   {
    "duration": 21,
    "start_time": "2021-08-20T21:56:23.363Z"
   },
   {
    "duration": 240,
    "start_time": "2021-08-20T21:56:23.387Z"
   },
   {
    "duration": 28,
    "start_time": "2021-08-20T21:56:23.630Z"
   },
   {
    "duration": 4,
    "start_time": "2021-08-20T21:56:23.660Z"
   },
   {
    "duration": 18,
    "start_time": "2021-08-20T21:56:23.667Z"
   },
   {
    "duration": 750,
    "start_time": "2021-08-20T21:56:23.687Z"
   },
   {
    "duration": -113,
    "start_time": "2021-08-20T21:56:24.555Z"
   },
   {
    "duration": -116,
    "start_time": "2021-08-20T21:56:24.560Z"
   },
   {
    "duration": -120,
    "start_time": "2021-08-20T21:56:24.565Z"
   },
   {
    "duration": -122,
    "start_time": "2021-08-20T21:56:24.569Z"
   },
   {
    "duration": -126,
    "start_time": "2021-08-20T21:56:24.574Z"
   },
   {
    "duration": -130,
    "start_time": "2021-08-20T21:56:24.579Z"
   },
   {
    "duration": -133,
    "start_time": "2021-08-20T21:56:24.584Z"
   },
   {
    "duration": -136,
    "start_time": "2021-08-20T21:56:24.588Z"
   },
   {
    "duration": -139,
    "start_time": "2021-08-20T21:56:24.593Z"
   },
   {
    "duration": -143,
    "start_time": "2021-08-20T21:56:24.598Z"
   },
   {
    "duration": -145,
    "start_time": "2021-08-20T21:56:24.602Z"
   },
   {
    "duration": -149,
    "start_time": "2021-08-20T21:56:24.607Z"
   },
   {
    "duration": -154,
    "start_time": "2021-08-20T21:56:24.614Z"
   },
   {
    "duration": -174,
    "start_time": "2021-08-20T21:56:24.635Z"
   },
   {
    "duration": -180,
    "start_time": "2021-08-20T21:56:24.642Z"
   },
   {
    "duration": -183,
    "start_time": "2021-08-20T21:56:24.647Z"
   },
   {
    "duration": -187,
    "start_time": "2021-08-20T21:56:24.652Z"
   },
   {
    "duration": -190,
    "start_time": "2021-08-20T21:56:24.657Z"
   },
   {
    "duration": -192,
    "start_time": "2021-08-20T21:56:24.661Z"
   },
   {
    "duration": -196,
    "start_time": "2021-08-20T21:56:24.666Z"
   },
   {
    "duration": -199,
    "start_time": "2021-08-20T21:56:24.671Z"
   },
   {
    "duration": -202,
    "start_time": "2021-08-20T21:56:24.675Z"
   },
   {
    "duration": -205,
    "start_time": "2021-08-20T21:56:24.680Z"
   },
   {
    "duration": -208,
    "start_time": "2021-08-20T21:56:24.684Z"
   },
   {
    "duration": -212,
    "start_time": "2021-08-20T21:56:24.689Z"
   },
   {
    "duration": -215,
    "start_time": "2021-08-20T21:56:24.694Z"
   },
   {
    "duration": -219,
    "start_time": "2021-08-20T21:56:24.699Z"
   },
   {
    "duration": -224,
    "start_time": "2021-08-20T21:56:24.706Z"
   },
   {
    "duration": -229,
    "start_time": "2021-08-20T21:56:24.713Z"
   },
   {
    "duration": -279,
    "start_time": "2021-08-20T21:56:24.764Z"
   },
   {
    "duration": -283,
    "start_time": "2021-08-20T21:56:24.769Z"
   },
   {
    "duration": -286,
    "start_time": "2021-08-20T21:56:24.774Z"
   },
   {
    "duration": -290,
    "start_time": "2021-08-20T21:56:24.779Z"
   },
   {
    "duration": -306,
    "start_time": "2021-08-20T21:56:24.796Z"
   },
   {
    "duration": -322,
    "start_time": "2021-08-20T21:56:24.813Z"
   },
   {
    "duration": -324,
    "start_time": "2021-08-20T21:56:24.817Z"
   },
   {
    "duration": -328,
    "start_time": "2021-08-20T21:56:24.822Z"
   },
   {
    "duration": -343,
    "start_time": "2021-08-20T21:56:24.838Z"
   },
   {
    "duration": -334,
    "start_time": "2021-08-20T21:56:24.890Z"
   },
   {
    "duration": -337,
    "start_time": "2021-08-20T21:56:24.895Z"
   },
   {
    "duration": -347,
    "start_time": "2021-08-20T21:56:24.907Z"
   },
   {
    "duration": -357,
    "start_time": "2021-08-20T21:56:24.918Z"
   },
   {
    "duration": -383,
    "start_time": "2021-08-20T21:56:24.946Z"
   },
   {
    "duration": -389,
    "start_time": "2021-08-20T21:56:24.953Z"
   },
   {
    "duration": -418,
    "start_time": "2021-08-20T21:56:24.983Z"
   },
   {
    "duration": -433,
    "start_time": "2021-08-20T21:56:25.000Z"
   },
   {
    "duration": -437,
    "start_time": "2021-08-20T21:56:25.005Z"
   },
   {
    "duration": -439,
    "start_time": "2021-08-20T21:56:25.009Z"
   },
   {
    "duration": -443,
    "start_time": "2021-08-20T21:56:25.014Z"
   },
   {
    "duration": -445,
    "start_time": "2021-08-20T21:56:25.018Z"
   },
   {
    "duration": -448,
    "start_time": "2021-08-20T21:56:25.022Z"
   },
   {
    "duration": 9201,
    "start_time": "2021-08-20T21:57:26.393Z"
   },
   {
    "duration": 1621,
    "start_time": "2021-08-20T21:57:35.597Z"
   },
   {
    "duration": 303,
    "start_time": "2021-08-20T21:57:37.221Z"
   },
   {
    "duration": 44,
    "start_time": "2021-08-20T21:57:37.527Z"
   },
   {
    "duration": 20,
    "start_time": "2021-08-20T21:57:37.574Z"
   },
   {
    "duration": 61,
    "start_time": "2021-08-20T21:57:37.597Z"
   },
   {
    "duration": 119,
    "start_time": "2021-08-20T21:57:37.661Z"
   },
   {
    "duration": 122,
    "start_time": "2021-08-20T21:57:37.783Z"
   },
   {
    "duration": 100,
    "start_time": "2021-08-20T21:57:37.908Z"
   },
   {
    "duration": 254,
    "start_time": "2021-08-20T21:57:38.010Z"
   },
   {
    "duration": 155,
    "start_time": "2021-08-20T21:57:38.266Z"
   },
   {
    "duration": 37,
    "start_time": "2021-08-20T21:57:38.424Z"
   },
   {
    "duration": 26,
    "start_time": "2021-08-20T21:57:38.464Z"
   },
   {
    "duration": 17,
    "start_time": "2021-08-20T21:57:38.493Z"
   },
   {
    "duration": 13,
    "start_time": "2021-08-20T21:57:38.513Z"
   },
   {
    "duration": 12,
    "start_time": "2021-08-20T21:57:38.557Z"
   },
   {
    "duration": 22,
    "start_time": "2021-08-20T21:57:38.571Z"
   },
   {
    "duration": 15,
    "start_time": "2021-08-20T21:57:38.595Z"
   },
   {
    "duration": 56,
    "start_time": "2021-08-20T21:57:38.614Z"
   },
   {
    "duration": 6,
    "start_time": "2021-08-20T21:57:38.673Z"
   },
   {
    "duration": 11,
    "start_time": "2021-08-20T21:57:38.682Z"
   },
   {
    "duration": 12,
    "start_time": "2021-08-20T21:57:38.695Z"
   },
   {
    "duration": 2141,
    "start_time": "2021-08-20T21:57:38.758Z"
   },
   {
    "duration": 2217,
    "start_time": "2021-08-20T21:57:40.902Z"
   },
   {
    "duration": 159,
    "start_time": "2021-08-20T21:57:43.121Z"
   },
   {
    "duration": 20,
    "start_time": "2021-08-20T21:57:43.283Z"
   },
   {
    "duration": 2169,
    "start_time": "2021-08-20T21:57:43.306Z"
   },
   {
    "duration": 80,
    "start_time": "2021-08-20T21:57:45.478Z"
   },
   {
    "duration": 26,
    "start_time": "2021-08-20T21:57:45.560Z"
   },
   {
    "duration": 26,
    "start_time": "2021-08-20T21:57:45.589Z"
   },
   {
    "duration": 60,
    "start_time": "2021-08-20T21:57:45.617Z"
   },
   {
    "duration": 3,
    "start_time": "2021-08-20T21:57:45.679Z"
   },
   {
    "duration": 45,
    "start_time": "2021-08-20T21:57:45.685Z"
   },
   {
    "duration": 99,
    "start_time": "2021-08-20T21:57:45.757Z"
   },
   {
    "duration": 10,
    "start_time": "2021-08-20T21:57:45.859Z"
   },
   {
    "duration": 125,
    "start_time": "2021-08-20T21:57:45.872Z"
   },
   {
    "duration": 6,
    "start_time": "2021-08-20T21:57:46.000Z"
   },
   {
    "duration": 15,
    "start_time": "2021-08-20T21:57:46.008Z"
   },
   {
    "duration": 37,
    "start_time": "2021-08-20T21:57:46.025Z"
   },
   {
    "duration": 15,
    "start_time": "2021-08-20T21:57:46.064Z"
   },
   {
    "duration": 17,
    "start_time": "2021-08-20T21:57:46.081Z"
   },
   {
    "duration": 17,
    "start_time": "2021-08-20T21:57:46.101Z"
   },
   {
    "duration": 42,
    "start_time": "2021-08-20T21:57:46.120Z"
   },
   {
    "duration": 12,
    "start_time": "2021-08-20T21:57:46.165Z"
   },
   {
    "duration": 12,
    "start_time": "2021-08-20T21:57:46.179Z"
   },
   {
    "duration": 68,
    "start_time": "2021-08-20T21:57:46.193Z"
   },
   {
    "duration": 229,
    "start_time": "2021-08-20T21:57:46.263Z"
   },
   {
    "duration": 17,
    "start_time": "2021-08-20T21:57:46.494Z"
   },
   {
    "duration": 5,
    "start_time": "2021-08-20T21:57:46.513Z"
   },
   {
    "duration": 41,
    "start_time": "2021-08-20T21:57:46.520Z"
   },
   {
    "duration": 3,
    "start_time": "2021-08-20T21:57:46.563Z"
   },
   {
    "duration": 2372,
    "start_time": "2021-08-20T21:57:46.568Z"
   },
   {
    "duration": 13,
    "start_time": "2021-08-20T21:57:48.943Z"
   },
   {
    "duration": 20,
    "start_time": "2021-08-20T21:57:48.958Z"
   },
   {
    "duration": 15,
    "start_time": "2021-08-20T21:57:48.980Z"
   },
   {
    "duration": 108,
    "start_time": "2021-08-20T21:57:48.997Z"
   },
   {
    "duration": 13,
    "start_time": "2021-08-20T21:57:49.107Z"
   },
   {
    "duration": 159,
    "start_time": "2021-08-20T21:57:49.122Z"
   },
   {
    "duration": 11,
    "start_time": "2021-08-20T21:57:49.284Z"
   },
   {
    "duration": 608,
    "start_time": "2021-08-20T21:57:49.298Z"
   },
   {
    "duration": 13,
    "start_time": "2021-08-20T21:57:49.909Z"
   },
   {
    "duration": 14,
    "start_time": "2021-08-20T21:57:49.956Z"
   },
   {
    "duration": 17,
    "start_time": "2021-08-20T21:57:49.973Z"
   },
   {
    "duration": 63,
    "start_time": "2021-08-20T21:57:49.992Z"
   },
   {
    "duration": 17,
    "start_time": "2021-08-20T21:57:50.058Z"
   },
   {
    "duration": 10,
    "start_time": "2021-08-20T21:57:50.077Z"
   },
   {
    "duration": 15,
    "start_time": "2021-08-20T21:57:50.089Z"
   },
   {
    "duration": 15,
    "start_time": "2021-08-20T21:57:50.163Z"
   },
   {
    "duration": 280,
    "start_time": "2021-08-20T21:57:50.182Z"
   },
   {
    "duration": 18,
    "start_time": "2021-08-20T21:57:50.466Z"
   },
   {
    "duration": 94,
    "start_time": "2021-08-20T21:57:50.486Z"
   },
   {
    "duration": 6,
    "start_time": "2021-08-20T21:57:50.583Z"
   },
   {
    "duration": 65,
    "start_time": "2021-08-20T21:57:50.591Z"
   },
   {
    "duration": 16,
    "start_time": "2021-08-20T21:57:50.659Z"
   },
   {
    "duration": 8,
    "start_time": "2021-08-20T21:57:50.677Z"
   },
   {
    "duration": 16,
    "start_time": "2021-08-20T21:57:50.688Z"
   },
   {
    "duration": 68,
    "start_time": "2021-08-20T21:57:50.706Z"
   },
   {
    "duration": 35,
    "start_time": "2021-08-20T21:57:50.777Z"
   },
   {
    "duration": 3,
    "start_time": "2021-08-20T21:57:50.814Z"
   },
   {
    "duration": 37,
    "start_time": "2021-08-20T21:57:50.820Z"
   },
   {
    "duration": 13,
    "start_time": "2021-08-20T21:57:50.860Z"
   },
   {
    "duration": 46,
    "start_time": "2021-08-20T21:57:50.875Z"
   },
   {
    "duration": 98,
    "start_time": "2021-08-20T21:57:50.924Z"
   },
   {
    "duration": 7,
    "start_time": "2021-08-20T21:57:51.024Z"
   },
   {
    "duration": 10,
    "start_time": "2021-08-20T21:57:51.057Z"
   },
   {
    "duration": 12,
    "start_time": "2021-08-20T21:57:51.070Z"
   },
   {
    "duration": 39,
    "start_time": "2021-08-20T21:57:51.085Z"
   },
   {
    "duration": 157,
    "start_time": "2021-08-20T21:57:51.127Z"
   },
   {
    "duration": 152,
    "start_time": "2021-08-20T21:57:51.287Z"
   },
   {
    "duration": 149,
    "start_time": "2021-08-20T21:57:51.457Z"
   },
   {
    "duration": 4,
    "start_time": "2021-08-20T21:57:51.609Z"
   },
   {
    "duration": 47,
    "start_time": "2021-08-20T21:57:51.616Z"
   },
   {
    "duration": 27,
    "start_time": "2021-08-20T21:57:51.666Z"
   },
   {
    "duration": 27,
    "start_time": "2021-08-20T21:57:51.697Z"
   },
   {
    "duration": 31,
    "start_time": "2021-08-20T21:57:51.728Z"
   },
   {
    "duration": 22,
    "start_time": "2021-08-20T21:57:51.762Z"
   },
   {
    "duration": 33,
    "start_time": "2021-08-20T21:57:51.786Z"
   },
   {
    "duration": 37,
    "start_time": "2021-08-20T21:57:51.822Z"
   },
   {
    "duration": 29,
    "start_time": "2021-08-20T21:57:51.861Z"
   },
   {
    "duration": 7,
    "start_time": "2021-08-20T21:57:51.892Z"
   },
   {
    "duration": 8,
    "start_time": "2021-08-20T21:57:51.901Z"
   },
   {
    "duration": 244,
    "start_time": "2021-08-20T21:57:51.912Z"
   },
   {
    "duration": 25896,
    "start_time": "2021-08-21T16:23:14.421Z"
   },
   {
    "duration": 1863,
    "start_time": "2021-08-21T16:23:40.320Z"
   },
   {
    "duration": 323,
    "start_time": "2021-08-21T16:23:42.186Z"
   },
   {
    "duration": 21,
    "start_time": "2021-08-21T16:23:42.512Z"
   },
   {
    "duration": 32,
    "start_time": "2021-08-21T16:23:42.535Z"
   },
   {
    "duration": 21,
    "start_time": "2021-08-21T16:23:42.570Z"
   },
   {
    "duration": 106,
    "start_time": "2021-08-21T16:23:42.593Z"
   },
   {
    "duration": 97,
    "start_time": "2021-08-21T16:23:42.703Z"
   },
   {
    "duration": 92,
    "start_time": "2021-08-21T16:23:42.803Z"
   },
   {
    "duration": 245,
    "start_time": "2021-08-21T16:23:42.897Z"
   },
   {
    "duration": 153,
    "start_time": "2021-08-21T16:23:43.144Z"
   },
   {
    "duration": 31,
    "start_time": "2021-08-21T16:23:43.299Z"
   },
   {
    "duration": 30,
    "start_time": "2021-08-21T16:23:43.333Z"
   },
   {
    "duration": 19,
    "start_time": "2021-08-21T16:23:43.366Z"
   },
   {
    "duration": 10,
    "start_time": "2021-08-21T16:23:43.388Z"
   },
   {
    "duration": 53,
    "start_time": "2021-08-21T16:23:43.401Z"
   },
   {
    "duration": 18,
    "start_time": "2021-08-21T16:23:43.457Z"
   },
   {
    "duration": 17,
    "start_time": "2021-08-21T16:23:43.478Z"
   },
   {
    "duration": 55,
    "start_time": "2021-08-21T16:23:43.499Z"
   },
   {
    "duration": 7,
    "start_time": "2021-08-21T16:23:43.557Z"
   },
   {
    "duration": 14,
    "start_time": "2021-08-21T16:23:43.566Z"
   },
   {
    "duration": 12,
    "start_time": "2021-08-21T16:23:43.583Z"
   },
   {
    "duration": 2354,
    "start_time": "2021-08-21T16:23:43.603Z"
   },
   {
    "duration": 2302,
    "start_time": "2021-08-21T16:23:45.960Z"
   },
   {
    "duration": 89,
    "start_time": "2021-08-21T16:23:48.265Z"
   },
   {
    "duration": 21,
    "start_time": "2021-08-21T16:23:48.356Z"
   },
   {
    "duration": 2118,
    "start_time": "2021-08-21T16:23:48.379Z"
   },
   {
    "duration": 66,
    "start_time": "2021-08-21T16:23:50.499Z"
   },
   {
    "duration": 25,
    "start_time": "2021-08-21T16:23:50.568Z"
   },
   {
    "duration": 23,
    "start_time": "2021-08-21T16:23:50.596Z"
   },
   {
    "duration": 38,
    "start_time": "2021-08-21T16:23:50.622Z"
   },
   {
    "duration": 4,
    "start_time": "2021-08-21T16:23:50.663Z"
   },
   {
    "duration": 46,
    "start_time": "2021-08-21T16:23:50.669Z"
   },
   {
    "duration": 101,
    "start_time": "2021-08-21T16:23:50.717Z"
   },
   {
    "duration": 8,
    "start_time": "2021-08-21T16:23:50.821Z"
   },
   {
    "duration": 102,
    "start_time": "2021-08-21T16:23:50.831Z"
   },
   {
    "duration": 7,
    "start_time": "2021-08-21T16:23:50.935Z"
   },
   {
    "duration": 59,
    "start_time": "2021-08-21T16:23:50.944Z"
   },
   {
    "duration": 19,
    "start_time": "2021-08-21T16:23:51.005Z"
   },
   {
    "duration": 15,
    "start_time": "2021-08-21T16:23:51.027Z"
   },
   {
    "duration": 20,
    "start_time": "2021-08-21T16:23:51.044Z"
   },
   {
    "duration": 11,
    "start_time": "2021-08-21T16:23:51.067Z"
   },
   {
    "duration": 15,
    "start_time": "2021-08-21T16:23:51.081Z"
   },
   {
    "duration": 12,
    "start_time": "2021-08-21T16:23:51.099Z"
   },
   {
    "duration": 15,
    "start_time": "2021-08-21T16:23:51.114Z"
   },
   {
    "duration": 26,
    "start_time": "2021-08-21T16:23:51.132Z"
   },
   {
    "duration": 212,
    "start_time": "2021-08-21T16:23:51.161Z"
   },
   {
    "duration": 27,
    "start_time": "2021-08-21T16:23:51.376Z"
   },
   {
    "duration": 14,
    "start_time": "2021-08-21T16:23:51.406Z"
   },
   {
    "duration": 13,
    "start_time": "2021-08-21T16:23:51.423Z"
   },
   {
    "duration": 3,
    "start_time": "2021-08-21T16:23:51.439Z"
   },
   {
    "duration": 3831,
    "start_time": "2021-08-21T16:23:51.444Z"
   },
   {
    "duration": 3,
    "start_time": "2021-08-21T16:23:55.277Z"
   },
   {
    "duration": 23,
    "start_time": "2021-08-21T16:23:55.283Z"
   },
   {
    "duration": 24,
    "start_time": "2021-08-21T16:23:55.308Z"
   },
   {
    "duration": 65,
    "start_time": "2021-08-21T16:23:55.355Z"
   },
   {
    "duration": 34,
    "start_time": "2021-08-21T16:23:55.422Z"
   },
   {
    "duration": 132,
    "start_time": "2021-08-21T16:23:55.458Z"
   },
   {
    "duration": 11,
    "start_time": "2021-08-21T16:23:55.593Z"
   },
   {
    "duration": 598,
    "start_time": "2021-08-21T16:23:55.606Z"
   },
   {
    "duration": 15,
    "start_time": "2021-08-21T16:23:56.206Z"
   },
   {
    "duration": 15,
    "start_time": "2021-08-21T16:23:56.254Z"
   },
   {
    "duration": 21,
    "start_time": "2021-08-21T16:23:56.271Z"
   },
   {
    "duration": 62,
    "start_time": "2021-08-21T16:23:56.294Z"
   },
   {
    "duration": 29,
    "start_time": "2021-08-21T16:23:56.358Z"
   },
   {
    "duration": 10,
    "start_time": "2021-08-21T16:23:56.389Z"
   },
   {
    "duration": 56,
    "start_time": "2021-08-21T16:23:56.402Z"
   },
   {
    "duration": 14,
    "start_time": "2021-08-21T16:23:56.470Z"
   },
   {
    "duration": 154,
    "start_time": "2021-08-21T16:23:56.488Z"
   },
   {
    "duration": 24,
    "start_time": "2021-08-21T16:23:56.644Z"
   },
   {
    "duration": 44,
    "start_time": "2021-08-21T16:23:56.671Z"
   },
   {
    "duration": 7,
    "start_time": "2021-08-21T16:23:56.717Z"
   },
   {
    "duration": 33,
    "start_time": "2021-08-21T16:23:56.726Z"
   },
   {
    "duration": 15,
    "start_time": "2021-08-21T16:23:56.762Z"
   },
   {
    "duration": 26,
    "start_time": "2021-08-21T16:23:56.779Z"
   },
   {
    "duration": 15,
    "start_time": "2021-08-21T16:23:56.807Z"
   },
   {
    "duration": 40,
    "start_time": "2021-08-21T16:23:56.824Z"
   },
   {
    "duration": 34,
    "start_time": "2021-08-21T16:23:56.866Z"
   },
   {
    "duration": 3,
    "start_time": "2021-08-21T16:23:56.903Z"
   },
   {
    "duration": 16,
    "start_time": "2021-08-21T16:23:56.909Z"
   },
   {
    "duration": 27,
    "start_time": "2021-08-21T16:23:56.928Z"
   },
   {
    "duration": 39,
    "start_time": "2021-08-21T16:23:56.958Z"
   },
   {
    "duration": 89,
    "start_time": "2021-08-21T16:23:56.999Z"
   },
   {
    "duration": 8,
    "start_time": "2021-08-21T16:23:57.091Z"
   },
   {
    "duration": 16,
    "start_time": "2021-08-21T16:23:57.102Z"
   },
   {
    "duration": 33,
    "start_time": "2021-08-21T16:23:57.121Z"
   },
   {
    "duration": 30,
    "start_time": "2021-08-21T16:23:57.157Z"
   },
   {
    "duration": 150,
    "start_time": "2021-08-21T16:23:57.189Z"
   },
   {
    "duration": 158,
    "start_time": "2021-08-21T16:23:57.342Z"
   },
   {
    "duration": 158,
    "start_time": "2021-08-21T16:23:57.504Z"
   },
   {
    "duration": 3,
    "start_time": "2021-08-21T16:23:57.665Z"
   },
   {
    "duration": 29,
    "start_time": "2021-08-21T16:23:57.671Z"
   },
   {
    "duration": 17,
    "start_time": "2021-08-21T16:23:57.703Z"
   },
   {
    "duration": 49,
    "start_time": "2021-08-21T16:23:57.723Z"
   },
   {
    "duration": 7,
    "start_time": "2021-08-21T16:23:57.775Z"
   },
   {
    "duration": 16,
    "start_time": "2021-08-21T16:23:57.785Z"
   },
   {
    "duration": 59,
    "start_time": "2021-08-21T16:23:57.804Z"
   },
   {
    "duration": 6,
    "start_time": "2021-08-21T16:23:57.866Z"
   },
   {
    "duration": 22,
    "start_time": "2021-08-21T16:23:57.875Z"
   },
   {
    "duration": 19,
    "start_time": "2021-08-21T16:23:57.899Z"
   },
   {
    "duration": 18,
    "start_time": "2021-08-21T16:23:57.920Z"
   },
   {
    "duration": 197,
    "start_time": "2021-08-21T16:23:57.940Z"
   },
   {
    "duration": 7231,
    "start_time": "2021-08-21T22:45:37.774Z"
   },
   {
    "duration": 1583,
    "start_time": "2021-08-21T22:45:45.009Z"
   },
   {
    "duration": 269,
    "start_time": "2021-08-21T22:45:46.595Z"
   },
   {
    "duration": 30,
    "start_time": "2021-08-21T22:45:46.866Z"
   },
   {
    "duration": 19,
    "start_time": "2021-08-21T22:45:46.899Z"
   },
   {
    "duration": 47,
    "start_time": "2021-08-21T22:45:46.921Z"
   },
   {
    "duration": 112,
    "start_time": "2021-08-21T22:45:46.971Z"
   },
   {
    "duration": 116,
    "start_time": "2021-08-21T22:45:47.089Z"
   },
   {
    "duration": 111,
    "start_time": "2021-08-21T22:45:47.208Z"
   },
   {
    "duration": 255,
    "start_time": "2021-08-21T22:45:47.323Z"
   },
   {
    "duration": 156,
    "start_time": "2021-08-21T22:45:47.581Z"
   },
   {
    "duration": 32,
    "start_time": "2021-08-21T22:45:47.740Z"
   },
   {
    "duration": 38,
    "start_time": "2021-08-21T22:45:47.775Z"
   },
   {
    "duration": 22,
    "start_time": "2021-08-21T22:45:47.816Z"
   },
   {
    "duration": 12,
    "start_time": "2021-08-21T22:45:47.854Z"
   },
   {
    "duration": 22,
    "start_time": "2021-08-21T22:45:47.869Z"
   },
   {
    "duration": 26,
    "start_time": "2021-08-21T22:45:47.894Z"
   },
   {
    "duration": 42,
    "start_time": "2021-08-21T22:45:47.922Z"
   },
   {
    "duration": 18,
    "start_time": "2021-08-21T22:45:47.966Z"
   },
   {
    "duration": 10,
    "start_time": "2021-08-21T22:45:47.987Z"
   },
   {
    "duration": 17,
    "start_time": "2021-08-21T22:45:48.000Z"
   },
   {
    "duration": 40,
    "start_time": "2021-08-21T22:45:48.020Z"
   },
   {
    "duration": 2129,
    "start_time": "2021-08-21T22:45:48.067Z"
   },
   {
    "duration": 2299,
    "start_time": "2021-08-21T22:45:50.200Z"
   },
   {
    "duration": 85,
    "start_time": "2021-08-21T22:45:52.502Z"
   },
   {
    "duration": 21,
    "start_time": "2021-08-21T22:45:52.589Z"
   },
   {
    "duration": 2269,
    "start_time": "2021-08-21T22:45:52.613Z"
   },
   {
    "duration": 90,
    "start_time": "2021-08-21T22:45:54.885Z"
   },
   {
    "duration": 30,
    "start_time": "2021-08-21T22:45:54.978Z"
   },
   {
    "duration": 61,
    "start_time": "2021-08-21T22:45:55.011Z"
   },
   {
    "duration": 29,
    "start_time": "2021-08-21T22:45:55.074Z"
   },
   {
    "duration": 3,
    "start_time": "2021-08-21T22:45:55.106Z"
   },
   {
    "duration": 79,
    "start_time": "2021-08-21T22:45:55.111Z"
   },
   {
    "duration": 114,
    "start_time": "2021-08-21T22:45:55.192Z"
   },
   {
    "duration": 10,
    "start_time": "2021-08-21T22:45:55.309Z"
   },
   {
    "duration": 135,
    "start_time": "2021-08-21T22:45:55.321Z"
   },
   {
    "duration": 7,
    "start_time": "2021-08-21T22:45:55.458Z"
   },
   {
    "duration": 16,
    "start_time": "2021-08-21T22:45:55.467Z"
   },
   {
    "duration": 21,
    "start_time": "2021-08-21T22:45:55.485Z"
   },
   {
    "duration": 15,
    "start_time": "2021-08-21T22:45:55.509Z"
   },
   {
    "duration": 34,
    "start_time": "2021-08-21T22:45:55.526Z"
   },
   {
    "duration": 13,
    "start_time": "2021-08-21T22:45:55.562Z"
   },
   {
    "duration": 13,
    "start_time": "2021-08-21T22:45:55.577Z"
   },
   {
    "duration": 17,
    "start_time": "2021-08-21T22:45:55.593Z"
   },
   {
    "duration": 9,
    "start_time": "2021-08-21T22:45:55.654Z"
   },
   {
    "duration": 19,
    "start_time": "2021-08-21T22:45:55.666Z"
   },
   {
    "duration": 283,
    "start_time": "2021-08-21T22:45:55.688Z"
   },
   {
    "duration": 18,
    "start_time": "2021-08-21T22:45:55.973Z"
   },
   {
    "duration": 4,
    "start_time": "2021-08-21T22:45:55.993Z"
   },
   {
    "duration": 14,
    "start_time": "2021-08-21T22:45:55.999Z"
   },
   {
    "duration": 40,
    "start_time": "2021-08-21T22:45:56.015Z"
   },
   {
    "duration": 2187,
    "start_time": "2021-08-21T22:45:56.057Z"
   },
   {
    "duration": 3,
    "start_time": "2021-08-21T22:45:58.255Z"
   },
   {
    "duration": 27,
    "start_time": "2021-08-21T22:45:58.260Z"
   },
   {
    "duration": 22,
    "start_time": "2021-08-21T22:45:58.289Z"
   },
   {
    "duration": 95,
    "start_time": "2021-08-21T22:45:58.313Z"
   },
   {
    "duration": 13,
    "start_time": "2021-08-21T22:45:58.411Z"
   },
   {
    "duration": 168,
    "start_time": "2021-08-21T22:45:58.426Z"
   },
   {
    "duration": 12,
    "start_time": "2021-08-21T22:45:58.596Z"
   },
   {
    "duration": 592,
    "start_time": "2021-08-21T22:45:58.610Z"
   },
   {
    "duration": 49,
    "start_time": "2021-08-21T22:45:59.205Z"
   },
   {
    "duration": 13,
    "start_time": "2021-08-21T22:45:59.256Z"
   },
   {
    "duration": 24,
    "start_time": "2021-08-21T22:45:59.272Z"
   },
   {
    "duration": 63,
    "start_time": "2021-08-21T22:45:59.298Z"
   },
   {
    "duration": 34,
    "start_time": "2021-08-21T22:45:59.363Z"
   },
   {
    "duration": 57,
    "start_time": "2021-08-21T22:45:59.399Z"
   },
   {
    "duration": 5,
    "start_time": "2021-08-21T22:45:59.458Z"
   },
   {
    "duration": 27,
    "start_time": "2021-08-21T22:45:59.471Z"
   },
   {
    "duration": 253,
    "start_time": "2021-08-21T22:45:59.502Z"
   },
   {
    "duration": 18,
    "start_time": "2021-08-21T22:45:59.758Z"
   },
   {
    "duration": 52,
    "start_time": "2021-08-21T22:45:59.779Z"
   },
   {
    "duration": 6,
    "start_time": "2021-08-21T22:45:59.854Z"
   },
   {
    "duration": 29,
    "start_time": "2021-08-21T22:45:59.863Z"
   },
   {
    "duration": 20,
    "start_time": "2021-08-21T22:45:59.895Z"
   },
   {
    "duration": 29,
    "start_time": "2021-08-21T22:45:59.918Z"
   },
   {
    "duration": 21,
    "start_time": "2021-08-21T22:45:59.950Z"
   },
   {
    "duration": 43,
    "start_time": "2021-08-21T22:45:59.973Z"
   },
   {
    "duration": 40,
    "start_time": "2021-08-21T22:46:00.019Z"
   },
   {
    "duration": 10,
    "start_time": "2021-08-21T22:46:00.062Z"
   },
   {
    "duration": 37,
    "start_time": "2021-08-21T22:46:00.075Z"
   },
   {
    "duration": 29,
    "start_time": "2021-08-21T22:46:00.115Z"
   },
   {
    "duration": 64,
    "start_time": "2021-08-21T22:46:00.147Z"
   },
   {
    "duration": 498,
    "start_time": "2021-08-21T22:46:00.213Z"
   },
   {
    "duration": -3121,
    "start_time": "2021-08-21T22:46:03.835Z"
   },
   {
    "duration": -3125,
    "start_time": "2021-08-21T22:46:03.840Z"
   },
   {
    "duration": -3134,
    "start_time": "2021-08-21T22:46:03.850Z"
   },
   {
    "duration": -3137,
    "start_time": "2021-08-21T22:46:03.855Z"
   },
   {
    "duration": -3141,
    "start_time": "2021-08-21T22:46:03.861Z"
   },
   {
    "duration": -3145,
    "start_time": "2021-08-21T22:46:03.866Z"
   },
   {
    "duration": -3148,
    "start_time": "2021-08-21T22:46:03.871Z"
   },
   {
    "duration": -3152,
    "start_time": "2021-08-21T22:46:03.876Z"
   },
   {
    "duration": -3156,
    "start_time": "2021-08-21T22:46:03.881Z"
   },
   {
    "duration": -3160,
    "start_time": "2021-08-21T22:46:03.886Z"
   },
   {
    "duration": -3164,
    "start_time": "2021-08-21T22:46:03.892Z"
   },
   {
    "duration": -3167,
    "start_time": "2021-08-21T22:46:03.896Z"
   },
   {
    "duration": -3172,
    "start_time": "2021-08-21T22:46:03.902Z"
   },
   {
    "duration": -3175,
    "start_time": "2021-08-21T22:46:03.907Z"
   },
   {
    "duration": -3203,
    "start_time": "2021-08-21T22:46:03.936Z"
   },
   {
    "duration": -3210,
    "start_time": "2021-08-21T22:46:03.944Z"
   },
   {
    "duration": -3215,
    "start_time": "2021-08-21T22:46:03.951Z"
   },
   {
    "duration": -3219,
    "start_time": "2021-08-21T22:46:03.957Z"
   },
   {
    "duration": -3224,
    "start_time": "2021-08-21T22:46:03.963Z"
   },
   {
    "duration": -3228,
    "start_time": "2021-08-21T22:46:03.968Z"
   },
   {
    "duration": 4,
    "start_time": "2021-08-21T22:46:31.699Z"
   },
   {
    "duration": 12,
    "start_time": "2021-08-21T22:48:09.674Z"
   },
   {
    "duration": 83,
    "start_time": "2021-08-21T22:50:34.315Z"
   },
   {
    "duration": 7,
    "start_time": "2021-08-21T22:50:45.723Z"
   },
   {
    "duration": 267,
    "start_time": "2021-08-21T22:50:57.888Z"
   },
   {
    "duration": 12,
    "start_time": "2021-08-21T22:51:23.059Z"
   },
   {
    "duration": 10,
    "start_time": "2021-08-21T22:51:23.432Z"
   },
   {
    "duration": 31,
    "start_time": "2021-08-21T22:51:26.541Z"
   },
   {
    "duration": 134,
    "start_time": "2021-08-21T23:02:25.952Z"
   },
   {
    "duration": 41494,
    "start_time": "2021-08-27T07:58:37.889Z"
   },
   {
    "duration": 1794,
    "start_time": "2021-08-27T07:59:19.386Z"
   },
   {
    "duration": 402,
    "start_time": "2021-08-27T07:59:21.183Z"
   },
   {
    "duration": 24,
    "start_time": "2021-08-27T07:59:21.588Z"
   },
   {
    "duration": 40,
    "start_time": "2021-08-27T07:59:21.616Z"
   },
   {
    "duration": 22,
    "start_time": "2021-08-27T07:59:21.659Z"
   },
   {
    "duration": 104,
    "start_time": "2021-08-27T07:59:21.684Z"
   },
   {
    "duration": 97,
    "start_time": "2021-08-27T07:59:21.793Z"
   },
   {
    "duration": 84,
    "start_time": "2021-08-27T07:59:21.894Z"
   },
   {
    "duration": 246,
    "start_time": "2021-08-27T07:59:21.981Z"
   },
   {
    "duration": 250,
    "start_time": "2021-08-27T07:59:22.230Z"
   },
   {
    "duration": 30,
    "start_time": "2021-08-27T07:59:22.483Z"
   },
   {
    "duration": 42,
    "start_time": "2021-08-27T07:59:22.515Z"
   },
   {
    "duration": 13,
    "start_time": "2021-08-27T07:59:22.559Z"
   },
   {
    "duration": 9,
    "start_time": "2021-08-27T07:59:22.575Z"
   },
   {
    "duration": 17,
    "start_time": "2021-08-27T07:59:22.586Z"
   },
   {
    "duration": 20,
    "start_time": "2021-08-27T07:59:22.605Z"
   },
   {
    "duration": 15,
    "start_time": "2021-08-27T07:59:22.656Z"
   },
   {
    "duration": 19,
    "start_time": "2021-08-27T07:59:22.674Z"
   },
   {
    "duration": 8,
    "start_time": "2021-08-27T07:59:22.696Z"
   },
   {
    "duration": 48,
    "start_time": "2021-08-27T07:59:22.707Z"
   },
   {
    "duration": 9,
    "start_time": "2021-08-27T07:59:22.758Z"
   },
   {
    "duration": 2223,
    "start_time": "2021-08-27T07:59:22.773Z"
   },
   {
    "duration": 2863,
    "start_time": "2021-08-27T07:59:24.999Z"
   },
   {
    "duration": 105,
    "start_time": "2021-08-27T07:59:27.864Z"
   },
   {
    "duration": 20,
    "start_time": "2021-08-27T07:59:27.971Z"
   },
   {
    "duration": 2185,
    "start_time": "2021-08-27T07:59:27.994Z"
   },
   {
    "duration": 59,
    "start_time": "2021-08-27T07:59:30.181Z"
   },
   {
    "duration": 38,
    "start_time": "2021-08-27T07:59:30.242Z"
   },
   {
    "duration": 27,
    "start_time": "2021-08-27T07:59:30.282Z"
   },
   {
    "duration": 56,
    "start_time": "2021-08-27T07:59:30.311Z"
   },
   {
    "duration": 3,
    "start_time": "2021-08-27T07:59:30.370Z"
   },
   {
    "duration": 59,
    "start_time": "2021-08-27T07:59:30.375Z"
   },
   {
    "duration": 75,
    "start_time": "2021-08-27T07:59:30.437Z"
   },
   {
    "duration": 7,
    "start_time": "2021-08-27T07:59:30.515Z"
   },
   {
    "duration": 113,
    "start_time": "2021-08-27T07:59:30.525Z"
   },
   {
    "duration": 18,
    "start_time": "2021-08-27T07:59:30.640Z"
   },
   {
    "duration": 19,
    "start_time": "2021-08-27T07:59:30.660Z"
   },
   {
    "duration": 15,
    "start_time": "2021-08-27T07:59:30.681Z"
   },
   {
    "duration": 17,
    "start_time": "2021-08-27T07:59:30.698Z"
   },
   {
    "duration": 28,
    "start_time": "2021-08-27T07:59:30.718Z"
   },
   {
    "duration": 25,
    "start_time": "2021-08-27T07:59:30.748Z"
   },
   {
    "duration": 19,
    "start_time": "2021-08-27T07:59:30.776Z"
   },
   {
    "duration": 21,
    "start_time": "2021-08-27T07:59:30.797Z"
   },
   {
    "duration": 31,
    "start_time": "2021-08-27T07:59:30.821Z"
   },
   {
    "duration": 53,
    "start_time": "2021-08-27T07:59:30.854Z"
   },
   {
    "duration": 213,
    "start_time": "2021-08-27T07:59:30.910Z"
   },
   {
    "duration": 18,
    "start_time": "2021-08-27T07:59:31.125Z"
   },
   {
    "duration": 5,
    "start_time": "2021-08-27T07:59:31.156Z"
   },
   {
    "duration": 41,
    "start_time": "2021-08-27T07:59:31.164Z"
   },
   {
    "duration": 20,
    "start_time": "2021-08-27T07:59:31.207Z"
   },
   {
    "duration": 3390,
    "start_time": "2021-08-27T07:59:31.229Z"
   },
   {
    "duration": 3,
    "start_time": "2021-08-27T07:59:34.621Z"
   },
   {
    "duration": 35,
    "start_time": "2021-08-27T07:59:34.626Z"
   },
   {
    "duration": 39,
    "start_time": "2021-08-27T07:59:34.664Z"
   },
   {
    "duration": 69,
    "start_time": "2021-08-27T07:59:34.706Z"
   },
   {
    "duration": 19,
    "start_time": "2021-08-27T07:59:34.777Z"
   },
   {
    "duration": 133,
    "start_time": "2021-08-27T07:59:34.798Z"
   },
   {
    "duration": 24,
    "start_time": "2021-08-27T07:59:34.934Z"
   },
   {
    "duration": 598,
    "start_time": "2021-08-27T07:59:34.961Z"
   },
   {
    "duration": 16,
    "start_time": "2021-08-27T07:59:35.562Z"
   },
   {
    "duration": 19,
    "start_time": "2021-08-27T07:59:35.580Z"
   },
   {
    "duration": 65,
    "start_time": "2021-08-27T07:59:35.602Z"
   },
   {
    "duration": 21,
    "start_time": "2021-08-27T07:59:35.669Z"
   },
   {
    "duration": 68,
    "start_time": "2021-08-27T07:59:35.692Z"
   },
   {
    "duration": 10,
    "start_time": "2021-08-27T07:59:35.763Z"
   },
   {
    "duration": 7,
    "start_time": "2021-08-27T07:59:35.775Z"
   },
   {
    "duration": 68,
    "start_time": "2021-08-27T07:59:35.790Z"
   },
   {
    "duration": 131,
    "start_time": "2021-08-27T07:59:35.861Z"
   },
   {
    "duration": 14,
    "start_time": "2021-08-27T07:59:35.994Z"
   },
   {
    "duration": 59,
    "start_time": "2021-08-27T07:59:36.011Z"
   },
   {
    "duration": 6,
    "start_time": "2021-08-27T07:59:36.073Z"
   },
   {
    "duration": 10,
    "start_time": "2021-08-27T07:59:36.082Z"
   },
   {
    "duration": 8,
    "start_time": "2021-08-27T07:59:36.095Z"
   },
   {
    "duration": 15,
    "start_time": "2021-08-27T07:59:36.106Z"
   },
   {
    "duration": 34,
    "start_time": "2021-08-27T07:59:36.124Z"
   },
   {
    "duration": 27,
    "start_time": "2021-08-27T07:59:36.161Z"
   },
   {
    "duration": 30,
    "start_time": "2021-08-27T07:59:36.190Z"
   },
   {
    "duration": 2,
    "start_time": "2021-08-27T07:59:36.223Z"
   },
   {
    "duration": 30,
    "start_time": "2021-08-27T07:59:36.227Z"
   },
   {
    "duration": 3,
    "start_time": "2021-08-27T07:59:36.269Z"
   },
   {
    "duration": 24,
    "start_time": "2021-08-27T07:59:36.275Z"
   },
   {
    "duration": 59,
    "start_time": "2021-08-27T07:59:36.301Z"
   },
   {
    "duration": 4,
    "start_time": "2021-08-27T07:59:36.363Z"
   },
   {
    "duration": 90,
    "start_time": "2021-08-27T07:59:36.369Z"
   },
   {
    "duration": 7,
    "start_time": "2021-08-27T07:59:36.461Z"
   },
   {
    "duration": 15,
    "start_time": "2021-08-27T07:59:36.471Z"
   },
   {
    "duration": 9,
    "start_time": "2021-08-27T07:59:36.489Z"
   },
   {
    "duration": 59,
    "start_time": "2021-08-27T07:59:36.500Z"
   },
   {
    "duration": 134,
    "start_time": "2021-08-27T07:59:36.561Z"
   },
   {
    "duration": 131,
    "start_time": "2021-08-27T07:59:36.697Z"
   },
   {
    "duration": 146,
    "start_time": "2021-08-27T07:59:36.830Z"
   },
   {
    "duration": 3,
    "start_time": "2021-08-27T07:59:36.979Z"
   },
   {
    "duration": 25,
    "start_time": "2021-08-27T07:59:36.984Z"
   },
   {
    "duration": 12,
    "start_time": "2021-08-27T07:59:37.012Z"
   },
   {
    "duration": 48,
    "start_time": "2021-08-27T07:59:37.026Z"
   },
   {
    "duration": 6,
    "start_time": "2021-08-27T07:59:37.077Z"
   },
   {
    "duration": 23,
    "start_time": "2021-08-27T07:59:37.085Z"
   },
   {
    "duration": 46,
    "start_time": "2021-08-27T07:59:37.110Z"
   },
   {
    "duration": 6,
    "start_time": "2021-08-27T07:59:37.159Z"
   },
   {
    "duration": 14,
    "start_time": "2021-08-27T07:59:37.167Z"
   },
   {
    "duration": 8,
    "start_time": "2021-08-27T07:59:37.183Z"
   },
   {
    "duration": 11,
    "start_time": "2021-08-27T07:59:37.193Z"
   },
   {
    "duration": 219,
    "start_time": "2021-08-27T07:59:37.206Z"
   }
  ],
  "kernelspec": {
   "display_name": "Python 3",
   "language": "python",
   "name": "python3"
  },
  "language_info": {
   "codemirror_mode": {
    "name": "ipython",
    "version": 3
   },
   "file_extension": ".py",
   "mimetype": "text/x-python",
   "name": "python",
   "nbconvert_exporter": "python",
   "pygments_lexer": "ipython3",
   "version": "3.8.5"
  },
  "toc": {
   "base_numbering": 1,
   "nav_menu": {},
   "number_sections": true,
   "sideBar": true,
   "skip_h1_title": true,
   "title_cell": "Table of Contents",
   "title_sidebar": "Contents",
   "toc_cell": false,
   "toc_position": {},
   "toc_section_display": true,
   "toc_window_display": false
  }
 },
 "nbformat": 4,
 "nbformat_minor": 4
}
